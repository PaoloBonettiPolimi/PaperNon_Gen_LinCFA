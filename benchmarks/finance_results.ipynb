{
 "cells": [
  {
   "cell_type": "markdown",
   "id": "538f2e12",
   "metadata": {},
   "source": [
    "# Preliminaries"
   ]
  },
  {
   "cell_type": "code",
   "execution_count": 11,
   "id": "15cc06bd",
   "metadata": {},
   "outputs": [],
   "source": [
    "import pandas as pd\n",
    "import matplotlib.pyplot as plt\n",
    "import matplotlib.cm as cm\n",
    "import numpy as np\n",
    "import sys\n",
    "from sklearn.linear_model import LinearRegression\n",
    "from sklearn.metrics import r2_score\n",
    "from sklearn import preprocessing\n",
    "from sklearn.utils import resample\n",
    "\n",
    "#sys.path.append(\"/Users/paolo/Documents/methods/CMI_FS\")\n",
    "#from feature_selection import forwardFeatureSelection\n",
    "\n",
    "sys.path.append(\"../LinCFA\")\n",
    "from LinCFA import LinCFA\n",
    "\n",
    "sys.path.append(\"../NonLinCFA\")\n",
    "from NonLinCFA import NonLinCFA\n",
    "\n",
    "sys.path.append(\"../GenLinCFA\")\n",
    "from GenLinCFA import GenLinCFA\n",
    "\n",
    "sys.path.append(\"../droughts\")\n",
    "from aux import prepare_target,prepare_features,compare_methods\n",
    "\n",
    "#from aux import standardize,unfold_dataset,compute_r2,prepare_target,prepare_features,aggregate_unfolded_data,aggregate_unfolded_data_onlyTrain,FS_with_linearWrapper,compare_methods, compute_r2\n"
   ]
  },
  {
   "cell_type": "code",
   "execution_count": 8,
   "id": "642a3b78",
   "metadata": {},
   "outputs": [],
   "source": [
    "def compute_CI(list,n):\n",
    "    print(f'{np.mean(list)} +- {1.96*np.std(list)/np.sqrt(n)}')"
   ]
  },
  {
   "cell_type": "code",
   "execution_count": 9,
   "id": "3652c6e6",
   "metadata": {
    "code_folding": [
     7
    ]
   },
   "outputs": [],
   "source": [
    "from sklearn.base import TransformerMixin, BaseEstimator\n",
    "from sklearn import utils\n",
    "from sklearn.preprocessing import KernelCenterer, scale\n",
    "from sklearn.metrics.pairwise import pairwise_kernels\n",
    "from scipy import linalg\n",
    "from scipy.sparse.linalg import eigsh as ssl_eigsh\n",
    "\n",
    "class spca(BaseEstimator, TransformerMixin):\n",
    "    \n",
    "    def __init__(self, num_components, kernel=\"linear\", eigen_solver='auto', \n",
    "                 max_iterations=None, gamma=0, degree=3, coef0=1, alpha=1.0, \n",
    "                 tolerance=0, fit_inverse_transform=False):\n",
    "        \n",
    "        self._num_components = num_components\n",
    "        self._gamma = gamma\n",
    "        self._tolerance = tolerance\n",
    "        self._fit_inverse_transform = fit_inverse_transform\n",
    "        self._max_iterations = max_iterations\n",
    "        self._degree = degree\n",
    "        self._kernel = kernel\n",
    "        self._eigen_solver = eigen_solver\n",
    "        self._coef0 = coef0\n",
    "        self._centerer = KernelCenterer()\n",
    "        self._alpha = alpha\n",
    "        self._alphas = []\n",
    "        self._lambdas = []\n",
    "        \n",
    "        \n",
    "    def _get_kernel(self, X, Y=None):\n",
    "        # Returns a kernel matrix K such that K_{i, j} is the kernel between the ith and jth vectors \n",
    "        # of the given matrix X, if Y is None. \n",
    "        \n",
    "        # If Y is not None, then K_{i, j} is the kernel between the ith array from X and the jth array from Y.\n",
    "        \n",
    "        # valid kernels are 'linear, rbf, poly, sigmoid, precomputed'\n",
    "        \n",
    "        args = {\"gamma\": self._gamma, \"degree\": self._degree, \"coef0\": self._coef0}\n",
    "        \n",
    "        return pairwise_kernels(X, Y, metric=self._kernel, n_jobs=-1, filter_params=True, **args)\n",
    "    \n",
    "    \n",
    "    \n",
    "    def _fit(self, X, Y):\n",
    "        \n",
    "        # calculate kernel matrix of the labels Y and centre it and call it K (=H.L.H)\n",
    "        K = self._centerer.fit_transform(self._get_kernel(Y))\n",
    "        \n",
    "        # deciding on the number of components to use\n",
    "        if self._num_components is not None:\n",
    "            num_components = min(K.shape[0], self._num_components)\n",
    "        else:\n",
    "            num_components = self.K.shape[0]\n",
    "        \n",
    "        # Scale X\n",
    "        # scaled_X = scale(X)\n",
    "        \n",
    "        # calculate the eigen values and eigen vectors for X^T.K.X\n",
    "        Q = (X.T).dot(K).dot(X)\n",
    "        \n",
    "        # If n_components is much less than the number of training samples, \n",
    "        # arpack may be more efficient than the dense eigensolver.\n",
    "        if (self._eigen_solver=='auto'):\n",
    "            if (Q.shape[0]/num_components) > 20:\n",
    "                eigen_solver = 'arpack'\n",
    "            else:\n",
    "                eigen_solver = 'dense'\n",
    "        else:\n",
    "            eigen_solver = self._eigen_solver\n",
    "        \n",
    "        if eigen_solver == 'dense':\n",
    "            # Return the eigenvalues (in ascending order) and eigenvectors of a Hermitian or symmetric matrix.\n",
    "            self._lambdas, self._alphas = linalg.eigh(Q, eigvals=(Q.shape[0] - num_components, Q.shape[0] - 1))\n",
    "            # argument eigvals = Indexes of the smallest and largest (in ascending order) eigenvalues\n",
    "        \n",
    "        elif eigen_solver == 'arpack':\n",
    "            # deprecated :: self._lambdas, self._alphas = utils.arpack.eigsh(A=Q, num_components, which=\"LA\", tol=self._tolerance)\n",
    "            self._lambdas, self._alphas = ssl_eigsh(A=Q, k=num_components, which=\"LA\", tol=self._tolerance)\n",
    "            \n",
    "        indices = self._lambdas.argsort()[::-1]\n",
    "        \n",
    "        self._lambdas = self._lambdas[indices]\n",
    "        self._lambdas = self._lambdas[self._lambdas > 0]  # selecting values only for non zero eigen values\n",
    "        \n",
    "        self._alphas = self._alphas[:, indices]\n",
    "        #return self._alphas\n",
    "        self._alphas = self._alphas[:, self._lambdas > 0]  # selecting values only for non zero eigen values\n",
    "        \n",
    "        self.X_fit = X\n",
    "\n",
    "        \n",
    "    def _transform(self):\n",
    "        return self.X_fit.dot(self._alphas)\n",
    "        \n",
    "        \n",
    "    def transform(self, X):\n",
    "        return X.dot(self._alphas)\n",
    "        \n",
    "        \n",
    "    def fit(self, X, Y):\n",
    "        self._fit(X,Y)\n",
    "        return\n",
    "        \n",
    "        \n",
    "    def fit_and_transform(self, X, Y):\n",
    "        self.fit(X, Y)\n",
    "        return self._transform()\n",
    "    "
   ]
  },
  {
   "cell_type": "code",
   "execution_count": 10,
   "id": "575a18b4",
   "metadata": {},
   "outputs": [],
   "source": [
    "df = pd.read_csv('fundamentals.csv')\n",
    "cols_to_delete = df.columns[df.isnull().sum()/len(df) > .50]\n",
    "df.drop(cols_to_delete, axis = 1, inplace = True)\n",
    "df = df.dropna()\n",
    "df = df.drop(['Unnamed: 0','Ticker Symbol','Period Ending'],axis=1)\n",
    "normalized_df=(df-df.mean())/df.std()\n",
    "normalized_df['mean_std'] = normalized_df['Cash Ratio']\n",
    "normalized_df = normalized_df.drop(['Cash Ratio'],axis=1)\n",
    "normalized_df\n",
    "\n",
    "df_trainVal_withTar = normalized_df.iloc[:-442,:]\n",
    "df_test_withTar = normalized_df.iloc[-442:,:]\n",
    "df_trainVal = normalized_df.iloc[:-442,:-1]\n",
    "df_test = normalized_df.iloc[-442:,:-1]\n",
    "target_df_trainVal = normalized_df.iloc[:-442,-1]\n",
    "target_df_test = normalized_df.iloc[-442:,-1]"
   ]
  },
  {
   "cell_type": "markdown",
   "id": "a88fae86",
   "metadata": {},
   "source": [
    "# Regression"
   ]
  },
  {
   "cell_type": "markdown",
   "id": "856cd448",
   "metadata": {
    "heading_collapsed": true
   },
   "source": [
    "# NonLinCFA"
   ]
  },
  {
   "cell_type": "code",
   "execution_count": 17,
   "id": "483b2cde",
   "metadata": {
    "hidden": true,
    "scrolled": true
   },
   "outputs": [
    {
     "name": "stdout",
     "output_type": "stream",
     "text": [
      "62\n",
      "6\n",
      "1\n",
      "5\n",
      "1\n",
      "Number of aggregated features: 5\n",
      "\n",
      "0.8136440738302579\n",
      "58\n",
      "4\n",
      "1\n",
      "10\n",
      "1\n",
      "1\n",
      "Number of aggregated features: 6\n",
      "\n",
      "0.8157373735623255\n",
      "62\n",
      "6\n",
      "4\n",
      "1\n",
      "1\n",
      "1\n",
      "Number of aggregated features: 6\n",
      "\n",
      "0.8136952358922954\n",
      "62\n",
      "6\n",
      "4\n",
      "1\n",
      "1\n",
      "1\n",
      "Number of aggregated features: 6\n",
      "\n",
      "0.8059786176772916\n",
      "63\n",
      "7\n",
      "3\n",
      "1\n",
      "1\n",
      "Number of aggregated features: 5\n",
      "\n",
      "0.8162261979772543\n",
      "0.813056299787885 +- 0.003234503926486594\n",
      "5.6 +- 0.42941448508405017\n",
      "54\n",
      "6\n",
      "8\n",
      "1\n",
      "4\n",
      "1\n",
      "1\n",
      "Number of aggregated features: 7\n",
      "\n",
      "0.7935785039702893\n",
      "50\n",
      "11\n",
      "1\n",
      "5\n",
      "6\n",
      "1\n",
      "1\n",
      "Number of aggregated features: 7\n",
      "\n",
      "0.8168243507889493\n",
      "52\n",
      "7\n",
      "8\n",
      "2\n",
      "1\n",
      "3\n",
      "1\n",
      "1\n",
      "Number of aggregated features: 8\n",
      "\n",
      "0.8075341115270085\n",
      "48\n",
      "13\n",
      "3\n",
      "5\n",
      "3\n",
      "1\n",
      "1\n",
      "1\n",
      "Number of aggregated features: 8\n",
      "\n",
      "0.7994296314845528\n",
      "56\n",
      "8\n",
      "6\n",
      "3\n",
      "1\n",
      "1\n",
      "Number of aggregated features: 6\n",
      "\n",
      "0.813490072905416\n",
      "0.8061713341352432 +- 0.007570146132932547\n",
      "7.2 +- 0.6559414608027151\n",
      "52\n",
      "8\n",
      "8\n",
      "1\n",
      "3\n",
      "2\n",
      "1\n",
      "Number of aggregated features: 7\n",
      "\n",
      "0.8180362597089809\n",
      "50\n",
      "11\n",
      "1\n",
      "5\n",
      "6\n",
      "1\n",
      "1\n",
      "Number of aggregated features: 7\n",
      "\n",
      "0.8168243507889492\n",
      "50\n",
      "7\n",
      "6\n",
      "6\n",
      "1\n",
      "3\n",
      "1\n",
      "1\n",
      "Number of aggregated features: 8\n",
      "\n",
      "0.8099218662360076\n",
      "44\n",
      "15\n",
      "5\n",
      "5\n",
      "3\n",
      "1\n",
      "1\n",
      "1\n",
      "Number of aggregated features: 8\n",
      "\n",
      "0.8068545144331226\n",
      "56\n",
      "8\n",
      "5\n",
      "1\n",
      "1\n",
      "3\n",
      "1\n",
      "Number of aggregated features: 7\n",
      "\n",
      "0.8150275544944849\n",
      "0.8133329091323092 +- 0.0037350895892252433\n",
      "7.4 +- 0.4294144850840502\n",
      "52\n",
      "8\n",
      "8\n",
      "1\n",
      "3\n",
      "2\n",
      "1\n",
      "Number of aggregated features: 7\n",
      "\n",
      "0.8180362597089808\n",
      "50\n",
      "11\n",
      "1\n",
      "5\n",
      "6\n",
      "1\n",
      "1\n",
      "Number of aggregated features: 7\n",
      "\n",
      "0.8168243507889492\n",
      "50\n",
      "7\n",
      "6\n",
      "6\n",
      "1\n",
      "3\n",
      "1\n",
      "1\n",
      "Number of aggregated features: 8\n",
      "\n",
      "0.8099218662360075\n",
      "44\n",
      "15\n",
      "5\n",
      "5\n",
      "3\n",
      "1\n",
      "1\n",
      "1\n",
      "Number of aggregated features: 8\n",
      "\n",
      "0.806854514433123\n",
      "56\n",
      "8\n",
      "5\n",
      "1\n",
      "1\n",
      "3\n",
      "1\n",
      "Number of aggregated features: 7\n",
      "\n",
      "0.8150275544944849\n",
      "0.8133329091323092 +- 0.0037350895892251487\n",
      "7.4 +- 0.4294144850840502\n",
      "52\n",
      "8\n",
      "8\n",
      "1\n",
      "3\n",
      "2\n",
      "1\n",
      "Number of aggregated features: 7\n",
      "\n",
      "0.8180362597089808\n",
      "50\n",
      "11\n",
      "1\n",
      "5\n",
      "6\n",
      "1\n",
      "1\n",
      "Number of aggregated features: 7\n",
      "\n",
      "0.8168243507889492\n",
      "52\n",
      "6\n",
      "4\n",
      "6\n",
      "2\n",
      "1\n",
      "3\n",
      "1\n",
      "Number of aggregated features: 8\n",
      "\n",
      "0.8113206720776813\n",
      "44\n",
      "15\n",
      "5\n",
      "5\n",
      "3\n",
      "1\n",
      "1\n",
      "1\n",
      "Number of aggregated features: 8\n",
      "\n",
      "0.806854514433123\n",
      "56\n",
      "8\n",
      "5\n",
      "1\n",
      "1\n",
      "3\n",
      "1\n",
      "Number of aggregated features: 7\n",
      "\n",
      "0.8150275544944849\n",
      "0.8136126703006438 +- 0.0035672184945608133\n",
      "7.4 +- 0.4294144850840502\n"
     ]
    }
   ],
   "source": [
    "#for variable in ['cyclostationary_mean_tg']:#variables_list:\n",
    "#actual_df_trainVal = df_trainVal_unfolded_std[df_trainVal_unfolded_std.columns[pd.Series(df_trainVal_unfolded_std.columns).str.startswith(variable)]]\n",
    "for eps in [0.01,0.001,0.0001,0.00001,0.000001]:\n",
    "    res = []\n",
    "    nums = []\n",
    "    for curr_seed in [0,1,2,3,4]:\n",
    "        curr_df_trainVal = df_trainVal[np.random.default_rng(seed=curr_seed).permutation(df_trainVal.columns.values)]\n",
    "        curr_df_test = df_test[np.random.default_rng(seed=curr_seed).permutation(df_test.columns.values)]\n",
    "        curr_df_trainVal_withTar = pd.concat((curr_df_trainVal,target_df_trainVal), axis=1)\n",
    "        \n",
    "        output = NonLinCFA(curr_df_trainVal_withTar,'mean_std', eps, -5 , 0).compute_clusters()\n",
    "        \n",
    "        aggregate_trainVal = pd.DataFrame()\n",
    "        aggregate_test = pd.DataFrame()\n",
    "        for i in range(len(output)):\n",
    "            aggregate_trainVal[str(i)] = curr_df_trainVal_withTar[output[i]].mean(axis=1)\n",
    "            aggregate_trainVal = aggregate_trainVal.copy()\n",
    "            aggregate_test[str(i)] = curr_df_test[output[i]].mean(axis=1)\n",
    "            aggregate_test = aggregate_test.copy()\n",
    "        print(f'Number of aggregated features: {len(output)}\\n')\n",
    "        mod = LinearRegression().fit(aggregate_trainVal, df_trainVal_withTar.mean_std)\n",
    "        score = mod.score(aggregate_test, df_test_withTar.mean_std)\n",
    "        print(score)\n",
    "        res.append(score)\n",
    "        nums.append(len(output))\n",
    "    compute_CI(res,5)\n",
    "    compute_CI(nums,5)\n"
   ]
  },
  {
   "cell_type": "markdown",
   "id": "a4be305c",
   "metadata": {
    "heading_collapsed": true
   },
   "source": [
    "# GenLinCFA"
   ]
  },
  {
   "cell_type": "code",
   "execution_count": 29,
   "id": "52fba58c",
   "metadata": {
    "hidden": true,
    "scrolled": true
   },
   "outputs": [
    {
     "name": "stdout",
     "output_type": "stream",
     "text": [
      "2\n",
      "3\n",
      "4\n",
      "5\n",
      "6\n",
      "7\n",
      "8\n",
      "9\n",
      "10\n",
      "11\n",
      "12\n",
      "13\n",
      "14\n",
      "15\n",
      "16\n",
      "17\n",
      "18\n",
      "19\n",
      "20\n",
      "21\n",
      "22\n",
      "23\n",
      "24\n",
      "25\n",
      "26\n",
      "27\n",
      "28\n",
      "29\n",
      "30\n",
      "31\n",
      "32\n",
      "33\n",
      "34\n",
      "35\n",
      "36\n",
      "37\n",
      "38\n",
      "39\n",
      "40\n",
      "41\n",
      "42\n",
      "43\n",
      "44\n",
      "45\n",
      "46\n",
      "47\n",
      "48\n",
      "49\n",
      "50\n",
      "51\n",
      "52\n",
      "53\n",
      "54\n",
      "55\n",
      "56\n",
      "57\n",
      "58\n",
      "59\n",
      "59\n",
      "1\n",
      "2\n",
      "3\n",
      "3\n",
      "1\n",
      "1\n",
      "1\n",
      "1\n",
      "1\n",
      "1\n",
      "1\n",
      "1\n",
      "1\n",
      "1\n",
      "1\n",
      "1\n",
      "Number of aggregated features: 15\n",
      "\n",
      "0.8120418172593733\n",
      "2\n",
      "3\n",
      "4\n",
      "5\n",
      "6\n",
      "7\n",
      "8\n",
      "9\n",
      "10\n",
      "11\n",
      "12\n",
      "13\n",
      "14\n",
      "15\n",
      "16\n",
      "17\n",
      "18\n",
      "19\n",
      "20\n",
      "21\n",
      "22\n",
      "23\n",
      "24\n",
      "25\n",
      "26\n",
      "27\n",
      "28\n",
      "29\n",
      "30\n",
      "31\n",
      "32\n",
      "33\n",
      "34\n",
      "35\n",
      "36\n",
      "37\n",
      "38\n",
      "39\n",
      "40\n",
      "41\n",
      "42\n",
      "43\n",
      "44\n",
      "45\n",
      "46\n",
      "47\n",
      "48\n",
      "49\n",
      "50\n",
      "51\n",
      "52\n",
      "53\n",
      "54\n",
      "55\n",
      "56\n",
      "57\n",
      "58\n",
      "59\n",
      "60\n",
      "61\n",
      "61\n",
      "1\n",
      "2\n",
      "3\n",
      "3\n",
      "1\n",
      "1\n",
      "1\n",
      "1\n",
      "1\n",
      "1\n",
      "1\n",
      "1\n",
      "1\n",
      "1\n",
      "Number of aggregated features: 13\n",
      "\n",
      "0.8123928255793366\n",
      "2\n",
      "3\n",
      "4\n",
      "5\n",
      "6\n",
      "7\n",
      "8\n",
      "9\n",
      "10\n",
      "11\n",
      "12\n",
      "13\n",
      "14\n",
      "15\n",
      "16\n",
      "17\n",
      "18\n",
      "19\n",
      "20\n",
      "21\n",
      "22\n",
      "23\n",
      "24\n",
      "25\n",
      "26\n",
      "27\n",
      "28\n",
      "29\n",
      "30\n",
      "31\n",
      "32\n",
      "33\n",
      "34\n",
      "35\n",
      "36\n",
      "37\n",
      "38\n",
      "39\n",
      "40\n",
      "41\n",
      "42\n",
      "43\n",
      "44\n",
      "45\n",
      "46\n",
      "47\n",
      "48\n",
      "49\n",
      "50\n",
      "51\n",
      "52\n",
      "53\n",
      "54\n",
      "55\n",
      "56\n",
      "56\n",
      "1\n",
      "1\n",
      "1\n",
      "1\n",
      "1\n",
      "1\n",
      "2\n",
      "3\n",
      "4\n",
      "5\n",
      "5\n",
      "1\n",
      "1\n",
      "1\n",
      "1\n",
      "1\n",
      "1\n",
      "1\n",
      "1\n",
      "Number of aggregated features: 16\n",
      "\n",
      "0.8104174722825184\n",
      "2\n",
      "3\n",
      "4\n",
      "5\n",
      "6\n",
      "7\n",
      "8\n",
      "9\n",
      "10\n",
      "11\n",
      "12\n",
      "13\n",
      "14\n",
      "15\n",
      "16\n",
      "17\n",
      "18\n",
      "19\n",
      "20\n",
      "21\n",
      "22\n",
      "23\n",
      "24\n",
      "25\n",
      "26\n",
      "27\n",
      "28\n",
      "29\n",
      "30\n",
      "31\n",
      "32\n",
      "33\n",
      "34\n",
      "35\n",
      "36\n",
      "37\n",
      "38\n",
      "39\n",
      "40\n",
      "41\n",
      "42\n",
      "43\n",
      "44\n",
      "45\n",
      "46\n",
      "47\n",
      "48\n",
      "49\n",
      "50\n",
      "51\n",
      "52\n",
      "53\n",
      "54\n",
      "54\n",
      "1\n",
      "2\n",
      "3\n",
      "4\n",
      "5\n",
      "6\n",
      "6\n",
      "1\n",
      "1\n",
      "1\n",
      "1\n",
      "1\n",
      "1\n",
      "1\n",
      "1\n",
      "1\n",
      "1\n",
      "1\n",
      "1\n",
      "1\n",
      "1\n",
      "Number of aggregated features: 17\n",
      "\n",
      "0.8092955051447059\n",
      "2\n",
      "3\n",
      "4\n",
      "5\n",
      "6\n",
      "7\n",
      "8\n",
      "9\n",
      "10\n",
      "11\n",
      "12\n",
      "13\n",
      "14\n",
      "15\n",
      "16\n",
      "17\n",
      "18\n",
      "19\n",
      "20\n",
      "21\n",
      "22\n",
      "23\n",
      "24\n",
      "25\n",
      "26\n",
      "27\n",
      "28\n",
      "29\n",
      "30\n",
      "31\n",
      "32\n",
      "33\n",
      "34\n",
      "35\n",
      "36\n",
      "37\n",
      "38\n",
      "39\n",
      "40\n",
      "41\n",
      "42\n",
      "43\n",
      "44\n",
      "45\n",
      "46\n",
      "47\n",
      "48\n",
      "49\n",
      "50\n",
      "51\n",
      "52\n",
      "53\n",
      "54\n",
      "55\n",
      "56\n",
      "57\n",
      "58\n",
      "58\n",
      "1\n",
      "1\n",
      "1\n",
      "2\n",
      "3\n",
      "4\n",
      "4\n",
      "1\n",
      "1\n",
      "1\n",
      "1\n",
      "1\n",
      "1\n",
      "1\n",
      "1\n",
      "1\n",
      "1\n",
      "Number of aggregated features: 15\n",
      "\n",
      "0.8078457094201892\n",
      "0.8103986659372246 +- 0.0014881304788080811\n",
      "15.2 +- 1.1628599227765999\n",
      "2\n",
      "3\n",
      "4\n",
      "5\n",
      "6\n",
      "7\n",
      "8\n",
      "9\n",
      "10\n",
      "11\n",
      "12\n",
      "13\n",
      "14\n",
      "15\n",
      "16\n",
      "17\n",
      "18\n",
      "19\n",
      "20\n",
      "21\n",
      "22\n",
      "23\n",
      "24\n",
      "25\n",
      "26\n",
      "27\n",
      "28\n",
      "29\n",
      "30\n",
      "31\n",
      "32\n",
      "33\n",
      "34\n",
      "35\n",
      "36\n",
      "37\n",
      "38\n",
      "39\n",
      "40\n",
      "41\n",
      "42\n",
      "43\n",
      "44\n",
      "45\n",
      "46\n",
      "47\n",
      "48\n",
      "49\n",
      "50\n",
      "51\n",
      "52\n",
      "53\n",
      "54\n",
      "55\n",
      "56\n",
      "57\n",
      "58\n",
      "59\n",
      "60\n",
      "61\n",
      "62\n",
      "63\n",
      "64\n",
      "65\n",
      "66\n",
      "67\n",
      "67\n",
      "1\n",
      "1\n",
      "1\n",
      "1\n",
      "1\n",
      "1\n",
      "1\n",
      "1\n",
      "Number of aggregated features: 9\n",
      "\n",
      "0.8126697092292821\n",
      "2\n",
      "3\n",
      "4\n",
      "5\n",
      "6\n",
      "7\n",
      "8\n",
      "9\n",
      "10\n",
      "11\n",
      "12\n",
      "13\n",
      "14\n",
      "15\n",
      "16\n",
      "17\n",
      "18\n",
      "19\n",
      "20\n",
      "21\n",
      "22\n",
      "23\n",
      "24\n",
      "25\n",
      "26\n",
      "27\n",
      "28\n",
      "29\n",
      "30\n",
      "31\n",
      "32\n",
      "33\n",
      "34\n",
      "35\n",
      "36\n",
      "37\n",
      "38\n",
      "39\n",
      "40\n",
      "41\n",
      "42\n",
      "43\n",
      "44\n",
      "45\n",
      "46\n",
      "47\n",
      "48\n",
      "49\n",
      "50\n",
      "51\n",
      "52\n",
      "53\n",
      "54\n",
      "55\n",
      "56\n",
      "57\n",
      "58\n",
      "59\n",
      "60\n",
      "61\n",
      "62\n",
      "63\n",
      "64\n",
      "65\n",
      "66\n",
      "67\n",
      "68\n",
      "69\n",
      "70\n",
      "71\n",
      "71\n",
      "1\n",
      "1\n",
      "1\n",
      "1\n",
      "Number of aggregated features: 5\n",
      "\n",
      "0.8121592867220098\n",
      "2\n",
      "3\n",
      "4\n",
      "5\n",
      "6\n",
      "7\n",
      "8\n",
      "9\n",
      "10\n",
      "11\n",
      "12\n",
      "13\n",
      "14\n",
      "15\n",
      "16\n",
      "17\n",
      "18\n",
      "19\n",
      "20\n",
      "21\n",
      "22\n",
      "23\n",
      "24\n",
      "25\n",
      "26\n",
      "27\n",
      "28\n",
      "29\n",
      "30\n",
      "31\n",
      "32\n",
      "33\n",
      "34\n",
      "35\n",
      "36\n",
      "37\n",
      "38\n",
      "39\n",
      "40\n",
      "41\n",
      "42\n",
      "43\n",
      "44\n",
      "45\n",
      "46\n",
      "47\n",
      "48\n",
      "49\n",
      "50\n",
      "51\n",
      "52\n",
      "53\n",
      "54\n",
      "55\n",
      "56\n",
      "57\n",
      "58\n",
      "59\n",
      "60\n",
      "61\n",
      "62\n",
      "62\n",
      "1\n",
      "2\n",
      "3\n",
      "3\n",
      "1\n",
      "2\n",
      "3\n",
      "4\n",
      "4\n",
      "1\n",
      "1\n",
      "1\n",
      "1\n",
      "Number of aggregated features: 9\n",
      "\n",
      "0.8105877684715648\n",
      "2\n",
      "3\n",
      "4\n",
      "5\n",
      "6\n",
      "7\n",
      "8\n",
      "9\n",
      "10\n",
      "11\n",
      "12\n",
      "13\n",
      "14\n",
      "15\n",
      "16\n",
      "17\n",
      "18\n",
      "19\n",
      "20\n",
      "21\n",
      "22\n",
      "23\n",
      "24\n",
      "25\n",
      "26\n",
      "27\n",
      "28\n",
      "29\n",
      "30\n",
      "31\n",
      "32\n",
      "33\n",
      "34\n",
      "35\n",
      "36\n",
      "37\n",
      "38\n",
      "39\n",
      "40\n",
      "41\n",
      "42\n",
      "43\n",
      "44\n",
      "45\n",
      "46\n",
      "47\n",
      "48\n",
      "49\n",
      "50\n",
      "51\n",
      "52\n",
      "53\n",
      "54\n",
      "55\n",
      "56\n",
      "57\n",
      "58\n",
      "59\n",
      "60\n",
      "61\n",
      "62\n",
      "62\n",
      "2\n",
      "3\n",
      "3\n",
      "2\n",
      "3\n",
      "4\n",
      "4\n",
      "1\n",
      "1\n",
      "1\n",
      "1\n",
      "1\n",
      "1\n",
      "Number of aggregated features: 9\n",
      "\n",
      "0.810587768471565\n",
      "2\n",
      "3\n",
      "4\n",
      "5\n",
      "6\n",
      "7\n",
      "8\n",
      "9\n",
      "10\n",
      "11\n",
      "12\n",
      "13\n",
      "14\n",
      "15\n",
      "16\n",
      "17\n",
      "18\n",
      "19\n",
      "20\n",
      "21\n",
      "22\n",
      "23\n",
      "24\n",
      "25\n",
      "26\n",
      "27\n",
      "28\n",
      "29\n",
      "30\n",
      "31\n",
      "32\n",
      "33\n",
      "34\n",
      "35\n",
      "36\n",
      "37\n",
      "38\n",
      "39\n",
      "40\n",
      "41\n",
      "42\n",
      "43\n",
      "44\n",
      "45\n",
      "46\n",
      "47\n",
      "48\n",
      "49\n",
      "50\n",
      "51\n",
      "52\n",
      "53\n",
      "54\n",
      "55\n",
      "56\n",
      "57\n",
      "58\n",
      "59\n",
      "60\n",
      "61\n",
      "62\n",
      "63\n",
      "64\n",
      "65\n",
      "66\n",
      "66\n",
      "2\n",
      "3\n",
      "3\n",
      "1\n",
      "1\n",
      "1\n",
      "1\n",
      "1\n",
      "1\n",
      "Number of aggregated features: 8\n",
      "\n",
      "0.8134452932853156\n",
      "0.8118899652359474 +- 0.0009987166816377983\n",
      "8.0 +- 1.3579278331339997\n",
      "2\n",
      "3\n",
      "4\n",
      "5\n",
      "6\n",
      "7\n",
      "8\n",
      "9\n",
      "10\n",
      "11\n",
      "12\n",
      "13\n",
      "14\n",
      "15\n",
      "16\n",
      "17\n",
      "18\n",
      "19\n",
      "20\n",
      "21\n",
      "22\n",
      "23\n",
      "24\n",
      "25\n",
      "26\n",
      "27\n",
      "28\n",
      "29\n",
      "30\n",
      "31\n",
      "32\n",
      "33\n",
      "34\n",
      "35\n",
      "36\n",
      "37\n",
      "38\n",
      "39\n",
      "40\n",
      "41\n",
      "42\n",
      "43\n",
      "44\n",
      "45\n",
      "46\n",
      "47\n",
      "48\n",
      "49\n",
      "50\n",
      "51\n",
      "52\n",
      "53\n",
      "54\n",
      "55\n",
      "56\n",
      "57\n",
      "58\n",
      "59\n",
      "60\n",
      "61\n",
      "62\n",
      "63\n",
      "64\n",
      "65\n",
      "66\n",
      "67\n",
      "68\n",
      "69\n",
      "70\n",
      "71\n",
      "72\n",
      "72\n",
      "1\n",
      "1\n",
      "1\n",
      "Number of aggregated features: 4\n",
      "\n",
      "0.8112051191906918\n",
      "2\n",
      "3\n",
      "4\n",
      "5\n",
      "6\n",
      "7\n",
      "8\n",
      "9\n",
      "10\n",
      "11\n",
      "12\n",
      "13\n",
      "14\n",
      "15\n",
      "16\n",
      "17\n",
      "18\n",
      "19\n",
      "20\n",
      "21\n",
      "22\n",
      "23\n",
      "24\n",
      "25\n",
      "26\n",
      "27\n",
      "28\n",
      "29\n",
      "30\n",
      "31\n",
      "32\n",
      "33\n",
      "34\n",
      "35\n",
      "36\n",
      "37\n",
      "38\n",
      "39\n",
      "40\n",
      "41\n",
      "42\n",
      "43\n",
      "44\n",
      "45\n",
      "46\n",
      "47\n",
      "48\n",
      "49\n",
      "50\n",
      "51\n",
      "52\n",
      "53\n",
      "54\n",
      "55\n",
      "56\n",
      "57\n",
      "58\n",
      "59\n",
      "60\n",
      "61\n",
      "62\n",
      "63\n",
      "64\n",
      "65\n",
      "66\n",
      "67\n",
      "68\n",
      "69\n",
      "70\n",
      "71\n",
      "71\n",
      "1\n",
      "1\n",
      "1\n",
      "1\n",
      "Number of aggregated features: 5\n",
      "\n",
      "0.8121592867220094\n",
      "2\n",
      "3\n",
      "4\n",
      "5\n",
      "6\n",
      "7\n",
      "8\n",
      "9\n",
      "10\n",
      "11\n",
      "12\n",
      "13\n",
      "14\n",
      "15\n",
      "16\n",
      "17\n",
      "18\n",
      "19\n",
      "20\n",
      "21\n",
      "22\n",
      "23\n",
      "24\n",
      "25\n",
      "26\n",
      "27\n",
      "28\n",
      "29\n",
      "30\n",
      "31\n",
      "32\n",
      "33\n",
      "34\n",
      "35\n",
      "36\n",
      "37\n",
      "38\n",
      "39\n",
      "40\n",
      "41\n",
      "42\n",
      "43\n",
      "44\n",
      "45\n",
      "46\n",
      "47\n",
      "48\n",
      "49\n",
      "50\n",
      "51\n",
      "52\n",
      "53\n",
      "54\n",
      "55\n",
      "56\n",
      "57\n",
      "58\n",
      "59\n",
      "60\n",
      "61\n",
      "62\n",
      "63\n",
      "64\n",
      "65\n",
      "66\n",
      "67\n",
      "68\n",
      "69\n",
      "70\n",
      "71\n",
      "71\n",
      "1\n",
      "1\n",
      "1\n",
      "1\n",
      "Number of aggregated features: 5\n",
      "\n",
      "0.8121592867220095\n",
      "2\n",
      "3\n",
      "4\n",
      "5\n",
      "6\n",
      "7\n",
      "8\n",
      "9\n",
      "10\n",
      "11\n",
      "12\n",
      "13\n",
      "14\n",
      "15\n",
      "16\n",
      "17\n",
      "18\n",
      "19\n",
      "20\n",
      "21\n",
      "22\n",
      "23\n",
      "24\n",
      "25\n",
      "26\n",
      "27\n",
      "28\n",
      "29\n",
      "30\n",
      "31\n",
      "32\n",
      "33\n",
      "34\n",
      "35\n",
      "36\n",
      "37\n",
      "38\n",
      "39\n",
      "40\n",
      "41\n",
      "42\n",
      "43\n",
      "44\n",
      "45\n",
      "46\n",
      "47\n",
      "48\n",
      "49\n",
      "50\n",
      "51\n",
      "52\n",
      "53\n",
      "54\n",
      "55\n",
      "56\n",
      "57\n",
      "58\n",
      "59\n",
      "60\n",
      "61\n",
      "62\n",
      "63\n",
      "64\n",
      "65\n",
      "66\n",
      "67\n",
      "68\n",
      "69\n",
      "70\n",
      "71\n",
      "71\n",
      "1\n",
      "1\n",
      "1\n",
      "1\n",
      "Number of aggregated features: 5\n",
      "\n",
      "0.8121592867220093\n",
      "2\n",
      "3\n",
      "4\n",
      "5\n",
      "6\n",
      "7\n",
      "8\n",
      "9\n",
      "10\n",
      "11\n",
      "12\n",
      "13\n",
      "14\n",
      "15\n",
      "16\n",
      "17\n",
      "18\n",
      "19\n",
      "20\n",
      "21\n",
      "22\n",
      "23\n",
      "24\n",
      "25\n",
      "26\n",
      "27\n",
      "28\n",
      "29\n",
      "30\n",
      "31\n",
      "32\n",
      "33\n",
      "34\n",
      "35\n",
      "36\n",
      "37\n",
      "38\n",
      "39\n",
      "40\n",
      "41\n",
      "42\n",
      "43\n",
      "44\n",
      "45\n",
      "46\n",
      "47\n",
      "48\n",
      "49\n",
      "50\n",
      "51\n",
      "52\n",
      "53\n",
      "54\n",
      "55\n",
      "56\n",
      "57\n",
      "58\n",
      "59\n",
      "60\n",
      "61\n",
      "62\n",
      "63\n",
      "64\n",
      "65\n",
      "66\n",
      "67\n",
      "68\n",
      "69\n",
      "70\n",
      "71\n",
      "71\n",
      "1\n",
      "1\n",
      "1\n",
      "1\n",
      "Number of aggregated features: 5\n",
      "\n",
      "0.8121592867220093\n",
      "0.8119684532157458 +- 0.0003345458868336449\n",
      "4.8 +- 0.350615458871967\n",
      "2\n",
      "3\n",
      "4\n",
      "5\n",
      "6\n",
      "7\n",
      "8\n",
      "9\n",
      "10\n",
      "11\n",
      "12\n",
      "13\n",
      "14\n",
      "15\n",
      "16\n",
      "17\n",
      "18\n",
      "19\n",
      "20\n",
      "21\n",
      "22\n",
      "23\n",
      "24\n",
      "25\n",
      "26\n",
      "27\n",
      "28\n",
      "29\n",
      "30\n",
      "31\n",
      "32\n",
      "33\n",
      "34\n",
      "35\n",
      "36\n",
      "37\n",
      "38\n",
      "39\n",
      "40\n",
      "41\n",
      "42\n",
      "43\n",
      "44\n",
      "45\n",
      "46\n",
      "47\n",
      "48\n",
      "49\n",
      "50\n",
      "51\n",
      "52\n",
      "53\n",
      "54\n",
      "55\n",
      "56\n",
      "57\n",
      "58\n",
      "59\n",
      "60\n",
      "61\n",
      "62\n",
      "63\n",
      "64\n",
      "65\n",
      "66\n",
      "67\n",
      "68\n",
      "69\n",
      "70\n",
      "71\n",
      "72\n",
      "72\n",
      "1\n",
      "1\n",
      "1\n",
      "Number of aggregated features: 4\n",
      "\n",
      "0.811205119190692\n",
      "2\n",
      "3\n",
      "4\n",
      "5\n",
      "6\n",
      "7\n",
      "8\n",
      "9\n",
      "10\n",
      "11\n",
      "12\n",
      "13\n",
      "14\n",
      "15\n",
      "16\n",
      "17\n",
      "18\n",
      "19\n",
      "20\n",
      "21\n",
      "22\n",
      "23\n",
      "24\n",
      "25\n",
      "26\n",
      "27\n",
      "28\n",
      "29\n",
      "30\n",
      "31\n",
      "32\n",
      "33\n",
      "34\n",
      "35\n",
      "36\n",
      "37\n",
      "38\n",
      "39\n",
      "40\n",
      "41\n",
      "42\n",
      "43\n",
      "44\n",
      "45\n",
      "46\n",
      "47\n",
      "48\n",
      "49\n",
      "50\n",
      "51\n",
      "52\n",
      "53\n",
      "54\n",
      "55\n",
      "56\n",
      "57\n",
      "58\n",
      "59\n",
      "60\n",
      "61\n",
      "62\n",
      "63\n",
      "64\n",
      "65\n",
      "66\n",
      "67\n",
      "68\n",
      "69\n",
      "70\n",
      "71\n",
      "72\n",
      "72\n",
      "1\n",
      "1\n",
      "1\n",
      "Number of aggregated features: 4\n",
      "\n",
      "0.8112051191906919\n",
      "2\n",
      "3\n",
      "4\n",
      "5\n",
      "6\n",
      "7\n",
      "8\n",
      "9\n",
      "10\n",
      "11\n",
      "12\n",
      "13\n",
      "14\n",
      "15\n",
      "16\n",
      "17\n",
      "18\n",
      "19\n",
      "20\n",
      "21\n",
      "22\n",
      "23\n",
      "24\n",
      "25\n",
      "26\n",
      "27\n",
      "28\n",
      "29\n",
      "30\n",
      "31\n",
      "32\n",
      "33\n",
      "34\n",
      "35\n",
      "36\n",
      "37\n",
      "38\n",
      "39\n",
      "40\n",
      "41\n",
      "42\n",
      "43\n",
      "44\n",
      "45\n",
      "46\n",
      "47\n",
      "48\n",
      "49\n",
      "50\n",
      "51\n",
      "52\n",
      "53\n",
      "54\n",
      "55\n",
      "56\n",
      "57\n",
      "58\n",
      "59\n",
      "60\n",
      "61\n",
      "62\n",
      "63\n",
      "64\n",
      "65\n",
      "66\n",
      "67\n",
      "68\n",
      "69\n",
      "70\n",
      "71\n",
      "72\n",
      "72\n",
      "1\n",
      "1\n",
      "1\n",
      "Number of aggregated features: 4\n",
      "\n",
      "0.8112051191906919\n",
      "2\n",
      "3\n",
      "4\n",
      "5\n",
      "6\n",
      "7\n",
      "8\n",
      "9\n",
      "10\n",
      "11\n",
      "12\n",
      "13\n",
      "14\n",
      "15\n",
      "16\n",
      "17\n",
      "18\n",
      "19\n",
      "20\n",
      "21\n",
      "22\n",
      "23\n",
      "24\n",
      "25\n",
      "26\n",
      "27\n",
      "28\n",
      "29\n",
      "30\n",
      "31\n",
      "32\n",
      "33\n",
      "34\n",
      "35\n",
      "36\n",
      "37\n",
      "38\n",
      "39\n",
      "40\n",
      "41\n",
      "42\n",
      "43\n",
      "44\n",
      "45\n",
      "46\n",
      "47\n",
      "48\n",
      "49\n",
      "50\n",
      "51\n",
      "52\n",
      "53\n",
      "54\n",
      "55\n",
      "56\n",
      "57\n",
      "58\n",
      "59\n",
      "60\n",
      "61\n",
      "62\n",
      "63\n",
      "64\n",
      "65\n",
      "66\n",
      "67\n",
      "68\n",
      "69\n",
      "70\n",
      "71\n",
      "71\n",
      "1\n",
      "1\n",
      "1\n",
      "1\n",
      "Number of aggregated features: 5\n",
      "\n",
      "0.8121592867220093\n",
      "2\n",
      "3\n",
      "4\n",
      "5\n",
      "6\n",
      "7\n",
      "8\n",
      "9\n",
      "10\n",
      "11\n",
      "12\n",
      "13\n",
      "14\n",
      "15\n",
      "16\n",
      "17\n",
      "18\n",
      "19\n",
      "20\n",
      "21\n",
      "22\n",
      "23\n",
      "24\n",
      "25\n",
      "26\n",
      "27\n",
      "28\n",
      "29\n",
      "30\n",
      "31\n",
      "32\n",
      "33\n",
      "34\n",
      "35\n",
      "36\n",
      "37\n",
      "38\n",
      "39\n",
      "40\n",
      "41\n",
      "42\n",
      "43\n",
      "44\n",
      "45\n",
      "46\n",
      "47\n",
      "48\n",
      "49\n",
      "50\n",
      "51\n",
      "52\n",
      "53\n",
      "54\n",
      "55\n",
      "56\n",
      "57\n",
      "58\n",
      "59\n",
      "60\n",
      "61\n",
      "62\n",
      "63\n",
      "64\n",
      "65\n",
      "66\n",
      "67\n",
      "68\n",
      "69\n",
      "70\n",
      "71\n",
      "72\n",
      "72\n",
      "1\n",
      "1\n",
      "1\n",
      "Number of aggregated features: 4\n",
      "\n",
      "0.8112051191906919\n",
      "0.8113959526969554 +- 0.0003345458868335671\n",
      "4.2 +- 0.350615458871967\n",
      "2\n",
      "3\n",
      "4\n",
      "5\n",
      "6\n",
      "7\n",
      "8\n",
      "9\n",
      "10\n",
      "11\n",
      "12\n",
      "13\n",
      "14\n",
      "15\n",
      "16\n",
      "17\n",
      "18\n",
      "19\n",
      "20\n",
      "21\n",
      "22\n",
      "23\n",
      "24\n",
      "25\n",
      "26\n",
      "27\n",
      "28\n",
      "29\n",
      "30\n",
      "31\n",
      "32\n",
      "33\n",
      "34\n",
      "35\n",
      "36\n",
      "37\n",
      "38\n",
      "39\n",
      "40\n",
      "41\n",
      "42\n",
      "43\n",
      "44\n",
      "45\n",
      "46\n",
      "47\n",
      "48\n",
      "49\n",
      "50\n",
      "51\n",
      "52\n",
      "53\n",
      "54\n",
      "55\n",
      "56\n",
      "57\n",
      "58\n",
      "59\n",
      "60\n",
      "61\n",
      "62\n",
      "63\n",
      "64\n",
      "65\n",
      "66\n",
      "67\n",
      "68\n",
      "69\n",
      "70\n",
      "71\n",
      "72\n",
      "73\n",
      "73\n",
      "1\n",
      "1\n",
      "Number of aggregated features: 3\n",
      "\n",
      "0.8086865064137521\n",
      "2\n",
      "3\n",
      "4\n",
      "5\n",
      "6\n",
      "7\n",
      "8\n",
      "9\n",
      "10\n",
      "11\n",
      "12\n",
      "13\n",
      "14\n",
      "15\n",
      "16\n",
      "17\n",
      "18\n",
      "19\n",
      "20\n",
      "21\n",
      "22\n",
      "23\n",
      "24\n",
      "25\n",
      "26\n",
      "27\n",
      "28\n",
      "29\n",
      "30\n",
      "31\n",
      "32\n",
      "33\n",
      "34\n",
      "35\n",
      "36\n",
      "37\n",
      "38\n",
      "39\n",
      "40\n",
      "41\n",
      "42\n",
      "43\n",
      "44\n",
      "45\n",
      "46\n",
      "47\n",
      "48\n",
      "49\n",
      "50\n",
      "51\n",
      "52\n",
      "53\n",
      "54\n",
      "55\n",
      "56\n",
      "57\n",
      "58\n",
      "59\n",
      "60\n",
      "61\n",
      "62\n",
      "63\n",
      "64\n",
      "65\n",
      "66\n",
      "67\n",
      "68\n",
      "69\n",
      "70\n",
      "71\n",
      "72\n",
      "72\n",
      "1\n",
      "1\n",
      "1\n",
      "Number of aggregated features: 4\n",
      "\n",
      "0.8112051191906919\n",
      "2\n",
      "3\n",
      "4\n",
      "5\n",
      "6\n",
      "7\n",
      "8\n",
      "9\n",
      "10\n",
      "11\n",
      "12\n",
      "13\n",
      "14\n",
      "15\n",
      "16\n",
      "17\n",
      "18\n",
      "19\n",
      "20\n",
      "21\n",
      "22\n",
      "23\n",
      "24\n",
      "25\n",
      "26\n",
      "27\n",
      "28\n",
      "29\n",
      "30\n",
      "31\n",
      "32\n",
      "33\n",
      "34\n",
      "35\n",
      "36\n",
      "37\n",
      "38\n",
      "39\n",
      "40\n",
      "41\n",
      "42\n",
      "43\n",
      "44\n",
      "45\n",
      "46\n",
      "47\n",
      "48\n",
      "49\n",
      "50\n",
      "51\n",
      "52\n",
      "53\n",
      "54\n",
      "55\n",
      "56\n",
      "57\n",
      "58\n",
      "59\n",
      "60\n",
      "61\n",
      "62\n",
      "63\n",
      "64\n",
      "65\n",
      "66\n",
      "67\n",
      "68\n",
      "69\n",
      "70\n",
      "71\n",
      "72\n",
      "72\n",
      "1\n",
      "1\n",
      "1\n",
      "Number of aggregated features: 4\n",
      "\n",
      "0.8112051191906918\n",
      "2\n",
      "3\n",
      "4\n",
      "5\n",
      "6\n",
      "7\n",
      "8\n",
      "9\n",
      "10\n",
      "11\n",
      "12\n",
      "13\n",
      "14\n",
      "15\n",
      "16\n",
      "17\n",
      "18\n",
      "19\n",
      "20\n",
      "21\n",
      "22\n",
      "23\n",
      "24\n",
      "25\n",
      "26\n",
      "27\n",
      "28\n",
      "29\n",
      "30\n",
      "31\n",
      "32\n",
      "33\n",
      "34\n",
      "35\n",
      "36\n",
      "37\n",
      "38\n",
      "39\n",
      "40\n",
      "41\n",
      "42\n",
      "43\n",
      "44\n",
      "45\n",
      "46\n",
      "47\n",
      "48\n",
      "49\n",
      "50\n",
      "51\n",
      "52\n",
      "53\n",
      "54\n",
      "55\n",
      "56\n",
      "57\n",
      "58\n",
      "59\n",
      "60\n",
      "61\n",
      "62\n",
      "63\n",
      "64\n",
      "65\n",
      "66\n",
      "67\n",
      "68\n",
      "69\n",
      "70\n",
      "71\n",
      "72\n",
      "72\n",
      "1\n",
      "1\n",
      "1\n",
      "Number of aggregated features: 4\n",
      "\n",
      "0.8112051191906918\n",
      "2\n",
      "3\n",
      "4\n",
      "5\n",
      "6\n",
      "7\n",
      "8\n",
      "9\n",
      "10\n",
      "11\n",
      "12\n",
      "13\n",
      "14\n",
      "15\n",
      "16\n",
      "17\n",
      "18\n",
      "19\n",
      "20\n",
      "21\n",
      "22\n",
      "23\n",
      "24\n",
      "25\n",
      "26\n",
      "27\n",
      "28\n",
      "29\n",
      "30\n",
      "31\n",
      "32\n",
      "33\n",
      "34\n",
      "35\n",
      "36\n",
      "37\n",
      "38\n",
      "39\n",
      "40\n",
      "41\n",
      "42\n",
      "43\n",
      "44\n",
      "45\n",
      "46\n",
      "47\n",
      "48\n",
      "49\n",
      "50\n",
      "51\n",
      "52\n",
      "53\n",
      "54\n",
      "55\n",
      "56\n",
      "57\n",
      "58\n",
      "59\n",
      "60\n",
      "61\n",
      "62\n",
      "63\n",
      "64\n",
      "65\n",
      "66\n",
      "67\n",
      "68\n",
      "69\n",
      "70\n",
      "71\n",
      "72\n",
      "72\n",
      "1\n",
      "1\n",
      "1\n",
      "Number of aggregated features: 4\n",
      "\n",
      "0.8112051191906919\n",
      "0.8107013966353038 +- 0.0008830645745075545\n",
      "3.8 +- 0.350615458871967\n"
     ]
    }
   ],
   "source": [
    "for eps in [0.1,0.15,0.2,0.25,0.3]:\n",
    "    res = []\n",
    "    nums = []\n",
    "    for curr_seed in [0,1,2,3,4]:\n",
    "        curr_df_trainVal = df_trainVal[np.random.default_rng(seed=curr_seed).permutation(df_trainVal.columns.values)]\n",
    "        curr_df_test = df_test[np.random.default_rng(seed=curr_seed).permutation(df_test.columns.values)]\n",
    "        curr_df_trainVal_withTar = pd.concat((curr_df_trainVal,target_df_trainVal), axis=1)\n",
    "        \n",
    "        output = GenLinCFA(curr_df_trainVal_withTar,'mean_std', eps, -5 , 0, 1).compute_clusters()\n",
    "        \n",
    "        aggregate_trainVal = pd.DataFrame()\n",
    "        aggregate_test = pd.DataFrame()\n",
    "        for i in range(len(output)):\n",
    "            aggregate_trainVal[str(i)] = curr_df_trainVal_withTar[output[i]].mean(axis=1)\n",
    "            aggregate_trainVal = aggregate_trainVal.copy()\n",
    "            aggregate_test[str(i)] = curr_df_test[output[i]].mean(axis=1)\n",
    "            aggregate_test = aggregate_test.copy()\n",
    "        print(f'Number of aggregated features: {len(output)}\\n')\n",
    "        mod = LinearRegression().fit(aggregate_trainVal, df_trainVal_withTar.mean_std)\n",
    "        score = mod.score(aggregate_test, df_test_withTar.mean_std)\n",
    "        print(score)\n",
    "        res.append(score)\n",
    "        nums.append(len(output))\n",
    "    compute_CI(res,5)\n",
    "    compute_CI(nums,5)\n"
   ]
  },
  {
   "cell_type": "markdown",
   "id": "be949345",
   "metadata": {
    "heading_collapsed": true
   },
   "source": [
    "# LinCFA"
   ]
  },
  {
   "cell_type": "code",
   "execution_count": 31,
   "id": "897dd0b9",
   "metadata": {
    "hidden": true
   },
   "outputs": [
    {
     "name": "stdout",
     "output_type": "stream",
     "text": [
      "Number of aggregated features: 11\n",
      "\n",
      "0.7723522982689838\n",
      "Number of aggregated features: 10\n",
      "\n",
      "0.8099957384013146\n",
      "Number of aggregated features: 12\n",
      "\n",
      "0.812051816452628\n",
      "Number of aggregated features: 12\n",
      "\n",
      "0.8064436887485126\n",
      "Number of aggregated features: 12\n",
      "\n",
      "0.8042768415150631\n",
      "0.8010240766773004 +- 0.012787405976575728\n",
      "11.4 +- 0.701230917743934\n"
     ]
    }
   ],
   "source": [
    "res = []\n",
    "nums = []\n",
    "for curr_seed in [0,1,2,3,4]:\n",
    "    curr_df_trainVal = df_trainVal[np.random.default_rng(seed=curr_seed).permutation(df_trainVal.columns.values)]\n",
    "    curr_df_test = df_test[np.random.default_rng(seed=curr_seed).permutation(df_test.columns.values)]\n",
    "    curr_df_trainVal_withTar = pd.concat((curr_df_trainVal,target_df_trainVal), axis=1)\n",
    "    \n",
    "    output = LinCFA(curr_df_trainVal_withTar,'mean_std', 0, 0).compute_clusters()\n",
    "    \n",
    "    aggregate_trainVal = pd.DataFrame()\n",
    "    aggregate_test = pd.DataFrame()\n",
    "    for i in range(len(output)):\n",
    "        aggregate_trainVal[str(i)] = curr_df_trainVal_withTar[output[i]].mean(axis=1)\n",
    "        aggregate_trainVal = aggregate_trainVal.copy()\n",
    "        aggregate_test[str(i)] = curr_df_test[output[i]].mean(axis=1)\n",
    "        aggregate_test = aggregate_test.copy()\n",
    "    print(f'Number of aggregated features: {len(output)}\\n')\n",
    "    mod = LinearRegression().fit(aggregate_trainVal, df_trainVal_withTar.mean_std)\n",
    "    score = mod.score(aggregate_test, df_test_withTar.mean_std)\n",
    "    print(score)\n",
    "    res.append(score)\n",
    "    nums.append(len(output))\n",
    "compute_CI(res,5)\n",
    "compute_CI(nums,5)\n"
   ]
  },
  {
   "cell_type": "markdown",
   "id": "ae74ce15",
   "metadata": {},
   "source": [
    "# Baselines"
   ]
  },
  {
   "cell_type": "markdown",
   "id": "d006109e",
   "metadata": {
    "heading_collapsed": true
   },
   "source": [
    "## pca"
   ]
  },
  {
   "cell_type": "code",
   "execution_count": 38,
   "id": "a4dbacfb",
   "metadata": {
    "hidden": true
   },
   "outputs": [
    {
     "name": "stdout",
     "output_type": "stream",
     "text": [
      "Full aggregate regression train score: 0.922011320032613, test score: 0.7593726250943146\n",
      "Aggregate regression train score with FS: 0.922011320032613, test score: 0.7593726250943146\n",
      "27\n",
      "Full aggregate regression train score: 0.9058861660878511, test score: 0.7525871350536726\n",
      "Aggregate regression train score with FS: 0.9058861660878511, test score: 0.7525871350536726\n",
      "26\n",
      "Full aggregate regression train score: 0.907905279422283, test score: 0.7546866705898678\n",
      "Aggregate regression train score with FS: 0.907905279422283, test score: 0.7546866705898678\n",
      "27\n",
      "Full aggregate regression train score: 0.9150762209326956, test score: 0.75309811827884\n",
      "Aggregate regression train score with FS: 0.9150762209326956, test score: 0.75309811827884\n",
      "26\n",
      "Full aggregate regression train score: 0.871621141464457, test score: 0.7599120858347211\n",
      "Aggregate regression train score with FS: 0.871621141464457, test score: 0.7599120858347211\n",
      "27\n",
      "0.7559313269702832 +- 0.002728523722143103\n",
      "26.6 +- 0.42941448508405017\n"
     ]
    }
   ],
   "source": [
    "# explain 95% of variance\n",
    "from sklearn.decomposition import PCA\n",
    "from sklearn.utils import resample\n",
    "\n",
    "r2 = []\n",
    "n = []\n",
    "for curr_seed in [0,1,2,3,4]: \n",
    "    curr_df_trainVal_withTar = resample(df_trainVal_withTar, random_state=curr_seed)\n",
    "    curr_df_trainVal = curr_df_trainVal_withTar.iloc[:,:-1]\n",
    "    pca = PCA(n_components=0.95)\n",
    "    trainVal_pca = pd.DataFrame(pca.fit_transform(curr_df_trainVal))\n",
    "    test_pca = pd.DataFrame(pca.transform(df_test))\n",
    "    actual_r2 = compare_methods(trainVal_pca, test_pca, curr_df_trainVal_withTar, df_test_withTar, list(trainVal_pca.columns))\n",
    "    r2.append(actual_r2)\n",
    "    print(test_pca.shape[1])\n",
    "    n.append(test_pca.shape[1])\n",
    "compute_CI(r2,5)\n",
    "compute_CI(n,5)\n",
    "    "
   ]
  },
  {
   "cell_type": "markdown",
   "id": "be5d1f4c",
   "metadata": {
    "heading_collapsed": true
   },
   "source": [
    "## kernel pca"
   ]
  },
  {
   "cell_type": "code",
   "execution_count": 41,
   "id": "51e629fd",
   "metadata": {
    "hidden": true,
    "scrolled": true
   },
   "outputs": [
    {
     "name": "stdout",
     "output_type": "stream",
     "text": [
      "#########################linear, 0#############################\n",
      "(442, 1)\n",
      "-0.0018544102584430178\n",
      "(442, 2)\n",
      "-0.003280726489439667\n",
      "(442, 3)\n",
      "0.09567341254614958\n",
      "(442, 4)\n",
      "0.09403905939583246\n",
      "(442, 5)\n",
      "0.36430035597335564\n",
      "(442, 6)\n",
      "0.3620050578937106\n",
      "(442, 7)\n",
      "0.32649790067559636\n",
      "(442, 8)\n",
      "0.46733819536579924\n",
      "(442, 9)\n",
      "0.4833238430001322\n",
      "(442, 10)\n",
      "0.502637863616437\n",
      "(442, 11)\n",
      "0.530014093557158\n",
      "(442, 12)\n",
      "0.7106851966991402\n",
      "(442, 13)\n",
      "0.6963421061143209\n",
      "(442, 14)\n",
      "0.6973603195858842\n",
      "(442, 15)\n",
      "0.7012568986441079\n",
      "(442, 16)\n",
      "0.7048578221301454\n",
      "(442, 17)\n",
      "0.7146307600642655\n",
      "(442, 18)\n",
      "0.7166811477109108\n",
      "(442, 19)\n",
      "0.7169235074194249\n",
      "(442, 20)\n",
      "0.7495553815757968\n",
      "(442, 21)\n",
      "0.7494723855356651\n",
      "(442, 22)\n",
      "0.7537138463111344\n",
      "(442, 23)\n",
      "0.7648184532458546\n",
      "(442, 24)\n",
      "0.7648008042456759\n",
      "(442, 25)\n",
      "0.7636537759973359\n",
      "(442, 26)\n",
      "0.760333447297009\n",
      "(442, 27)\n",
      "0.7593726250943142\n",
      "(442, 28)\n",
      "0.7635576567400576\n",
      "(442, 29)\n",
      "0.7653090569666516\n",
      "(442, 30)\n",
      "0.7616369883929337\n",
      "(442, 31)\n",
      "0.736858498004758\n",
      "(442, 32)\n",
      "0.7382039366858885\n",
      "(442, 33)\n",
      "0.7367255354301214\n",
      "(442, 34)\n",
      "0.7343302162299068\n",
      "(442, 35)\n",
      "0.733456770849302\n",
      "(442, 36)\n",
      "0.7333599442149042\n",
      "(442, 37)\n",
      "0.706016859605361\n",
      "(442, 38)\n",
      "0.7199092607478881\n",
      "(442, 39)\n",
      "0.7005987719918205\n",
      "(442, 40)\n",
      "0.7058020320042118\n",
      "(442, 41)\n",
      "0.7054863761507055\n",
      "(442, 42)\n",
      "0.7419723444624388\n",
      "(442, 43)\n",
      "0.7439419952345021\n",
      "(442, 44)\n",
      "0.7452647983833842\n",
      "(442, 45)\n",
      "0.7606143587216767\n",
      "(442, 46)\n",
      "0.7839774773473116\n",
      "(442, 47)\n",
      "0.7937985961624375\n",
      "(442, 48)\n",
      "0.7840034473617629\n",
      "(442, 49)\n",
      "0.779384423238138\n",
      "(442, 50)\n",
      "0.7570582718000167\n",
      "0.7937985961624375\n",
      "(442, 47)\n",
      "#########################linear, 1#############################\n",
      "(442, 1)\n",
      "0.008256523671982152\n",
      "(442, 2)\n",
      "0.025507099664040633\n",
      "(442, 3)\n",
      "0.0728975978842854\n",
      "(442, 4)\n",
      "0.13727750764515267\n",
      "(442, 5)\n",
      "0.21613312171692334\n",
      "(442, 6)\n",
      "-0.3496083357329496\n",
      "(442, 7)\n",
      "-0.35671937846012636\n",
      "(442, 8)\n",
      "-0.12445686403385481\n",
      "(442, 9)\n",
      "0.23918532577118223\n",
      "(442, 10)\n",
      "0.4024240661762257\n",
      "(442, 11)\n",
      "0.6172769251034417\n",
      "(442, 12)\n",
      "0.6191144645381003\n",
      "(442, 13)\n",
      "0.6629064045564896\n",
      "(442, 14)\n",
      "0.6676901960080226\n",
      "(442, 15)\n",
      "0.6540770405396763\n",
      "(442, 16)\n",
      "0.6787938251908356\n",
      "(442, 17)\n",
      "0.7361084230185648\n",
      "(442, 18)\n",
      "0.7367962904677133\n",
      "(442, 19)\n",
      "0.7375493311007989\n",
      "(442, 20)\n",
      "0.7398682880835987\n",
      "(442, 21)\n",
      "0.7098404425893861\n",
      "(442, 22)\n",
      "0.7094936521780528\n",
      "(442, 23)\n",
      "0.7439585568486998\n",
      "(442, 24)\n",
      "0.7419220865270102\n",
      "(442, 25)\n",
      "0.7452954245035176\n",
      "(442, 26)\n",
      "0.7525871350536723\n",
      "(442, 27)\n",
      "0.7031326944343861\n",
      "(442, 28)\n",
      "0.7183698109343202\n",
      "(442, 29)\n",
      "0.7093317017182961\n",
      "(442, 30)\n",
      "0.7140988321744337\n",
      "(442, 31)\n",
      "0.7095387596887833\n",
      "(442, 32)\n",
      "0.7155801256309575\n",
      "(442, 33)\n",
      "0.7154343100203517\n",
      "(442, 34)\n",
      "0.712110568092581\n",
      "(442, 35)\n",
      "0.73389273391324\n",
      "(442, 36)\n",
      "0.7369087480639708\n",
      "(442, 37)\n",
      "0.7312321437781868\n",
      "(442, 38)\n",
      "0.7313500918800504\n",
      "(442, 39)\n",
      "0.7310663560405154\n",
      "(442, 40)\n",
      "0.7415479923057022\n",
      "(442, 41)\n",
      "0.7682069380128548\n",
      "(442, 42)\n",
      "0.7501912121851737\n",
      "(442, 43)\n",
      "0.7738448741676685\n",
      "(442, 44)\n",
      "0.7747533008654913\n",
      "(442, 45)\n",
      "0.7842043786260495\n",
      "(442, 46)\n",
      "0.7814653309662453\n",
      "(442, 47)\n",
      "0.782823598489\n",
      "(442, 48)\n",
      "0.7621946971332508\n",
      "(442, 49)\n",
      "0.7476920384396708\n",
      "(442, 50)\n",
      "0.7573299622802097\n",
      "0.7842043786260495\n",
      "(442, 45)\n",
      "#########################linear, 2#############################\n",
      "(442, 1)\n",
      "0.003960857387929839\n",
      "(442, 2)\n",
      "0.02929809766589564\n",
      "(442, 3)\n",
      "0.1928997732673945\n",
      "(442, 4)\n",
      "0.32583068251361613\n",
      "(442, 5)\n",
      "0.2559735256266621\n",
      "(442, 6)\n",
      "0.05019754097988005\n",
      "(442, 7)\n",
      "-0.2763809998446236\n",
      "(442, 8)\n",
      "0.013967449075361626\n",
      "(442, 9)\n",
      "0.17052930731794158\n",
      "(442, 10)\n",
      "0.3915851582248491\n",
      "(442, 11)\n",
      "0.4689469770050071\n",
      "(442, 12)\n",
      "0.47865186388751324\n",
      "(442, 13)\n",
      "0.49813233934221623\n",
      "(442, 14)\n",
      "0.665156191584485\n",
      "(442, 15)\n",
      "0.6565688847903323\n",
      "(442, 16)\n",
      "0.6576464772333972\n",
      "(442, 17)\n",
      "0.6591359868829942\n",
      "(442, 18)\n",
      "0.6996350939330749\n",
      "(442, 19)\n",
      "0.6995910993776252\n",
      "(442, 20)\n",
      "0.698279419053792\n",
      "(442, 21)\n",
      "0.7084930653452093\n",
      "(442, 22)\n",
      "0.7586675264017967\n",
      "(442, 23)\n",
      "0.7587920631792149\n",
      "(442, 24)\n",
      "0.745662914933825\n",
      "(442, 25)\n",
      "0.7567018192538659\n",
      "(442, 26)\n",
      "0.752305642957542\n",
      "(442, 27)\n",
      "0.7546866705898674\n",
      "(442, 28)\n",
      "0.7583845824739529\n",
      "(442, 29)\n",
      "0.7425721630257927\n",
      "(442, 30)\n",
      "0.7429912776027726\n",
      "(442, 31)\n",
      "0.7368842930908845\n",
      "(442, 32)\n",
      "0.7345386912948603\n",
      "(442, 33)\n",
      "0.7324722985334009\n",
      "(442, 34)\n",
      "0.7283624200279271\n",
      "(442, 35)\n",
      "0.723664531633319\n",
      "(442, 36)\n",
      "0.7266650895508715\n",
      "(442, 37)\n",
      "0.7193510397130649\n",
      "(442, 38)\n",
      "0.7414140398976068\n",
      "(442, 39)\n",
      "0.7410571741982886\n",
      "(442, 40)\n",
      "0.7385417684383246\n",
      "(442, 41)\n",
      "0.7457486483939543\n",
      "(442, 42)\n",
      "0.7059199451002092\n",
      "(442, 43)\n",
      "0.7051080673606829\n",
      "(442, 44)\n",
      "0.6869644025382979\n",
      "(442, 45)\n",
      "0.7216048257778589\n",
      "(442, 46)\n",
      "0.7443822426696817\n",
      "(442, 47)\n",
      "0.758211471274871\n",
      "(442, 48)\n",
      "0.7460562265147643\n",
      "(442, 49)\n",
      "0.7487163374993075\n",
      "(442, 50)\n",
      "0.6820451107069173\n",
      "0.7587920631792149\n",
      "(442, 23)\n",
      "#########################linear, 3#############################\n",
      "(442, 1)\n",
      "0.0031401305914448008\n",
      "(442, 2)\n",
      "0.08185041658772196\n",
      "(442, 3)\n",
      "0.18227882084420344\n",
      "(442, 4)\n",
      "0.15248246688624323\n",
      "(442, 5)\n",
      "0.1419456130105312\n",
      "(442, 6)\n",
      "0.22269075364616675\n",
      "(442, 7)\n",
      "0.1579354220371154\n",
      "(442, 8)\n",
      "0.30290620158468584\n",
      "(442, 9)\n",
      "0.36981641624788897\n",
      "(442, 10)\n",
      "0.5517874349699999\n",
      "(442, 11)\n",
      "0.6059913744804228\n",
      "(442, 12)\n",
      "0.7011032640596848\n",
      "(442, 13)\n",
      "0.7102705585156301\n",
      "(442, 14)\n",
      "0.7059674975933324\n",
      "(442, 15)\n",
      "0.7289294769243433\n",
      "(442, 16)\n",
      "0.7197749954470817\n",
      "(442, 17)\n",
      "0.7214592332442303\n",
      "(442, 18)\n",
      "0.7254785235630505\n",
      "(442, 19)\n",
      "0.7626286968915684\n",
      "(442, 20)\n",
      "0.7458446433312205\n",
      "(442, 21)\n",
      "0.7424145629598453\n",
      "(442, 22)\n",
      "0.7362608881904813\n",
      "(442, 23)\n",
      "0.7624882078724265\n",
      "(442, 24)\n",
      "0.7623995686783906\n",
      "(442, 25)\n",
      "0.752935670590496\n",
      "(442, 26)\n",
      "0.7530981182788393\n",
      "(442, 27)\n",
      "0.7535003549061898\n",
      "(442, 28)\n",
      "0.7534678178947419\n",
      "(442, 29)\n",
      "0.7514802308475128\n",
      "(442, 30)\n",
      "0.7415802831401502\n",
      "(442, 31)\n",
      "0.7397703173831247\n",
      "(442, 32)\n",
      "0.7404860782285845\n",
      "(442, 33)\n",
      "0.7332036239581943\n",
      "(442, 34)\n",
      "0.7283081852066556\n",
      "(442, 35)\n",
      "0.7272563934750313\n",
      "(442, 36)\n",
      "0.7120189914163988\n",
      "(442, 37)\n",
      "0.7176667637736878\n",
      "(442, 38)\n",
      "0.7121841401479838\n",
      "(442, 39)\n",
      "0.7053714360241603\n",
      "(442, 40)\n",
      "0.7338946122701461\n",
      "(442, 41)\n",
      "0.730068550496707\n",
      "(442, 42)\n",
      "0.7262833102160468\n",
      "(442, 43)\n",
      "0.726508104108653\n",
      "(442, 44)\n",
      "0.76041800367577\n",
      "(442, 45)\n",
      "0.7604055451615668\n",
      "(442, 46)\n",
      "0.7425283975924019\n",
      "(442, 47)\n",
      "0.7516219576516414\n",
      "(442, 48)\n",
      "0.7540957010595181\n",
      "(442, 49)\n",
      "0.7540010259237975\n",
      "(442, 50)\n",
      "0.7154815057632917\n",
      "0.7626286968915684\n",
      "(442, 19)\n",
      "#########################linear, 4#############################\n",
      "(442, 1)\n",
      "0.009781420734655821\n",
      "(442, 2)\n",
      "0.05835355736897041\n",
      "(442, 3)\n",
      "0.07387889217165777\n",
      "(442, 4)\n",
      "0.11927963689136645\n",
      "(442, 5)\n",
      "0.1205316232959962\n",
      "(442, 6)\n",
      "0.1324162786065971\n",
      "(442, 7)\n",
      "0.18006836872833787\n",
      "(442, 8)\n",
      "0.2983476107447892\n",
      "(442, 9)\n",
      "0.30777628318040284\n",
      "(442, 10)\n",
      "0.12424280006887378\n",
      "(442, 11)\n",
      "0.12136020889044274\n",
      "(442, 12)\n",
      "0.17210816708910204\n",
      "(442, 13)\n",
      "0.3839012670471469\n",
      "(442, 14)\n",
      "0.4365025995794911\n",
      "(442, 15)\n",
      "0.43995525051787854\n",
      "(442, 16)\n",
      "0.4392234226081242\n",
      "(442, 17)\n",
      "0.46374270602332246\n",
      "(442, 18)\n",
      "0.4647385578119154\n",
      "(442, 19)\n",
      "0.44156972449855514\n",
      "(442, 20)\n",
      "0.5274864356618412\n",
      "(442, 21)\n",
      "0.6369135136953521\n",
      "(442, 22)\n",
      "0.6986135033051151\n",
      "(442, 23)\n",
      "0.7095367985093358\n",
      "(442, 24)\n",
      "0.7091447647205767\n",
      "(442, 25)\n",
      "0.7284900404487136\n",
      "(442, 26)\n",
      "0.76419869461566\n",
      "(442, 27)\n",
      "0.7599120858347213\n",
      "(442, 28)\n",
      "0.7568846247694432\n",
      "(442, 29)\n",
      "0.7539467598757703\n",
      "(442, 30)\n",
      "0.7538764473754647\n",
      "(442, 31)\n",
      "0.7624859178364756\n",
      "(442, 32)\n",
      "0.7621929769025555\n",
      "(442, 33)\n",
      "0.7599746163781607\n",
      "(442, 34)\n",
      "0.7590226326231677\n",
      "(442, 35)\n",
      "0.7582440924820198\n",
      "(442, 36)\n",
      "0.7585968515071442\n",
      "(442, 37)\n",
      "0.7637684822373839\n",
      "(442, 38)\n",
      "0.771838567403442\n",
      "(442, 39)\n",
      "0.7715885721468441\n",
      "(442, 40)\n",
      "0.7672635098105907\n",
      "(442, 41)\n",
      "0.7678324500962707\n",
      "(442, 42)\n",
      "0.7631550292281996\n",
      "(442, 43)\n",
      "0.7638168420805874\n",
      "(442, 44)\n",
      "0.7604653218765373\n",
      "(442, 45)\n",
      "0.7810374355210307\n",
      "(442, 46)\n",
      "0.7824779578829469\n",
      "(442, 47)\n",
      "0.7800480343994518\n",
      "(442, 48)\n",
      "0.7599128878217579\n",
      "(442, 49)\n",
      "0.7783000087819663\n",
      "(442, 50)\n",
      "0.7359007290662973\n",
      "0.7824779578829469\n",
      "(442, 46)\n",
      "0.7763803385484433 +- 0.01176161585485915\n",
      "36.0 +- 10.806694221638733\n",
      "#########################poly, 0#############################\n",
      "(442, 1)\n",
      "-0.003891288994495312\n",
      "(442, 2)\n",
      "-0.00872135401489671\n",
      "(442, 3)\n",
      "-0.008718287342584174\n",
      "(442, 4)\n",
      "-0.00048123861348980945\n",
      "(442, 5)\n",
      "-0.001434796082767198\n",
      "(442, 6)\n",
      "0.0014270651208698748\n",
      "(442, 7)\n",
      "0.0019511572146913014\n",
      "(442, 8)\n",
      "-0.011508162800883959\n",
      "(442, 9)\n",
      "-0.011650145823851155\n",
      "(442, 10)\n",
      "-0.011716324045961679\n",
      "(442, 11)\n",
      "-0.009527720420427599\n",
      "(442, 12)\n",
      "0.0006116482207882967\n",
      "(442, 13)\n",
      "0.001097940115704854\n",
      "(442, 14)\n",
      "0.0009203908251590454\n"
     ]
    },
    {
     "name": "stdout",
     "output_type": "stream",
     "text": [
      "(442, 15)\n",
      "-0.004036303966620025\n",
      "(442, 16)\n",
      "-0.00400907005153428\n",
      "(442, 17)\n",
      "-0.020178199852025402\n",
      "(442, 18)\n",
      "-0.017469478795663074\n",
      "(442, 19)\n",
      "-0.0034352462211462154\n",
      "(442, 20)\n",
      "-0.17163691410732151\n",
      "(442, 21)\n",
      "-0.12020191487664067\n",
      "(442, 22)\n",
      "-0.44708191055586566\n",
      "(442, 23)\n",
      "-0.36543314409796324\n",
      "(442, 24)\n",
      "0.505889663551473\n",
      "(442, 25)\n",
      "0.4987617263343981\n",
      "(442, 26)\n",
      "0.5917763703773973\n",
      "(442, 27)\n",
      "0.6203517886149581\n",
      "(442, 28)\n",
      "0.6244514570849583\n",
      "(442, 29)\n",
      "0.6425644938259301\n",
      "(442, 30)\n",
      "0.7217306717187605\n",
      "(442, 31)\n",
      "0.7202095107498279\n",
      "(442, 32)\n",
      "0.7119475665252637\n",
      "(442, 33)\n",
      "0.711597269209181\n",
      "(442, 34)\n",
      "0.7019280462245097\n",
      "(442, 35)\n",
      "0.7012065382100884\n",
      "(442, 36)\n",
      "0.558008124197727\n",
      "(442, 37)\n",
      "0.5846600364686916\n",
      "(442, 38)\n",
      "0.6656481360377622\n",
      "(442, 39)\n",
      "0.6413478390934688\n",
      "(442, 40)\n",
      "0.707113332535654\n",
      "(442, 41)\n",
      "0.6449054704942341\n",
      "(442, 42)\n",
      "0.6437006287188634\n",
      "(442, 43)\n",
      "0.673576142816842\n",
      "(442, 44)\n",
      "0.5967023210256899\n",
      "(442, 45)\n",
      "0.5346782496464071\n",
      "(442, 46)\n",
      "0.543406890276595\n",
      "(442, 47)\n",
      "0.41379097631448714\n",
      "(442, 48)\n",
      "0.39476042386142685\n",
      "(442, 49)\n",
      "0.22088249631642998\n",
      "(442, 50)\n",
      "0.2876179679956111\n",
      "0.7217306717187605\n",
      "(442, 30)\n",
      "#########################poly, 1#############################\n",
      "(442, 1)\n",
      "-0.00048425320471090494\n",
      "(442, 2)\n",
      "-0.00026904841147379344\n",
      "(442, 3)\n",
      "-0.0003516869477873108\n",
      "(442, 4)\n",
      "0.0011064145725108165\n",
      "(442, 5)\n",
      "-0.0006293233768279727\n",
      "(442, 6)\n",
      "0.00013635140056311723\n",
      "(442, 7)\n",
      "-0.015867702045508025\n",
      "(442, 8)\n",
      "-0.01606193391460442\n",
      "(442, 9)\n",
      "-0.010691120398228948\n",
      "(442, 10)\n",
      "0.003718730154864125\n",
      "(442, 11)\n",
      "-0.0069060978938328965\n",
      "(442, 12)\n",
      "-0.011127966446068616\n",
      "(442, 13)\n",
      "-0.025231053261616676\n",
      "(442, 14)\n",
      "-0.031386731568086024\n",
      "(442, 15)\n",
      "-0.01916172604223143\n",
      "(442, 16)\n",
      "-0.023769154748644272\n",
      "(442, 17)\n",
      "-0.023467782653811442\n",
      "(442, 18)\n",
      "-0.015539831788782932\n",
      "(442, 19)\n",
      "-0.10202210257329059\n",
      "(442, 20)\n",
      "-0.07846852817476524\n",
      "(442, 21)\n",
      "-0.11638087894810067\n",
      "(442, 22)\n",
      "-0.4357881218581472\n",
      "(442, 23)\n",
      "-0.5696338886829595\n",
      "(442, 24)\n",
      "-0.7841505380156899\n",
      "(442, 25)\n",
      "-0.7472938353289009\n",
      "(442, 26)\n",
      "0.046106662631753226\n",
      "(442, 27)\n",
      "0.10071323432272572\n",
      "(442, 28)\n",
      "0.3129611083699292\n",
      "(442, 29)\n",
      "0.34316143478459815\n",
      "(442, 30)\n",
      "0.33652997544421914\n",
      "(442, 31)\n",
      "0.3818986727437266\n",
      "(442, 32)\n",
      "0.5499097831829591\n",
      "(442, 33)\n",
      "0.5409034147963007\n",
      "(442, 34)\n",
      "0.44921682915348704\n",
      "(442, 35)\n",
      "0.43025014757280744\n",
      "(442, 36)\n",
      "0.31160530752336646\n",
      "(442, 37)\n",
      "0.47131169777565884\n",
      "(442, 38)\n",
      "0.02159228061070939\n",
      "(442, 39)\n",
      "0.06577251709363441\n",
      "(442, 40)\n",
      "-0.7602692136497946\n",
      "(442, 41)\n",
      "-1.1944348870032284\n",
      "(442, 42)\n",
      "0.4641296733453758\n",
      "(442, 43)\n",
      "0.5032192439487546\n",
      "(442, 44)\n",
      "0.5427002049092664\n",
      "(442, 45)\n",
      "0.5489983820479398\n",
      "(442, 46)\n",
      "0.6152585612591304\n",
      "(442, 47)\n",
      "0.6587131968761992\n",
      "(442, 48)\n",
      "0.6425894340061211\n",
      "(442, 49)\n",
      "0.6333657609911212\n",
      "(442, 50)\n",
      "0.6384363740353227\n",
      "0.6587131968761992\n",
      "(442, 47)\n",
      "#########################poly, 2#############################\n",
      "(442, 1)\n",
      "-0.00326221807699989\n",
      "(442, 2)\n",
      "-0.004160405829280567\n",
      "(442, 3)\n",
      "-0.005313994835742575\n",
      "(442, 4)\n",
      "-0.003582394589605631\n",
      "(442, 5)\n",
      "4.9655415956695315e-05\n",
      "(442, 6)\n",
      "-7.648168776253073e-05\n",
      "(442, 7)\n",
      "0.00023089019405420075\n",
      "(442, 8)\n",
      "-0.0035698022506533977\n",
      "(442, 9)\n",
      "-0.0033459258996961783\n",
      "(442, 10)\n",
      "-0.005506475096842323\n",
      "(442, 11)\n",
      "-0.006375616381393945\n",
      "(442, 12)\n",
      "-0.005000784007825887\n",
      "(442, 13)\n",
      "-0.010510548274729192\n",
      "(442, 14)\n",
      "-0.005892737869039211\n",
      "(442, 15)\n",
      "-0.0077193240651607375\n",
      "(442, 16)\n",
      "-0.006306058847820539\n",
      "(442, 17)\n",
      "0.0025453535431552154\n",
      "(442, 18)\n",
      "0.002672662790601077\n",
      "(442, 19)\n",
      "-0.02749563992712334\n",
      "(442, 20)\n",
      "-0.039875390662487575\n",
      "(442, 21)\n",
      "-0.034799984663906214\n",
      "(442, 22)\n",
      "-0.036471652159376866\n",
      "(442, 23)\n",
      "-0.022973179847348257\n",
      "(442, 24)\n",
      "-0.029633446953501785\n",
      "(442, 25)\n",
      "-2.9165099570827593\n",
      "(442, 26)\n",
      "-0.7040209090490663\n",
      "(442, 27)\n",
      "-0.708007575484787\n",
      "(442, 28)\n",
      "-0.37501544427145594\n",
      "(442, 29)\n",
      "0.5944217602542228\n",
      "(442, 30)\n",
      "0.7415526189408053\n",
      "(442, 31)\n",
      "0.7414238235261548\n",
      "(442, 32)\n",
      "0.741885344740673\n",
      "(442, 33)\n",
      "0.7164884794586366\n",
      "(442, 34)\n",
      "0.736283119596689\n",
      "(442, 35)\n",
      "0.7339289709439243\n",
      "(442, 36)\n",
      "0.7355779149489943\n",
      "(442, 37)\n",
      "0.7466977714892598\n",
      "(442, 38)\n",
      "0.7492047984427607\n",
      "(442, 39)\n",
      "0.7528050547550444\n",
      "(442, 40)\n",
      "0.7597536698559914\n",
      "(442, 41)\n",
      "0.7643991206372672\n",
      "(442, 42)\n",
      "0.7638189502100444\n",
      "(442, 43)\n",
      "0.7537260585811997\n",
      "(442, 44)\n",
      "0.7558045611852826\n",
      "(442, 45)\n",
      "0.5840639843742192\n",
      "(442, 46)\n",
      "0.5840511217923714\n",
      "(442, 47)\n",
      "0.507448132552893\n",
      "(442, 48)\n",
      "0.5503401952053373\n",
      "(442, 49)\n",
      "0.610019395345523\n",
      "(442, 50)\n",
      "0.4900949599888702\n",
      "0.7643991206372672\n",
      "(442, 41)\n",
      "#########################poly, 3#############################\n",
      "(442, 1)\n",
      "-0.002194306695780579\n",
      "(442, 2)\n",
      "-0.004792095096727511\n",
      "(442, 3)\n",
      "-0.008527959155286924\n",
      "(442, 4)\n",
      "-0.006496476420740471\n",
      "(442, 5)\n",
      "0.0025965222110222452\n",
      "(442, 6)\n",
      "0.002645389221043848\n",
      "(442, 7)\n",
      "0.0037694274506226977\n",
      "(442, 8)\n",
      "0.004299047202740214\n",
      "(442, 9)\n",
      "0.003970466191568822\n",
      "(442, 10)\n",
      "0.006252915682443905\n",
      "(442, 11)\n",
      "0.0060282415334840245\n",
      "(442, 12)\n",
      "0.00728667080728207\n",
      "(442, 13)\n",
      "0.007534057744481348\n",
      "(442, 14)\n",
      "0.007884938048528412\n",
      "(442, 15)\n",
      "0.008352082150650086\n",
      "(442, 16)\n",
      "0.009846168524055177\n",
      "(442, 17)\n",
      "0.009913163283960191\n",
      "(442, 18)\n",
      "0.011532365225628727\n",
      "(442, 19)\n",
      "-0.021679906543107696\n",
      "(442, 20)\n",
      "-0.01850733926066339\n",
      "(442, 21)\n",
      "-0.046077379107696936\n",
      "(442, 22)\n",
      "-0.04291132220085436\n",
      "(442, 23)\n",
      "-0.04337208104238677\n",
      "(442, 24)\n",
      "-0.4875809413039853\n",
      "(442, 25)\n",
      "-3.291721942712303\n",
      "(442, 26)\n",
      "-2.7809186284025316\n",
      "(442, 27)\n",
      "0.229079293108283\n",
      "(442, 28)\n",
      "0.23693490539258288\n",
      "(442, 29)\n",
      "0.2375718715042836\n",
      "(442, 30)\n",
      "0.10050450629703489\n",
      "(442, 31)\n",
      "0.23692639901562407\n",
      "(442, 32)\n",
      "0.43151581967776664\n",
      "(442, 33)\n",
      "0.38530924620366136\n",
      "(442, 34)\n",
      "0.4084585556869801\n",
      "(442, 35)\n",
      "0.33787698285235823\n",
      "(442, 36)\n",
      "0.6129066229101441\n",
      "(442, 37)\n",
      "0.6667827891125166\n",
      "(442, 38)\n",
      "0.7253837680089488\n",
      "(442, 39)\n",
      "0.7189446481419199\n",
      "(442, 40)\n",
      "0.7255914732395183\n",
      "(442, 41)\n",
      "0.7355272865499562\n",
      "(442, 42)\n",
      "0.7269207807637716\n",
      "(442, 43)\n",
      "0.7381346315442896\n",
      "(442, 44)\n",
      "0.687060769415021\n",
      "(442, 45)\n",
      "0.6574304903541363\n",
      "(442, 46)\n",
      "0.6464007811066463\n",
      "(442, 47)\n",
      "0.6468223339822883\n",
      "(442, 48)\n",
      "0.6595692705465278\n",
      "(442, 49)\n",
      "0.6565222999071173\n",
      "(442, 50)\n",
      "0.662378617164238\n",
      "0.7381346315442896\n",
      "(442, 43)\n",
      "#########################poly, 4#############################\n",
      "(442, 1)\n",
      "0.0006881448111656363\n",
      "(442, 2)\n",
      "0.0003988319720160671\n",
      "(442, 3)\n",
      "0.00031760717622419943\n",
      "(442, 4)\n",
      "-0.009257356269916084\n",
      "(442, 5)\n",
      "0.002027884724906115\n",
      "(442, 6)\n",
      "0.005640362277116506\n",
      "(442, 7)\n",
      "0.005056667810948934\n",
      "(442, 8)\n",
      "0.0053689528420388655\n",
      "(442, 9)\n",
      "-0.0038858197546476347\n",
      "(442, 10)\n",
      "-0.011443639450504417\n",
      "(442, 11)\n",
      "-0.011052340560335994\n",
      "(442, 12)\n",
      "-0.010694380053271502\n",
      "(442, 13)\n",
      "-0.011024350734604171\n",
      "(442, 14)\n",
      "-0.0006820420144415529\n",
      "(442, 15)\n",
      "-0.006212569965671877\n",
      "(442, 16)\n",
      "-0.014812207139593303\n",
      "(442, 17)\n",
      "-0.011075574620848405\n",
      "(442, 18)\n",
      "-0.009650298960822479\n",
      "(442, 19)\n",
      "-0.008443389809238644\n",
      "(442, 20)\n",
      "0.001808139510046325\n",
      "(442, 21)\n",
      "-0.019653327108710705\n",
      "(442, 22)\n",
      "-0.076263386484265\n",
      "(442, 23)\n",
      "-0.23312406153639853\n",
      "(442, 24)\n",
      "-0.506631517308346\n",
      "(442, 25)\n",
      "-0.49368485880992297\n",
      "(442, 26)\n",
      "-0.5877599877168942\n",
      "(442, 27)\n",
      "-1.3357546763862675\n",
      "(442, 28)\n",
      "-0.8041322984383725\n",
      "(442, 29)\n",
      "-0.9959059474561538\n",
      "(442, 30)\n",
      "-0.682458034113482\n",
      "(442, 31)\n",
      "-0.6584473740969075\n",
      "(442, 32)\n",
      "-0.13293486011105982\n",
      "(442, 33)\n",
      "-0.2459764144578973\n",
      "(442, 34)\n",
      "-0.026652865178402152\n",
      "(442, 35)\n",
      "0.08190833579123091\n",
      "(442, 36)\n",
      "-1.015243084937584\n",
      "(442, 37)\n",
      "-0.8381243443871189\n",
      "(442, 38)\n",
      "0.5788252687280739\n",
      "(442, 39)\n",
      "0.6157494488473125\n",
      "(442, 40)\n",
      "0.6318485486686045\n",
      "(442, 41)\n",
      "0.6317086090657873\n",
      "(442, 42)\n",
      "0.6252380560060822\n",
      "(442, 43)\n",
      "0.6551586873087893\n",
      "(442, 44)\n",
      "0.6697501182766659\n",
      "(442, 45)\n",
      "0.5923907942183515\n",
      "(442, 46)\n",
      "0.6409890413489279\n",
      "(442, 47)\n",
      "0.6417347425379845\n",
      "(442, 48)\n",
      "0.6385035807781344\n",
      "(442, 49)\n",
      "0.6423468525940927\n",
      "(442, 50)\n",
      "0.5872959373984445\n",
      "0.6697501182766659\n",
      "(442, 44)\n",
      "0.7105455478106365 +- 0.03536120629257586\n",
      "41.0 +- 5.1110546856788766\n",
      "#########################sigmoid, 0#############################\n",
      "(442, 1)\n",
      "0.021563172508670014\n",
      "(442, 2)\n",
      "0.415131366533506\n",
      "(442, 3)\n",
      "0.33685022612968263\n",
      "(442, 4)\n",
      "0.34490200682665917\n",
      "(442, 5)\n",
      "0.34220523378349543\n",
      "(442, 6)\n",
      "0.3774516769587184\n",
      "(442, 7)\n",
      "0.3975443333996802\n",
      "(442, 8)\n",
      "0.38057780855758205\n",
      "(442, 9)\n",
      "0.3245286320031714\n",
      "(442, 10)\n",
      "0.2990702539677328\n",
      "(442, 11)\n",
      "0.2978959085668258\n",
      "(442, 12)\n",
      "0.2811213767032178\n",
      "(442, 13)\n",
      "0.2725273851082659\n",
      "(442, 14)\n",
      "0.23620404569840903\n",
      "(442, 15)\n",
      "0.2373568541236104\n",
      "(442, 16)\n",
      "0.2124460045065446\n",
      "(442, 17)\n",
      "0.20927505847621497\n",
      "(442, 18)\n",
      "0.19586684895438455\n",
      "(442, 19)\n",
      "0.11123696625614221\n"
     ]
    },
    {
     "name": "stdout",
     "output_type": "stream",
     "text": [
      "(442, 20)\n",
      "0.03698481425835498\n",
      "(442, 21)\n",
      "0.03598975698246787\n",
      "(442, 22)\n",
      "0.11406353714135331\n",
      "(442, 23)\n",
      "0.09044374903278507\n",
      "(442, 24)\n",
      "0.12034396480256537\n",
      "(442, 25)\n",
      "0.10446599660344791\n",
      "(442, 26)\n",
      "0.06898925019687419\n",
      "(442, 27)\n",
      "0.02757056442105743\n",
      "(442, 28)\n",
      "-0.004994856303079276\n",
      "(442, 29)\n",
      "0.02133051315016865\n",
      "(442, 30)\n",
      "-0.007394918311959042\n",
      "(442, 31)\n",
      "0.024052962664159794\n",
      "(442, 32)\n",
      "0.04204759670158287\n",
      "(442, 33)\n",
      "0.043277362081020065\n",
      "(442, 34)\n",
      "0.01909520286374644\n",
      "(442, 35)\n",
      "0.0953163485215095\n",
      "(442, 36)\n",
      "0.1391027986393344\n",
      "(442, 37)\n",
      "0.046131822094679586\n",
      "(442, 38)\n",
      "0.0674049486959879\n",
      "(442, 39)\n",
      "0.08673758803220655\n",
      "(442, 40)\n",
      "0.004845138164390694\n",
      "(442, 41)\n",
      "-0.026462813573504995\n",
      "(442, 42)\n",
      "-0.3044604910766424\n",
      "(442, 43)\n",
      "-0.7879783158013232\n",
      "(442, 44)\n",
      "-0.7996868120059353\n",
      "(442, 45)\n",
      "-0.8898548946433198\n",
      "(442, 46)\n",
      "-0.8428276671617858\n",
      "(442, 47)\n",
      "-1.0294719155140881\n",
      "(442, 48)\n",
      "-1.050754089048909\n",
      "(442, 49)\n",
      "-1.3981128413081678\n",
      "(442, 50)\n",
      "-1.3759221358033291\n",
      "0.415131366533506\n",
      "(442, 2)\n",
      "#########################sigmoid, 1#############################\n",
      "(442, 1)\n",
      "0.03249268583011944\n",
      "(442, 2)\n",
      "0.1852097317043735\n",
      "(442, 3)\n",
      "0.4664851039877398\n",
      "(442, 4)\n",
      "0.23995365039352734\n",
      "(442, 5)\n",
      "0.26835871581134974\n",
      "(442, 6)\n",
      "0.3246253142776082\n",
      "(442, 7)\n",
      "0.4434113114740722\n",
      "(442, 8)\n",
      "0.4431291801706885\n",
      "(442, 9)\n",
      "0.44453483769234836\n",
      "(442, 10)\n",
      "0.4216211731699895\n",
      "(442, 11)\n",
      "0.3995750085901031\n",
      "(442, 12)\n",
      "0.28844415791528166\n",
      "(442, 13)\n",
      "0.2464162934634596\n",
      "(442, 14)\n",
      "0.246483177432944\n",
      "(442, 15)\n",
      "0.2712323991064529\n",
      "(442, 16)\n",
      "0.27859272058876217\n",
      "(442, 17)\n",
      "0.3166580309589133\n",
      "(442, 18)\n",
      "0.2912697996760948\n",
      "(442, 19)\n",
      "0.29039854090151085\n",
      "(442, 20)\n",
      "0.3023379783516724\n",
      "(442, 21)\n",
      "0.35451694325003813\n",
      "(442, 22)\n",
      "0.3580997652305873\n",
      "(442, 23)\n",
      "0.3254877819727149\n",
      "(442, 24)\n",
      "0.3234786112528977\n",
      "(442, 25)\n",
      "0.16250028341800082\n",
      "(442, 26)\n",
      "0.22409923262964015\n",
      "(442, 27)\n",
      "0.23417288224235056\n",
      "(442, 28)\n",
      "0.3018833654096642\n",
      "(442, 29)\n",
      "0.31500647795563064\n",
      "(442, 30)\n",
      "0.3179688435689808\n",
      "(442, 31)\n",
      "0.3018843753886543\n",
      "(442, 32)\n",
      "0.10797238865944614\n",
      "(442, 33)\n",
      "0.29988790899491713\n",
      "(442, 34)\n",
      "0.2804703417232197\n",
      "(442, 35)\n",
      "0.2900175979096852\n",
      "(442, 36)\n",
      "0.285896412321313\n",
      "(442, 37)\n",
      "0.2755684510815519\n",
      "(442, 38)\n",
      "0.23877954372059396\n",
      "(442, 39)\n",
      "0.21422610850282664\n",
      "(442, 40)\n",
      "0.12111318069305888\n",
      "(442, 41)\n",
      "0.10639451044025217\n",
      "(442, 42)\n",
      "0.04686376308368356\n",
      "(442, 43)\n",
      "0.045810614117267834\n",
      "(442, 44)\n",
      "-0.0019263311537895955\n",
      "(442, 45)\n",
      "-0.07360654078691908\n",
      "(442, 46)\n",
      "-0.22450500443680488\n",
      "(442, 47)\n",
      "-0.33632624053159343\n",
      "(442, 48)\n",
      "-0.7196082022733179\n",
      "(442, 49)\n",
      "-0.6734514701911753\n",
      "(442, 50)\n",
      "-0.5987942633884333\n",
      "0.4664851039877398\n",
      "(442, 3)\n",
      "#########################sigmoid, 2#############################\n",
      "(442, 1)\n",
      "0.02534789163556106\n",
      "(442, 2)\n",
      "0.3670166675677994\n",
      "(442, 3)\n",
      "0.4306497740455185\n",
      "(442, 4)\n",
      "0.12579186594283176\n",
      "(442, 5)\n",
      "0.11720047529723898\n",
      "(442, 6)\n",
      "0.2117966574652187\n",
      "(442, 7)\n",
      "0.3047422292940253\n",
      "(442, 8)\n",
      "0.31565164547785807\n",
      "(442, 9)\n",
      "0.3277527896045699\n",
      "(442, 10)\n",
      "0.3538841881019905\n",
      "(442, 11)\n",
      "0.3402657460838957\n",
      "(442, 12)\n",
      "0.3402037016983416\n",
      "(442, 13)\n",
      "0.3132068030800256\n",
      "(442, 14)\n",
      "0.31833617729105235\n",
      "(442, 15)\n",
      "0.30922974729075936\n",
      "(442, 16)\n",
      "0.30965551795740953\n",
      "(442, 17)\n",
      "0.3064056059307877\n",
      "(442, 18)\n",
      "0.3000477326771325\n",
      "(442, 19)\n",
      "0.29135883208756586\n",
      "(442, 20)\n",
      "0.2515171034768826\n",
      "(442, 21)\n",
      "0.30156843371750885\n",
      "(442, 22)\n",
      "0.32255607884716264\n",
      "(442, 23)\n",
      "0.242809902492926\n",
      "(442, 24)\n",
      "0.16948867937850431\n",
      "(442, 25)\n",
      "0.17519955434452428\n",
      "(442, 26)\n",
      "0.18161899053806818\n",
      "(442, 27)\n",
      "0.19984731352039853\n",
      "(442, 28)\n",
      "0.20630527270977883\n",
      "(442, 29)\n",
      "0.19251932727093313\n",
      "(442, 30)\n",
      "0.2353589976879532\n",
      "(442, 31)\n",
      "0.23598152185380827\n",
      "(442, 32)\n",
      "0.31561964895065464\n",
      "(442, 33)\n",
      "0.23937884621011574\n",
      "(442, 34)\n",
      "0.12773306027353726\n",
      "(442, 35)\n",
      "0.10373875561798718\n",
      "(442, 36)\n",
      "0.09529571120926672\n",
      "(442, 37)\n",
      "0.15940239326446537\n",
      "(442, 38)\n",
      "0.16610703463334542\n",
      "(442, 39)\n",
      "0.17986120974695097\n",
      "(442, 40)\n",
      "0.1606867818413208\n",
      "(442, 41)\n",
      "-0.08225874141707945\n",
      "(442, 42)\n",
      "-0.08880714798721012\n",
      "(442, 43)\n",
      "0.014530882326512562\n",
      "(442, 44)\n",
      "-0.1050429311772274\n",
      "(442, 45)\n",
      "-0.11445002645929181\n",
      "(442, 46)\n",
      "-0.023757252270733886\n",
      "(442, 47)\n",
      "-0.1902332023009805\n",
      "(442, 48)\n",
      "-0.2298507200285127\n",
      "(442, 49)\n",
      "-0.1493429095997696\n",
      "(442, 50)\n",
      "-0.07987529856770337\n",
      "0.4306497740455185\n",
      "(442, 3)\n",
      "#########################sigmoid, 3#############################\n",
      "(442, 1)\n",
      "0.029482448366103253\n",
      "(442, 2)\n",
      "0.1513583362502532\n",
      "(442, 3)\n",
      "0.4645247217092181\n",
      "(442, 4)\n",
      "0.36524898700672503\n",
      "(442, 5)\n",
      "0.40823504624797147\n",
      "(442, 6)\n",
      "0.3950432555549235\n",
      "(442, 7)\n",
      "0.42140129193426157\n",
      "(442, 8)\n",
      "0.4198649838442161\n",
      "(442, 9)\n",
      "0.4093057597976729\n",
      "(442, 10)\n",
      "0.41311455175264344\n",
      "(442, 11)\n",
      "0.4151655681181492\n",
      "(442, 12)\n",
      "0.3768004375094861\n",
      "(442, 13)\n",
      "0.4061697091809352\n",
      "(442, 14)\n",
      "0.40555786845873654\n",
      "(442, 15)\n",
      "0.35547270437018585\n",
      "(442, 16)\n",
      "0.4263815866962316\n",
      "(442, 17)\n",
      "0.4115012294840118\n",
      "(442, 18)\n",
      "0.39359798596632944\n",
      "(442, 19)\n",
      "0.30051206406922637\n",
      "(442, 20)\n",
      "0.3176469177994573\n",
      "(442, 21)\n",
      "0.32434373126835403\n",
      "(442, 22)\n",
      "0.3250085667249948\n",
      "(442, 23)\n",
      "0.2330007052707107\n",
      "(442, 24)\n",
      "0.21837694344582093\n",
      "(442, 25)\n",
      "0.21169948385011683\n",
      "(442, 26)\n",
      "0.21182326325890732\n",
      "(442, 27)\n",
      "0.23598469226735408\n",
      "(442, 28)\n",
      "0.22706654036752505\n",
      "(442, 29)\n",
      "0.17434366455212447\n",
      "(442, 30)\n",
      "0.205056379789746\n",
      "(442, 31)\n",
      "0.19290970483128256\n",
      "(442, 32)\n",
      "0.19293198172605974\n",
      "(442, 33)\n",
      "0.1833538250320601\n",
      "(442, 34)\n",
      "0.23099592483189446\n",
      "(442, 35)\n",
      "0.32754738710401965\n",
      "(442, 36)\n",
      "0.3061710499029675\n",
      "(442, 37)\n",
      "0.34533403887517755\n",
      "(442, 38)\n",
      "0.38303506076435156\n",
      "(442, 39)\n",
      "0.43971766878241325\n",
      "(442, 40)\n",
      "0.2596937323232764\n",
      "(442, 41)\n",
      "0.27151463999791525\n",
      "(442, 42)\n",
      "0.1630628691235333\n",
      "(442, 43)\n",
      "0.1464845658000994\n",
      "(442, 44)\n",
      "0.053290549084040295\n",
      "(442, 45)\n",
      "0.054861073042593134\n",
      "(442, 46)\n",
      "-0.025640286800019618\n",
      "(442, 47)\n",
      "-0.006578095058169531\n",
      "(442, 48)\n",
      "-0.11745476322928261\n",
      "(442, 49)\n",
      "-0.4603363254413344\n",
      "(442, 50)\n",
      "-0.4539331528204249\n",
      "0.4645247217092181\n",
      "(442, 3)\n",
      "#########################sigmoid, 4#############################\n",
      "(442, 1)\n",
      "0.031568808565033524\n",
      "(442, 2)\n",
      "0.2743814329686144\n",
      "(442, 3)\n",
      "0.35711337448286906\n",
      "(442, 4)\n",
      "0.32166973534855114\n",
      "(442, 5)\n",
      "0.2833393564292497\n",
      "(442, 6)\n",
      "0.39811823568112314\n",
      "(442, 7)\n",
      "0.29875434527497735\n",
      "(442, 8)\n",
      "0.32003225461902396\n",
      "(442, 9)\n",
      "0.3186122208869542\n",
      "(442, 10)\n",
      "0.30915363527625583\n",
      "(442, 11)\n",
      "0.30335533924627667\n",
      "(442, 12)\n",
      "0.30308817414550904\n",
      "(442, 13)\n",
      "0.30158734886175786\n",
      "(442, 14)\n",
      "0.3628217953332462\n",
      "(442, 15)\n",
      "0.3612207026738168\n",
      "(442, 16)\n",
      "0.3827175675313901\n",
      "(442, 17)\n",
      "0.3659045351026271\n",
      "(442, 18)\n",
      "0.299359874290126\n",
      "(442, 19)\n",
      "0.20583970951307762\n",
      "(442, 20)\n",
      "0.1997767574869106\n",
      "(442, 21)\n",
      "0.20826908039480052\n",
      "(442, 22)\n",
      "0.3457918294124941\n",
      "(442, 23)\n",
      "0.34713912872319974\n",
      "(442, 24)\n",
      "0.3911911577222389\n",
      "(442, 25)\n",
      "0.30325749220960774\n",
      "(442, 26)\n",
      "0.25510822688903434\n",
      "(442, 27)\n",
      "0.23725459633837342\n",
      "(442, 28)\n",
      "0.17850003518728053\n",
      "(442, 29)\n",
      "0.22499031799839775\n",
      "(442, 30)\n",
      "0.24273832689545605\n",
      "(442, 31)\n",
      "0.3364918743733031\n",
      "(442, 32)\n",
      "0.2938832541359586\n",
      "(442, 33)\n",
      "0.28264643867596206\n",
      "(442, 34)\n",
      "0.30664605567696657\n",
      "(442, 35)\n",
      "0.22880192638293972\n",
      "(442, 36)\n",
      "0.09564406473143672\n",
      "(442, 37)\n",
      "0.04498494425878785\n",
      "(442, 38)\n",
      "-0.04943155150947165\n",
      "(442, 39)\n",
      "-0.10533855611093523\n",
      "(442, 40)\n",
      "-0.069867095337935\n",
      "(442, 41)\n",
      "-0.054003968160532656\n",
      "(442, 42)\n",
      "0.0003464056359880896\n",
      "(442, 43)\n",
      "-0.21951738385701658\n",
      "(442, 44)\n",
      "-0.2105819590820288\n",
      "(442, 45)\n",
      "-0.10252727155535069\n",
      "(442, 46)\n",
      "-0.15458143982268857\n",
      "(442, 47)\n",
      "-0.14396928690416755\n",
      "(442, 48)\n",
      "-0.10515309515718729\n",
      "(442, 49)\n",
      "-0.5402056026892865\n",
      "(442, 50)\n",
      "-0.5546132419718126\n",
      "0.39811823568112314\n",
      "(442, 6)\n",
      "0.4349818403914211 +- 0.02364046317279162\n",
      "3.4 +- 1.188994869627283\n"
     ]
    }
   ],
   "source": [
    "from sklearn.decomposition import KernelPCA\n",
    "for curr_kernel in ['linear', 'poly', 'sigmoid']:\n",
    "    best_scores = []\n",
    "    best_nums = []\n",
    "    for curr_seed in [0,1,2,3,4]: \n",
    "        best_score = 0\n",
    "        best_num = 0\n",
    "        print(f'#########################{curr_kernel}, {curr_seed}#############################')\n",
    "        for i in range(50):\n",
    "            curr_df_trainVal_withTar = resample(df_trainVal_withTar, random_state=curr_seed)\n",
    "            curr_df_trainVal = curr_df_trainVal_withTar.iloc[:,:-1]\n",
    "            dimRedMethod = KernelPCA(n_components=i+1, kernel=curr_kernel)\n",
    "            trainVal_reduced = pd.DataFrame(dimRedMethod.fit_transform(curr_df_trainVal))\n",
    "            test_reduced = pd.DataFrame(dimRedMethod.transform(df_test))\n",
    "            print(test_reduced.shape)\n",
    "            mod = LinearRegression().fit(trainVal_reduced, curr_df_trainVal_withTar.mean_std)\n",
    "            actual_score = mod.score(test_reduced, df_test_withTar.mean_std)\n",
    "            print(actual_score)\n",
    "            if actual_score> best_score:\n",
    "                best_score=actual_score\n",
    "                best_num = test_reduced.shape\n",
    "        print(best_score)\n",
    "        print(best_num)\n",
    "        best_scores.append(best_score)\n",
    "        best_nums.append(best_num[1])\n",
    "    compute_CI(best_scores,5)\n",
    "    compute_CI(best_nums,5)"
   ]
  },
  {
   "cell_type": "code",
   "execution_count": null,
   "id": "889860f7",
   "metadata": {
    "hidden": true
   },
   "outputs": [],
   "source": [
    "0.7763803385484433 +- 0.01176161585485915\n",
    "36.0 +- 10.806694221638733\n",
    "\n",
    "0.7105455478106365 +- 0.03536120629257586\n",
    "41.0 +- 5.1110546856788766\n",
    "\n",
    "0.4349818403914211 +- 0.02364046317279162\n",
    "3.4 +- 1.188994869627283"
   ]
  },
  {
   "cell_type": "markdown",
   "id": "83859902",
   "metadata": {
    "heading_collapsed": true
   },
   "source": [
    "## isomap"
   ]
  },
  {
   "cell_type": "code",
   "execution_count": 48,
   "id": "819e0b8c",
   "metadata": {
    "hidden": true,
    "scrolled": true
   },
   "outputs": [
    {
     "name": "stderr",
     "output_type": "stream",
     "text": [
      "/Users/paolo/opt/miniconda3/envs/tensorflow/lib/python3.9/site-packages/sklearn/base.py:443: UserWarning: X has feature names, but NearestNeighbors was fitted without feature names\n",
      "  warnings.warn(\n"
     ]
    },
    {
     "name": "stdout",
     "output_type": "stream",
     "text": [
      "(442, 1)\n",
      "-0.005760793109692575\n"
     ]
    },
    {
     "name": "stderr",
     "output_type": "stream",
     "text": [
      "/Users/paolo/opt/miniconda3/envs/tensorflow/lib/python3.9/site-packages/sklearn/base.py:443: UserWarning: X has feature names, but NearestNeighbors was fitted without feature names\n",
      "  warnings.warn(\n"
     ]
    },
    {
     "name": "stdout",
     "output_type": "stream",
     "text": [
      "(442, 2)\n",
      "0.0020468006205934808\n"
     ]
    },
    {
     "name": "stderr",
     "output_type": "stream",
     "text": [
      "/Users/paolo/opt/miniconda3/envs/tensorflow/lib/python3.9/site-packages/sklearn/base.py:443: UserWarning: X has feature names, but NearestNeighbors was fitted without feature names\n",
      "  warnings.warn(\n"
     ]
    },
    {
     "name": "stdout",
     "output_type": "stream",
     "text": [
      "(442, 3)\n",
      "-0.02938231078578446\n"
     ]
    },
    {
     "name": "stderr",
     "output_type": "stream",
     "text": [
      "/Users/paolo/opt/miniconda3/envs/tensorflow/lib/python3.9/site-packages/sklearn/base.py:443: UserWarning: X has feature names, but NearestNeighbors was fitted without feature names\n",
      "  warnings.warn(\n"
     ]
    },
    {
     "name": "stdout",
     "output_type": "stream",
     "text": [
      "(442, 4)\n",
      "-0.05630519283312996\n"
     ]
    },
    {
     "name": "stderr",
     "output_type": "stream",
     "text": [
      "/Users/paolo/opt/miniconda3/envs/tensorflow/lib/python3.9/site-packages/sklearn/base.py:443: UserWarning: X has feature names, but NearestNeighbors was fitted without feature names\n",
      "  warnings.warn(\n"
     ]
    },
    {
     "name": "stdout",
     "output_type": "stream",
     "text": [
      "(442, 5)\n",
      "-0.07329764049744703\n"
     ]
    },
    {
     "name": "stderr",
     "output_type": "stream",
     "text": [
      "/Users/paolo/opt/miniconda3/envs/tensorflow/lib/python3.9/site-packages/sklearn/base.py:443: UserWarning: X has feature names, but NearestNeighbors was fitted without feature names\n",
      "  warnings.warn(\n"
     ]
    },
    {
     "name": "stdout",
     "output_type": "stream",
     "text": [
      "(442, 6)\n",
      "-0.04327378506765056\n"
     ]
    },
    {
     "name": "stderr",
     "output_type": "stream",
     "text": [
      "/Users/paolo/opt/miniconda3/envs/tensorflow/lib/python3.9/site-packages/sklearn/base.py:443: UserWarning: X has feature names, but NearestNeighbors was fitted without feature names\n",
      "  warnings.warn(\n"
     ]
    },
    {
     "name": "stdout",
     "output_type": "stream",
     "text": [
      "(442, 7)\n",
      "0.07923392630001747\n"
     ]
    },
    {
     "name": "stderr",
     "output_type": "stream",
     "text": [
      "/Users/paolo/opt/miniconda3/envs/tensorflow/lib/python3.9/site-packages/sklearn/base.py:443: UserWarning: X has feature names, but NearestNeighbors was fitted without feature names\n",
      "  warnings.warn(\n"
     ]
    },
    {
     "name": "stdout",
     "output_type": "stream",
     "text": [
      "(442, 8)\n",
      "0.11460125893399664\n"
     ]
    },
    {
     "name": "stderr",
     "output_type": "stream",
     "text": [
      "/Users/paolo/opt/miniconda3/envs/tensorflow/lib/python3.9/site-packages/sklearn/base.py:443: UserWarning: X has feature names, but NearestNeighbors was fitted without feature names\n",
      "  warnings.warn(\n"
     ]
    },
    {
     "name": "stdout",
     "output_type": "stream",
     "text": [
      "(442, 9)\n",
      "-0.0682440219705116\n"
     ]
    },
    {
     "name": "stderr",
     "output_type": "stream",
     "text": [
      "/Users/paolo/opt/miniconda3/envs/tensorflow/lib/python3.9/site-packages/sklearn/base.py:443: UserWarning: X has feature names, but NearestNeighbors was fitted without feature names\n",
      "  warnings.warn(\n"
     ]
    },
    {
     "name": "stdout",
     "output_type": "stream",
     "text": [
      "(442, 10)\n",
      "-0.11493078058736983\n"
     ]
    },
    {
     "name": "stderr",
     "output_type": "stream",
     "text": [
      "/Users/paolo/opt/miniconda3/envs/tensorflow/lib/python3.9/site-packages/sklearn/base.py:443: UserWarning: X has feature names, but NearestNeighbors was fitted without feature names\n",
      "  warnings.warn(\n"
     ]
    },
    {
     "name": "stdout",
     "output_type": "stream",
     "text": [
      "(442, 11)\n",
      "0.03802248718892487\n"
     ]
    },
    {
     "name": "stderr",
     "output_type": "stream",
     "text": [
      "/Users/paolo/opt/miniconda3/envs/tensorflow/lib/python3.9/site-packages/sklearn/base.py:443: UserWarning: X has feature names, but NearestNeighbors was fitted without feature names\n",
      "  warnings.warn(\n"
     ]
    },
    {
     "name": "stdout",
     "output_type": "stream",
     "text": [
      "(442, 12)\n",
      "-0.23785811873451324\n"
     ]
    },
    {
     "name": "stderr",
     "output_type": "stream",
     "text": [
      "/Users/paolo/opt/miniconda3/envs/tensorflow/lib/python3.9/site-packages/sklearn/base.py:443: UserWarning: X has feature names, but NearestNeighbors was fitted without feature names\n",
      "  warnings.warn(\n"
     ]
    },
    {
     "name": "stdout",
     "output_type": "stream",
     "text": [
      "(442, 13)\n",
      "-0.3285395724844997\n"
     ]
    },
    {
     "name": "stderr",
     "output_type": "stream",
     "text": [
      "/Users/paolo/opt/miniconda3/envs/tensorflow/lib/python3.9/site-packages/sklearn/base.py:443: UserWarning: X has feature names, but NearestNeighbors was fitted without feature names\n",
      "  warnings.warn(\n"
     ]
    },
    {
     "name": "stdout",
     "output_type": "stream",
     "text": [
      "(442, 14)\n",
      "-0.32906956710273016\n"
     ]
    },
    {
     "name": "stderr",
     "output_type": "stream",
     "text": [
      "/Users/paolo/opt/miniconda3/envs/tensorflow/lib/python3.9/site-packages/sklearn/base.py:443: UserWarning: X has feature names, but NearestNeighbors was fitted without feature names\n",
      "  warnings.warn(\n"
     ]
    },
    {
     "name": "stdout",
     "output_type": "stream",
     "text": [
      "(442, 15)\n",
      "-0.08746374914071287\n"
     ]
    },
    {
     "name": "stderr",
     "output_type": "stream",
     "text": [
      "/Users/paolo/opt/miniconda3/envs/tensorflow/lib/python3.9/site-packages/sklearn/base.py:443: UserWarning: X has feature names, but NearestNeighbors was fitted without feature names\n",
      "  warnings.warn(\n"
     ]
    },
    {
     "name": "stdout",
     "output_type": "stream",
     "text": [
      "(442, 16)\n",
      "0.0294820880950053\n"
     ]
    },
    {
     "name": "stderr",
     "output_type": "stream",
     "text": [
      "/Users/paolo/opt/miniconda3/envs/tensorflow/lib/python3.9/site-packages/sklearn/base.py:443: UserWarning: X has feature names, but NearestNeighbors was fitted without feature names\n",
      "  warnings.warn(\n"
     ]
    },
    {
     "name": "stdout",
     "output_type": "stream",
     "text": [
      "(442, 17)\n",
      "0.06033014801024239\n"
     ]
    },
    {
     "name": "stderr",
     "output_type": "stream",
     "text": [
      "/Users/paolo/opt/miniconda3/envs/tensorflow/lib/python3.9/site-packages/sklearn/base.py:443: UserWarning: X has feature names, but NearestNeighbors was fitted without feature names\n",
      "  warnings.warn(\n"
     ]
    },
    {
     "name": "stdout",
     "output_type": "stream",
     "text": [
      "(442, 18)\n",
      "0.07634271134701409\n"
     ]
    },
    {
     "name": "stderr",
     "output_type": "stream",
     "text": [
      "/Users/paolo/opt/miniconda3/envs/tensorflow/lib/python3.9/site-packages/sklearn/base.py:443: UserWarning: X has feature names, but NearestNeighbors was fitted without feature names\n",
      "  warnings.warn(\n"
     ]
    },
    {
     "name": "stdout",
     "output_type": "stream",
     "text": [
      "(442, 19)\n",
      "0.08459479765759803\n"
     ]
    },
    {
     "name": "stderr",
     "output_type": "stream",
     "text": [
      "/Users/paolo/opt/miniconda3/envs/tensorflow/lib/python3.9/site-packages/sklearn/base.py:443: UserWarning: X has feature names, but NearestNeighbors was fitted without feature names\n",
      "  warnings.warn(\n"
     ]
    },
    {
     "name": "stdout",
     "output_type": "stream",
     "text": [
      "(442, 20)\n",
      "0.13099053506045577\n"
     ]
    },
    {
     "name": "stderr",
     "output_type": "stream",
     "text": [
      "/Users/paolo/opt/miniconda3/envs/tensorflow/lib/python3.9/site-packages/sklearn/base.py:443: UserWarning: X has feature names, but NearestNeighbors was fitted without feature names\n",
      "  warnings.warn(\n"
     ]
    },
    {
     "name": "stdout",
     "output_type": "stream",
     "text": [
      "(442, 21)\n",
      "0.16565483657277347\n"
     ]
    },
    {
     "name": "stderr",
     "output_type": "stream",
     "text": [
      "/Users/paolo/opt/miniconda3/envs/tensorflow/lib/python3.9/site-packages/sklearn/base.py:443: UserWarning: X has feature names, but NearestNeighbors was fitted without feature names\n",
      "  warnings.warn(\n"
     ]
    },
    {
     "name": "stdout",
     "output_type": "stream",
     "text": [
      "(442, 22)\n",
      "0.17536330173780046\n"
     ]
    },
    {
     "name": "stderr",
     "output_type": "stream",
     "text": [
      "/Users/paolo/opt/miniconda3/envs/tensorflow/lib/python3.9/site-packages/sklearn/base.py:443: UserWarning: X has feature names, but NearestNeighbors was fitted without feature names\n",
      "  warnings.warn(\n"
     ]
    },
    {
     "name": "stdout",
     "output_type": "stream",
     "text": [
      "(442, 23)\n",
      "0.10565529994930734\n"
     ]
    },
    {
     "name": "stderr",
     "output_type": "stream",
     "text": [
      "/Users/paolo/opt/miniconda3/envs/tensorflow/lib/python3.9/site-packages/sklearn/base.py:443: UserWarning: X has feature names, but NearestNeighbors was fitted without feature names\n",
      "  warnings.warn(\n"
     ]
    },
    {
     "name": "stdout",
     "output_type": "stream",
     "text": [
      "(442, 24)\n",
      "0.06815560744777094\n"
     ]
    },
    {
     "name": "stderr",
     "output_type": "stream",
     "text": [
      "/Users/paolo/opt/miniconda3/envs/tensorflow/lib/python3.9/site-packages/sklearn/base.py:443: UserWarning: X has feature names, but NearestNeighbors was fitted without feature names\n",
      "  warnings.warn(\n"
     ]
    },
    {
     "name": "stdout",
     "output_type": "stream",
     "text": [
      "(442, 25)\n",
      "0.05944437739391972\n"
     ]
    },
    {
     "name": "stderr",
     "output_type": "stream",
     "text": [
      "/Users/paolo/opt/miniconda3/envs/tensorflow/lib/python3.9/site-packages/sklearn/base.py:443: UserWarning: X has feature names, but NearestNeighbors was fitted without feature names\n",
      "  warnings.warn(\n"
     ]
    },
    {
     "name": "stdout",
     "output_type": "stream",
     "text": [
      "(442, 26)\n",
      "0.03943240269529402\n"
     ]
    },
    {
     "name": "stderr",
     "output_type": "stream",
     "text": [
      "/Users/paolo/opt/miniconda3/envs/tensorflow/lib/python3.9/site-packages/sklearn/base.py:443: UserWarning: X has feature names, but NearestNeighbors was fitted without feature names\n",
      "  warnings.warn(\n"
     ]
    },
    {
     "name": "stdout",
     "output_type": "stream",
     "text": [
      "(442, 27)\n",
      "0.07065894111524473\n"
     ]
    },
    {
     "name": "stderr",
     "output_type": "stream",
     "text": [
      "/Users/paolo/opt/miniconda3/envs/tensorflow/lib/python3.9/site-packages/sklearn/base.py:443: UserWarning: X has feature names, but NearestNeighbors was fitted without feature names\n",
      "  warnings.warn(\n"
     ]
    },
    {
     "name": "stdout",
     "output_type": "stream",
     "text": [
      "(442, 28)\n",
      "-0.036109116223618676\n"
     ]
    },
    {
     "name": "stderr",
     "output_type": "stream",
     "text": [
      "/Users/paolo/opt/miniconda3/envs/tensorflow/lib/python3.9/site-packages/sklearn/base.py:443: UserWarning: X has feature names, but NearestNeighbors was fitted without feature names\n",
      "  warnings.warn(\n"
     ]
    },
    {
     "name": "stdout",
     "output_type": "stream",
     "text": [
      "(442, 29)\n",
      "-0.010741483240934713\n"
     ]
    },
    {
     "name": "stderr",
     "output_type": "stream",
     "text": [
      "/Users/paolo/opt/miniconda3/envs/tensorflow/lib/python3.9/site-packages/sklearn/base.py:443: UserWarning: X has feature names, but NearestNeighbors was fitted without feature names\n",
      "  warnings.warn(\n"
     ]
    },
    {
     "name": "stdout",
     "output_type": "stream",
     "text": [
      "(442, 30)\n",
      "-0.07848894763202785\n"
     ]
    },
    {
     "name": "stderr",
     "output_type": "stream",
     "text": [
      "/Users/paolo/opt/miniconda3/envs/tensorflow/lib/python3.9/site-packages/sklearn/base.py:443: UserWarning: X has feature names, but NearestNeighbors was fitted without feature names\n",
      "  warnings.warn(\n"
     ]
    },
    {
     "name": "stdout",
     "output_type": "stream",
     "text": [
      "(442, 31)\n",
      "-0.23360512605546613\n"
     ]
    },
    {
     "name": "stderr",
     "output_type": "stream",
     "text": [
      "/Users/paolo/opt/miniconda3/envs/tensorflow/lib/python3.9/site-packages/sklearn/base.py:443: UserWarning: X has feature names, but NearestNeighbors was fitted without feature names\n",
      "  warnings.warn(\n"
     ]
    },
    {
     "name": "stdout",
     "output_type": "stream",
     "text": [
      "(442, 32)\n",
      "-0.4018996129901029\n"
     ]
    },
    {
     "name": "stderr",
     "output_type": "stream",
     "text": [
      "/Users/paolo/opt/miniconda3/envs/tensorflow/lib/python3.9/site-packages/sklearn/base.py:443: UserWarning: X has feature names, but NearestNeighbors was fitted without feature names\n",
      "  warnings.warn(\n"
     ]
    },
    {
     "name": "stdout",
     "output_type": "stream",
     "text": [
      "(442, 33)\n",
      "-0.4033222464642525\n"
     ]
    },
    {
     "name": "stderr",
     "output_type": "stream",
     "text": [
      "/Users/paolo/opt/miniconda3/envs/tensorflow/lib/python3.9/site-packages/sklearn/base.py:443: UserWarning: X has feature names, but NearestNeighbors was fitted without feature names\n",
      "  warnings.warn(\n"
     ]
    },
    {
     "name": "stdout",
     "output_type": "stream",
     "text": [
      "(442, 34)\n",
      "-0.35083258617603397\n"
     ]
    },
    {
     "name": "stderr",
     "output_type": "stream",
     "text": [
      "/Users/paolo/opt/miniconda3/envs/tensorflow/lib/python3.9/site-packages/sklearn/base.py:443: UserWarning: X has feature names, but NearestNeighbors was fitted without feature names\n",
      "  warnings.warn(\n"
     ]
    },
    {
     "name": "stdout",
     "output_type": "stream",
     "text": [
      "(442, 35)\n",
      "-0.3532184150056632\n"
     ]
    },
    {
     "name": "stderr",
     "output_type": "stream",
     "text": [
      "/Users/paolo/opt/miniconda3/envs/tensorflow/lib/python3.9/site-packages/sklearn/base.py:443: UserWarning: X has feature names, but NearestNeighbors was fitted without feature names\n",
      "  warnings.warn(\n"
     ]
    },
    {
     "name": "stdout",
     "output_type": "stream",
     "text": [
      "(442, 36)\n",
      "-0.3106689923415571\n"
     ]
    },
    {
     "name": "stderr",
     "output_type": "stream",
     "text": [
      "/Users/paolo/opt/miniconda3/envs/tensorflow/lib/python3.9/site-packages/sklearn/base.py:443: UserWarning: X has feature names, but NearestNeighbors was fitted without feature names\n",
      "  warnings.warn(\n"
     ]
    },
    {
     "name": "stdout",
     "output_type": "stream",
     "text": [
      "(442, 37)\n",
      "-0.21892477099095764\n"
     ]
    },
    {
     "name": "stderr",
     "output_type": "stream",
     "text": [
      "/Users/paolo/opt/miniconda3/envs/tensorflow/lib/python3.9/site-packages/sklearn/base.py:443: UserWarning: X has feature names, but NearestNeighbors was fitted without feature names\n",
      "  warnings.warn(\n"
     ]
    },
    {
     "name": "stdout",
     "output_type": "stream",
     "text": [
      "(442, 38)\n",
      "-0.20731806455457025\n"
     ]
    },
    {
     "name": "stderr",
     "output_type": "stream",
     "text": [
      "/Users/paolo/opt/miniconda3/envs/tensorflow/lib/python3.9/site-packages/sklearn/base.py:443: UserWarning: X has feature names, but NearestNeighbors was fitted without feature names\n",
      "  warnings.warn(\n"
     ]
    },
    {
     "name": "stdout",
     "output_type": "stream",
     "text": [
      "(442, 39)\n",
      "-0.24324519561243063\n"
     ]
    },
    {
     "name": "stderr",
     "output_type": "stream",
     "text": [
      "/Users/paolo/opt/miniconda3/envs/tensorflow/lib/python3.9/site-packages/sklearn/base.py:443: UserWarning: X has feature names, but NearestNeighbors was fitted without feature names\n",
      "  warnings.warn(\n"
     ]
    },
    {
     "name": "stdout",
     "output_type": "stream",
     "text": [
      "(442, 40)\n",
      "-0.1583046389244216\n"
     ]
    },
    {
     "name": "stderr",
     "output_type": "stream",
     "text": [
      "/Users/paolo/opt/miniconda3/envs/tensorflow/lib/python3.9/site-packages/sklearn/base.py:443: UserWarning: X has feature names, but NearestNeighbors was fitted without feature names\n",
      "  warnings.warn(\n"
     ]
    },
    {
     "name": "stdout",
     "output_type": "stream",
     "text": [
      "(442, 41)\n",
      "-0.22956117793607245\n"
     ]
    },
    {
     "name": "stderr",
     "output_type": "stream",
     "text": [
      "/Users/paolo/opt/miniconda3/envs/tensorflow/lib/python3.9/site-packages/sklearn/base.py:443: UserWarning: X has feature names, but NearestNeighbors was fitted without feature names\n",
      "  warnings.warn(\n"
     ]
    },
    {
     "name": "stdout",
     "output_type": "stream",
     "text": [
      "(442, 42)\n",
      "-0.2554624057334569\n"
     ]
    },
    {
     "name": "stderr",
     "output_type": "stream",
     "text": [
      "/Users/paolo/opt/miniconda3/envs/tensorflow/lib/python3.9/site-packages/sklearn/base.py:443: UserWarning: X has feature names, but NearestNeighbors was fitted without feature names\n",
      "  warnings.warn(\n"
     ]
    },
    {
     "name": "stdout",
     "output_type": "stream",
     "text": [
      "(442, 43)\n",
      "-0.3079368194615788\n"
     ]
    },
    {
     "name": "stderr",
     "output_type": "stream",
     "text": [
      "/Users/paolo/opt/miniconda3/envs/tensorflow/lib/python3.9/site-packages/sklearn/base.py:443: UserWarning: X has feature names, but NearestNeighbors was fitted without feature names\n",
      "  warnings.warn(\n"
     ]
    },
    {
     "name": "stdout",
     "output_type": "stream",
     "text": [
      "(442, 44)\n",
      "-0.32393547203795636\n"
     ]
    },
    {
     "name": "stderr",
     "output_type": "stream",
     "text": [
      "/Users/paolo/opt/miniconda3/envs/tensorflow/lib/python3.9/site-packages/sklearn/base.py:443: UserWarning: X has feature names, but NearestNeighbors was fitted without feature names\n",
      "  warnings.warn(\n"
     ]
    },
    {
     "name": "stdout",
     "output_type": "stream",
     "text": [
      "(442, 45)\n",
      "-0.32433664243935034\n"
     ]
    },
    {
     "name": "stderr",
     "output_type": "stream",
     "text": [
      "/Users/paolo/opt/miniconda3/envs/tensorflow/lib/python3.9/site-packages/sklearn/base.py:443: UserWarning: X has feature names, but NearestNeighbors was fitted without feature names\n",
      "  warnings.warn(\n"
     ]
    },
    {
     "name": "stdout",
     "output_type": "stream",
     "text": [
      "(442, 46)\n",
      "-0.32669425484965897\n"
     ]
    },
    {
     "name": "stderr",
     "output_type": "stream",
     "text": [
      "/Users/paolo/opt/miniconda3/envs/tensorflow/lib/python3.9/site-packages/sklearn/base.py:443: UserWarning: X has feature names, but NearestNeighbors was fitted without feature names\n",
      "  warnings.warn(\n"
     ]
    },
    {
     "name": "stdout",
     "output_type": "stream",
     "text": [
      "(442, 47)\n",
      "-0.33457242061439896\n"
     ]
    },
    {
     "name": "stderr",
     "output_type": "stream",
     "text": [
      "/Users/paolo/opt/miniconda3/envs/tensorflow/lib/python3.9/site-packages/sklearn/base.py:443: UserWarning: X has feature names, but NearestNeighbors was fitted without feature names\n",
      "  warnings.warn(\n"
     ]
    },
    {
     "name": "stdout",
     "output_type": "stream",
     "text": [
      "(442, 48)\n",
      "-0.33218190985861384\n"
     ]
    },
    {
     "name": "stderr",
     "output_type": "stream",
     "text": [
      "/Users/paolo/opt/miniconda3/envs/tensorflow/lib/python3.9/site-packages/sklearn/base.py:443: UserWarning: X has feature names, but NearestNeighbors was fitted without feature names\n",
      "  warnings.warn(\n"
     ]
    },
    {
     "name": "stdout",
     "output_type": "stream",
     "text": [
      "(442, 49)\n",
      "-0.3249281558493633\n"
     ]
    },
    {
     "name": "stderr",
     "output_type": "stream",
     "text": [
      "/Users/paolo/opt/miniconda3/envs/tensorflow/lib/python3.9/site-packages/sklearn/base.py:443: UserWarning: X has feature names, but NearestNeighbors was fitted without feature names\n",
      "  warnings.warn(\n"
     ]
    },
    {
     "name": "stdout",
     "output_type": "stream",
     "text": [
      "(442, 50)\n",
      "-0.32037675111970065\n",
      "0.17536330173780046\n",
      "22\n"
     ]
    },
    {
     "name": "stderr",
     "output_type": "stream",
     "text": [
      "/Users/paolo/opt/miniconda3/envs/tensorflow/lib/python3.9/site-packages/sklearn/base.py:443: UserWarning: X has feature names, but NearestNeighbors was fitted without feature names\n",
      "  warnings.warn(\n"
     ]
    },
    {
     "name": "stdout",
     "output_type": "stream",
     "text": [
      "(442, 1)\n",
      "0.0011768162472177712\n"
     ]
    },
    {
     "name": "stderr",
     "output_type": "stream",
     "text": [
      "/Users/paolo/opt/miniconda3/envs/tensorflow/lib/python3.9/site-packages/sklearn/base.py:443: UserWarning: X has feature names, but NearestNeighbors was fitted without feature names\n",
      "  warnings.warn(\n"
     ]
    },
    {
     "name": "stdout",
     "output_type": "stream",
     "text": [
      "(442, 2)\n",
      "0.039211255628372244\n"
     ]
    },
    {
     "name": "stderr",
     "output_type": "stream",
     "text": [
      "/Users/paolo/opt/miniconda3/envs/tensorflow/lib/python3.9/site-packages/sklearn/base.py:443: UserWarning: X has feature names, but NearestNeighbors was fitted without feature names\n",
      "  warnings.warn(\n"
     ]
    },
    {
     "name": "stdout",
     "output_type": "stream",
     "text": [
      "(442, 3)\n",
      "0.043838248833172666\n"
     ]
    },
    {
     "name": "stderr",
     "output_type": "stream",
     "text": [
      "/Users/paolo/opt/miniconda3/envs/tensorflow/lib/python3.9/site-packages/sklearn/base.py:443: UserWarning: X has feature names, but NearestNeighbors was fitted without feature names\n",
      "  warnings.warn(\n"
     ]
    },
    {
     "name": "stdout",
     "output_type": "stream",
     "text": [
      "(442, 4)\n",
      "-0.173849569550669\n"
     ]
    },
    {
     "name": "stderr",
     "output_type": "stream",
     "text": [
      "/Users/paolo/opt/miniconda3/envs/tensorflow/lib/python3.9/site-packages/sklearn/base.py:443: UserWarning: X has feature names, but NearestNeighbors was fitted without feature names\n",
      "  warnings.warn(\n"
     ]
    },
    {
     "name": "stdout",
     "output_type": "stream",
     "text": [
      "(442, 5)\n",
      "-0.052443354020921484\n"
     ]
    },
    {
     "name": "stderr",
     "output_type": "stream",
     "text": [
      "/Users/paolo/opt/miniconda3/envs/tensorflow/lib/python3.9/site-packages/sklearn/base.py:443: UserWarning: X has feature names, but NearestNeighbors was fitted without feature names\n",
      "  warnings.warn(\n"
     ]
    },
    {
     "name": "stdout",
     "output_type": "stream",
     "text": [
      "(442, 6)\n",
      "-0.1379515861017675\n"
     ]
    },
    {
     "name": "stderr",
     "output_type": "stream",
     "text": [
      "/Users/paolo/opt/miniconda3/envs/tensorflow/lib/python3.9/site-packages/sklearn/base.py:443: UserWarning: X has feature names, but NearestNeighbors was fitted without feature names\n",
      "  warnings.warn(\n"
     ]
    },
    {
     "name": "stdout",
     "output_type": "stream",
     "text": [
      "(442, 7)\n",
      "-0.3189285941557727\n"
     ]
    },
    {
     "name": "stderr",
     "output_type": "stream",
     "text": [
      "/Users/paolo/opt/miniconda3/envs/tensorflow/lib/python3.9/site-packages/sklearn/base.py:443: UserWarning: X has feature names, but NearestNeighbors was fitted without feature names\n",
      "  warnings.warn(\n"
     ]
    },
    {
     "name": "stdout",
     "output_type": "stream",
     "text": [
      "(442, 8)\n",
      "0.1666487240356127\n"
     ]
    },
    {
     "name": "stderr",
     "output_type": "stream",
     "text": [
      "/Users/paolo/opt/miniconda3/envs/tensorflow/lib/python3.9/site-packages/sklearn/base.py:443: UserWarning: X has feature names, but NearestNeighbors was fitted without feature names\n",
      "  warnings.warn(\n"
     ]
    },
    {
     "name": "stdout",
     "output_type": "stream",
     "text": [
      "(442, 9)\n",
      "0.08111487604546253\n"
     ]
    },
    {
     "name": "stderr",
     "output_type": "stream",
     "text": [
      "/Users/paolo/opt/miniconda3/envs/tensorflow/lib/python3.9/site-packages/sklearn/base.py:443: UserWarning: X has feature names, but NearestNeighbors was fitted without feature names\n",
      "  warnings.warn(\n"
     ]
    },
    {
     "name": "stdout",
     "output_type": "stream",
     "text": [
      "(442, 10)\n",
      "0.11694750537197374\n"
     ]
    },
    {
     "name": "stderr",
     "output_type": "stream",
     "text": [
      "/Users/paolo/opt/miniconda3/envs/tensorflow/lib/python3.9/site-packages/sklearn/base.py:443: UserWarning: X has feature names, but NearestNeighbors was fitted without feature names\n",
      "  warnings.warn(\n"
     ]
    },
    {
     "name": "stdout",
     "output_type": "stream",
     "text": [
      "(442, 11)\n",
      "0.17518653819750107\n"
     ]
    },
    {
     "name": "stderr",
     "output_type": "stream",
     "text": [
      "/Users/paolo/opt/miniconda3/envs/tensorflow/lib/python3.9/site-packages/sklearn/base.py:443: UserWarning: X has feature names, but NearestNeighbors was fitted without feature names\n",
      "  warnings.warn(\n"
     ]
    },
    {
     "name": "stdout",
     "output_type": "stream",
     "text": [
      "(442, 12)\n",
      "0.05441165873483933\n"
     ]
    },
    {
     "name": "stderr",
     "output_type": "stream",
     "text": [
      "/Users/paolo/opt/miniconda3/envs/tensorflow/lib/python3.9/site-packages/sklearn/base.py:443: UserWarning: X has feature names, but NearestNeighbors was fitted without feature names\n",
      "  warnings.warn(\n"
     ]
    },
    {
     "name": "stdout",
     "output_type": "stream",
     "text": [
      "(442, 13)\n",
      "-0.02187529859081927\n"
     ]
    },
    {
     "name": "stderr",
     "output_type": "stream",
     "text": [
      "/Users/paolo/opt/miniconda3/envs/tensorflow/lib/python3.9/site-packages/sklearn/base.py:443: UserWarning: X has feature names, but NearestNeighbors was fitted without feature names\n",
      "  warnings.warn(\n"
     ]
    },
    {
     "name": "stdout",
     "output_type": "stream",
     "text": [
      "(442, 14)\n",
      "-0.028387393578194198\n"
     ]
    },
    {
     "name": "stderr",
     "output_type": "stream",
     "text": [
      "/Users/paolo/opt/miniconda3/envs/tensorflow/lib/python3.9/site-packages/sklearn/base.py:443: UserWarning: X has feature names, but NearestNeighbors was fitted without feature names\n",
      "  warnings.warn(\n"
     ]
    },
    {
     "name": "stdout",
     "output_type": "stream",
     "text": [
      "(442, 15)\n",
      "-0.0019204494263111993\n"
     ]
    },
    {
     "name": "stderr",
     "output_type": "stream",
     "text": [
      "/Users/paolo/opt/miniconda3/envs/tensorflow/lib/python3.9/site-packages/sklearn/base.py:443: UserWarning: X has feature names, but NearestNeighbors was fitted without feature names\n",
      "  warnings.warn(\n"
     ]
    },
    {
     "name": "stdout",
     "output_type": "stream",
     "text": [
      "(442, 16)\n",
      "-0.12654365663600786\n"
     ]
    },
    {
     "name": "stderr",
     "output_type": "stream",
     "text": [
      "/Users/paolo/opt/miniconda3/envs/tensorflow/lib/python3.9/site-packages/sklearn/base.py:443: UserWarning: X has feature names, but NearestNeighbors was fitted without feature names\n",
      "  warnings.warn(\n"
     ]
    },
    {
     "name": "stdout",
     "output_type": "stream",
     "text": [
      "(442, 17)\n",
      "-0.1165635192646508\n"
     ]
    },
    {
     "name": "stderr",
     "output_type": "stream",
     "text": [
      "/Users/paolo/opt/miniconda3/envs/tensorflow/lib/python3.9/site-packages/sklearn/base.py:443: UserWarning: X has feature names, but NearestNeighbors was fitted without feature names\n",
      "  warnings.warn(\n"
     ]
    },
    {
     "name": "stdout",
     "output_type": "stream",
     "text": [
      "(442, 18)\n",
      "-0.05029493377052274\n"
     ]
    },
    {
     "name": "stderr",
     "output_type": "stream",
     "text": [
      "/Users/paolo/opt/miniconda3/envs/tensorflow/lib/python3.9/site-packages/sklearn/base.py:443: UserWarning: X has feature names, but NearestNeighbors was fitted without feature names\n",
      "  warnings.warn(\n"
     ]
    },
    {
     "name": "stdout",
     "output_type": "stream",
     "text": [
      "(442, 19)\n",
      "-0.0490108390178392\n"
     ]
    },
    {
     "name": "stderr",
     "output_type": "stream",
     "text": [
      "/Users/paolo/opt/miniconda3/envs/tensorflow/lib/python3.9/site-packages/sklearn/base.py:443: UserWarning: X has feature names, but NearestNeighbors was fitted without feature names\n",
      "  warnings.warn(\n"
     ]
    },
    {
     "name": "stdout",
     "output_type": "stream",
     "text": [
      "(442, 20)\n",
      "0.02907099024469373\n"
     ]
    },
    {
     "name": "stderr",
     "output_type": "stream",
     "text": [
      "/Users/paolo/opt/miniconda3/envs/tensorflow/lib/python3.9/site-packages/sklearn/base.py:443: UserWarning: X has feature names, but NearestNeighbors was fitted without feature names\n",
      "  warnings.warn(\n"
     ]
    },
    {
     "name": "stdout",
     "output_type": "stream",
     "text": [
      "(442, 21)\n",
      "0.24627805295567673\n"
     ]
    },
    {
     "name": "stderr",
     "output_type": "stream",
     "text": [
      "/Users/paolo/opt/miniconda3/envs/tensorflow/lib/python3.9/site-packages/sklearn/base.py:443: UserWarning: X has feature names, but NearestNeighbors was fitted without feature names\n",
      "  warnings.warn(\n"
     ]
    },
    {
     "name": "stdout",
     "output_type": "stream",
     "text": [
      "(442, 22)\n",
      "0.16283692019881457\n"
     ]
    },
    {
     "name": "stderr",
     "output_type": "stream",
     "text": [
      "/Users/paolo/opt/miniconda3/envs/tensorflow/lib/python3.9/site-packages/sklearn/base.py:443: UserWarning: X has feature names, but NearestNeighbors was fitted without feature names\n",
      "  warnings.warn(\n"
     ]
    },
    {
     "name": "stdout",
     "output_type": "stream",
     "text": [
      "(442, 23)\n",
      "0.06151211983371474\n"
     ]
    },
    {
     "name": "stderr",
     "output_type": "stream",
     "text": [
      "/Users/paolo/opt/miniconda3/envs/tensorflow/lib/python3.9/site-packages/sklearn/base.py:443: UserWarning: X has feature names, but NearestNeighbors was fitted without feature names\n",
      "  warnings.warn(\n"
     ]
    },
    {
     "name": "stdout",
     "output_type": "stream",
     "text": [
      "(442, 24)\n",
      "0.05211945003469498\n"
     ]
    },
    {
     "name": "stderr",
     "output_type": "stream",
     "text": [
      "/Users/paolo/opt/miniconda3/envs/tensorflow/lib/python3.9/site-packages/sklearn/base.py:443: UserWarning: X has feature names, but NearestNeighbors was fitted without feature names\n",
      "  warnings.warn(\n"
     ]
    },
    {
     "name": "stdout",
     "output_type": "stream",
     "text": [
      "(442, 25)\n",
      "0.009068484589126014\n"
     ]
    },
    {
     "name": "stderr",
     "output_type": "stream",
     "text": [
      "/Users/paolo/opt/miniconda3/envs/tensorflow/lib/python3.9/site-packages/sklearn/base.py:443: UserWarning: X has feature names, but NearestNeighbors was fitted without feature names\n",
      "  warnings.warn(\n"
     ]
    },
    {
     "name": "stdout",
     "output_type": "stream",
     "text": [
      "(442, 26)\n",
      "-0.17467647537792352\n"
     ]
    },
    {
     "name": "stderr",
     "output_type": "stream",
     "text": [
      "/Users/paolo/opt/miniconda3/envs/tensorflow/lib/python3.9/site-packages/sklearn/base.py:443: UserWarning: X has feature names, but NearestNeighbors was fitted without feature names\n",
      "  warnings.warn(\n"
     ]
    },
    {
     "name": "stdout",
     "output_type": "stream",
     "text": [
      "(442, 27)\n",
      "-0.1933960131279724\n"
     ]
    },
    {
     "name": "stderr",
     "output_type": "stream",
     "text": [
      "/Users/paolo/opt/miniconda3/envs/tensorflow/lib/python3.9/site-packages/sklearn/base.py:443: UserWarning: X has feature names, but NearestNeighbors was fitted without feature names\n",
      "  warnings.warn(\n"
     ]
    },
    {
     "name": "stdout",
     "output_type": "stream",
     "text": [
      "(442, 28)\n",
      "-0.15117435635258358\n"
     ]
    },
    {
     "name": "stderr",
     "output_type": "stream",
     "text": [
      "/Users/paolo/opt/miniconda3/envs/tensorflow/lib/python3.9/site-packages/sklearn/base.py:443: UserWarning: X has feature names, but NearestNeighbors was fitted without feature names\n",
      "  warnings.warn(\n"
     ]
    },
    {
     "name": "stdout",
     "output_type": "stream",
     "text": [
      "(442, 29)\n",
      "-0.19933871085803645\n"
     ]
    },
    {
     "name": "stderr",
     "output_type": "stream",
     "text": [
      "/Users/paolo/opt/miniconda3/envs/tensorflow/lib/python3.9/site-packages/sklearn/base.py:443: UserWarning: X has feature names, but NearestNeighbors was fitted without feature names\n",
      "  warnings.warn(\n"
     ]
    },
    {
     "name": "stdout",
     "output_type": "stream",
     "text": [
      "(442, 30)\n",
      "-0.21645234494851695\n"
     ]
    },
    {
     "name": "stderr",
     "output_type": "stream",
     "text": [
      "/Users/paolo/opt/miniconda3/envs/tensorflow/lib/python3.9/site-packages/sklearn/base.py:443: UserWarning: X has feature names, but NearestNeighbors was fitted without feature names\n",
      "  warnings.warn(\n"
     ]
    },
    {
     "name": "stdout",
     "output_type": "stream",
     "text": [
      "(442, 31)\n",
      "-0.09675147346822821\n"
     ]
    },
    {
     "name": "stderr",
     "output_type": "stream",
     "text": [
      "/Users/paolo/opt/miniconda3/envs/tensorflow/lib/python3.9/site-packages/sklearn/base.py:443: UserWarning: X has feature names, but NearestNeighbors was fitted without feature names\n",
      "  warnings.warn(\n"
     ]
    },
    {
     "name": "stdout",
     "output_type": "stream",
     "text": [
      "(442, 32)\n",
      "-0.10904868399834289\n"
     ]
    },
    {
     "name": "stderr",
     "output_type": "stream",
     "text": [
      "/Users/paolo/opt/miniconda3/envs/tensorflow/lib/python3.9/site-packages/sklearn/base.py:443: UserWarning: X has feature names, but NearestNeighbors was fitted without feature names\n",
      "  warnings.warn(\n"
     ]
    },
    {
     "name": "stdout",
     "output_type": "stream",
     "text": [
      "(442, 33)\n",
      "-0.15974074707499342\n"
     ]
    },
    {
     "name": "stderr",
     "output_type": "stream",
     "text": [
      "/Users/paolo/opt/miniconda3/envs/tensorflow/lib/python3.9/site-packages/sklearn/base.py:443: UserWarning: X has feature names, but NearestNeighbors was fitted without feature names\n",
      "  warnings.warn(\n"
     ]
    },
    {
     "name": "stdout",
     "output_type": "stream",
     "text": [
      "(442, 34)\n",
      "-0.17445304074524604\n"
     ]
    },
    {
     "name": "stderr",
     "output_type": "stream",
     "text": [
      "/Users/paolo/opt/miniconda3/envs/tensorflow/lib/python3.9/site-packages/sklearn/base.py:443: UserWarning: X has feature names, but NearestNeighbors was fitted without feature names\n",
      "  warnings.warn(\n"
     ]
    },
    {
     "name": "stdout",
     "output_type": "stream",
     "text": [
      "(442, 35)\n",
      "-0.24279361884602157\n"
     ]
    },
    {
     "name": "stderr",
     "output_type": "stream",
     "text": [
      "/Users/paolo/opt/miniconda3/envs/tensorflow/lib/python3.9/site-packages/sklearn/base.py:443: UserWarning: X has feature names, but NearestNeighbors was fitted without feature names\n",
      "  warnings.warn(\n"
     ]
    },
    {
     "name": "stdout",
     "output_type": "stream",
     "text": [
      "(442, 36)\n",
      "-0.25724395320153914\n"
     ]
    },
    {
     "name": "stderr",
     "output_type": "stream",
     "text": [
      "/Users/paolo/opt/miniconda3/envs/tensorflow/lib/python3.9/site-packages/sklearn/base.py:443: UserWarning: X has feature names, but NearestNeighbors was fitted without feature names\n",
      "  warnings.warn(\n"
     ]
    },
    {
     "name": "stdout",
     "output_type": "stream",
     "text": [
      "(442, 37)\n",
      "-0.1444899487101805\n"
     ]
    },
    {
     "name": "stderr",
     "output_type": "stream",
     "text": [
      "/Users/paolo/opt/miniconda3/envs/tensorflow/lib/python3.9/site-packages/sklearn/base.py:443: UserWarning: X has feature names, but NearestNeighbors was fitted without feature names\n",
      "  warnings.warn(\n"
     ]
    },
    {
     "name": "stdout",
     "output_type": "stream",
     "text": [
      "(442, 38)\n",
      "-0.07546981664443919\n"
     ]
    },
    {
     "name": "stderr",
     "output_type": "stream",
     "text": [
      "/Users/paolo/opt/miniconda3/envs/tensorflow/lib/python3.9/site-packages/sklearn/base.py:443: UserWarning: X has feature names, but NearestNeighbors was fitted without feature names\n",
      "  warnings.warn(\n"
     ]
    },
    {
     "name": "stdout",
     "output_type": "stream",
     "text": [
      "(442, 39)\n",
      "-0.025281289852592703\n"
     ]
    },
    {
     "name": "stderr",
     "output_type": "stream",
     "text": [
      "/Users/paolo/opt/miniconda3/envs/tensorflow/lib/python3.9/site-packages/sklearn/base.py:443: UserWarning: X has feature names, but NearestNeighbors was fitted without feature names\n",
      "  warnings.warn(\n"
     ]
    },
    {
     "name": "stdout",
     "output_type": "stream",
     "text": [
      "(442, 40)\n",
      "-0.004364731379421505\n"
     ]
    },
    {
     "name": "stderr",
     "output_type": "stream",
     "text": [
      "/Users/paolo/opt/miniconda3/envs/tensorflow/lib/python3.9/site-packages/sklearn/base.py:443: UserWarning: X has feature names, but NearestNeighbors was fitted without feature names\n",
      "  warnings.warn(\n"
     ]
    },
    {
     "name": "stdout",
     "output_type": "stream",
     "text": [
      "(442, 41)\n",
      "-0.1398248052564195\n"
     ]
    },
    {
     "name": "stderr",
     "output_type": "stream",
     "text": [
      "/Users/paolo/opt/miniconda3/envs/tensorflow/lib/python3.9/site-packages/sklearn/base.py:443: UserWarning: X has feature names, but NearestNeighbors was fitted without feature names\n",
      "  warnings.warn(\n"
     ]
    },
    {
     "name": "stdout",
     "output_type": "stream",
     "text": [
      "(442, 42)\n",
      "-0.015851453796286163\n"
     ]
    },
    {
     "name": "stderr",
     "output_type": "stream",
     "text": [
      "/Users/paolo/opt/miniconda3/envs/tensorflow/lib/python3.9/site-packages/sklearn/base.py:443: UserWarning: X has feature names, but NearestNeighbors was fitted without feature names\n",
      "  warnings.warn(\n"
     ]
    },
    {
     "name": "stdout",
     "output_type": "stream",
     "text": [
      "(442, 43)\n",
      "0.008556597665931864\n"
     ]
    },
    {
     "name": "stderr",
     "output_type": "stream",
     "text": [
      "/Users/paolo/opt/miniconda3/envs/tensorflow/lib/python3.9/site-packages/sklearn/base.py:443: UserWarning: X has feature names, but NearestNeighbors was fitted without feature names\n",
      "  warnings.warn(\n"
     ]
    },
    {
     "name": "stdout",
     "output_type": "stream",
     "text": [
      "(442, 44)\n",
      "0.05052266473403999\n"
     ]
    },
    {
     "name": "stderr",
     "output_type": "stream",
     "text": [
      "/Users/paolo/opt/miniconda3/envs/tensorflow/lib/python3.9/site-packages/sklearn/base.py:443: UserWarning: X has feature names, but NearestNeighbors was fitted without feature names\n",
      "  warnings.warn(\n"
     ]
    },
    {
     "name": "stdout",
     "output_type": "stream",
     "text": [
      "(442, 45)\n",
      "0.05054678101234833\n"
     ]
    },
    {
     "name": "stderr",
     "output_type": "stream",
     "text": [
      "/Users/paolo/opt/miniconda3/envs/tensorflow/lib/python3.9/site-packages/sklearn/base.py:443: UserWarning: X has feature names, but NearestNeighbors was fitted without feature names\n",
      "  warnings.warn(\n"
     ]
    },
    {
     "name": "stdout",
     "output_type": "stream",
     "text": [
      "(442, 46)\n",
      "0.06064060295972329\n"
     ]
    },
    {
     "name": "stderr",
     "output_type": "stream",
     "text": [
      "/Users/paolo/opt/miniconda3/envs/tensorflow/lib/python3.9/site-packages/sklearn/base.py:443: UserWarning: X has feature names, but NearestNeighbors was fitted without feature names\n",
      "  warnings.warn(\n"
     ]
    },
    {
     "name": "stdout",
     "output_type": "stream",
     "text": [
      "(442, 47)\n",
      "0.07464536866430549\n"
     ]
    },
    {
     "name": "stderr",
     "output_type": "stream",
     "text": [
      "/Users/paolo/opt/miniconda3/envs/tensorflow/lib/python3.9/site-packages/sklearn/base.py:443: UserWarning: X has feature names, but NearestNeighbors was fitted without feature names\n",
      "  warnings.warn(\n"
     ]
    },
    {
     "name": "stdout",
     "output_type": "stream",
     "text": [
      "(442, 48)\n",
      "0.030709008516662806\n"
     ]
    },
    {
     "name": "stderr",
     "output_type": "stream",
     "text": [
      "/Users/paolo/opt/miniconda3/envs/tensorflow/lib/python3.9/site-packages/sklearn/base.py:443: UserWarning: X has feature names, but NearestNeighbors was fitted without feature names\n",
      "  warnings.warn(\n"
     ]
    },
    {
     "name": "stdout",
     "output_type": "stream",
     "text": [
      "(442, 49)\n",
      "0.04669128314938109\n"
     ]
    },
    {
     "name": "stderr",
     "output_type": "stream",
     "text": [
      "/Users/paolo/opt/miniconda3/envs/tensorflow/lib/python3.9/site-packages/sklearn/base.py:443: UserWarning: X has feature names, but NearestNeighbors was fitted without feature names\n",
      "  warnings.warn(\n"
     ]
    },
    {
     "name": "stdout",
     "output_type": "stream",
     "text": [
      "(442, 50)\n",
      "0.04091550770910457\n",
      "0.24627805295567673\n",
      "21\n"
     ]
    },
    {
     "name": "stderr",
     "output_type": "stream",
     "text": [
      "/Users/paolo/opt/miniconda3/envs/tensorflow/lib/python3.9/site-packages/sklearn/base.py:443: UserWarning: X has feature names, but NearestNeighbors was fitted without feature names\n",
      "  warnings.warn(\n"
     ]
    },
    {
     "name": "stdout",
     "output_type": "stream",
     "text": [
      "(442, 1)\n",
      "-0.014465427971726452\n"
     ]
    },
    {
     "name": "stderr",
     "output_type": "stream",
     "text": [
      "/Users/paolo/opt/miniconda3/envs/tensorflow/lib/python3.9/site-packages/sklearn/base.py:443: UserWarning: X has feature names, but NearestNeighbors was fitted without feature names\n",
      "  warnings.warn(\n"
     ]
    },
    {
     "name": "stdout",
     "output_type": "stream",
     "text": [
      "(442, 2)\n",
      "0.13805604225287038\n"
     ]
    },
    {
     "name": "stderr",
     "output_type": "stream",
     "text": [
      "/Users/paolo/opt/miniconda3/envs/tensorflow/lib/python3.9/site-packages/sklearn/base.py:443: UserWarning: X has feature names, but NearestNeighbors was fitted without feature names\n",
      "  warnings.warn(\n"
     ]
    },
    {
     "name": "stdout",
     "output_type": "stream",
     "text": [
      "(442, 3)\n",
      "0.12187161710457006\n"
     ]
    },
    {
     "name": "stderr",
     "output_type": "stream",
     "text": [
      "/Users/paolo/opt/miniconda3/envs/tensorflow/lib/python3.9/site-packages/sklearn/base.py:443: UserWarning: X has feature names, but NearestNeighbors was fitted without feature names\n",
      "  warnings.warn(\n"
     ]
    },
    {
     "name": "stdout",
     "output_type": "stream",
     "text": [
      "(442, 4)\n",
      "-0.039996468128491225\n"
     ]
    },
    {
     "name": "stderr",
     "output_type": "stream",
     "text": [
      "/Users/paolo/opt/miniconda3/envs/tensorflow/lib/python3.9/site-packages/sklearn/base.py:443: UserWarning: X has feature names, but NearestNeighbors was fitted without feature names\n",
      "  warnings.warn(\n"
     ]
    },
    {
     "name": "stdout",
     "output_type": "stream",
     "text": [
      "(442, 5)\n",
      "-0.2058771502192729\n"
     ]
    },
    {
     "name": "stderr",
     "output_type": "stream",
     "text": [
      "/Users/paolo/opt/miniconda3/envs/tensorflow/lib/python3.9/site-packages/sklearn/base.py:443: UserWarning: X has feature names, but NearestNeighbors was fitted without feature names\n",
      "  warnings.warn(\n"
     ]
    },
    {
     "name": "stdout",
     "output_type": "stream",
     "text": [
      "(442, 6)\n",
      "-0.2062144921326119\n"
     ]
    },
    {
     "name": "stderr",
     "output_type": "stream",
     "text": [
      "/Users/paolo/opt/miniconda3/envs/tensorflow/lib/python3.9/site-packages/sklearn/base.py:443: UserWarning: X has feature names, but NearestNeighbors was fitted without feature names\n",
      "  warnings.warn(\n"
     ]
    },
    {
     "name": "stdout",
     "output_type": "stream",
     "text": [
      "(442, 7)\n",
      "-0.07548772472400223\n"
     ]
    },
    {
     "name": "stderr",
     "output_type": "stream",
     "text": [
      "/Users/paolo/opt/miniconda3/envs/tensorflow/lib/python3.9/site-packages/sklearn/base.py:443: UserWarning: X has feature names, but NearestNeighbors was fitted without feature names\n",
      "  warnings.warn(\n"
     ]
    },
    {
     "name": "stdout",
     "output_type": "stream",
     "text": [
      "(442, 8)\n",
      "-0.17045698169119738\n"
     ]
    },
    {
     "name": "stderr",
     "output_type": "stream",
     "text": [
      "/Users/paolo/opt/miniconda3/envs/tensorflow/lib/python3.9/site-packages/sklearn/base.py:443: UserWarning: X has feature names, but NearestNeighbors was fitted without feature names\n",
      "  warnings.warn(\n"
     ]
    },
    {
     "name": "stdout",
     "output_type": "stream",
     "text": [
      "(442, 9)\n",
      "-0.1770559208220963\n"
     ]
    },
    {
     "name": "stderr",
     "output_type": "stream",
     "text": [
      "/Users/paolo/opt/miniconda3/envs/tensorflow/lib/python3.9/site-packages/sklearn/base.py:443: UserWarning: X has feature names, but NearestNeighbors was fitted without feature names\n",
      "  warnings.warn(\n"
     ]
    },
    {
     "name": "stdout",
     "output_type": "stream",
     "text": [
      "(442, 10)\n",
      "-0.10786439330130615\n"
     ]
    },
    {
     "name": "stderr",
     "output_type": "stream",
     "text": [
      "/Users/paolo/opt/miniconda3/envs/tensorflow/lib/python3.9/site-packages/sklearn/base.py:443: UserWarning: X has feature names, but NearestNeighbors was fitted without feature names\n",
      "  warnings.warn(\n"
     ]
    },
    {
     "name": "stdout",
     "output_type": "stream",
     "text": [
      "(442, 11)\n",
      "-0.10282757847610968\n"
     ]
    },
    {
     "name": "stderr",
     "output_type": "stream",
     "text": [
      "/Users/paolo/opt/miniconda3/envs/tensorflow/lib/python3.9/site-packages/sklearn/base.py:443: UserWarning: X has feature names, but NearestNeighbors was fitted without feature names\n",
      "  warnings.warn(\n"
     ]
    },
    {
     "name": "stdout",
     "output_type": "stream",
     "text": [
      "(442, 12)\n",
      "0.000924565415980072\n"
     ]
    },
    {
     "name": "stderr",
     "output_type": "stream",
     "text": [
      "/Users/paolo/opt/miniconda3/envs/tensorflow/lib/python3.9/site-packages/sklearn/base.py:443: UserWarning: X has feature names, but NearestNeighbors was fitted without feature names\n",
      "  warnings.warn(\n"
     ]
    },
    {
     "name": "stdout",
     "output_type": "stream",
     "text": [
      "(442, 13)\n",
      "-0.009991779638968579\n"
     ]
    },
    {
     "name": "stderr",
     "output_type": "stream",
     "text": [
      "/Users/paolo/opt/miniconda3/envs/tensorflow/lib/python3.9/site-packages/sklearn/base.py:443: UserWarning: X has feature names, but NearestNeighbors was fitted without feature names\n",
      "  warnings.warn(\n"
     ]
    },
    {
     "name": "stdout",
     "output_type": "stream",
     "text": [
      "(442, 14)\n",
      "0.09075168043279935\n"
     ]
    },
    {
     "name": "stderr",
     "output_type": "stream",
     "text": [
      "/Users/paolo/opt/miniconda3/envs/tensorflow/lib/python3.9/site-packages/sklearn/base.py:443: UserWarning: X has feature names, but NearestNeighbors was fitted without feature names\n",
      "  warnings.warn(\n"
     ]
    },
    {
     "name": "stdout",
     "output_type": "stream",
     "text": [
      "(442, 15)\n",
      "0.14362201496001425\n"
     ]
    },
    {
     "name": "stderr",
     "output_type": "stream",
     "text": [
      "/Users/paolo/opt/miniconda3/envs/tensorflow/lib/python3.9/site-packages/sklearn/base.py:443: UserWarning: X has feature names, but NearestNeighbors was fitted without feature names\n",
      "  warnings.warn(\n"
     ]
    },
    {
     "name": "stdout",
     "output_type": "stream",
     "text": [
      "(442, 16)\n",
      "0.14648552508861734\n"
     ]
    },
    {
     "name": "stderr",
     "output_type": "stream",
     "text": [
      "/Users/paolo/opt/miniconda3/envs/tensorflow/lib/python3.9/site-packages/sklearn/base.py:443: UserWarning: X has feature names, but NearestNeighbors was fitted without feature names\n",
      "  warnings.warn(\n"
     ]
    },
    {
     "name": "stdout",
     "output_type": "stream",
     "text": [
      "(442, 17)\n",
      "0.2224787781928369\n"
     ]
    },
    {
     "name": "stderr",
     "output_type": "stream",
     "text": [
      "/Users/paolo/opt/miniconda3/envs/tensorflow/lib/python3.9/site-packages/sklearn/base.py:443: UserWarning: X has feature names, but NearestNeighbors was fitted without feature names\n",
      "  warnings.warn(\n"
     ]
    },
    {
     "name": "stdout",
     "output_type": "stream",
     "text": [
      "(442, 18)\n",
      "0.2979386949285441\n"
     ]
    },
    {
     "name": "stderr",
     "output_type": "stream",
     "text": [
      "/Users/paolo/opt/miniconda3/envs/tensorflow/lib/python3.9/site-packages/sklearn/base.py:443: UserWarning: X has feature names, but NearestNeighbors was fitted without feature names\n",
      "  warnings.warn(\n"
     ]
    },
    {
     "name": "stdout",
     "output_type": "stream",
     "text": [
      "(442, 19)\n",
      "0.3308699297216827\n"
     ]
    },
    {
     "name": "stderr",
     "output_type": "stream",
     "text": [
      "/Users/paolo/opt/miniconda3/envs/tensorflow/lib/python3.9/site-packages/sklearn/base.py:443: UserWarning: X has feature names, but NearestNeighbors was fitted without feature names\n",
      "  warnings.warn(\n"
     ]
    },
    {
     "name": "stdout",
     "output_type": "stream",
     "text": [
      "(442, 20)\n",
      "0.3367830138113236\n"
     ]
    },
    {
     "name": "stderr",
     "output_type": "stream",
     "text": [
      "/Users/paolo/opt/miniconda3/envs/tensorflow/lib/python3.9/site-packages/sklearn/base.py:443: UserWarning: X has feature names, but NearestNeighbors was fitted without feature names\n",
      "  warnings.warn(\n"
     ]
    },
    {
     "name": "stdout",
     "output_type": "stream",
     "text": [
      "(442, 21)\n",
      "0.2477016016694591\n"
     ]
    },
    {
     "name": "stderr",
     "output_type": "stream",
     "text": [
      "/Users/paolo/opt/miniconda3/envs/tensorflow/lib/python3.9/site-packages/sklearn/base.py:443: UserWarning: X has feature names, but NearestNeighbors was fitted without feature names\n",
      "  warnings.warn(\n"
     ]
    },
    {
     "name": "stdout",
     "output_type": "stream",
     "text": [
      "(442, 22)\n",
      "0.2377393760139197\n"
     ]
    },
    {
     "name": "stderr",
     "output_type": "stream",
     "text": [
      "/Users/paolo/opt/miniconda3/envs/tensorflow/lib/python3.9/site-packages/sklearn/base.py:443: UserWarning: X has feature names, but NearestNeighbors was fitted without feature names\n",
      "  warnings.warn(\n"
     ]
    },
    {
     "name": "stdout",
     "output_type": "stream",
     "text": [
      "(442, 23)\n",
      "0.14673543722101978\n"
     ]
    },
    {
     "name": "stderr",
     "output_type": "stream",
     "text": [
      "/Users/paolo/opt/miniconda3/envs/tensorflow/lib/python3.9/site-packages/sklearn/base.py:443: UserWarning: X has feature names, but NearestNeighbors was fitted without feature names\n",
      "  warnings.warn(\n"
     ]
    },
    {
     "name": "stdout",
     "output_type": "stream",
     "text": [
      "(442, 24)\n",
      "0.15339864894823185\n"
     ]
    },
    {
     "name": "stderr",
     "output_type": "stream",
     "text": [
      "/Users/paolo/opt/miniconda3/envs/tensorflow/lib/python3.9/site-packages/sklearn/base.py:443: UserWarning: X has feature names, but NearestNeighbors was fitted without feature names\n",
      "  warnings.warn(\n"
     ]
    },
    {
     "name": "stdout",
     "output_type": "stream",
     "text": [
      "(442, 25)\n",
      "0.18685424890193947\n"
     ]
    },
    {
     "name": "stderr",
     "output_type": "stream",
     "text": [
      "/Users/paolo/opt/miniconda3/envs/tensorflow/lib/python3.9/site-packages/sklearn/base.py:443: UserWarning: X has feature names, but NearestNeighbors was fitted without feature names\n",
      "  warnings.warn(\n"
     ]
    },
    {
     "name": "stdout",
     "output_type": "stream",
     "text": [
      "(442, 26)\n",
      "0.1403183021319414\n"
     ]
    },
    {
     "name": "stderr",
     "output_type": "stream",
     "text": [
      "/Users/paolo/opt/miniconda3/envs/tensorflow/lib/python3.9/site-packages/sklearn/base.py:443: UserWarning: X has feature names, but NearestNeighbors was fitted without feature names\n",
      "  warnings.warn(\n"
     ]
    },
    {
     "name": "stdout",
     "output_type": "stream",
     "text": [
      "(442, 27)\n",
      "0.14875903379986832\n"
     ]
    },
    {
     "name": "stderr",
     "output_type": "stream",
     "text": [
      "/Users/paolo/opt/miniconda3/envs/tensorflow/lib/python3.9/site-packages/sklearn/base.py:443: UserWarning: X has feature names, but NearestNeighbors was fitted without feature names\n",
      "  warnings.warn(\n"
     ]
    },
    {
     "name": "stdout",
     "output_type": "stream",
     "text": [
      "(442, 28)\n",
      "0.1778837918033218\n"
     ]
    },
    {
     "name": "stderr",
     "output_type": "stream",
     "text": [
      "/Users/paolo/opt/miniconda3/envs/tensorflow/lib/python3.9/site-packages/sklearn/base.py:443: UserWarning: X has feature names, but NearestNeighbors was fitted without feature names\n",
      "  warnings.warn(\n"
     ]
    },
    {
     "name": "stdout",
     "output_type": "stream",
     "text": [
      "(442, 29)\n",
      "0.17863570865197587\n"
     ]
    },
    {
     "name": "stderr",
     "output_type": "stream",
     "text": [
      "/Users/paolo/opt/miniconda3/envs/tensorflow/lib/python3.9/site-packages/sklearn/base.py:443: UserWarning: X has feature names, but NearestNeighbors was fitted without feature names\n",
      "  warnings.warn(\n"
     ]
    },
    {
     "name": "stdout",
     "output_type": "stream",
     "text": [
      "(442, 30)\n",
      "0.22634005748266073\n"
     ]
    },
    {
     "name": "stderr",
     "output_type": "stream",
     "text": [
      "/Users/paolo/opt/miniconda3/envs/tensorflow/lib/python3.9/site-packages/sklearn/base.py:443: UserWarning: X has feature names, but NearestNeighbors was fitted without feature names\n",
      "  warnings.warn(\n"
     ]
    },
    {
     "name": "stdout",
     "output_type": "stream",
     "text": [
      "(442, 31)\n",
      "0.2910956064563558\n"
     ]
    },
    {
     "name": "stderr",
     "output_type": "stream",
     "text": [
      "/Users/paolo/opt/miniconda3/envs/tensorflow/lib/python3.9/site-packages/sklearn/base.py:443: UserWarning: X has feature names, but NearestNeighbors was fitted without feature names\n",
      "  warnings.warn(\n"
     ]
    },
    {
     "name": "stdout",
     "output_type": "stream",
     "text": [
      "(442, 32)\n",
      "0.2674613044558456\n"
     ]
    },
    {
     "name": "stderr",
     "output_type": "stream",
     "text": [
      "/Users/paolo/opt/miniconda3/envs/tensorflow/lib/python3.9/site-packages/sklearn/base.py:443: UserWarning: X has feature names, but NearestNeighbors was fitted without feature names\n",
      "  warnings.warn(\n"
     ]
    },
    {
     "name": "stdout",
     "output_type": "stream",
     "text": [
      "(442, 33)\n",
      "0.2501533587581801\n"
     ]
    },
    {
     "name": "stderr",
     "output_type": "stream",
     "text": [
      "/Users/paolo/opt/miniconda3/envs/tensorflow/lib/python3.9/site-packages/sklearn/base.py:443: UserWarning: X has feature names, but NearestNeighbors was fitted without feature names\n",
      "  warnings.warn(\n"
     ]
    },
    {
     "name": "stdout",
     "output_type": "stream",
     "text": [
      "(442, 34)\n",
      "0.22994558728549608\n"
     ]
    },
    {
     "name": "stderr",
     "output_type": "stream",
     "text": [
      "/Users/paolo/opt/miniconda3/envs/tensorflow/lib/python3.9/site-packages/sklearn/base.py:443: UserWarning: X has feature names, but NearestNeighbors was fitted without feature names\n",
      "  warnings.warn(\n"
     ]
    },
    {
     "name": "stdout",
     "output_type": "stream",
     "text": [
      "(442, 35)\n",
      "0.2276790698912956\n"
     ]
    },
    {
     "name": "stderr",
     "output_type": "stream",
     "text": [
      "/Users/paolo/opt/miniconda3/envs/tensorflow/lib/python3.9/site-packages/sklearn/base.py:443: UserWarning: X has feature names, but NearestNeighbors was fitted without feature names\n",
      "  warnings.warn(\n"
     ]
    },
    {
     "name": "stdout",
     "output_type": "stream",
     "text": [
      "(442, 36)\n",
      "0.2528055130787651\n"
     ]
    },
    {
     "name": "stderr",
     "output_type": "stream",
     "text": [
      "/Users/paolo/opt/miniconda3/envs/tensorflow/lib/python3.9/site-packages/sklearn/base.py:443: UserWarning: X has feature names, but NearestNeighbors was fitted without feature names\n",
      "  warnings.warn(\n"
     ]
    },
    {
     "name": "stdout",
     "output_type": "stream",
     "text": [
      "(442, 37)\n",
      "0.2701790659325518\n"
     ]
    },
    {
     "name": "stderr",
     "output_type": "stream",
     "text": [
      "/Users/paolo/opt/miniconda3/envs/tensorflow/lib/python3.9/site-packages/sklearn/base.py:443: UserWarning: X has feature names, but NearestNeighbors was fitted without feature names\n",
      "  warnings.warn(\n"
     ]
    },
    {
     "name": "stdout",
     "output_type": "stream",
     "text": [
      "(442, 38)\n",
      "0.26348056075506565\n"
     ]
    },
    {
     "name": "stderr",
     "output_type": "stream",
     "text": [
      "/Users/paolo/opt/miniconda3/envs/tensorflow/lib/python3.9/site-packages/sklearn/base.py:443: UserWarning: X has feature names, but NearestNeighbors was fitted without feature names\n",
      "  warnings.warn(\n"
     ]
    },
    {
     "name": "stdout",
     "output_type": "stream",
     "text": [
      "(442, 39)\n",
      "0.24970769239313428\n"
     ]
    },
    {
     "name": "stderr",
     "output_type": "stream",
     "text": [
      "/Users/paolo/opt/miniconda3/envs/tensorflow/lib/python3.9/site-packages/sklearn/base.py:443: UserWarning: X has feature names, but NearestNeighbors was fitted without feature names\n",
      "  warnings.warn(\n"
     ]
    },
    {
     "name": "stdout",
     "output_type": "stream",
     "text": [
      "(442, 40)\n",
      "0.2784938365325239\n"
     ]
    },
    {
     "name": "stderr",
     "output_type": "stream",
     "text": [
      "/Users/paolo/opt/miniconda3/envs/tensorflow/lib/python3.9/site-packages/sklearn/base.py:443: UserWarning: X has feature names, but NearestNeighbors was fitted without feature names\n",
      "  warnings.warn(\n"
     ]
    },
    {
     "name": "stdout",
     "output_type": "stream",
     "text": [
      "(442, 41)\n",
      "0.31329479369387814\n"
     ]
    },
    {
     "name": "stderr",
     "output_type": "stream",
     "text": [
      "/Users/paolo/opt/miniconda3/envs/tensorflow/lib/python3.9/site-packages/sklearn/base.py:443: UserWarning: X has feature names, but NearestNeighbors was fitted without feature names\n",
      "  warnings.warn(\n"
     ]
    },
    {
     "name": "stdout",
     "output_type": "stream",
     "text": [
      "(442, 42)\n",
      "0.3327050736004019\n"
     ]
    },
    {
     "name": "stderr",
     "output_type": "stream",
     "text": [
      "/Users/paolo/opt/miniconda3/envs/tensorflow/lib/python3.9/site-packages/sklearn/base.py:443: UserWarning: X has feature names, but NearestNeighbors was fitted without feature names\n",
      "  warnings.warn(\n"
     ]
    },
    {
     "name": "stdout",
     "output_type": "stream",
     "text": [
      "(442, 43)\n",
      "0.33003920348140015\n"
     ]
    },
    {
     "name": "stderr",
     "output_type": "stream",
     "text": [
      "/Users/paolo/opt/miniconda3/envs/tensorflow/lib/python3.9/site-packages/sklearn/base.py:443: UserWarning: X has feature names, but NearestNeighbors was fitted without feature names\n",
      "  warnings.warn(\n"
     ]
    },
    {
     "name": "stdout",
     "output_type": "stream",
     "text": [
      "(442, 44)\n",
      "0.2813987452196236\n"
     ]
    },
    {
     "name": "stderr",
     "output_type": "stream",
     "text": [
      "/Users/paolo/opt/miniconda3/envs/tensorflow/lib/python3.9/site-packages/sklearn/base.py:443: UserWarning: X has feature names, but NearestNeighbors was fitted without feature names\n",
      "  warnings.warn(\n"
     ]
    },
    {
     "name": "stdout",
     "output_type": "stream",
     "text": [
      "(442, 45)\n",
      "0.2539665564703708\n"
     ]
    },
    {
     "name": "stderr",
     "output_type": "stream",
     "text": [
      "/Users/paolo/opt/miniconda3/envs/tensorflow/lib/python3.9/site-packages/sklearn/base.py:443: UserWarning: X has feature names, but NearestNeighbors was fitted without feature names\n",
      "  warnings.warn(\n"
     ]
    },
    {
     "name": "stdout",
     "output_type": "stream",
     "text": [
      "(442, 46)\n",
      "0.272359380829426\n"
     ]
    },
    {
     "name": "stderr",
     "output_type": "stream",
     "text": [
      "/Users/paolo/opt/miniconda3/envs/tensorflow/lib/python3.9/site-packages/sklearn/base.py:443: UserWarning: X has feature names, but NearestNeighbors was fitted without feature names\n",
      "  warnings.warn(\n"
     ]
    },
    {
     "name": "stdout",
     "output_type": "stream",
     "text": [
      "(442, 47)\n",
      "0.20999457234551777\n"
     ]
    },
    {
     "name": "stderr",
     "output_type": "stream",
     "text": [
      "/Users/paolo/opt/miniconda3/envs/tensorflow/lib/python3.9/site-packages/sklearn/base.py:443: UserWarning: X has feature names, but NearestNeighbors was fitted without feature names\n",
      "  warnings.warn(\n"
     ]
    },
    {
     "name": "stdout",
     "output_type": "stream",
     "text": [
      "(442, 48)\n",
      "0.10533736363640778\n"
     ]
    },
    {
     "name": "stderr",
     "output_type": "stream",
     "text": [
      "/Users/paolo/opt/miniconda3/envs/tensorflow/lib/python3.9/site-packages/sklearn/base.py:443: UserWarning: X has feature names, but NearestNeighbors was fitted without feature names\n",
      "  warnings.warn(\n"
     ]
    },
    {
     "name": "stdout",
     "output_type": "stream",
     "text": [
      "(442, 49)\n",
      "0.11168374921941138\n"
     ]
    },
    {
     "name": "stderr",
     "output_type": "stream",
     "text": [
      "/Users/paolo/opt/miniconda3/envs/tensorflow/lib/python3.9/site-packages/sklearn/base.py:443: UserWarning: X has feature names, but NearestNeighbors was fitted without feature names\n",
      "  warnings.warn(\n"
     ]
    },
    {
     "name": "stdout",
     "output_type": "stream",
     "text": [
      "(442, 50)\n",
      "0.06584757380392314\n",
      "0.3367830138113236\n",
      "20\n"
     ]
    },
    {
     "name": "stderr",
     "output_type": "stream",
     "text": [
      "/Users/paolo/opt/miniconda3/envs/tensorflow/lib/python3.9/site-packages/sklearn/base.py:443: UserWarning: X has feature names, but NearestNeighbors was fitted without feature names\n",
      "  warnings.warn(\n"
     ]
    },
    {
     "name": "stdout",
     "output_type": "stream",
     "text": [
      "(442, 1)\n",
      "-0.0070394740320633975\n"
     ]
    },
    {
     "name": "stderr",
     "output_type": "stream",
     "text": [
      "/Users/paolo/opt/miniconda3/envs/tensorflow/lib/python3.9/site-packages/sklearn/base.py:443: UserWarning: X has feature names, but NearestNeighbors was fitted without feature names\n",
      "  warnings.warn(\n"
     ]
    },
    {
     "name": "stdout",
     "output_type": "stream",
     "text": [
      "(442, 2)\n",
      "0.08536813562178347\n"
     ]
    },
    {
     "name": "stderr",
     "output_type": "stream",
     "text": [
      "/Users/paolo/opt/miniconda3/envs/tensorflow/lib/python3.9/site-packages/sklearn/base.py:443: UserWarning: X has feature names, but NearestNeighbors was fitted without feature names\n",
      "  warnings.warn(\n"
     ]
    },
    {
     "name": "stdout",
     "output_type": "stream",
     "text": [
      "(442, 3)\n",
      "0.0574544869711352\n"
     ]
    },
    {
     "name": "stderr",
     "output_type": "stream",
     "text": [
      "/Users/paolo/opt/miniconda3/envs/tensorflow/lib/python3.9/site-packages/sklearn/base.py:443: UserWarning: X has feature names, but NearestNeighbors was fitted without feature names\n",
      "  warnings.warn(\n"
     ]
    },
    {
     "name": "stdout",
     "output_type": "stream",
     "text": [
      "(442, 4)\n",
      "-0.008371890798804182\n"
     ]
    },
    {
     "name": "stderr",
     "output_type": "stream",
     "text": [
      "/Users/paolo/opt/miniconda3/envs/tensorflow/lib/python3.9/site-packages/sklearn/base.py:443: UserWarning: X has feature names, but NearestNeighbors was fitted without feature names\n",
      "  warnings.warn(\n"
     ]
    },
    {
     "name": "stdout",
     "output_type": "stream",
     "text": [
      "(442, 5)\n",
      "-0.11284718920579206\n"
     ]
    },
    {
     "name": "stderr",
     "output_type": "stream",
     "text": [
      "/Users/paolo/opt/miniconda3/envs/tensorflow/lib/python3.9/site-packages/sklearn/base.py:443: UserWarning: X has feature names, but NearestNeighbors was fitted without feature names\n",
      "  warnings.warn(\n"
     ]
    },
    {
     "name": "stdout",
     "output_type": "stream",
     "text": [
      "(442, 6)\n",
      "-0.16861674268355697\n"
     ]
    },
    {
     "name": "stderr",
     "output_type": "stream",
     "text": [
      "/Users/paolo/opt/miniconda3/envs/tensorflow/lib/python3.9/site-packages/sklearn/base.py:443: UserWarning: X has feature names, but NearestNeighbors was fitted without feature names\n",
      "  warnings.warn(\n"
     ]
    },
    {
     "name": "stdout",
     "output_type": "stream",
     "text": [
      "(442, 7)\n",
      "-0.15107579542906335\n"
     ]
    },
    {
     "name": "stderr",
     "output_type": "stream",
     "text": [
      "/Users/paolo/opt/miniconda3/envs/tensorflow/lib/python3.9/site-packages/sklearn/base.py:443: UserWarning: X has feature names, but NearestNeighbors was fitted without feature names\n",
      "  warnings.warn(\n"
     ]
    },
    {
     "name": "stdout",
     "output_type": "stream",
     "text": [
      "(442, 8)\n",
      "-0.19239108395517857\n"
     ]
    },
    {
     "name": "stderr",
     "output_type": "stream",
     "text": [
      "/Users/paolo/opt/miniconda3/envs/tensorflow/lib/python3.9/site-packages/sklearn/base.py:443: UserWarning: X has feature names, but NearestNeighbors was fitted without feature names\n",
      "  warnings.warn(\n"
     ]
    },
    {
     "name": "stdout",
     "output_type": "stream",
     "text": [
      "(442, 9)\n",
      "-0.1032317788490249\n"
     ]
    },
    {
     "name": "stderr",
     "output_type": "stream",
     "text": [
      "/Users/paolo/opt/miniconda3/envs/tensorflow/lib/python3.9/site-packages/sklearn/base.py:443: UserWarning: X has feature names, but NearestNeighbors was fitted without feature names\n",
      "  warnings.warn(\n"
     ]
    },
    {
     "name": "stdout",
     "output_type": "stream",
     "text": [
      "(442, 10)\n",
      "-0.10473672862752648\n"
     ]
    },
    {
     "name": "stderr",
     "output_type": "stream",
     "text": [
      "/Users/paolo/opt/miniconda3/envs/tensorflow/lib/python3.9/site-packages/sklearn/base.py:443: UserWarning: X has feature names, but NearestNeighbors was fitted without feature names\n",
      "  warnings.warn(\n"
     ]
    },
    {
     "name": "stdout",
     "output_type": "stream",
     "text": [
      "(442, 11)\n",
      "-0.17605636556511062\n"
     ]
    },
    {
     "name": "stderr",
     "output_type": "stream",
     "text": [
      "/Users/paolo/opt/miniconda3/envs/tensorflow/lib/python3.9/site-packages/sklearn/base.py:443: UserWarning: X has feature names, but NearestNeighbors was fitted without feature names\n",
      "  warnings.warn(\n"
     ]
    },
    {
     "name": "stdout",
     "output_type": "stream",
     "text": [
      "(442, 12)\n",
      "-0.06689767256265733\n"
     ]
    },
    {
     "name": "stderr",
     "output_type": "stream",
     "text": [
      "/Users/paolo/opt/miniconda3/envs/tensorflow/lib/python3.9/site-packages/sklearn/base.py:443: UserWarning: X has feature names, but NearestNeighbors was fitted without feature names\n",
      "  warnings.warn(\n"
     ]
    },
    {
     "name": "stdout",
     "output_type": "stream",
     "text": [
      "(442, 13)\n",
      "0.0821941335475711\n"
     ]
    },
    {
     "name": "stderr",
     "output_type": "stream",
     "text": [
      "/Users/paolo/opt/miniconda3/envs/tensorflow/lib/python3.9/site-packages/sklearn/base.py:443: UserWarning: X has feature names, but NearestNeighbors was fitted without feature names\n",
      "  warnings.warn(\n"
     ]
    },
    {
     "name": "stdout",
     "output_type": "stream",
     "text": [
      "(442, 14)\n",
      "-0.17941394989531\n"
     ]
    },
    {
     "name": "stderr",
     "output_type": "stream",
     "text": [
      "/Users/paolo/opt/miniconda3/envs/tensorflow/lib/python3.9/site-packages/sklearn/base.py:443: UserWarning: X has feature names, but NearestNeighbors was fitted without feature names\n",
      "  warnings.warn(\n"
     ]
    },
    {
     "name": "stdout",
     "output_type": "stream",
     "text": [
      "(442, 15)\n",
      "-0.008369923389158318\n"
     ]
    },
    {
     "name": "stderr",
     "output_type": "stream",
     "text": [
      "/Users/paolo/opt/miniconda3/envs/tensorflow/lib/python3.9/site-packages/sklearn/base.py:443: UserWarning: X has feature names, but NearestNeighbors was fitted without feature names\n",
      "  warnings.warn(\n"
     ]
    },
    {
     "name": "stdout",
     "output_type": "stream",
     "text": [
      "(442, 16)\n",
      "0.0851186049967011\n"
     ]
    },
    {
     "name": "stderr",
     "output_type": "stream",
     "text": [
      "/Users/paolo/opt/miniconda3/envs/tensorflow/lib/python3.9/site-packages/sklearn/base.py:443: UserWarning: X has feature names, but NearestNeighbors was fitted without feature names\n",
      "  warnings.warn(\n"
     ]
    },
    {
     "name": "stdout",
     "output_type": "stream",
     "text": [
      "(442, 17)\n",
      "0.15016331892177504\n"
     ]
    },
    {
     "name": "stderr",
     "output_type": "stream",
     "text": [
      "/Users/paolo/opt/miniconda3/envs/tensorflow/lib/python3.9/site-packages/sklearn/base.py:443: UserWarning: X has feature names, but NearestNeighbors was fitted without feature names\n",
      "  warnings.warn(\n"
     ]
    },
    {
     "name": "stdout",
     "output_type": "stream",
     "text": [
      "(442, 18)\n",
      "0.22876314541287146\n"
     ]
    },
    {
     "name": "stderr",
     "output_type": "stream",
     "text": [
      "/Users/paolo/opt/miniconda3/envs/tensorflow/lib/python3.9/site-packages/sklearn/base.py:443: UserWarning: X has feature names, but NearestNeighbors was fitted without feature names\n",
      "  warnings.warn(\n"
     ]
    },
    {
     "name": "stdout",
     "output_type": "stream",
     "text": [
      "(442, 19)\n",
      "0.19825927362546714\n"
     ]
    },
    {
     "name": "stderr",
     "output_type": "stream",
     "text": [
      "/Users/paolo/opt/miniconda3/envs/tensorflow/lib/python3.9/site-packages/sklearn/base.py:443: UserWarning: X has feature names, but NearestNeighbors was fitted without feature names\n",
      "  warnings.warn(\n"
     ]
    },
    {
     "name": "stdout",
     "output_type": "stream",
     "text": [
      "(442, 20)\n",
      "0.18352698716856142\n"
     ]
    },
    {
     "name": "stderr",
     "output_type": "stream",
     "text": [
      "/Users/paolo/opt/miniconda3/envs/tensorflow/lib/python3.9/site-packages/sklearn/base.py:443: UserWarning: X has feature names, but NearestNeighbors was fitted without feature names\n",
      "  warnings.warn(\n"
     ]
    },
    {
     "name": "stdout",
     "output_type": "stream",
     "text": [
      "(442, 21)\n",
      "0.17317727821459727\n"
     ]
    },
    {
     "name": "stderr",
     "output_type": "stream",
     "text": [
      "/Users/paolo/opt/miniconda3/envs/tensorflow/lib/python3.9/site-packages/sklearn/base.py:443: UserWarning: X has feature names, but NearestNeighbors was fitted without feature names\n",
      "  warnings.warn(\n"
     ]
    },
    {
     "name": "stdout",
     "output_type": "stream",
     "text": [
      "(442, 22)\n",
      "0.1796952258343376\n"
     ]
    },
    {
     "name": "stderr",
     "output_type": "stream",
     "text": [
      "/Users/paolo/opt/miniconda3/envs/tensorflow/lib/python3.9/site-packages/sklearn/base.py:443: UserWarning: X has feature names, but NearestNeighbors was fitted without feature names\n",
      "  warnings.warn(\n"
     ]
    },
    {
     "name": "stdout",
     "output_type": "stream",
     "text": [
      "(442, 23)\n",
      "0.16474690097958455\n"
     ]
    },
    {
     "name": "stderr",
     "output_type": "stream",
     "text": [
      "/Users/paolo/opt/miniconda3/envs/tensorflow/lib/python3.9/site-packages/sklearn/base.py:443: UserWarning: X has feature names, but NearestNeighbors was fitted without feature names\n",
      "  warnings.warn(\n"
     ]
    },
    {
     "name": "stdout",
     "output_type": "stream",
     "text": [
      "(442, 24)\n",
      "0.13086100193802697\n"
     ]
    },
    {
     "name": "stderr",
     "output_type": "stream",
     "text": [
      "/Users/paolo/opt/miniconda3/envs/tensorflow/lib/python3.9/site-packages/sklearn/base.py:443: UserWarning: X has feature names, but NearestNeighbors was fitted without feature names\n",
      "  warnings.warn(\n"
     ]
    },
    {
     "name": "stdout",
     "output_type": "stream",
     "text": [
      "(442, 25)\n",
      "0.13140668045548487\n"
     ]
    },
    {
     "name": "stderr",
     "output_type": "stream",
     "text": [
      "/Users/paolo/opt/miniconda3/envs/tensorflow/lib/python3.9/site-packages/sklearn/base.py:443: UserWarning: X has feature names, but NearestNeighbors was fitted without feature names\n",
      "  warnings.warn(\n"
     ]
    },
    {
     "name": "stdout",
     "output_type": "stream",
     "text": [
      "(442, 26)\n",
      "0.15813254870895477\n"
     ]
    },
    {
     "name": "stderr",
     "output_type": "stream",
     "text": [
      "/Users/paolo/opt/miniconda3/envs/tensorflow/lib/python3.9/site-packages/sklearn/base.py:443: UserWarning: X has feature names, but NearestNeighbors was fitted without feature names\n",
      "  warnings.warn(\n"
     ]
    },
    {
     "name": "stdout",
     "output_type": "stream",
     "text": [
      "(442, 27)\n",
      "0.17802807386748354\n"
     ]
    },
    {
     "name": "stderr",
     "output_type": "stream",
     "text": [
      "/Users/paolo/opt/miniconda3/envs/tensorflow/lib/python3.9/site-packages/sklearn/base.py:443: UserWarning: X has feature names, but NearestNeighbors was fitted without feature names\n",
      "  warnings.warn(\n"
     ]
    },
    {
     "name": "stdout",
     "output_type": "stream",
     "text": [
      "(442, 28)\n",
      "0.21605434846289429\n"
     ]
    },
    {
     "name": "stderr",
     "output_type": "stream",
     "text": [
      "/Users/paolo/opt/miniconda3/envs/tensorflow/lib/python3.9/site-packages/sklearn/base.py:443: UserWarning: X has feature names, but NearestNeighbors was fitted without feature names\n",
      "  warnings.warn(\n"
     ]
    },
    {
     "name": "stdout",
     "output_type": "stream",
     "text": [
      "(442, 29)\n",
      "0.22395641696635782\n"
     ]
    },
    {
     "name": "stderr",
     "output_type": "stream",
     "text": [
      "/Users/paolo/opt/miniconda3/envs/tensorflow/lib/python3.9/site-packages/sklearn/base.py:443: UserWarning: X has feature names, but NearestNeighbors was fitted without feature names\n",
      "  warnings.warn(\n"
     ]
    },
    {
     "name": "stdout",
     "output_type": "stream",
     "text": [
      "(442, 30)\n",
      "0.24824089974855956\n"
     ]
    },
    {
     "name": "stderr",
     "output_type": "stream",
     "text": [
      "/Users/paolo/opt/miniconda3/envs/tensorflow/lib/python3.9/site-packages/sklearn/base.py:443: UserWarning: X has feature names, but NearestNeighbors was fitted without feature names\n",
      "  warnings.warn(\n"
     ]
    },
    {
     "name": "stdout",
     "output_type": "stream",
     "text": [
      "(442, 31)\n",
      "0.23240996332677222\n"
     ]
    },
    {
     "name": "stderr",
     "output_type": "stream",
     "text": [
      "/Users/paolo/opt/miniconda3/envs/tensorflow/lib/python3.9/site-packages/sklearn/base.py:443: UserWarning: X has feature names, but NearestNeighbors was fitted without feature names\n",
      "  warnings.warn(\n"
     ]
    },
    {
     "name": "stdout",
     "output_type": "stream",
     "text": [
      "(442, 32)\n",
      "0.23458885330572044\n"
     ]
    },
    {
     "name": "stderr",
     "output_type": "stream",
     "text": [
      "/Users/paolo/opt/miniconda3/envs/tensorflow/lib/python3.9/site-packages/sklearn/base.py:443: UserWarning: X has feature names, but NearestNeighbors was fitted without feature names\n",
      "  warnings.warn(\n"
     ]
    },
    {
     "name": "stdout",
     "output_type": "stream",
     "text": [
      "(442, 33)\n",
      "0.20781283592024014\n"
     ]
    },
    {
     "name": "stderr",
     "output_type": "stream",
     "text": [
      "/Users/paolo/opt/miniconda3/envs/tensorflow/lib/python3.9/site-packages/sklearn/base.py:443: UserWarning: X has feature names, but NearestNeighbors was fitted without feature names\n",
      "  warnings.warn(\n"
     ]
    },
    {
     "name": "stdout",
     "output_type": "stream",
     "text": [
      "(442, 34)\n",
      "0.20899644872568612\n"
     ]
    },
    {
     "name": "stderr",
     "output_type": "stream",
     "text": [
      "/Users/paolo/opt/miniconda3/envs/tensorflow/lib/python3.9/site-packages/sklearn/base.py:443: UserWarning: X has feature names, but NearestNeighbors was fitted without feature names\n",
      "  warnings.warn(\n"
     ]
    },
    {
     "name": "stdout",
     "output_type": "stream",
     "text": [
      "(442, 35)\n",
      "0.21933825000799978\n"
     ]
    },
    {
     "name": "stderr",
     "output_type": "stream",
     "text": [
      "/Users/paolo/opt/miniconda3/envs/tensorflow/lib/python3.9/site-packages/sklearn/base.py:443: UserWarning: X has feature names, but NearestNeighbors was fitted without feature names\n",
      "  warnings.warn(\n"
     ]
    },
    {
     "name": "stdout",
     "output_type": "stream",
     "text": [
      "(442, 36)\n",
      "0.2218526466655325\n"
     ]
    },
    {
     "name": "stderr",
     "output_type": "stream",
     "text": [
      "/Users/paolo/opt/miniconda3/envs/tensorflow/lib/python3.9/site-packages/sklearn/base.py:443: UserWarning: X has feature names, but NearestNeighbors was fitted without feature names\n",
      "  warnings.warn(\n"
     ]
    },
    {
     "name": "stdout",
     "output_type": "stream",
     "text": [
      "(442, 37)\n",
      "0.24229643575800996\n"
     ]
    },
    {
     "name": "stderr",
     "output_type": "stream",
     "text": [
      "/Users/paolo/opt/miniconda3/envs/tensorflow/lib/python3.9/site-packages/sklearn/base.py:443: UserWarning: X has feature names, but NearestNeighbors was fitted without feature names\n",
      "  warnings.warn(\n"
     ]
    },
    {
     "name": "stdout",
     "output_type": "stream",
     "text": [
      "(442, 38)\n",
      "0.27434217629242386\n"
     ]
    },
    {
     "name": "stderr",
     "output_type": "stream",
     "text": [
      "/Users/paolo/opt/miniconda3/envs/tensorflow/lib/python3.9/site-packages/sklearn/base.py:443: UserWarning: X has feature names, but NearestNeighbors was fitted without feature names\n",
      "  warnings.warn(\n"
     ]
    },
    {
     "name": "stdout",
     "output_type": "stream",
     "text": [
      "(442, 39)\n",
      "0.2787980159240181\n"
     ]
    },
    {
     "name": "stderr",
     "output_type": "stream",
     "text": [
      "/Users/paolo/opt/miniconda3/envs/tensorflow/lib/python3.9/site-packages/sklearn/base.py:443: UserWarning: X has feature names, but NearestNeighbors was fitted without feature names\n",
      "  warnings.warn(\n"
     ]
    },
    {
     "name": "stdout",
     "output_type": "stream",
     "text": [
      "(442, 40)\n",
      "0.2698039375724377\n"
     ]
    },
    {
     "name": "stderr",
     "output_type": "stream",
     "text": [
      "/Users/paolo/opt/miniconda3/envs/tensorflow/lib/python3.9/site-packages/sklearn/base.py:443: UserWarning: X has feature names, but NearestNeighbors was fitted without feature names\n",
      "  warnings.warn(\n"
     ]
    },
    {
     "name": "stdout",
     "output_type": "stream",
     "text": [
      "(442, 41)\n",
      "0.2611480657360774\n"
     ]
    },
    {
     "name": "stderr",
     "output_type": "stream",
     "text": [
      "/Users/paolo/opt/miniconda3/envs/tensorflow/lib/python3.9/site-packages/sklearn/base.py:443: UserWarning: X has feature names, but NearestNeighbors was fitted without feature names\n",
      "  warnings.warn(\n"
     ]
    },
    {
     "name": "stdout",
     "output_type": "stream",
     "text": [
      "(442, 42)\n",
      "0.20276806175125406\n"
     ]
    },
    {
     "name": "stderr",
     "output_type": "stream",
     "text": [
      "/Users/paolo/opt/miniconda3/envs/tensorflow/lib/python3.9/site-packages/sklearn/base.py:443: UserWarning: X has feature names, but NearestNeighbors was fitted without feature names\n",
      "  warnings.warn(\n"
     ]
    },
    {
     "name": "stdout",
     "output_type": "stream",
     "text": [
      "(442, 43)\n",
      "0.21711288460134892\n"
     ]
    },
    {
     "name": "stderr",
     "output_type": "stream",
     "text": [
      "/Users/paolo/opt/miniconda3/envs/tensorflow/lib/python3.9/site-packages/sklearn/base.py:443: UserWarning: X has feature names, but NearestNeighbors was fitted without feature names\n",
      "  warnings.warn(\n"
     ]
    },
    {
     "name": "stdout",
     "output_type": "stream",
     "text": [
      "(442, 44)\n",
      "0.2069035421123977\n"
     ]
    },
    {
     "name": "stderr",
     "output_type": "stream",
     "text": [
      "/Users/paolo/opt/miniconda3/envs/tensorflow/lib/python3.9/site-packages/sklearn/base.py:443: UserWarning: X has feature names, but NearestNeighbors was fitted without feature names\n",
      "  warnings.warn(\n"
     ]
    },
    {
     "name": "stdout",
     "output_type": "stream",
     "text": [
      "(442, 45)\n",
      "0.18464221767690858\n"
     ]
    },
    {
     "name": "stderr",
     "output_type": "stream",
     "text": [
      "/Users/paolo/opt/miniconda3/envs/tensorflow/lib/python3.9/site-packages/sklearn/base.py:443: UserWarning: X has feature names, but NearestNeighbors was fitted without feature names\n",
      "  warnings.warn(\n"
     ]
    },
    {
     "name": "stdout",
     "output_type": "stream",
     "text": [
      "(442, 46)\n",
      "0.22169202344397332\n"
     ]
    },
    {
     "name": "stderr",
     "output_type": "stream",
     "text": [
      "/Users/paolo/opt/miniconda3/envs/tensorflow/lib/python3.9/site-packages/sklearn/base.py:443: UserWarning: X has feature names, but NearestNeighbors was fitted without feature names\n",
      "  warnings.warn(\n"
     ]
    },
    {
     "name": "stdout",
     "output_type": "stream",
     "text": [
      "(442, 47)\n",
      "0.21821952455592686\n"
     ]
    },
    {
     "name": "stderr",
     "output_type": "stream",
     "text": [
      "/Users/paolo/opt/miniconda3/envs/tensorflow/lib/python3.9/site-packages/sklearn/base.py:443: UserWarning: X has feature names, but NearestNeighbors was fitted without feature names\n",
      "  warnings.warn(\n"
     ]
    },
    {
     "name": "stdout",
     "output_type": "stream",
     "text": [
      "(442, 48)\n",
      "0.22557466840760065\n"
     ]
    },
    {
     "name": "stderr",
     "output_type": "stream",
     "text": [
      "/Users/paolo/opt/miniconda3/envs/tensorflow/lib/python3.9/site-packages/sklearn/base.py:443: UserWarning: X has feature names, but NearestNeighbors was fitted without feature names\n",
      "  warnings.warn(\n"
     ]
    },
    {
     "name": "stdout",
     "output_type": "stream",
     "text": [
      "(442, 49)\n",
      "0.22807102793704948\n"
     ]
    },
    {
     "name": "stderr",
     "output_type": "stream",
     "text": [
      "/Users/paolo/opt/miniconda3/envs/tensorflow/lib/python3.9/site-packages/sklearn/base.py:443: UserWarning: X has feature names, but NearestNeighbors was fitted without feature names\n",
      "  warnings.warn(\n"
     ]
    },
    {
     "name": "stdout",
     "output_type": "stream",
     "text": [
      "(442, 50)\n",
      "0.19008818799314053\n",
      "0.2787980159240181\n",
      "39\n"
     ]
    },
    {
     "name": "stderr",
     "output_type": "stream",
     "text": [
      "/Users/paolo/opt/miniconda3/envs/tensorflow/lib/python3.9/site-packages/sklearn/base.py:443: UserWarning: X has feature names, but NearestNeighbors was fitted without feature names\n",
      "  warnings.warn(\n"
     ]
    },
    {
     "name": "stdout",
     "output_type": "stream",
     "text": [
      "(442, 1)\n",
      "-0.011304793462685092\n"
     ]
    },
    {
     "name": "stderr",
     "output_type": "stream",
     "text": [
      "/Users/paolo/opt/miniconda3/envs/tensorflow/lib/python3.9/site-packages/sklearn/base.py:443: UserWarning: X has feature names, but NearestNeighbors was fitted without feature names\n",
      "  warnings.warn(\n"
     ]
    },
    {
     "name": "stdout",
     "output_type": "stream",
     "text": [
      "(442, 2)\n",
      "0.1054678880086598\n"
     ]
    },
    {
     "name": "stderr",
     "output_type": "stream",
     "text": [
      "/Users/paolo/opt/miniconda3/envs/tensorflow/lib/python3.9/site-packages/sklearn/base.py:443: UserWarning: X has feature names, but NearestNeighbors was fitted without feature names\n",
      "  warnings.warn(\n"
     ]
    },
    {
     "name": "stdout",
     "output_type": "stream",
     "text": [
      "(442, 3)\n",
      "0.10216083317792413\n"
     ]
    },
    {
     "name": "stderr",
     "output_type": "stream",
     "text": [
      "/Users/paolo/opt/miniconda3/envs/tensorflow/lib/python3.9/site-packages/sklearn/base.py:443: UserWarning: X has feature names, but NearestNeighbors was fitted without feature names\n",
      "  warnings.warn(\n"
     ]
    },
    {
     "name": "stdout",
     "output_type": "stream",
     "text": [
      "(442, 4)\n",
      "0.11511725849279164\n"
     ]
    },
    {
     "name": "stderr",
     "output_type": "stream",
     "text": [
      "/Users/paolo/opt/miniconda3/envs/tensorflow/lib/python3.9/site-packages/sklearn/base.py:443: UserWarning: X has feature names, but NearestNeighbors was fitted without feature names\n",
      "  warnings.warn(\n"
     ]
    },
    {
     "name": "stdout",
     "output_type": "stream",
     "text": [
      "(442, 5)\n",
      "0.1258365196949195\n"
     ]
    },
    {
     "name": "stderr",
     "output_type": "stream",
     "text": [
      "/Users/paolo/opt/miniconda3/envs/tensorflow/lib/python3.9/site-packages/sklearn/base.py:443: UserWarning: X has feature names, but NearestNeighbors was fitted without feature names\n",
      "  warnings.warn(\n"
     ]
    },
    {
     "name": "stdout",
     "output_type": "stream",
     "text": [
      "(442, 6)\n",
      "0.030672270764392273\n"
     ]
    },
    {
     "name": "stderr",
     "output_type": "stream",
     "text": [
      "/Users/paolo/opt/miniconda3/envs/tensorflow/lib/python3.9/site-packages/sklearn/base.py:443: UserWarning: X has feature names, but NearestNeighbors was fitted without feature names\n",
      "  warnings.warn(\n"
     ]
    },
    {
     "name": "stdout",
     "output_type": "stream",
     "text": [
      "(442, 7)\n",
      "0.030809151419729175\n"
     ]
    },
    {
     "name": "stderr",
     "output_type": "stream",
     "text": [
      "/Users/paolo/opt/miniconda3/envs/tensorflow/lib/python3.9/site-packages/sklearn/base.py:443: UserWarning: X has feature names, but NearestNeighbors was fitted without feature names\n",
      "  warnings.warn(\n"
     ]
    },
    {
     "name": "stdout",
     "output_type": "stream",
     "text": [
      "(442, 8)\n",
      "0.04473634100424351\n"
     ]
    },
    {
     "name": "stderr",
     "output_type": "stream",
     "text": [
      "/Users/paolo/opt/miniconda3/envs/tensorflow/lib/python3.9/site-packages/sklearn/base.py:443: UserWarning: X has feature names, but NearestNeighbors was fitted without feature names\n",
      "  warnings.warn(\n"
     ]
    },
    {
     "name": "stdout",
     "output_type": "stream",
     "text": [
      "(442, 9)\n",
      "0.08820467092749451\n"
     ]
    },
    {
     "name": "stderr",
     "output_type": "stream",
     "text": [
      "/Users/paolo/opt/miniconda3/envs/tensorflow/lib/python3.9/site-packages/sklearn/base.py:443: UserWarning: X has feature names, but NearestNeighbors was fitted without feature names\n",
      "  warnings.warn(\n"
     ]
    },
    {
     "name": "stdout",
     "output_type": "stream",
     "text": [
      "(442, 10)\n",
      "0.1867428313054087\n"
     ]
    },
    {
     "name": "stderr",
     "output_type": "stream",
     "text": [
      "/Users/paolo/opt/miniconda3/envs/tensorflow/lib/python3.9/site-packages/sklearn/base.py:443: UserWarning: X has feature names, but NearestNeighbors was fitted without feature names\n",
      "  warnings.warn(\n"
     ]
    },
    {
     "name": "stdout",
     "output_type": "stream",
     "text": [
      "(442, 11)\n",
      "0.054489352637751676\n"
     ]
    },
    {
     "name": "stderr",
     "output_type": "stream",
     "text": [
      "/Users/paolo/opt/miniconda3/envs/tensorflow/lib/python3.9/site-packages/sklearn/base.py:443: UserWarning: X has feature names, but NearestNeighbors was fitted without feature names\n",
      "  warnings.warn(\n"
     ]
    },
    {
     "name": "stdout",
     "output_type": "stream",
     "text": [
      "(442, 12)\n",
      "0.06319737033468653\n"
     ]
    },
    {
     "name": "stderr",
     "output_type": "stream",
     "text": [
      "/Users/paolo/opt/miniconda3/envs/tensorflow/lib/python3.9/site-packages/sklearn/base.py:443: UserWarning: X has feature names, but NearestNeighbors was fitted without feature names\n",
      "  warnings.warn(\n"
     ]
    },
    {
     "name": "stdout",
     "output_type": "stream",
     "text": [
      "(442, 13)\n",
      "-0.0342345536639439\n"
     ]
    },
    {
     "name": "stderr",
     "output_type": "stream",
     "text": [
      "/Users/paolo/opt/miniconda3/envs/tensorflow/lib/python3.9/site-packages/sklearn/base.py:443: UserWarning: X has feature names, but NearestNeighbors was fitted without feature names\n",
      "  warnings.warn(\n"
     ]
    },
    {
     "name": "stdout",
     "output_type": "stream",
     "text": [
      "(442, 14)\n",
      "-0.15928813236172967\n"
     ]
    },
    {
     "name": "stderr",
     "output_type": "stream",
     "text": [
      "/Users/paolo/opt/miniconda3/envs/tensorflow/lib/python3.9/site-packages/sklearn/base.py:443: UserWarning: X has feature names, but NearestNeighbors was fitted without feature names\n",
      "  warnings.warn(\n"
     ]
    },
    {
     "name": "stdout",
     "output_type": "stream",
     "text": [
      "(442, 15)\n",
      "-0.3794711329110252\n"
     ]
    },
    {
     "name": "stderr",
     "output_type": "stream",
     "text": [
      "/Users/paolo/opt/miniconda3/envs/tensorflow/lib/python3.9/site-packages/sklearn/base.py:443: UserWarning: X has feature names, but NearestNeighbors was fitted without feature names\n",
      "  warnings.warn(\n"
     ]
    },
    {
     "name": "stdout",
     "output_type": "stream",
     "text": [
      "(442, 16)\n",
      "-0.689010594534404\n"
     ]
    },
    {
     "name": "stderr",
     "output_type": "stream",
     "text": [
      "/Users/paolo/opt/miniconda3/envs/tensorflow/lib/python3.9/site-packages/sklearn/base.py:443: UserWarning: X has feature names, but NearestNeighbors was fitted without feature names\n",
      "  warnings.warn(\n"
     ]
    },
    {
     "name": "stdout",
     "output_type": "stream",
     "text": [
      "(442, 17)\n",
      "-0.6487742162161649\n"
     ]
    },
    {
     "name": "stderr",
     "output_type": "stream",
     "text": [
      "/Users/paolo/opt/miniconda3/envs/tensorflow/lib/python3.9/site-packages/sklearn/base.py:443: UserWarning: X has feature names, but NearestNeighbors was fitted without feature names\n",
      "  warnings.warn(\n"
     ]
    },
    {
     "name": "stdout",
     "output_type": "stream",
     "text": [
      "(442, 18)\n",
      "-0.6012292820023362\n"
     ]
    },
    {
     "name": "stderr",
     "output_type": "stream",
     "text": [
      "/Users/paolo/opt/miniconda3/envs/tensorflow/lib/python3.9/site-packages/sklearn/base.py:443: UserWarning: X has feature names, but NearestNeighbors was fitted without feature names\n",
      "  warnings.warn(\n"
     ]
    },
    {
     "name": "stdout",
     "output_type": "stream",
     "text": [
      "(442, 19)\n",
      "-0.25877069681962306\n"
     ]
    },
    {
     "name": "stderr",
     "output_type": "stream",
     "text": [
      "/Users/paolo/opt/miniconda3/envs/tensorflow/lib/python3.9/site-packages/sklearn/base.py:443: UserWarning: X has feature names, but NearestNeighbors was fitted without feature names\n",
      "  warnings.warn(\n"
     ]
    },
    {
     "name": "stdout",
     "output_type": "stream",
     "text": [
      "(442, 20)\n",
      "-0.263545178914693\n"
     ]
    },
    {
     "name": "stderr",
     "output_type": "stream",
     "text": [
      "/Users/paolo/opt/miniconda3/envs/tensorflow/lib/python3.9/site-packages/sklearn/base.py:443: UserWarning: X has feature names, but NearestNeighbors was fitted without feature names\n",
      "  warnings.warn(\n"
     ]
    },
    {
     "name": "stdout",
     "output_type": "stream",
     "text": [
      "(442, 21)\n",
      "-0.09360126982328132\n"
     ]
    },
    {
     "name": "stderr",
     "output_type": "stream",
     "text": [
      "/Users/paolo/opt/miniconda3/envs/tensorflow/lib/python3.9/site-packages/sklearn/base.py:443: UserWarning: X has feature names, but NearestNeighbors was fitted without feature names\n",
      "  warnings.warn(\n"
     ]
    },
    {
     "name": "stdout",
     "output_type": "stream",
     "text": [
      "(442, 22)\n",
      "0.10230410750190855\n"
     ]
    },
    {
     "name": "stderr",
     "output_type": "stream",
     "text": [
      "/Users/paolo/opt/miniconda3/envs/tensorflow/lib/python3.9/site-packages/sklearn/base.py:443: UserWarning: X has feature names, but NearestNeighbors was fitted without feature names\n",
      "  warnings.warn(\n"
     ]
    },
    {
     "name": "stdout",
     "output_type": "stream",
     "text": [
      "(442, 23)\n",
      "0.22510004499775726\n"
     ]
    },
    {
     "name": "stderr",
     "output_type": "stream",
     "text": [
      "/Users/paolo/opt/miniconda3/envs/tensorflow/lib/python3.9/site-packages/sklearn/base.py:443: UserWarning: X has feature names, but NearestNeighbors was fitted without feature names\n",
      "  warnings.warn(\n"
     ]
    },
    {
     "name": "stdout",
     "output_type": "stream",
     "text": [
      "(442, 24)\n",
      "0.2237970845444669\n"
     ]
    },
    {
     "name": "stderr",
     "output_type": "stream",
     "text": [
      "/Users/paolo/opt/miniconda3/envs/tensorflow/lib/python3.9/site-packages/sklearn/base.py:443: UserWarning: X has feature names, but NearestNeighbors was fitted without feature names\n",
      "  warnings.warn(\n"
     ]
    },
    {
     "name": "stdout",
     "output_type": "stream",
     "text": [
      "(442, 25)\n",
      "0.22138701069273115\n"
     ]
    },
    {
     "name": "stderr",
     "output_type": "stream",
     "text": [
      "/Users/paolo/opt/miniconda3/envs/tensorflow/lib/python3.9/site-packages/sklearn/base.py:443: UserWarning: X has feature names, but NearestNeighbors was fitted without feature names\n",
      "  warnings.warn(\n"
     ]
    },
    {
     "name": "stdout",
     "output_type": "stream",
     "text": [
      "(442, 26)\n",
      "0.20249288635691076\n"
     ]
    },
    {
     "name": "stderr",
     "output_type": "stream",
     "text": [
      "/Users/paolo/opt/miniconda3/envs/tensorflow/lib/python3.9/site-packages/sklearn/base.py:443: UserWarning: X has feature names, but NearestNeighbors was fitted without feature names\n",
      "  warnings.warn(\n"
     ]
    },
    {
     "name": "stdout",
     "output_type": "stream",
     "text": [
      "(442, 27)\n",
      "0.173391528842896\n"
     ]
    },
    {
     "name": "stderr",
     "output_type": "stream",
     "text": [
      "/Users/paolo/opt/miniconda3/envs/tensorflow/lib/python3.9/site-packages/sklearn/base.py:443: UserWarning: X has feature names, but NearestNeighbors was fitted without feature names\n",
      "  warnings.warn(\n"
     ]
    },
    {
     "name": "stdout",
     "output_type": "stream",
     "text": [
      "(442, 28)\n",
      "0.1721477193273776\n"
     ]
    },
    {
     "name": "stderr",
     "output_type": "stream",
     "text": [
      "/Users/paolo/opt/miniconda3/envs/tensorflow/lib/python3.9/site-packages/sklearn/base.py:443: UserWarning: X has feature names, but NearestNeighbors was fitted without feature names\n",
      "  warnings.warn(\n"
     ]
    },
    {
     "name": "stdout",
     "output_type": "stream",
     "text": [
      "(442, 29)\n",
      "0.21950923558030078\n"
     ]
    },
    {
     "name": "stderr",
     "output_type": "stream",
     "text": [
      "/Users/paolo/opt/miniconda3/envs/tensorflow/lib/python3.9/site-packages/sklearn/base.py:443: UserWarning: X has feature names, but NearestNeighbors was fitted without feature names\n",
      "  warnings.warn(\n"
     ]
    },
    {
     "name": "stdout",
     "output_type": "stream",
     "text": [
      "(442, 30)\n",
      "0.2002162385222025\n"
     ]
    },
    {
     "name": "stderr",
     "output_type": "stream",
     "text": [
      "/Users/paolo/opt/miniconda3/envs/tensorflow/lib/python3.9/site-packages/sklearn/base.py:443: UserWarning: X has feature names, but NearestNeighbors was fitted without feature names\n",
      "  warnings.warn(\n"
     ]
    },
    {
     "name": "stdout",
     "output_type": "stream",
     "text": [
      "(442, 31)\n",
      "0.2270842751782316\n"
     ]
    },
    {
     "name": "stderr",
     "output_type": "stream",
     "text": [
      "/Users/paolo/opt/miniconda3/envs/tensorflow/lib/python3.9/site-packages/sklearn/base.py:443: UserWarning: X has feature names, but NearestNeighbors was fitted without feature names\n",
      "  warnings.warn(\n"
     ]
    },
    {
     "name": "stdout",
     "output_type": "stream",
     "text": [
      "(442, 32)\n",
      "0.2263797259233239\n"
     ]
    },
    {
     "name": "stderr",
     "output_type": "stream",
     "text": [
      "/Users/paolo/opt/miniconda3/envs/tensorflow/lib/python3.9/site-packages/sklearn/base.py:443: UserWarning: X has feature names, but NearestNeighbors was fitted without feature names\n",
      "  warnings.warn(\n"
     ]
    },
    {
     "name": "stdout",
     "output_type": "stream",
     "text": [
      "(442, 33)\n",
      "0.20014801357649592\n"
     ]
    },
    {
     "name": "stderr",
     "output_type": "stream",
     "text": [
      "/Users/paolo/opt/miniconda3/envs/tensorflow/lib/python3.9/site-packages/sklearn/base.py:443: UserWarning: X has feature names, but NearestNeighbors was fitted without feature names\n",
      "  warnings.warn(\n"
     ]
    },
    {
     "name": "stdout",
     "output_type": "stream",
     "text": [
      "(442, 34)\n",
      "0.26785424543213054\n"
     ]
    },
    {
     "name": "stderr",
     "output_type": "stream",
     "text": [
      "/Users/paolo/opt/miniconda3/envs/tensorflow/lib/python3.9/site-packages/sklearn/base.py:443: UserWarning: X has feature names, but NearestNeighbors was fitted without feature names\n",
      "  warnings.warn(\n"
     ]
    },
    {
     "name": "stdout",
     "output_type": "stream",
     "text": [
      "(442, 35)\n",
      "0.26662626344288476\n"
     ]
    },
    {
     "name": "stderr",
     "output_type": "stream",
     "text": [
      "/Users/paolo/opt/miniconda3/envs/tensorflow/lib/python3.9/site-packages/sklearn/base.py:443: UserWarning: X has feature names, but NearestNeighbors was fitted without feature names\n",
      "  warnings.warn(\n"
     ]
    },
    {
     "name": "stdout",
     "output_type": "stream",
     "text": [
      "(442, 36)\n",
      "0.2541910224543965\n"
     ]
    },
    {
     "name": "stderr",
     "output_type": "stream",
     "text": [
      "/Users/paolo/opt/miniconda3/envs/tensorflow/lib/python3.9/site-packages/sklearn/base.py:443: UserWarning: X has feature names, but NearestNeighbors was fitted without feature names\n",
      "  warnings.warn(\n"
     ]
    },
    {
     "name": "stdout",
     "output_type": "stream",
     "text": [
      "(442, 37)\n",
      "0.24640650195653302\n"
     ]
    },
    {
     "name": "stderr",
     "output_type": "stream",
     "text": [
      "/Users/paolo/opt/miniconda3/envs/tensorflow/lib/python3.9/site-packages/sklearn/base.py:443: UserWarning: X has feature names, but NearestNeighbors was fitted without feature names\n",
      "  warnings.warn(\n"
     ]
    },
    {
     "name": "stdout",
     "output_type": "stream",
     "text": [
      "(442, 38)\n",
      "0.1834418813746731\n"
     ]
    },
    {
     "name": "stderr",
     "output_type": "stream",
     "text": [
      "/Users/paolo/opt/miniconda3/envs/tensorflow/lib/python3.9/site-packages/sklearn/base.py:443: UserWarning: X has feature names, but NearestNeighbors was fitted without feature names\n",
      "  warnings.warn(\n"
     ]
    },
    {
     "name": "stdout",
     "output_type": "stream",
     "text": [
      "(442, 39)\n",
      "0.17690888091127543\n"
     ]
    },
    {
     "name": "stderr",
     "output_type": "stream",
     "text": [
      "/Users/paolo/opt/miniconda3/envs/tensorflow/lib/python3.9/site-packages/sklearn/base.py:443: UserWarning: X has feature names, but NearestNeighbors was fitted without feature names\n",
      "  warnings.warn(\n"
     ]
    },
    {
     "name": "stdout",
     "output_type": "stream",
     "text": [
      "(442, 40)\n",
      "0.00569926021398337\n"
     ]
    },
    {
     "name": "stderr",
     "output_type": "stream",
     "text": [
      "/Users/paolo/opt/miniconda3/envs/tensorflow/lib/python3.9/site-packages/sklearn/base.py:443: UserWarning: X has feature names, but NearestNeighbors was fitted without feature names\n",
      "  warnings.warn(\n"
     ]
    },
    {
     "name": "stdout",
     "output_type": "stream",
     "text": [
      "(442, 41)\n",
      "0.005519325821152665\n"
     ]
    },
    {
     "name": "stderr",
     "output_type": "stream",
     "text": [
      "/Users/paolo/opt/miniconda3/envs/tensorflow/lib/python3.9/site-packages/sklearn/base.py:443: UserWarning: X has feature names, but NearestNeighbors was fitted without feature names\n",
      "  warnings.warn(\n"
     ]
    },
    {
     "name": "stdout",
     "output_type": "stream",
     "text": [
      "(442, 42)\n",
      "-0.004734914118090572\n"
     ]
    },
    {
     "name": "stderr",
     "output_type": "stream",
     "text": [
      "/Users/paolo/opt/miniconda3/envs/tensorflow/lib/python3.9/site-packages/sklearn/base.py:443: UserWarning: X has feature names, but NearestNeighbors was fitted without feature names\n",
      "  warnings.warn(\n"
     ]
    },
    {
     "name": "stdout",
     "output_type": "stream",
     "text": [
      "(442, 43)\n",
      "-0.02385726643325148\n"
     ]
    },
    {
     "name": "stderr",
     "output_type": "stream",
     "text": [
      "/Users/paolo/opt/miniconda3/envs/tensorflow/lib/python3.9/site-packages/sklearn/base.py:443: UserWarning: X has feature names, but NearestNeighbors was fitted without feature names\n",
      "  warnings.warn(\n"
     ]
    },
    {
     "name": "stdout",
     "output_type": "stream",
     "text": [
      "(442, 44)\n",
      "-0.03377947253368463\n"
     ]
    },
    {
     "name": "stderr",
     "output_type": "stream",
     "text": [
      "/Users/paolo/opt/miniconda3/envs/tensorflow/lib/python3.9/site-packages/sklearn/base.py:443: UserWarning: X has feature names, but NearestNeighbors was fitted without feature names\n",
      "  warnings.warn(\n"
     ]
    },
    {
     "name": "stdout",
     "output_type": "stream",
     "text": [
      "(442, 45)\n",
      "-0.033764231960261126\n"
     ]
    },
    {
     "name": "stderr",
     "output_type": "stream",
     "text": [
      "/Users/paolo/opt/miniconda3/envs/tensorflow/lib/python3.9/site-packages/sklearn/base.py:443: UserWarning: X has feature names, but NearestNeighbors was fitted without feature names\n",
      "  warnings.warn(\n"
     ]
    },
    {
     "name": "stdout",
     "output_type": "stream",
     "text": [
      "(442, 46)\n",
      "-0.21905905051332808\n"
     ]
    },
    {
     "name": "stderr",
     "output_type": "stream",
     "text": [
      "/Users/paolo/opt/miniconda3/envs/tensorflow/lib/python3.9/site-packages/sklearn/base.py:443: UserWarning: X has feature names, but NearestNeighbors was fitted without feature names\n",
      "  warnings.warn(\n"
     ]
    },
    {
     "name": "stdout",
     "output_type": "stream",
     "text": [
      "(442, 47)\n",
      "-0.21065102179880046\n"
     ]
    },
    {
     "name": "stderr",
     "output_type": "stream",
     "text": [
      "/Users/paolo/opt/miniconda3/envs/tensorflow/lib/python3.9/site-packages/sklearn/base.py:443: UserWarning: X has feature names, but NearestNeighbors was fitted without feature names\n",
      "  warnings.warn(\n"
     ]
    },
    {
     "name": "stdout",
     "output_type": "stream",
     "text": [
      "(442, 48)\n",
      "-0.17775801319203532\n"
     ]
    },
    {
     "name": "stderr",
     "output_type": "stream",
     "text": [
      "/Users/paolo/opt/miniconda3/envs/tensorflow/lib/python3.9/site-packages/sklearn/base.py:443: UserWarning: X has feature names, but NearestNeighbors was fitted without feature names\n",
      "  warnings.warn(\n"
     ]
    },
    {
     "name": "stdout",
     "output_type": "stream",
     "text": [
      "(442, 49)\n",
      "-0.1639089977803465\n",
      "(442, 50)\n",
      "-0.22099693539536647\n",
      "0.26785424543213054\n",
      "34\n",
      "0.26101532597218985 +- 0.04581068695546693\n",
      "27.2 +- 6.821250559831386\n"
     ]
    },
    {
     "name": "stderr",
     "output_type": "stream",
     "text": [
      "/Users/paolo/opt/miniconda3/envs/tensorflow/lib/python3.9/site-packages/sklearn/base.py:443: UserWarning: X has feature names, but NearestNeighbors was fitted without feature names\n",
      "  warnings.warn(\n"
     ]
    }
   ],
   "source": [
    "from sklearn.manifold import Isomap\n",
    "best_scores = []\n",
    "best_nums = []\n",
    "for curr_seed in [0,1,2,3,4]: \n",
    "    best_score = 0\n",
    "    best_num = 0\n",
    "    for i in range(50):\n",
    "        curr_df_trainVal_withTar = resample(df_trainVal_withTar, random_state=curr_seed)\n",
    "        curr_df_trainVal = curr_df_trainVal_withTar.iloc[:,:-1]\n",
    "        dimRedMethod = Isomap(n_components=i+1,n_neighbors=10)\n",
    "        trainVal_reduced = pd.DataFrame(dimRedMethod.fit_transform(curr_df_trainVal.values,curr_df_trainVal_withTar.mean_std.values.reshape(-1, 1)))\n",
    "        test_reduced = pd.DataFrame(dimRedMethod.transform(df_test))\n",
    "        print(test_reduced.shape)\n",
    "        mod = LinearRegression().fit(trainVal_reduced, curr_df_trainVal_withTar.mean_std)\n",
    "        actual_score = mod.score(test_reduced, df_test_withTar.mean_std)\n",
    "        print(actual_score)\n",
    "        if actual_score> best_score:\n",
    "            best_score=actual_score\n",
    "            best_num = test_reduced.shape[1]\n",
    "    print(best_score)\n",
    "    print(best_num)\n",
    "    best_scores.append(best_score)\n",
    "    best_nums.append(best_num)\n",
    "compute_CI(best_scores,5)\n",
    "compute_CI(best_nums,5)"
   ]
  },
  {
   "cell_type": "code",
   "execution_count": null,
   "id": "d7ab23a3",
   "metadata": {
    "hidden": true
   },
   "outputs": [],
   "source": [
    "0.26101532597218985 +- 0.04581068695546693\n",
    "27.2 +- 6.8212505598313860"
   ]
  },
  {
   "cell_type": "markdown",
   "id": "45146ff9",
   "metadata": {},
   "source": [
    "## LLE"
   ]
  },
  {
   "cell_type": "code",
   "execution_count": 47,
   "id": "df0114e8",
   "metadata": {},
   "outputs": [
    {
     "name": "stderr",
     "output_type": "stream",
     "text": [
      "/Users/paolo/opt/miniconda3/envs/tensorflow/lib/python3.9/site-packages/sklearn/base.py:443: UserWarning: X has feature names, but LocallyLinearEmbedding was fitted without feature names\n",
      "  warnings.warn(\n",
      "/Users/paolo/opt/miniconda3/envs/tensorflow/lib/python3.9/site-packages/sklearn/base.py:443: UserWarning: X has feature names, but LocallyLinearEmbedding was fitted without feature names\n",
      "  warnings.warn(\n",
      "/Users/paolo/opt/miniconda3/envs/tensorflow/lib/python3.9/site-packages/sklearn/base.py:443: UserWarning: X has feature names, but LocallyLinearEmbedding was fitted without feature names\n",
      "  warnings.warn(\n",
      "/Users/paolo/opt/miniconda3/envs/tensorflow/lib/python3.9/site-packages/sklearn/base.py:443: UserWarning: X has feature names, but LocallyLinearEmbedding was fitted without feature names\n",
      "  warnings.warn(\n"
     ]
    },
    {
     "name": "stdout",
     "output_type": "stream",
     "text": [
      "(442, 1)\n",
      "0.5445025801660901\n",
      "(442, 2)\n",
      "0.5462416922307325\n",
      "(442, 3)\n",
      "0.5464474327223566\n",
      "(442, 4)\n",
      "0.5432544351958116\n"
     ]
    },
    {
     "name": "stderr",
     "output_type": "stream",
     "text": [
      "/Users/paolo/opt/miniconda3/envs/tensorflow/lib/python3.9/site-packages/sklearn/base.py:443: UserWarning: X has feature names, but LocallyLinearEmbedding was fitted without feature names\n",
      "  warnings.warn(\n",
      "/Users/paolo/opt/miniconda3/envs/tensorflow/lib/python3.9/site-packages/sklearn/base.py:443: UserWarning: X has feature names, but LocallyLinearEmbedding was fitted without feature names\n",
      "  warnings.warn(\n",
      "/Users/paolo/opt/miniconda3/envs/tensorflow/lib/python3.9/site-packages/sklearn/base.py:443: UserWarning: X has feature names, but LocallyLinearEmbedding was fitted without feature names\n",
      "  warnings.warn(\n",
      "/Users/paolo/opt/miniconda3/envs/tensorflow/lib/python3.9/site-packages/sklearn/base.py:443: UserWarning: X has feature names, but LocallyLinearEmbedding was fitted without feature names\n",
      "  warnings.warn(\n"
     ]
    },
    {
     "name": "stdout",
     "output_type": "stream",
     "text": [
      "(442, 5)\n",
      "0.6069821525130226\n",
      "(442, 6)\n",
      "0.6712136599154954\n",
      "(442, 7)\n",
      "0.6712486553707209\n",
      "(442, 8)\n",
      "0.6691208816047118\n"
     ]
    },
    {
     "name": "stderr",
     "output_type": "stream",
     "text": [
      "/Users/paolo/opt/miniconda3/envs/tensorflow/lib/python3.9/site-packages/sklearn/base.py:443: UserWarning: X has feature names, but LocallyLinearEmbedding was fitted without feature names\n",
      "  warnings.warn(\n",
      "/Users/paolo/opt/miniconda3/envs/tensorflow/lib/python3.9/site-packages/sklearn/base.py:443: UserWarning: X has feature names, but LocallyLinearEmbedding was fitted without feature names\n",
      "  warnings.warn(\n",
      "/Users/paolo/opt/miniconda3/envs/tensorflow/lib/python3.9/site-packages/sklearn/base.py:443: UserWarning: X has feature names, but LocallyLinearEmbedding was fitted without feature names\n",
      "  warnings.warn(\n"
     ]
    },
    {
     "name": "stdout",
     "output_type": "stream",
     "text": [
      "(442, 9)\n",
      "0.6846023433173085\n",
      "(442, 10)\n",
      "0.685561593453349\n",
      "(442, 11)\n",
      "0.6858129050318836\n"
     ]
    },
    {
     "name": "stderr",
     "output_type": "stream",
     "text": [
      "/Users/paolo/opt/miniconda3/envs/tensorflow/lib/python3.9/site-packages/sklearn/base.py:443: UserWarning: X has feature names, but LocallyLinearEmbedding was fitted without feature names\n",
      "  warnings.warn(\n",
      "/Users/paolo/opt/miniconda3/envs/tensorflow/lib/python3.9/site-packages/sklearn/base.py:443: UserWarning: X has feature names, but LocallyLinearEmbedding was fitted without feature names\n",
      "  warnings.warn(\n",
      "/Users/paolo/opt/miniconda3/envs/tensorflow/lib/python3.9/site-packages/sklearn/base.py:443: UserWarning: X has feature names, but LocallyLinearEmbedding was fitted without feature names\n",
      "  warnings.warn(\n"
     ]
    },
    {
     "name": "stdout",
     "output_type": "stream",
     "text": [
      "(442, 12)\n",
      "0.6798544036773022\n",
      "(442, 13)\n",
      "0.6797243341360804\n",
      "(442, 14)\n",
      "0.6801096719302624\n"
     ]
    },
    {
     "name": "stderr",
     "output_type": "stream",
     "text": [
      "/Users/paolo/opt/miniconda3/envs/tensorflow/lib/python3.9/site-packages/sklearn/base.py:443: UserWarning: X has feature names, but LocallyLinearEmbedding was fitted without feature names\n",
      "  warnings.warn(\n",
      "/Users/paolo/opt/miniconda3/envs/tensorflow/lib/python3.9/site-packages/sklearn/base.py:443: UserWarning: X has feature names, but LocallyLinearEmbedding was fitted without feature names\n",
      "  warnings.warn(\n",
      "/Users/paolo/opt/miniconda3/envs/tensorflow/lib/python3.9/site-packages/sklearn/base.py:443: UserWarning: X has feature names, but LocallyLinearEmbedding was fitted without feature names\n",
      "  warnings.warn(\n"
     ]
    },
    {
     "name": "stdout",
     "output_type": "stream",
     "text": [
      "(442, 15)\n",
      "0.6855113645894213\n",
      "(442, 16)\n",
      "0.682589313311522\n",
      "(442, 17)\n",
      "0.6840474741330915\n"
     ]
    },
    {
     "name": "stderr",
     "output_type": "stream",
     "text": [
      "/Users/paolo/opt/miniconda3/envs/tensorflow/lib/python3.9/site-packages/sklearn/base.py:443: UserWarning: X has feature names, but LocallyLinearEmbedding was fitted without feature names\n",
      "  warnings.warn(\n",
      "/Users/paolo/opt/miniconda3/envs/tensorflow/lib/python3.9/site-packages/sklearn/base.py:443: UserWarning: X has feature names, but LocallyLinearEmbedding was fitted without feature names\n",
      "  warnings.warn(\n"
     ]
    },
    {
     "name": "stdout",
     "output_type": "stream",
     "text": [
      "(442, 18)\n",
      "0.6843190528431036\n",
      "(442, 19)\n",
      "0.689116130469767\n"
     ]
    },
    {
     "name": "stderr",
     "output_type": "stream",
     "text": [
      "/Users/paolo/opt/miniconda3/envs/tensorflow/lib/python3.9/site-packages/sklearn/base.py:443: UserWarning: X has feature names, but LocallyLinearEmbedding was fitted without feature names\n",
      "  warnings.warn(\n",
      "/Users/paolo/opt/miniconda3/envs/tensorflow/lib/python3.9/site-packages/sklearn/base.py:443: UserWarning: X has feature names, but LocallyLinearEmbedding was fitted without feature names\n",
      "  warnings.warn(\n"
     ]
    },
    {
     "name": "stdout",
     "output_type": "stream",
     "text": [
      "(442, 20)\n",
      "0.6913945806641693\n",
      "(442, 21)\n",
      "0.6900608573396345\n"
     ]
    },
    {
     "name": "stderr",
     "output_type": "stream",
     "text": [
      "/Users/paolo/opt/miniconda3/envs/tensorflow/lib/python3.9/site-packages/sklearn/base.py:443: UserWarning: X has feature names, but LocallyLinearEmbedding was fitted without feature names\n",
      "  warnings.warn(\n",
      "/Users/paolo/opt/miniconda3/envs/tensorflow/lib/python3.9/site-packages/sklearn/base.py:443: UserWarning: X has feature names, but LocallyLinearEmbedding was fitted without feature names\n",
      "  warnings.warn(\n",
      "/Users/paolo/opt/miniconda3/envs/tensorflow/lib/python3.9/site-packages/sklearn/base.py:443: UserWarning: X has feature names, but LocallyLinearEmbedding was fitted without feature names\n",
      "  warnings.warn(\n"
     ]
    },
    {
     "name": "stdout",
     "output_type": "stream",
     "text": [
      "(442, 22)\n",
      "0.6914208889031129\n",
      "(442, 23)\n",
      "0.6912789280354286\n",
      "(442, 24)\n",
      "0.6928394482933415\n"
     ]
    },
    {
     "name": "stderr",
     "output_type": "stream",
     "text": [
      "/Users/paolo/opt/miniconda3/envs/tensorflow/lib/python3.9/site-packages/sklearn/base.py:443: UserWarning: X has feature names, but LocallyLinearEmbedding was fitted without feature names\n",
      "  warnings.warn(\n",
      "/Users/paolo/opt/miniconda3/envs/tensorflow/lib/python3.9/site-packages/sklearn/base.py:443: UserWarning: X has feature names, but LocallyLinearEmbedding was fitted without feature names\n",
      "  warnings.warn(\n",
      "/Users/paolo/opt/miniconda3/envs/tensorflow/lib/python3.9/site-packages/sklearn/base.py:443: UserWarning: X has feature names, but LocallyLinearEmbedding was fitted without feature names\n",
      "  warnings.warn(\n"
     ]
    },
    {
     "name": "stdout",
     "output_type": "stream",
     "text": [
      "(442, 25)\n",
      "0.6909092230078173\n",
      "(442, 26)\n",
      "0.6903352411619752\n",
      "(442, 27)\n",
      "0.6888746246373848\n"
     ]
    },
    {
     "name": "stderr",
     "output_type": "stream",
     "text": [
      "/Users/paolo/opt/miniconda3/envs/tensorflow/lib/python3.9/site-packages/sklearn/base.py:443: UserWarning: X has feature names, but LocallyLinearEmbedding was fitted without feature names\n",
      "  warnings.warn(\n",
      "/Users/paolo/opt/miniconda3/envs/tensorflow/lib/python3.9/site-packages/sklearn/base.py:443: UserWarning: X has feature names, but LocallyLinearEmbedding was fitted without feature names\n",
      "  warnings.warn(\n",
      "/Users/paolo/opt/miniconda3/envs/tensorflow/lib/python3.9/site-packages/sklearn/base.py:443: UserWarning: X has feature names, but LocallyLinearEmbedding was fitted without feature names\n",
      "  warnings.warn(\n"
     ]
    },
    {
     "name": "stdout",
     "output_type": "stream",
     "text": [
      "(442, 28)\n",
      "0.6907334802383296\n",
      "(442, 29)\n",
      "0.689547137080907\n",
      "(442, 30)\n",
      "0.6911095731169961\n",
      "(442, 31)\n",
      "0.6864884146410444\n"
     ]
    },
    {
     "name": "stderr",
     "output_type": "stream",
     "text": [
      "/Users/paolo/opt/miniconda3/envs/tensorflow/lib/python3.9/site-packages/sklearn/base.py:443: UserWarning: X has feature names, but LocallyLinearEmbedding was fitted without feature names\n",
      "  warnings.warn(\n",
      "/Users/paolo/opt/miniconda3/envs/tensorflow/lib/python3.9/site-packages/sklearn/base.py:443: UserWarning: X has feature names, but LocallyLinearEmbedding was fitted without feature names\n",
      "  warnings.warn(\n"
     ]
    },
    {
     "name": "stdout",
     "output_type": "stream",
     "text": [
      "(442, 32)\n",
      "0.6833817980050892\n",
      "(442, 33)\n",
      "0.6806609974164453\n",
      "(442, 34)\n"
     ]
    },
    {
     "name": "stderr",
     "output_type": "stream",
     "text": [
      "/Users/paolo/opt/miniconda3/envs/tensorflow/lib/python3.9/site-packages/sklearn/base.py:443: UserWarning: X has feature names, but LocallyLinearEmbedding was fitted without feature names\n",
      "  warnings.warn(\n",
      "/Users/paolo/opt/miniconda3/envs/tensorflow/lib/python3.9/site-packages/sklearn/base.py:443: UserWarning: X has feature names, but LocallyLinearEmbedding was fitted without feature names\n",
      "  warnings.warn(\n",
      "/Users/paolo/opt/miniconda3/envs/tensorflow/lib/python3.9/site-packages/sklearn/base.py:443: UserWarning: X has feature names, but LocallyLinearEmbedding was fitted without feature names\n",
      "  warnings.warn(\n"
     ]
    },
    {
     "name": "stdout",
     "output_type": "stream",
     "text": [
      "0.6800045421502146\n",
      "(442, 35)\n",
      "0.6814623636464117\n",
      "(442, 36)\n",
      "0.6805534478773303\n"
     ]
    },
    {
     "name": "stderr",
     "output_type": "stream",
     "text": [
      "/Users/paolo/opt/miniconda3/envs/tensorflow/lib/python3.9/site-packages/sklearn/base.py:443: UserWarning: X has feature names, but LocallyLinearEmbedding was fitted without feature names\n",
      "  warnings.warn(\n",
      "/Users/paolo/opt/miniconda3/envs/tensorflow/lib/python3.9/site-packages/sklearn/base.py:443: UserWarning: X has feature names, but LocallyLinearEmbedding was fitted without feature names\n",
      "  warnings.warn(\n"
     ]
    },
    {
     "name": "stdout",
     "output_type": "stream",
     "text": [
      "(442, 37)\n",
      "0.6820137290749807\n",
      "(442, 38)\n",
      "0.6934357539412495\n"
     ]
    },
    {
     "name": "stderr",
     "output_type": "stream",
     "text": [
      "/Users/paolo/opt/miniconda3/envs/tensorflow/lib/python3.9/site-packages/sklearn/base.py:443: UserWarning: X has feature names, but LocallyLinearEmbedding was fitted without feature names\n",
      "  warnings.warn(\n",
      "/Users/paolo/opt/miniconda3/envs/tensorflow/lib/python3.9/site-packages/sklearn/base.py:443: UserWarning: X has feature names, but LocallyLinearEmbedding was fitted without feature names\n",
      "  warnings.warn(\n"
     ]
    },
    {
     "name": "stdout",
     "output_type": "stream",
     "text": [
      "(442, 39)\n",
      "0.6931821420103232\n",
      "(442, 40)\n",
      "0.6930648802146251\n"
     ]
    },
    {
     "name": "stderr",
     "output_type": "stream",
     "text": [
      "/Users/paolo/opt/miniconda3/envs/tensorflow/lib/python3.9/site-packages/sklearn/base.py:443: UserWarning: X has feature names, but LocallyLinearEmbedding was fitted without feature names\n",
      "  warnings.warn(\n",
      "/Users/paolo/opt/miniconda3/envs/tensorflow/lib/python3.9/site-packages/sklearn/base.py:443: UserWarning: X has feature names, but LocallyLinearEmbedding was fitted without feature names\n",
      "  warnings.warn(\n"
     ]
    },
    {
     "name": "stdout",
     "output_type": "stream",
     "text": [
      "(442, 41)\n",
      "0.6926263249961583\n",
      "(442, 42)\n",
      "0.6905270069312359\n"
     ]
    },
    {
     "name": "stderr",
     "output_type": "stream",
     "text": [
      "/Users/paolo/opt/miniconda3/envs/tensorflow/lib/python3.9/site-packages/sklearn/base.py:443: UserWarning: X has feature names, but LocallyLinearEmbedding was fitted without feature names\n",
      "  warnings.warn(\n",
      "/Users/paolo/opt/miniconda3/envs/tensorflow/lib/python3.9/site-packages/sklearn/base.py:443: UserWarning: X has feature names, but LocallyLinearEmbedding was fitted without feature names\n",
      "  warnings.warn(\n"
     ]
    },
    {
     "name": "stdout",
     "output_type": "stream",
     "text": [
      "(442, 43)\n",
      "0.6903613307588541\n",
      "(442, 44)\n",
      "0.6919021999702324\n"
     ]
    },
    {
     "name": "stderr",
     "output_type": "stream",
     "text": [
      "/Users/paolo/opt/miniconda3/envs/tensorflow/lib/python3.9/site-packages/sklearn/base.py:443: UserWarning: X has feature names, but LocallyLinearEmbedding was fitted without feature names\n",
      "  warnings.warn(\n",
      "/Users/paolo/opt/miniconda3/envs/tensorflow/lib/python3.9/site-packages/sklearn/base.py:443: UserWarning: X has feature names, but LocallyLinearEmbedding was fitted without feature names\n",
      "  warnings.warn(\n"
     ]
    },
    {
     "name": "stdout",
     "output_type": "stream",
     "text": [
      "(442, 45)\n",
      "0.6863959219187079\n",
      "(442, 46)\n",
      "0.6884375849937905\n"
     ]
    },
    {
     "name": "stderr",
     "output_type": "stream",
     "text": [
      "/Users/paolo/opt/miniconda3/envs/tensorflow/lib/python3.9/site-packages/sklearn/base.py:443: UserWarning: X has feature names, but LocallyLinearEmbedding was fitted without feature names\n",
      "  warnings.warn(\n",
      "/Users/paolo/opt/miniconda3/envs/tensorflow/lib/python3.9/site-packages/sklearn/base.py:443: UserWarning: X has feature names, but LocallyLinearEmbedding was fitted without feature names\n",
      "  warnings.warn(\n"
     ]
    },
    {
     "name": "stdout",
     "output_type": "stream",
     "text": [
      "(442, 47)\n",
      "0.6884226207026896\n",
      "(442, 48)\n",
      "0.6925024464936549\n"
     ]
    },
    {
     "name": "stderr",
     "output_type": "stream",
     "text": [
      "/Users/paolo/opt/miniconda3/envs/tensorflow/lib/python3.9/site-packages/sklearn/base.py:443: UserWarning: X has feature names, but LocallyLinearEmbedding was fitted without feature names\n",
      "  warnings.warn(\n",
      "/Users/paolo/opt/miniconda3/envs/tensorflow/lib/python3.9/site-packages/sklearn/base.py:443: UserWarning: X has feature names, but LocallyLinearEmbedding was fitted without feature names\n",
      "  warnings.warn(\n"
     ]
    },
    {
     "name": "stdout",
     "output_type": "stream",
     "text": [
      "(442, 49)\n",
      "0.7009096731319058\n",
      "(442, 50)\n",
      "0.7016723411678509\n",
      "0.7016723411678509\n",
      "50\n",
      "(442, 1)\n",
      "0.08389143468468796\n"
     ]
    },
    {
     "name": "stderr",
     "output_type": "stream",
     "text": [
      "/Users/paolo/opt/miniconda3/envs/tensorflow/lib/python3.9/site-packages/sklearn/base.py:443: UserWarning: X has feature names, but LocallyLinearEmbedding was fitted without feature names\n",
      "  warnings.warn(\n",
      "/Users/paolo/opt/miniconda3/envs/tensorflow/lib/python3.9/site-packages/sklearn/base.py:443: UserWarning: X has feature names, but LocallyLinearEmbedding was fitted without feature names\n",
      "  warnings.warn(\n",
      "/Users/paolo/opt/miniconda3/envs/tensorflow/lib/python3.9/site-packages/sklearn/base.py:443: UserWarning: X has feature names, but LocallyLinearEmbedding was fitted without feature names\n",
      "  warnings.warn(\n"
     ]
    },
    {
     "name": "stdout",
     "output_type": "stream",
     "text": [
      "(442, 2)\n",
      "0.08521580272924478\n",
      "(442, 3)\n",
      "0.08574540868562164\n",
      "(442, 4)\n",
      "0.4881693109908053\n"
     ]
    },
    {
     "name": "stderr",
     "output_type": "stream",
     "text": [
      "/Users/paolo/opt/miniconda3/envs/tensorflow/lib/python3.9/site-packages/sklearn/base.py:443: UserWarning: X has feature names, but LocallyLinearEmbedding was fitted without feature names\n",
      "  warnings.warn(\n",
      "/Users/paolo/opt/miniconda3/envs/tensorflow/lib/python3.9/site-packages/sklearn/base.py:443: UserWarning: X has feature names, but LocallyLinearEmbedding was fitted without feature names\n",
      "  warnings.warn(\n",
      "/Users/paolo/opt/miniconda3/envs/tensorflow/lib/python3.9/site-packages/sklearn/base.py:443: UserWarning: X has feature names, but LocallyLinearEmbedding was fitted without feature names\n",
      "  warnings.warn(\n"
     ]
    },
    {
     "name": "stdout",
     "output_type": "stream",
     "text": [
      "(442, 5)\n",
      "0.7051754584685253\n",
      "(442, 6)\n",
      "0.7047122022594556\n",
      "(442, 7)\n",
      "0.7163838456617813\n"
     ]
    },
    {
     "name": "stderr",
     "output_type": "stream",
     "text": [
      "/Users/paolo/opt/miniconda3/envs/tensorflow/lib/python3.9/site-packages/sklearn/base.py:443: UserWarning: X has feature names, but LocallyLinearEmbedding was fitted without feature names\n",
      "  warnings.warn(\n",
      "/Users/paolo/opt/miniconda3/envs/tensorflow/lib/python3.9/site-packages/sklearn/base.py:443: UserWarning: X has feature names, but LocallyLinearEmbedding was fitted without feature names\n",
      "  warnings.warn(\n",
      "/Users/paolo/opt/miniconda3/envs/tensorflow/lib/python3.9/site-packages/sklearn/base.py:443: UserWarning: X has feature names, but LocallyLinearEmbedding was fitted without feature names\n",
      "  warnings.warn(\n"
     ]
    },
    {
     "name": "stdout",
     "output_type": "stream",
     "text": [
      "(442, 8)\n",
      "0.7156438987788738\n",
      "(442, 9)\n",
      "0.7212198293555876\n",
      "(442, 10)\n",
      "0.7218839591699806\n"
     ]
    },
    {
     "name": "stderr",
     "output_type": "stream",
     "text": [
      "/Users/paolo/opt/miniconda3/envs/tensorflow/lib/python3.9/site-packages/sklearn/base.py:443: UserWarning: X has feature names, but LocallyLinearEmbedding was fitted without feature names\n",
      "  warnings.warn(\n",
      "/Users/paolo/opt/miniconda3/envs/tensorflow/lib/python3.9/site-packages/sklearn/base.py:443: UserWarning: X has feature names, but LocallyLinearEmbedding was fitted without feature names\n",
      "  warnings.warn(\n",
      "/Users/paolo/opt/miniconda3/envs/tensorflow/lib/python3.9/site-packages/sklearn/base.py:443: UserWarning: X has feature names, but LocallyLinearEmbedding was fitted without feature names\n",
      "  warnings.warn(\n"
     ]
    },
    {
     "name": "stdout",
     "output_type": "stream",
     "text": [
      "(442, 11)\n",
      "0.7220825809976165\n",
      "(442, 12)\n",
      "0.7185921820574286\n"
     ]
    },
    {
     "name": "stderr",
     "output_type": "stream",
     "text": [
      "/Users/paolo/opt/miniconda3/envs/tensorflow/lib/python3.9/site-packages/sklearn/base.py:443: UserWarning: X has feature names, but LocallyLinearEmbedding was fitted without feature names\n",
      "  warnings.warn(\n",
      "/Users/paolo/opt/miniconda3/envs/tensorflow/lib/python3.9/site-packages/sklearn/base.py:443: UserWarning: X has feature names, but LocallyLinearEmbedding was fitted without feature names\n",
      "  warnings.warn(\n",
      "/Users/paolo/opt/miniconda3/envs/tensorflow/lib/python3.9/site-packages/sklearn/base.py:443: UserWarning: X has feature names, but LocallyLinearEmbedding was fitted without feature names\n",
      "  warnings.warn(\n"
     ]
    },
    {
     "name": "stdout",
     "output_type": "stream",
     "text": [
      "(442, 13)\n",
      "0.7187848061347518\n",
      "(442, 14)\n",
      "0.7248427812874217\n",
      "(442, 15)\n",
      "0.7269130414888865\n"
     ]
    },
    {
     "name": "stderr",
     "output_type": "stream",
     "text": [
      "/Users/paolo/opt/miniconda3/envs/tensorflow/lib/python3.9/site-packages/sklearn/base.py:443: UserWarning: X has feature names, but LocallyLinearEmbedding was fitted without feature names\n",
      "  warnings.warn(\n",
      "/Users/paolo/opt/miniconda3/envs/tensorflow/lib/python3.9/site-packages/sklearn/base.py:443: UserWarning: X has feature names, but LocallyLinearEmbedding was fitted without feature names\n",
      "  warnings.warn(\n",
      "/Users/paolo/opt/miniconda3/envs/tensorflow/lib/python3.9/site-packages/sklearn/base.py:443: UserWarning: X has feature names, but LocallyLinearEmbedding was fitted without feature names\n",
      "  warnings.warn(\n"
     ]
    },
    {
     "name": "stdout",
     "output_type": "stream",
     "text": [
      "(442, 16)\n",
      "0.7322760205188047\n",
      "(442, 17)\n",
      "0.7322550932279825\n"
     ]
    },
    {
     "name": "stderr",
     "output_type": "stream",
     "text": [
      "/Users/paolo/opt/miniconda3/envs/tensorflow/lib/python3.9/site-packages/sklearn/base.py:443: UserWarning: X has feature names, but LocallyLinearEmbedding was fitted without feature names\n",
      "  warnings.warn(\n",
      "/Users/paolo/opt/miniconda3/envs/tensorflow/lib/python3.9/site-packages/sklearn/base.py:443: UserWarning: X has feature names, but LocallyLinearEmbedding was fitted without feature names\n",
      "  warnings.warn(\n",
      "/Users/paolo/opt/miniconda3/envs/tensorflow/lib/python3.9/site-packages/sklearn/base.py:443: UserWarning: X has feature names, but LocallyLinearEmbedding was fitted without feature names\n",
      "  warnings.warn(\n"
     ]
    },
    {
     "name": "stdout",
     "output_type": "stream",
     "text": [
      "(442, 18)\n",
      "0.7353211435660558\n",
      "(442, 19)\n",
      "0.7509295460708572\n",
      "(442, 20)\n",
      "0.7536680950110076\n"
     ]
    },
    {
     "name": "stderr",
     "output_type": "stream",
     "text": [
      "/Users/paolo/opt/miniconda3/envs/tensorflow/lib/python3.9/site-packages/sklearn/base.py:443: UserWarning: X has feature names, but LocallyLinearEmbedding was fitted without feature names\n",
      "  warnings.warn(\n",
      "/Users/paolo/opt/miniconda3/envs/tensorflow/lib/python3.9/site-packages/sklearn/base.py:443: UserWarning: X has feature names, but LocallyLinearEmbedding was fitted without feature names\n",
      "  warnings.warn(\n"
     ]
    },
    {
     "name": "stdout",
     "output_type": "stream",
     "text": [
      "(442, 21)\n",
      "0.7532042234238225\n",
      "(442, 22)\n",
      "0.7629989069496959\n"
     ]
    },
    {
     "name": "stderr",
     "output_type": "stream",
     "text": [
      "/Users/paolo/opt/miniconda3/envs/tensorflow/lib/python3.9/site-packages/sklearn/base.py:443: UserWarning: X has feature names, but LocallyLinearEmbedding was fitted without feature names\n",
      "  warnings.warn(\n",
      "/Users/paolo/opt/miniconda3/envs/tensorflow/lib/python3.9/site-packages/sklearn/base.py:443: UserWarning: X has feature names, but LocallyLinearEmbedding was fitted without feature names\n",
      "  warnings.warn(\n"
     ]
    },
    {
     "name": "stdout",
     "output_type": "stream",
     "text": [
      "(442, 23)\n",
      "0.7769401049736986\n",
      "(442, 24)\n",
      "0.7735972545868883\n"
     ]
    },
    {
     "name": "stderr",
     "output_type": "stream",
     "text": [
      "/Users/paolo/opt/miniconda3/envs/tensorflow/lib/python3.9/site-packages/sklearn/base.py:443: UserWarning: X has feature names, but LocallyLinearEmbedding was fitted without feature names\n",
      "  warnings.warn(\n",
      "/Users/paolo/opt/miniconda3/envs/tensorflow/lib/python3.9/site-packages/sklearn/base.py:443: UserWarning: X has feature names, but LocallyLinearEmbedding was fitted without feature names\n",
      "  warnings.warn(\n"
     ]
    },
    {
     "name": "stdout",
     "output_type": "stream",
     "text": [
      "(442, 25)\n",
      "0.7735033193708803\n",
      "(442, 26)\n",
      "0.773553339772149\n"
     ]
    },
    {
     "name": "stderr",
     "output_type": "stream",
     "text": [
      "/Users/paolo/opt/miniconda3/envs/tensorflow/lib/python3.9/site-packages/sklearn/base.py:443: UserWarning: X has feature names, but LocallyLinearEmbedding was fitted without feature names\n",
      "  warnings.warn(\n",
      "/Users/paolo/opt/miniconda3/envs/tensorflow/lib/python3.9/site-packages/sklearn/base.py:443: UserWarning: X has feature names, but LocallyLinearEmbedding was fitted without feature names\n",
      "  warnings.warn(\n"
     ]
    },
    {
     "name": "stdout",
     "output_type": "stream",
     "text": [
      "(442, 27)\n",
      "0.7763520443617468\n",
      "(442, 28)\n",
      "0.7761101270516569\n"
     ]
    },
    {
     "name": "stderr",
     "output_type": "stream",
     "text": [
      "/Users/paolo/opt/miniconda3/envs/tensorflow/lib/python3.9/site-packages/sklearn/base.py:443: UserWarning: X has feature names, but LocallyLinearEmbedding was fitted without feature names\n",
      "  warnings.warn(\n",
      "/Users/paolo/opt/miniconda3/envs/tensorflow/lib/python3.9/site-packages/sklearn/base.py:443: UserWarning: X has feature names, but LocallyLinearEmbedding was fitted without feature names\n",
      "  warnings.warn(\n"
     ]
    },
    {
     "name": "stdout",
     "output_type": "stream",
     "text": [
      "(442, 29)\n",
      "0.7766693287779899\n",
      "(442, 30)\n",
      "0.7770860203296064\n"
     ]
    },
    {
     "name": "stderr",
     "output_type": "stream",
     "text": [
      "/Users/paolo/opt/miniconda3/envs/tensorflow/lib/python3.9/site-packages/sklearn/base.py:443: UserWarning: X has feature names, but LocallyLinearEmbedding was fitted without feature names\n",
      "  warnings.warn(\n",
      "/Users/paolo/opt/miniconda3/envs/tensorflow/lib/python3.9/site-packages/sklearn/base.py:443: UserWarning: X has feature names, but LocallyLinearEmbedding was fitted without feature names\n",
      "  warnings.warn(\n"
     ]
    },
    {
     "name": "stdout",
     "output_type": "stream",
     "text": [
      "(442, 31)\n",
      "0.7771563768054562\n",
      "(442, 32)\n",
      "0.7764447444338023\n"
     ]
    },
    {
     "name": "stderr",
     "output_type": "stream",
     "text": [
      "/Users/paolo/opt/miniconda3/envs/tensorflow/lib/python3.9/site-packages/sklearn/base.py:443: UserWarning: X has feature names, but LocallyLinearEmbedding was fitted without feature names\n",
      "  warnings.warn(\n",
      "/Users/paolo/opt/miniconda3/envs/tensorflow/lib/python3.9/site-packages/sklearn/base.py:443: UserWarning: X has feature names, but LocallyLinearEmbedding was fitted without feature names\n",
      "  warnings.warn(\n"
     ]
    },
    {
     "name": "stdout",
     "output_type": "stream",
     "text": [
      "(442, 33)\n",
      "0.776661653183714\n",
      "(442, 34)\n",
      "0.7765576217184985\n"
     ]
    },
    {
     "name": "stderr",
     "output_type": "stream",
     "text": [
      "/Users/paolo/opt/miniconda3/envs/tensorflow/lib/python3.9/site-packages/sklearn/base.py:443: UserWarning: X has feature names, but LocallyLinearEmbedding was fitted without feature names\n",
      "  warnings.warn(\n",
      "/Users/paolo/opt/miniconda3/envs/tensorflow/lib/python3.9/site-packages/sklearn/base.py:443: UserWarning: X has feature names, but LocallyLinearEmbedding was fitted without feature names\n",
      "  warnings.warn(\n"
     ]
    },
    {
     "name": "stdout",
     "output_type": "stream",
     "text": [
      "(442, 35)\n",
      "0.7767774166603839\n",
      "(442, 36)\n",
      "0.7767322786808042\n"
     ]
    },
    {
     "name": "stderr",
     "output_type": "stream",
     "text": [
      "/Users/paolo/opt/miniconda3/envs/tensorflow/lib/python3.9/site-packages/sklearn/base.py:443: UserWarning: X has feature names, but LocallyLinearEmbedding was fitted without feature names\n",
      "  warnings.warn(\n",
      "/Users/paolo/opt/miniconda3/envs/tensorflow/lib/python3.9/site-packages/sklearn/base.py:443: UserWarning: X has feature names, but LocallyLinearEmbedding was fitted without feature names\n",
      "  warnings.warn(\n"
     ]
    },
    {
     "name": "stdout",
     "output_type": "stream",
     "text": [
      "(442, 37)\n",
      "0.7765679170854044\n",
      "(442, 38)\n",
      "0.776587717180723\n"
     ]
    },
    {
     "name": "stderr",
     "output_type": "stream",
     "text": [
      "/Users/paolo/opt/miniconda3/envs/tensorflow/lib/python3.9/site-packages/sklearn/base.py:443: UserWarning: X has feature names, but LocallyLinearEmbedding was fitted without feature names\n",
      "  warnings.warn(\n",
      "/Users/paolo/opt/miniconda3/envs/tensorflow/lib/python3.9/site-packages/sklearn/base.py:443: UserWarning: X has feature names, but LocallyLinearEmbedding was fitted without feature names\n",
      "  warnings.warn(\n",
      "/Users/paolo/opt/miniconda3/envs/tensorflow/lib/python3.9/site-packages/sklearn/base.py:443: UserWarning: X has feature names, but LocallyLinearEmbedding was fitted without feature names\n",
      "  warnings.warn(\n"
     ]
    },
    {
     "name": "stdout",
     "output_type": "stream",
     "text": [
      "(442, 39)\n",
      "0.7757304585112282\n",
      "(442, 40)\n",
      "0.7769338497497491\n",
      "(442, 41)\n",
      "0.7785613968006846\n",
      "(442, 42)\n",
      "0.7778833260625171\n"
     ]
    },
    {
     "name": "stderr",
     "output_type": "stream",
     "text": [
      "/Users/paolo/opt/miniconda3/envs/tensorflow/lib/python3.9/site-packages/sklearn/base.py:443: UserWarning: X has feature names, but LocallyLinearEmbedding was fitted without feature names\n",
      "  warnings.warn(\n",
      "/Users/paolo/opt/miniconda3/envs/tensorflow/lib/python3.9/site-packages/sklearn/base.py:443: UserWarning: X has feature names, but LocallyLinearEmbedding was fitted without feature names\n",
      "  warnings.warn(\n"
     ]
    },
    {
     "name": "stdout",
     "output_type": "stream",
     "text": [
      "(442, 43)\n",
      "0.7817275896231908\n",
      "(442, 44)\n",
      "0.7819641939982254\n"
     ]
    },
    {
     "name": "stderr",
     "output_type": "stream",
     "text": [
      "/Users/paolo/opt/miniconda3/envs/tensorflow/lib/python3.9/site-packages/sklearn/base.py:443: UserWarning: X has feature names, but LocallyLinearEmbedding was fitted without feature names\n",
      "  warnings.warn(\n",
      "/Users/paolo/opt/miniconda3/envs/tensorflow/lib/python3.9/site-packages/sklearn/base.py:443: UserWarning: X has feature names, but LocallyLinearEmbedding was fitted without feature names\n",
      "  warnings.warn(\n"
     ]
    },
    {
     "name": "stdout",
     "output_type": "stream",
     "text": [
      "(442, 45)\n",
      "0.7816012647015007\n",
      "(442, 46)\n",
      "0.7813891850446678\n"
     ]
    },
    {
     "name": "stderr",
     "output_type": "stream",
     "text": [
      "/Users/paolo/opt/miniconda3/envs/tensorflow/lib/python3.9/site-packages/sklearn/base.py:443: UserWarning: X has feature names, but LocallyLinearEmbedding was fitted without feature names\n",
      "  warnings.warn(\n",
      "/Users/paolo/opt/miniconda3/envs/tensorflow/lib/python3.9/site-packages/sklearn/base.py:443: UserWarning: X has feature names, but LocallyLinearEmbedding was fitted without feature names\n",
      "  warnings.warn(\n"
     ]
    },
    {
     "name": "stdout",
     "output_type": "stream",
     "text": [
      "(442, 47)\n",
      "0.7812329811118944\n",
      "(442, 48)\n",
      "0.7807536756397845\n"
     ]
    },
    {
     "name": "stderr",
     "output_type": "stream",
     "text": [
      "/Users/paolo/opt/miniconda3/envs/tensorflow/lib/python3.9/site-packages/sklearn/base.py:443: UserWarning: X has feature names, but LocallyLinearEmbedding was fitted without feature names\n",
      "  warnings.warn(\n",
      "/Users/paolo/opt/miniconda3/envs/tensorflow/lib/python3.9/site-packages/sklearn/base.py:443: UserWarning: X has feature names, but LocallyLinearEmbedding was fitted without feature names\n",
      "  warnings.warn(\n"
     ]
    },
    {
     "name": "stdout",
     "output_type": "stream",
     "text": [
      "(442, 49)\n",
      "0.7698116914296486\n",
      "(442, 50)\n",
      "0.7698329962886049\n",
      "0.7819641939982254\n",
      "44\n",
      "(442, 1)\n",
      "0.002084524200922644\n"
     ]
    },
    {
     "name": "stderr",
     "output_type": "stream",
     "text": [
      "/Users/paolo/opt/miniconda3/envs/tensorflow/lib/python3.9/site-packages/sklearn/base.py:443: UserWarning: X has feature names, but LocallyLinearEmbedding was fitted without feature names\n",
      "  warnings.warn(\n",
      "/Users/paolo/opt/miniconda3/envs/tensorflow/lib/python3.9/site-packages/sklearn/base.py:443: UserWarning: X has feature names, but LocallyLinearEmbedding was fitted without feature names\n",
      "  warnings.warn(\n",
      "/Users/paolo/opt/miniconda3/envs/tensorflow/lib/python3.9/site-packages/sklearn/base.py:443: UserWarning: X has feature names, but LocallyLinearEmbedding was fitted without feature names\n",
      "  warnings.warn(\n",
      "/Users/paolo/opt/miniconda3/envs/tensorflow/lib/python3.9/site-packages/sklearn/base.py:443: UserWarning: X has feature names, but LocallyLinearEmbedding was fitted without feature names\n",
      "  warnings.warn(\n"
     ]
    },
    {
     "name": "stdout",
     "output_type": "stream",
     "text": [
      "(442, 2)\n",
      "-0.0015581985081127847\n",
      "(442, 3)\n",
      "0.008882209931194818\n",
      "(442, 4)\n",
      "0.3553519649772634\n",
      "(442, 5)\n",
      "0.22068733026116472\n"
     ]
    },
    {
     "name": "stderr",
     "output_type": "stream",
     "text": [
      "/Users/paolo/opt/miniconda3/envs/tensorflow/lib/python3.9/site-packages/sklearn/base.py:443: UserWarning: X has feature names, but LocallyLinearEmbedding was fitted without feature names\n",
      "  warnings.warn(\n",
      "/Users/paolo/opt/miniconda3/envs/tensorflow/lib/python3.9/site-packages/sklearn/base.py:443: UserWarning: X has feature names, but LocallyLinearEmbedding was fitted without feature names\n",
      "  warnings.warn(\n",
      "/Users/paolo/opt/miniconda3/envs/tensorflow/lib/python3.9/site-packages/sklearn/base.py:443: UserWarning: X has feature names, but LocallyLinearEmbedding was fitted without feature names\n",
      "  warnings.warn(\n",
      "/Users/paolo/opt/miniconda3/envs/tensorflow/lib/python3.9/site-packages/sklearn/base.py:443: UserWarning: X has feature names, but LocallyLinearEmbedding was fitted without feature names\n",
      "  warnings.warn(\n"
     ]
    },
    {
     "name": "stdout",
     "output_type": "stream",
     "text": [
      "(442, 6)\n",
      "0.22720170896332603\n",
      "(442, 7)\n",
      "0.24805149263946935\n",
      "(442, 8)\n",
      "0.6060065709571618\n"
     ]
    },
    {
     "name": "stderr",
     "output_type": "stream",
     "text": [
      "/Users/paolo/opt/miniconda3/envs/tensorflow/lib/python3.9/site-packages/sklearn/base.py:443: UserWarning: X has feature names, but LocallyLinearEmbedding was fitted without feature names\n",
      "  warnings.warn(\n",
      "/Users/paolo/opt/miniconda3/envs/tensorflow/lib/python3.9/site-packages/sklearn/base.py:443: UserWarning: X has feature names, but LocallyLinearEmbedding was fitted without feature names\n",
      "  warnings.warn(\n",
      "/Users/paolo/opt/miniconda3/envs/tensorflow/lib/python3.9/site-packages/sklearn/base.py:443: UserWarning: X has feature names, but LocallyLinearEmbedding was fitted without feature names\n",
      "  warnings.warn(\n"
     ]
    },
    {
     "name": "stdout",
     "output_type": "stream",
     "text": [
      "(442, 9)\n",
      "0.6293172871199202\n",
      "(442, 10)\n",
      "0.68836722739616\n",
      "(442, 11)\n",
      "0.6932331986147223\n"
     ]
    },
    {
     "name": "stderr",
     "output_type": "stream",
     "text": [
      "/Users/paolo/opt/miniconda3/envs/tensorflow/lib/python3.9/site-packages/sklearn/base.py:443: UserWarning: X has feature names, but LocallyLinearEmbedding was fitted without feature names\n",
      "  warnings.warn(\n",
      "/Users/paolo/opt/miniconda3/envs/tensorflow/lib/python3.9/site-packages/sklearn/base.py:443: UserWarning: X has feature names, but LocallyLinearEmbedding was fitted without feature names\n",
      "  warnings.warn(\n",
      "/Users/paolo/opt/miniconda3/envs/tensorflow/lib/python3.9/site-packages/sklearn/base.py:443: UserWarning: X has feature names, but LocallyLinearEmbedding was fitted without feature names\n",
      "  warnings.warn(\n"
     ]
    },
    {
     "name": "stdout",
     "output_type": "stream",
     "text": [
      "(442, 12)\n",
      "0.6804069031396214\n",
      "(442, 13)\n",
      "0.687482470181485\n",
      "(442, 14)\n",
      "0.6815426636955295\n"
     ]
    },
    {
     "name": "stderr",
     "output_type": "stream",
     "text": [
      "/Users/paolo/opt/miniconda3/envs/tensorflow/lib/python3.9/site-packages/sklearn/base.py:443: UserWarning: X has feature names, but LocallyLinearEmbedding was fitted without feature names\n",
      "  warnings.warn(\n",
      "/Users/paolo/opt/miniconda3/envs/tensorflow/lib/python3.9/site-packages/sklearn/base.py:443: UserWarning: X has feature names, but LocallyLinearEmbedding was fitted without feature names\n",
      "  warnings.warn(\n",
      "/Users/paolo/opt/miniconda3/envs/tensorflow/lib/python3.9/site-packages/sklearn/base.py:443: UserWarning: X has feature names, but LocallyLinearEmbedding was fitted without feature names\n",
      "  warnings.warn(\n"
     ]
    },
    {
     "name": "stdout",
     "output_type": "stream",
     "text": [
      "(442, 15)\n",
      "0.6893865819141909\n",
      "(442, 16)\n",
      "0.6866514790963661\n",
      "(442, 17)\n",
      "0.7038860623482743\n"
     ]
    },
    {
     "name": "stderr",
     "output_type": "stream",
     "text": [
      "/Users/paolo/opt/miniconda3/envs/tensorflow/lib/python3.9/site-packages/sklearn/base.py:443: UserWarning: X has feature names, but LocallyLinearEmbedding was fitted without feature names\n",
      "  warnings.warn(\n",
      "/Users/paolo/opt/miniconda3/envs/tensorflow/lib/python3.9/site-packages/sklearn/base.py:443: UserWarning: X has feature names, but LocallyLinearEmbedding was fitted without feature names\n",
      "  warnings.warn(\n",
      "/Users/paolo/opt/miniconda3/envs/tensorflow/lib/python3.9/site-packages/sklearn/base.py:443: UserWarning: X has feature names, but LocallyLinearEmbedding was fitted without feature names\n",
      "  warnings.warn(\n"
     ]
    },
    {
     "name": "stdout",
     "output_type": "stream",
     "text": [
      "(442, 18)\n",
      "0.7036618355727613\n",
      "(442, 19)\n",
      "0.6886915681151511\n",
      "(442, 20)\n",
      "0.6943544300702472\n"
     ]
    },
    {
     "name": "stderr",
     "output_type": "stream",
     "text": [
      "/Users/paolo/opt/miniconda3/envs/tensorflow/lib/python3.9/site-packages/sklearn/base.py:443: UserWarning: X has feature names, but LocallyLinearEmbedding was fitted without feature names\n",
      "  warnings.warn(\n",
      "/Users/paolo/opt/miniconda3/envs/tensorflow/lib/python3.9/site-packages/sklearn/base.py:443: UserWarning: X has feature names, but LocallyLinearEmbedding was fitted without feature names\n",
      "  warnings.warn(\n",
      "/Users/paolo/opt/miniconda3/envs/tensorflow/lib/python3.9/site-packages/sklearn/base.py:443: UserWarning: X has feature names, but LocallyLinearEmbedding was fitted without feature names\n",
      "  warnings.warn(\n"
     ]
    },
    {
     "name": "stdout",
     "output_type": "stream",
     "text": [
      "(442, 21)\n",
      "0.6941937733327139\n",
      "(442, 22)\n",
      "0.6940461767603576\n"
     ]
    },
    {
     "name": "stderr",
     "output_type": "stream",
     "text": [
      "/Users/paolo/opt/miniconda3/envs/tensorflow/lib/python3.9/site-packages/sklearn/base.py:443: UserWarning: X has feature names, but LocallyLinearEmbedding was fitted without feature names\n",
      "  warnings.warn(\n",
      "/Users/paolo/opt/miniconda3/envs/tensorflow/lib/python3.9/site-packages/sklearn/base.py:443: UserWarning: X has feature names, but LocallyLinearEmbedding was fitted without feature names\n",
      "  warnings.warn(\n",
      "/Users/paolo/opt/miniconda3/envs/tensorflow/lib/python3.9/site-packages/sklearn/base.py:443: UserWarning: X has feature names, but LocallyLinearEmbedding was fitted without feature names\n",
      "  warnings.warn(\n"
     ]
    },
    {
     "name": "stdout",
     "output_type": "stream",
     "text": [
      "(442, 23)\n",
      "0.7006459679397143\n",
      "(442, 24)\n",
      "0.7064293900872977\n",
      "(442, 25)\n",
      "0.7067109407860255\n",
      "(442, 26)\n",
      "0.7070961046341182\n"
     ]
    },
    {
     "name": "stderr",
     "output_type": "stream",
     "text": [
      "/Users/paolo/opt/miniconda3/envs/tensorflow/lib/python3.9/site-packages/sklearn/base.py:443: UserWarning: X has feature names, but LocallyLinearEmbedding was fitted without feature names\n",
      "  warnings.warn(\n",
      "/Users/paolo/opt/miniconda3/envs/tensorflow/lib/python3.9/site-packages/sklearn/base.py:443: UserWarning: X has feature names, but LocallyLinearEmbedding was fitted without feature names\n",
      "  warnings.warn(\n",
      "/Users/paolo/opt/miniconda3/envs/tensorflow/lib/python3.9/site-packages/sklearn/base.py:443: UserWarning: X has feature names, but LocallyLinearEmbedding was fitted without feature names\n",
      "  warnings.warn(\n"
     ]
    },
    {
     "name": "stdout",
     "output_type": "stream",
     "text": [
      "(442, 27)\n",
      "0.7071508680264456\n",
      "(442, 28)\n",
      "0.703943902080606\n",
      "(442, 29)\n",
      "0.7048447079224294\n"
     ]
    },
    {
     "name": "stderr",
     "output_type": "stream",
     "text": [
      "/Users/paolo/opt/miniconda3/envs/tensorflow/lib/python3.9/site-packages/sklearn/base.py:443: UserWarning: X has feature names, but LocallyLinearEmbedding was fitted without feature names\n",
      "  warnings.warn(\n",
      "/Users/paolo/opt/miniconda3/envs/tensorflow/lib/python3.9/site-packages/sklearn/base.py:443: UserWarning: X has feature names, but LocallyLinearEmbedding was fitted without feature names\n",
      "  warnings.warn(\n"
     ]
    },
    {
     "name": "stdout",
     "output_type": "stream",
     "text": [
      "(442, 30)\n",
      "0.7034952592240856\n",
      "(442, 31)\n",
      "0.7038560889495857\n"
     ]
    },
    {
     "name": "stderr",
     "output_type": "stream",
     "text": [
      "/Users/paolo/opt/miniconda3/envs/tensorflow/lib/python3.9/site-packages/sklearn/base.py:443: UserWarning: X has feature names, but LocallyLinearEmbedding was fitted without feature names\n",
      "  warnings.warn(\n",
      "/Users/paolo/opt/miniconda3/envs/tensorflow/lib/python3.9/site-packages/sklearn/base.py:443: UserWarning: X has feature names, but LocallyLinearEmbedding was fitted without feature names\n",
      "  warnings.warn(\n"
     ]
    },
    {
     "name": "stdout",
     "output_type": "stream",
     "text": [
      "(442, 32)\n",
      "0.7025545154130617\n",
      "(442, 33)\n",
      "0.7042597108594089\n"
     ]
    },
    {
     "name": "stderr",
     "output_type": "stream",
     "text": [
      "/Users/paolo/opt/miniconda3/envs/tensorflow/lib/python3.9/site-packages/sklearn/base.py:443: UserWarning: X has feature names, but LocallyLinearEmbedding was fitted without feature names\n",
      "  warnings.warn(\n",
      "/Users/paolo/opt/miniconda3/envs/tensorflow/lib/python3.9/site-packages/sklearn/base.py:443: UserWarning: X has feature names, but LocallyLinearEmbedding was fitted without feature names\n",
      "  warnings.warn(\n"
     ]
    },
    {
     "name": "stdout",
     "output_type": "stream",
     "text": [
      "(442, 34)\n",
      "0.7046422341934537\n",
      "(442, 35)\n",
      "0.705086361843726\n"
     ]
    },
    {
     "name": "stderr",
     "output_type": "stream",
     "text": [
      "/Users/paolo/opt/miniconda3/envs/tensorflow/lib/python3.9/site-packages/sklearn/base.py:443: UserWarning: X has feature names, but LocallyLinearEmbedding was fitted without feature names\n",
      "  warnings.warn(\n",
      "/Users/paolo/opt/miniconda3/envs/tensorflow/lib/python3.9/site-packages/sklearn/base.py:443: UserWarning: X has feature names, but LocallyLinearEmbedding was fitted without feature names\n",
      "  warnings.warn(\n",
      "/Users/paolo/opt/miniconda3/envs/tensorflow/lib/python3.9/site-packages/sklearn/base.py:443: UserWarning: X has feature names, but LocallyLinearEmbedding was fitted without feature names\n",
      "  warnings.warn(\n"
     ]
    },
    {
     "name": "stdout",
     "output_type": "stream",
     "text": [
      "(442, 36)\n",
      "0.7054210641186651\n",
      "(442, 37)\n",
      "0.7035743991891285\n",
      "(442, 38)\n"
     ]
    },
    {
     "name": "stderr",
     "output_type": "stream",
     "text": [
      "/Users/paolo/opt/miniconda3/envs/tensorflow/lib/python3.9/site-packages/sklearn/base.py:443: UserWarning: X has feature names, but LocallyLinearEmbedding was fitted without feature names\n",
      "  warnings.warn(\n",
      "/Users/paolo/opt/miniconda3/envs/tensorflow/lib/python3.9/site-packages/sklearn/base.py:443: UserWarning: X has feature names, but LocallyLinearEmbedding was fitted without feature names\n",
      "  warnings.warn(\n"
     ]
    },
    {
     "name": "stdout",
     "output_type": "stream",
     "text": [
      "0.7049175278320192\n",
      "(442, 39)\n",
      "0.7097432260939851\n"
     ]
    },
    {
     "name": "stderr",
     "output_type": "stream",
     "text": [
      "/Users/paolo/opt/miniconda3/envs/tensorflow/lib/python3.9/site-packages/sklearn/base.py:443: UserWarning: X has feature names, but LocallyLinearEmbedding was fitted without feature names\n",
      "  warnings.warn(\n",
      "/Users/paolo/opt/miniconda3/envs/tensorflow/lib/python3.9/site-packages/sklearn/base.py:443: UserWarning: X has feature names, but LocallyLinearEmbedding was fitted without feature names\n",
      "  warnings.warn(\n"
     ]
    },
    {
     "name": "stdout",
     "output_type": "stream",
     "text": [
      "(442, 40)\n",
      "0.7089441261932274\n",
      "(442, 41)\n",
      "0.7088781893822046\n"
     ]
    },
    {
     "name": "stderr",
     "output_type": "stream",
     "text": [
      "/Users/paolo/opt/miniconda3/envs/tensorflow/lib/python3.9/site-packages/sklearn/base.py:443: UserWarning: X has feature names, but LocallyLinearEmbedding was fitted without feature names\n",
      "  warnings.warn(\n",
      "/Users/paolo/opt/miniconda3/envs/tensorflow/lib/python3.9/site-packages/sklearn/base.py:443: UserWarning: X has feature names, but LocallyLinearEmbedding was fitted without feature names\n",
      "  warnings.warn(\n"
     ]
    },
    {
     "name": "stdout",
     "output_type": "stream",
     "text": [
      "(442, 42)\n",
      "0.7151674936398786\n",
      "(442, 43)\n",
      "0.7151803770063793\n"
     ]
    },
    {
     "name": "stderr",
     "output_type": "stream",
     "text": [
      "/Users/paolo/opt/miniconda3/envs/tensorflow/lib/python3.9/site-packages/sklearn/base.py:443: UserWarning: X has feature names, but LocallyLinearEmbedding was fitted without feature names\n",
      "  warnings.warn(\n",
      "/Users/paolo/opt/miniconda3/envs/tensorflow/lib/python3.9/site-packages/sklearn/base.py:443: UserWarning: X has feature names, but LocallyLinearEmbedding was fitted without feature names\n",
      "  warnings.warn(\n"
     ]
    },
    {
     "name": "stdout",
     "output_type": "stream",
     "text": [
      "(442, 44)\n",
      "0.714163641784368\n",
      "(442, 45)\n",
      "0.7173450871746411\n"
     ]
    },
    {
     "name": "stderr",
     "output_type": "stream",
     "text": [
      "/Users/paolo/opt/miniconda3/envs/tensorflow/lib/python3.9/site-packages/sklearn/base.py:443: UserWarning: X has feature names, but LocallyLinearEmbedding was fitted without feature names\n",
      "  warnings.warn(\n",
      "/Users/paolo/opt/miniconda3/envs/tensorflow/lib/python3.9/site-packages/sklearn/base.py:443: UserWarning: X has feature names, but LocallyLinearEmbedding was fitted without feature names\n",
      "  warnings.warn(\n"
     ]
    },
    {
     "name": "stdout",
     "output_type": "stream",
     "text": [
      "(442, 46)\n",
      "0.7239753941631217\n",
      "(442, 47)\n",
      "0.7227610205963098\n"
     ]
    },
    {
     "name": "stderr",
     "output_type": "stream",
     "text": [
      "/Users/paolo/opt/miniconda3/envs/tensorflow/lib/python3.9/site-packages/sklearn/base.py:443: UserWarning: X has feature names, but LocallyLinearEmbedding was fitted without feature names\n",
      "  warnings.warn(\n",
      "/Users/paolo/opt/miniconda3/envs/tensorflow/lib/python3.9/site-packages/sklearn/base.py:443: UserWarning: X has feature names, but LocallyLinearEmbedding was fitted without feature names\n",
      "  warnings.warn(\n"
     ]
    },
    {
     "name": "stdout",
     "output_type": "stream",
     "text": [
      "(442, 48)\n",
      "0.7294390833348685\n",
      "(442, 49)\n",
      "0.7334249120841752\n"
     ]
    },
    {
     "name": "stderr",
     "output_type": "stream",
     "text": [
      "/Users/paolo/opt/miniconda3/envs/tensorflow/lib/python3.9/site-packages/sklearn/base.py:443: UserWarning: X has feature names, but LocallyLinearEmbedding was fitted without feature names\n",
      "  warnings.warn(\n",
      "/Users/paolo/opt/miniconda3/envs/tensorflow/lib/python3.9/site-packages/sklearn/base.py:443: UserWarning: X has feature names, but LocallyLinearEmbedding was fitted without feature names\n",
      "  warnings.warn(\n",
      "/Users/paolo/opt/miniconda3/envs/tensorflow/lib/python3.9/site-packages/sklearn/base.py:443: UserWarning: X has feature names, but LocallyLinearEmbedding was fitted without feature names\n",
      "  warnings.warn(\n"
     ]
    },
    {
     "name": "stdout",
     "output_type": "stream",
     "text": [
      "(442, 50)\n",
      "0.7351131355301586\n",
      "0.7351131355301586\n",
      "50\n",
      "(442, 1)\n",
      "0.05204365130948585\n",
      "(442, 2)\n",
      "0.08825661686454855\n"
     ]
    },
    {
     "name": "stderr",
     "output_type": "stream",
     "text": [
      "/Users/paolo/opt/miniconda3/envs/tensorflow/lib/python3.9/site-packages/sklearn/base.py:443: UserWarning: X has feature names, but LocallyLinearEmbedding was fitted without feature names\n",
      "  warnings.warn(\n",
      "/Users/paolo/opt/miniconda3/envs/tensorflow/lib/python3.9/site-packages/sklearn/base.py:443: UserWarning: X has feature names, but LocallyLinearEmbedding was fitted without feature names\n",
      "  warnings.warn(\n",
      "/Users/paolo/opt/miniconda3/envs/tensorflow/lib/python3.9/site-packages/sklearn/base.py:443: UserWarning: X has feature names, but LocallyLinearEmbedding was fitted without feature names\n",
      "  warnings.warn(\n"
     ]
    },
    {
     "name": "stdout",
     "output_type": "stream",
     "text": [
      "(442, 3)\n",
      "0.12944703469330066\n",
      "(442, 4)\n",
      "0.2251878385855126\n",
      "(442, 5)\n",
      "0.22759205093728552\n"
     ]
    },
    {
     "name": "stderr",
     "output_type": "stream",
     "text": [
      "/Users/paolo/opt/miniconda3/envs/tensorflow/lib/python3.9/site-packages/sklearn/base.py:443: UserWarning: X has feature names, but LocallyLinearEmbedding was fitted without feature names\n",
      "  warnings.warn(\n",
      "/Users/paolo/opt/miniconda3/envs/tensorflow/lib/python3.9/site-packages/sklearn/base.py:443: UserWarning: X has feature names, but LocallyLinearEmbedding was fitted without feature names\n",
      "  warnings.warn(\n",
      "/Users/paolo/opt/miniconda3/envs/tensorflow/lib/python3.9/site-packages/sklearn/base.py:443: UserWarning: X has feature names, but LocallyLinearEmbedding was fitted without feature names\n",
      "  warnings.warn(\n"
     ]
    },
    {
     "name": "stdout",
     "output_type": "stream",
     "text": [
      "(442, 6)\n",
      "0.2826324001458198\n",
      "(442, 7)\n",
      "0.2832334110937571\n",
      "(442, 8)\n",
      "0.43118536030417776\n"
     ]
    },
    {
     "name": "stderr",
     "output_type": "stream",
     "text": [
      "/Users/paolo/opt/miniconda3/envs/tensorflow/lib/python3.9/site-packages/sklearn/base.py:443: UserWarning: X has feature names, but LocallyLinearEmbedding was fitted without feature names\n",
      "  warnings.warn(\n",
      "/Users/paolo/opt/miniconda3/envs/tensorflow/lib/python3.9/site-packages/sklearn/base.py:443: UserWarning: X has feature names, but LocallyLinearEmbedding was fitted without feature names\n",
      "  warnings.warn(\n",
      "/Users/paolo/opt/miniconda3/envs/tensorflow/lib/python3.9/site-packages/sklearn/base.py:443: UserWarning: X has feature names, but LocallyLinearEmbedding was fitted without feature names\n",
      "  warnings.warn(\n"
     ]
    },
    {
     "name": "stdout",
     "output_type": "stream",
     "text": [
      "(442, 9)\n",
      "0.48218225261364756\n",
      "(442, 10)\n",
      "0.7160729463139053\n",
      "(442, 11)\n",
      "0.7175760892453488\n"
     ]
    },
    {
     "name": "stderr",
     "output_type": "stream",
     "text": [
      "/Users/paolo/opt/miniconda3/envs/tensorflow/lib/python3.9/site-packages/sklearn/base.py:443: UserWarning: X has feature names, but LocallyLinearEmbedding was fitted without feature names\n",
      "  warnings.warn(\n",
      "/Users/paolo/opt/miniconda3/envs/tensorflow/lib/python3.9/site-packages/sklearn/base.py:443: UserWarning: X has feature names, but LocallyLinearEmbedding was fitted without feature names\n",
      "  warnings.warn(\n",
      "/Users/paolo/opt/miniconda3/envs/tensorflow/lib/python3.9/site-packages/sklearn/base.py:443: UserWarning: X has feature names, but LocallyLinearEmbedding was fitted without feature names\n",
      "  warnings.warn(\n"
     ]
    },
    {
     "name": "stdout",
     "output_type": "stream",
     "text": [
      "(442, 12)\n",
      "0.7192439978809534\n",
      "(442, 13)\n",
      "0.7100845100552325\n",
      "(442, 14)\n",
      "0.7143116922558636\n",
      "(442, 15)\n",
      "0.7152686201675487\n"
     ]
    },
    {
     "name": "stderr",
     "output_type": "stream",
     "text": [
      "/Users/paolo/opt/miniconda3/envs/tensorflow/lib/python3.9/site-packages/sklearn/base.py:443: UserWarning: X has feature names, but LocallyLinearEmbedding was fitted without feature names\n",
      "  warnings.warn(\n",
      "/Users/paolo/opt/miniconda3/envs/tensorflow/lib/python3.9/site-packages/sklearn/base.py:443: UserWarning: X has feature names, but LocallyLinearEmbedding was fitted without feature names\n",
      "  warnings.warn(\n",
      "/Users/paolo/opt/miniconda3/envs/tensorflow/lib/python3.9/site-packages/sklearn/base.py:443: UserWarning: X has feature names, but LocallyLinearEmbedding was fitted without feature names\n",
      "  warnings.warn(\n"
     ]
    },
    {
     "name": "stdout",
     "output_type": "stream",
     "text": [
      "(442, 16)\n",
      "0.7157849659850858\n",
      "(442, 17)\n",
      "0.7158687342498236\n"
     ]
    },
    {
     "name": "stderr",
     "output_type": "stream",
     "text": [
      "/Users/paolo/opt/miniconda3/envs/tensorflow/lib/python3.9/site-packages/sklearn/base.py:443: UserWarning: X has feature names, but LocallyLinearEmbedding was fitted without feature names\n",
      "  warnings.warn(\n",
      "/Users/paolo/opt/miniconda3/envs/tensorflow/lib/python3.9/site-packages/sklearn/base.py:443: UserWarning: X has feature names, but LocallyLinearEmbedding was fitted without feature names\n",
      "  warnings.warn(\n",
      "/Users/paolo/opt/miniconda3/envs/tensorflow/lib/python3.9/site-packages/sklearn/base.py:443: UserWarning: X has feature names, but LocallyLinearEmbedding was fitted without feature names\n",
      "  warnings.warn(\n"
     ]
    },
    {
     "name": "stdout",
     "output_type": "stream",
     "text": [
      "(442, 18)\n",
      "0.7114097975094521\n",
      "(442, 19)\n",
      "0.7121314169936958\n",
      "(442, 20)\n",
      "0.7096040914253701\n"
     ]
    },
    {
     "name": "stderr",
     "output_type": "stream",
     "text": [
      "/Users/paolo/opt/miniconda3/envs/tensorflow/lib/python3.9/site-packages/sklearn/base.py:443: UserWarning: X has feature names, but LocallyLinearEmbedding was fitted without feature names\n",
      "  warnings.warn(\n",
      "/Users/paolo/opt/miniconda3/envs/tensorflow/lib/python3.9/site-packages/sklearn/base.py:443: UserWarning: X has feature names, but LocallyLinearEmbedding was fitted without feature names\n",
      "  warnings.warn(\n"
     ]
    },
    {
     "name": "stdout",
     "output_type": "stream",
     "text": [
      "(442, 21)\n",
      "0.7092125797777094\n",
      "(442, 22)\n",
      "0.722124480730016\n"
     ]
    },
    {
     "name": "stderr",
     "output_type": "stream",
     "text": [
      "/Users/paolo/opt/miniconda3/envs/tensorflow/lib/python3.9/site-packages/sklearn/base.py:443: UserWarning: X has feature names, but LocallyLinearEmbedding was fitted without feature names\n",
      "  warnings.warn(\n",
      "/Users/paolo/opt/miniconda3/envs/tensorflow/lib/python3.9/site-packages/sklearn/base.py:443: UserWarning: X has feature names, but LocallyLinearEmbedding was fitted without feature names\n",
      "  warnings.warn(\n"
     ]
    },
    {
     "name": "stdout",
     "output_type": "stream",
     "text": [
      "(442, 23)\n",
      "0.7222338695373187\n",
      "(442, 24)\n",
      "0.7221858951715409\n"
     ]
    },
    {
     "name": "stderr",
     "output_type": "stream",
     "text": [
      "/Users/paolo/opt/miniconda3/envs/tensorflow/lib/python3.9/site-packages/sklearn/base.py:443: UserWarning: X has feature names, but LocallyLinearEmbedding was fitted without feature names\n",
      "  warnings.warn(\n",
      "/Users/paolo/opt/miniconda3/envs/tensorflow/lib/python3.9/site-packages/sklearn/base.py:443: UserWarning: X has feature names, but LocallyLinearEmbedding was fitted without feature names\n",
      "  warnings.warn(\n"
     ]
    },
    {
     "name": "stdout",
     "output_type": "stream",
     "text": [
      "(442, 25)\n",
      "0.7223455587618924\n",
      "(442, 26)\n",
      "0.720946731265416\n"
     ]
    },
    {
     "name": "stderr",
     "output_type": "stream",
     "text": [
      "/Users/paolo/opt/miniconda3/envs/tensorflow/lib/python3.9/site-packages/sklearn/base.py:443: UserWarning: X has feature names, but LocallyLinearEmbedding was fitted without feature names\n",
      "  warnings.warn(\n",
      "/Users/paolo/opt/miniconda3/envs/tensorflow/lib/python3.9/site-packages/sklearn/base.py:443: UserWarning: X has feature names, but LocallyLinearEmbedding was fitted without feature names\n",
      "  warnings.warn(\n"
     ]
    },
    {
     "name": "stdout",
     "output_type": "stream",
     "text": [
      "(442, 27)\n",
      "0.7200225064785866\n",
      "(442, 28)\n",
      "0.724594587642876\n"
     ]
    },
    {
     "name": "stderr",
     "output_type": "stream",
     "text": [
      "/Users/paolo/opt/miniconda3/envs/tensorflow/lib/python3.9/site-packages/sklearn/base.py:443: UserWarning: X has feature names, but LocallyLinearEmbedding was fitted without feature names\n",
      "  warnings.warn(\n",
      "/Users/paolo/opt/miniconda3/envs/tensorflow/lib/python3.9/site-packages/sklearn/base.py:443: UserWarning: X has feature names, but LocallyLinearEmbedding was fitted without feature names\n",
      "  warnings.warn(\n",
      "/Users/paolo/opt/miniconda3/envs/tensorflow/lib/python3.9/site-packages/sklearn/base.py:443: UserWarning: X has feature names, but LocallyLinearEmbedding was fitted without feature names\n",
      "  warnings.warn(\n"
     ]
    },
    {
     "name": "stdout",
     "output_type": "stream",
     "text": [
      "(442, 29)\n",
      "0.7171935208999634\n",
      "(442, 30)\n",
      "0.7144150449815383\n",
      "(442, 31)\n",
      "0.7140908569795219\n"
     ]
    },
    {
     "name": "stderr",
     "output_type": "stream",
     "text": [
      "/Users/paolo/opt/miniconda3/envs/tensorflow/lib/python3.9/site-packages/sklearn/base.py:443: UserWarning: X has feature names, but LocallyLinearEmbedding was fitted without feature names\n",
      "  warnings.warn(\n",
      "/Users/paolo/opt/miniconda3/envs/tensorflow/lib/python3.9/site-packages/sklearn/base.py:443: UserWarning: X has feature names, but LocallyLinearEmbedding was fitted without feature names\n",
      "  warnings.warn(\n",
      "/Users/paolo/opt/miniconda3/envs/tensorflow/lib/python3.9/site-packages/sklearn/base.py:443: UserWarning: X has feature names, but LocallyLinearEmbedding was fitted without feature names\n",
      "  warnings.warn(\n"
     ]
    },
    {
     "name": "stdout",
     "output_type": "stream",
     "text": [
      "(442, 32)\n",
      "0.7114517815393746\n",
      "(442, 33)\n",
      "0.7120091295482798\n",
      "(442, 34)\n",
      "0.7089263967314848\n"
     ]
    },
    {
     "name": "stderr",
     "output_type": "stream",
     "text": [
      "/Users/paolo/opt/miniconda3/envs/tensorflow/lib/python3.9/site-packages/sklearn/base.py:443: UserWarning: X has feature names, but LocallyLinearEmbedding was fitted without feature names\n",
      "  warnings.warn(\n",
      "/Users/paolo/opt/miniconda3/envs/tensorflow/lib/python3.9/site-packages/sklearn/base.py:443: UserWarning: X has feature names, but LocallyLinearEmbedding was fitted without feature names\n",
      "  warnings.warn(\n",
      "/Users/paolo/opt/miniconda3/envs/tensorflow/lib/python3.9/site-packages/sklearn/base.py:443: UserWarning: X has feature names, but LocallyLinearEmbedding was fitted without feature names\n",
      "  warnings.warn(\n"
     ]
    },
    {
     "name": "stdout",
     "output_type": "stream",
     "text": [
      "(442, 35)\n",
      "0.7081862426530654\n",
      "(442, 36)\n",
      "0.7086415480558215\n",
      "(442, 37)\n",
      "0.7090030816057107\n",
      "(442, 38)\n",
      "0.7090982163593207\n"
     ]
    },
    {
     "name": "stderr",
     "output_type": "stream",
     "text": [
      "/Users/paolo/opt/miniconda3/envs/tensorflow/lib/python3.9/site-packages/sklearn/base.py:443: UserWarning: X has feature names, but LocallyLinearEmbedding was fitted without feature names\n",
      "  warnings.warn(\n",
      "/Users/paolo/opt/miniconda3/envs/tensorflow/lib/python3.9/site-packages/sklearn/base.py:443: UserWarning: X has feature names, but LocallyLinearEmbedding was fitted without feature names\n",
      "  warnings.warn(\n",
      "/Users/paolo/opt/miniconda3/envs/tensorflow/lib/python3.9/site-packages/sklearn/base.py:443: UserWarning: X has feature names, but LocallyLinearEmbedding was fitted without feature names\n",
      "  warnings.warn(\n"
     ]
    },
    {
     "name": "stdout",
     "output_type": "stream",
     "text": [
      "(442, 39)\n",
      "0.7090927192905068\n",
      "(442, 40)\n",
      "0.7065191272948923\n"
     ]
    },
    {
     "name": "stderr",
     "output_type": "stream",
     "text": [
      "/Users/paolo/opt/miniconda3/envs/tensorflow/lib/python3.9/site-packages/sklearn/base.py:443: UserWarning: X has feature names, but LocallyLinearEmbedding was fitted without feature names\n",
      "  warnings.warn(\n",
      "/Users/paolo/opt/miniconda3/envs/tensorflow/lib/python3.9/site-packages/sklearn/base.py:443: UserWarning: X has feature names, but LocallyLinearEmbedding was fitted without feature names\n",
      "  warnings.warn(\n"
     ]
    },
    {
     "name": "stdout",
     "output_type": "stream",
     "text": [
      "(442, 41)\n",
      "0.7047068567752428\n",
      "(442, 42)\n",
      "0.7079435409585384\n"
     ]
    },
    {
     "name": "stderr",
     "output_type": "stream",
     "text": [
      "/Users/paolo/opt/miniconda3/envs/tensorflow/lib/python3.9/site-packages/sklearn/base.py:443: UserWarning: X has feature names, but LocallyLinearEmbedding was fitted without feature names\n",
      "  warnings.warn(\n",
      "/Users/paolo/opt/miniconda3/envs/tensorflow/lib/python3.9/site-packages/sklearn/base.py:443: UserWarning: X has feature names, but LocallyLinearEmbedding was fitted without feature names\n",
      "  warnings.warn(\n"
     ]
    },
    {
     "name": "stdout",
     "output_type": "stream",
     "text": [
      "(442, 43)\n",
      "0.7080288172438658\n",
      "(442, 44)\n",
      "0.7098612698097562\n"
     ]
    },
    {
     "name": "stderr",
     "output_type": "stream",
     "text": [
      "/Users/paolo/opt/miniconda3/envs/tensorflow/lib/python3.9/site-packages/sklearn/base.py:443: UserWarning: X has feature names, but LocallyLinearEmbedding was fitted without feature names\n",
      "  warnings.warn(\n",
      "/Users/paolo/opt/miniconda3/envs/tensorflow/lib/python3.9/site-packages/sklearn/base.py:443: UserWarning: X has feature names, but LocallyLinearEmbedding was fitted without feature names\n",
      "  warnings.warn(\n"
     ]
    },
    {
     "name": "stdout",
     "output_type": "stream",
     "text": [
      "(442, 45)\n",
      "0.7101992360360634\n",
      "(442, 46)\n",
      "0.709150590663082\n"
     ]
    },
    {
     "name": "stderr",
     "output_type": "stream",
     "text": [
      "/Users/paolo/opt/miniconda3/envs/tensorflow/lib/python3.9/site-packages/sklearn/base.py:443: UserWarning: X has feature names, but LocallyLinearEmbedding was fitted without feature names\n",
      "  warnings.warn(\n",
      "/Users/paolo/opt/miniconda3/envs/tensorflow/lib/python3.9/site-packages/sklearn/base.py:443: UserWarning: X has feature names, but LocallyLinearEmbedding was fitted without feature names\n",
      "  warnings.warn(\n"
     ]
    },
    {
     "name": "stdout",
     "output_type": "stream",
     "text": [
      "(442, 47)\n",
      "0.7072243471012383\n",
      "(442, 48)\n",
      "0.7069416297769422\n"
     ]
    },
    {
     "name": "stderr",
     "output_type": "stream",
     "text": [
      "/Users/paolo/opt/miniconda3/envs/tensorflow/lib/python3.9/site-packages/sklearn/base.py:443: UserWarning: X has feature names, but LocallyLinearEmbedding was fitted without feature names\n",
      "  warnings.warn(\n",
      "/Users/paolo/opt/miniconda3/envs/tensorflow/lib/python3.9/site-packages/sklearn/base.py:443: UserWarning: X has feature names, but LocallyLinearEmbedding was fitted without feature names\n",
      "  warnings.warn(\n",
      "/Users/paolo/opt/miniconda3/envs/tensorflow/lib/python3.9/site-packages/sklearn/base.py:443: UserWarning: X has feature names, but LocallyLinearEmbedding was fitted without feature names\n",
      "  warnings.warn(\n"
     ]
    },
    {
     "name": "stdout",
     "output_type": "stream",
     "text": [
      "(442, 49)\n",
      "0.7087827326313265\n",
      "(442, 50)\n",
      "0.7152151664752802\n",
      "0.724594587642876\n",
      "28\n",
      "(442, 1)\n",
      "0.40370291866405505\n"
     ]
    },
    {
     "name": "stderr",
     "output_type": "stream",
     "text": [
      "/Users/paolo/opt/miniconda3/envs/tensorflow/lib/python3.9/site-packages/sklearn/base.py:443: UserWarning: X has feature names, but LocallyLinearEmbedding was fitted without feature names\n",
      "  warnings.warn(\n",
      "/Users/paolo/opt/miniconda3/envs/tensorflow/lib/python3.9/site-packages/sklearn/base.py:443: UserWarning: X has feature names, but LocallyLinearEmbedding was fitted without feature names\n",
      "  warnings.warn(\n",
      "/Users/paolo/opt/miniconda3/envs/tensorflow/lib/python3.9/site-packages/sklearn/base.py:443: UserWarning: X has feature names, but LocallyLinearEmbedding was fitted without feature names\n",
      "  warnings.warn(\n"
     ]
    },
    {
     "name": "stdout",
     "output_type": "stream",
     "text": [
      "(442, 2)\n",
      "0.5103207800180691\n",
      "(442, 3)\n",
      "0.5202268038276643\n",
      "(442, 4)\n",
      "0.5142286820264867\n"
     ]
    },
    {
     "name": "stderr",
     "output_type": "stream",
     "text": [
      "/Users/paolo/opt/miniconda3/envs/tensorflow/lib/python3.9/site-packages/sklearn/base.py:443: UserWarning: X has feature names, but LocallyLinearEmbedding was fitted without feature names\n",
      "  warnings.warn(\n",
      "/Users/paolo/opt/miniconda3/envs/tensorflow/lib/python3.9/site-packages/sklearn/base.py:443: UserWarning: X has feature names, but LocallyLinearEmbedding was fitted without feature names\n",
      "  warnings.warn(\n",
      "/Users/paolo/opt/miniconda3/envs/tensorflow/lib/python3.9/site-packages/sklearn/base.py:443: UserWarning: X has feature names, but LocallyLinearEmbedding was fitted without feature names\n",
      "  warnings.warn(\n"
     ]
    },
    {
     "name": "stdout",
     "output_type": "stream",
     "text": [
      "(442, 5)\n",
      "0.5296205629516237\n",
      "(442, 6)\n",
      "0.5926376399658742\n",
      "(442, 7)\n",
      "0.5908249915069106\n"
     ]
    },
    {
     "name": "stderr",
     "output_type": "stream",
     "text": [
      "/Users/paolo/opt/miniconda3/envs/tensorflow/lib/python3.9/site-packages/sklearn/base.py:443: UserWarning: X has feature names, but LocallyLinearEmbedding was fitted without feature names\n",
      "  warnings.warn(\n",
      "/Users/paolo/opt/miniconda3/envs/tensorflow/lib/python3.9/site-packages/sklearn/base.py:443: UserWarning: X has feature names, but LocallyLinearEmbedding was fitted without feature names\n",
      "  warnings.warn(\n"
     ]
    },
    {
     "name": "stdout",
     "output_type": "stream",
     "text": [
      "(442, 8)\n",
      "0.6044716940483617\n",
      "(442, 9)\n",
      "0.6188715944919895\n"
     ]
    },
    {
     "name": "stderr",
     "output_type": "stream",
     "text": [
      "/Users/paolo/opt/miniconda3/envs/tensorflow/lib/python3.9/site-packages/sklearn/base.py:443: UserWarning: X has feature names, but LocallyLinearEmbedding was fitted without feature names\n",
      "  warnings.warn(\n",
      "/Users/paolo/opt/miniconda3/envs/tensorflow/lib/python3.9/site-packages/sklearn/base.py:443: UserWarning: X has feature names, but LocallyLinearEmbedding was fitted without feature names\n",
      "  warnings.warn(\n"
     ]
    },
    {
     "name": "stdout",
     "output_type": "stream",
     "text": [
      "(442, 10)\n",
      "0.6191394437822549\n",
      "(442, 11)\n",
      "0.6184418612737481\n"
     ]
    },
    {
     "name": "stderr",
     "output_type": "stream",
     "text": [
      "/Users/paolo/opt/miniconda3/envs/tensorflow/lib/python3.9/site-packages/sklearn/base.py:443: UserWarning: X has feature names, but LocallyLinearEmbedding was fitted without feature names\n",
      "  warnings.warn(\n",
      "/Users/paolo/opt/miniconda3/envs/tensorflow/lib/python3.9/site-packages/sklearn/base.py:443: UserWarning: X has feature names, but LocallyLinearEmbedding was fitted without feature names\n",
      "  warnings.warn(\n",
      "/Users/paolo/opt/miniconda3/envs/tensorflow/lib/python3.9/site-packages/sklearn/base.py:443: UserWarning: X has feature names, but LocallyLinearEmbedding was fitted without feature names\n",
      "  warnings.warn(\n"
     ]
    },
    {
     "name": "stdout",
     "output_type": "stream",
     "text": [
      "(442, 12)\n",
      "0.6179560972025553\n",
      "(442, 13)\n",
      "0.6169617729279184\n",
      "(442, 14)\n",
      "0.6177096838578746\n"
     ]
    },
    {
     "name": "stderr",
     "output_type": "stream",
     "text": [
      "/Users/paolo/opt/miniconda3/envs/tensorflow/lib/python3.9/site-packages/sklearn/base.py:443: UserWarning: X has feature names, but LocallyLinearEmbedding was fitted without feature names\n",
      "  warnings.warn(\n",
      "/Users/paolo/opt/miniconda3/envs/tensorflow/lib/python3.9/site-packages/sklearn/base.py:443: UserWarning: X has feature names, but LocallyLinearEmbedding was fitted without feature names\n",
      "  warnings.warn(\n",
      "/Users/paolo/opt/miniconda3/envs/tensorflow/lib/python3.9/site-packages/sklearn/base.py:443: UserWarning: X has feature names, but LocallyLinearEmbedding was fitted without feature names\n",
      "  warnings.warn(\n"
     ]
    },
    {
     "name": "stdout",
     "output_type": "stream",
     "text": [
      "(442, 15)\n",
      "0.6159914317018744\n",
      "(442, 16)\n",
      "0.6165311601357737\n",
      "(442, 17)\n",
      "0.6086639200272153\n"
     ]
    },
    {
     "name": "stderr",
     "output_type": "stream",
     "text": [
      "/Users/paolo/opt/miniconda3/envs/tensorflow/lib/python3.9/site-packages/sklearn/base.py:443: UserWarning: X has feature names, but LocallyLinearEmbedding was fitted without feature names\n",
      "  warnings.warn(\n",
      "/Users/paolo/opt/miniconda3/envs/tensorflow/lib/python3.9/site-packages/sklearn/base.py:443: UserWarning: X has feature names, but LocallyLinearEmbedding was fitted without feature names\n",
      "  warnings.warn(\n"
     ]
    },
    {
     "name": "stdout",
     "output_type": "stream",
     "text": [
      "(442, 18)\n",
      "0.6112034947088626\n",
      "(442, 19)\n",
      "0.6157062979664449\n"
     ]
    },
    {
     "name": "stderr",
     "output_type": "stream",
     "text": [
      "/Users/paolo/opt/miniconda3/envs/tensorflow/lib/python3.9/site-packages/sklearn/base.py:443: UserWarning: X has feature names, but LocallyLinearEmbedding was fitted without feature names\n",
      "  warnings.warn(\n",
      "/Users/paolo/opt/miniconda3/envs/tensorflow/lib/python3.9/site-packages/sklearn/base.py:443: UserWarning: X has feature names, but LocallyLinearEmbedding was fitted without feature names\n",
      "  warnings.warn(\n"
     ]
    },
    {
     "name": "stdout",
     "output_type": "stream",
     "text": [
      "(442, 20)\n",
      "0.616553792455395\n",
      "(442, 21)\n",
      "0.6166106033709114\n"
     ]
    },
    {
     "name": "stderr",
     "output_type": "stream",
     "text": [
      "/Users/paolo/opt/miniconda3/envs/tensorflow/lib/python3.9/site-packages/sklearn/base.py:443: UserWarning: X has feature names, but LocallyLinearEmbedding was fitted without feature names\n",
      "  warnings.warn(\n",
      "/Users/paolo/opt/miniconda3/envs/tensorflow/lib/python3.9/site-packages/sklearn/base.py:443: UserWarning: X has feature names, but LocallyLinearEmbedding was fitted without feature names\n",
      "  warnings.warn(\n"
     ]
    },
    {
     "name": "stdout",
     "output_type": "stream",
     "text": [
      "(442, 22)\n",
      "0.6271280137828125\n",
      "(442, 23)\n",
      "0.6304660014807878\n"
     ]
    },
    {
     "name": "stderr",
     "output_type": "stream",
     "text": [
      "/Users/paolo/opt/miniconda3/envs/tensorflow/lib/python3.9/site-packages/sklearn/base.py:443: UserWarning: X has feature names, but LocallyLinearEmbedding was fitted without feature names\n",
      "  warnings.warn(\n",
      "/Users/paolo/opt/miniconda3/envs/tensorflow/lib/python3.9/site-packages/sklearn/base.py:443: UserWarning: X has feature names, but LocallyLinearEmbedding was fitted without feature names\n",
      "  warnings.warn(\n"
     ]
    },
    {
     "name": "stdout",
     "output_type": "stream",
     "text": [
      "(442, 24)\n",
      "0.6305454907757728\n",
      "(442, 25)\n",
      "0.6308345414387713\n"
     ]
    },
    {
     "name": "stderr",
     "output_type": "stream",
     "text": [
      "/Users/paolo/opt/miniconda3/envs/tensorflow/lib/python3.9/site-packages/sklearn/base.py:443: UserWarning: X has feature names, but LocallyLinearEmbedding was fitted without feature names\n",
      "  warnings.warn(\n",
      "/Users/paolo/opt/miniconda3/envs/tensorflow/lib/python3.9/site-packages/sklearn/base.py:443: UserWarning: X has feature names, but LocallyLinearEmbedding was fitted without feature names\n",
      "  warnings.warn(\n",
      "/Users/paolo/opt/miniconda3/envs/tensorflow/lib/python3.9/site-packages/sklearn/base.py:443: UserWarning: X has feature names, but LocallyLinearEmbedding was fitted without feature names\n",
      "  warnings.warn(\n"
     ]
    },
    {
     "name": "stdout",
     "output_type": "stream",
     "text": [
      "(442, 26)\n",
      "0.6331070933768446\n",
      "(442, 27)\n",
      "0.6526438055919508\n",
      "(442, 28)\n",
      "0.6543052622313621\n"
     ]
    },
    {
     "name": "stderr",
     "output_type": "stream",
     "text": [
      "/Users/paolo/opt/miniconda3/envs/tensorflow/lib/python3.9/site-packages/sklearn/base.py:443: UserWarning: X has feature names, but LocallyLinearEmbedding was fitted without feature names\n",
      "  warnings.warn(\n",
      "/Users/paolo/opt/miniconda3/envs/tensorflow/lib/python3.9/site-packages/sklearn/base.py:443: UserWarning: X has feature names, but LocallyLinearEmbedding was fitted without feature names\n",
      "  warnings.warn(\n",
      "/Users/paolo/opt/miniconda3/envs/tensorflow/lib/python3.9/site-packages/sklearn/base.py:443: UserWarning: X has feature names, but LocallyLinearEmbedding was fitted without feature names\n",
      "  warnings.warn(\n"
     ]
    },
    {
     "name": "stdout",
     "output_type": "stream",
     "text": [
      "(442, 29)\n",
      "0.6567264508496555\n",
      "(442, 30)\n",
      "0.6683861643961826\n",
      "(442, 31)\n",
      "0.6691704570048711\n"
     ]
    },
    {
     "name": "stderr",
     "output_type": "stream",
     "text": [
      "/Users/paolo/opt/miniconda3/envs/tensorflow/lib/python3.9/site-packages/sklearn/base.py:443: UserWarning: X has feature names, but LocallyLinearEmbedding was fitted without feature names\n",
      "  warnings.warn(\n",
      "/Users/paolo/opt/miniconda3/envs/tensorflow/lib/python3.9/site-packages/sklearn/base.py:443: UserWarning: X has feature names, but LocallyLinearEmbedding was fitted without feature names\n",
      "  warnings.warn(\n"
     ]
    },
    {
     "name": "stdout",
     "output_type": "stream",
     "text": [
      "(442, 32)\n",
      "0.6705573037303669\n",
      "(442, 33)\n",
      "0.6691480219194985\n"
     ]
    },
    {
     "name": "stderr",
     "output_type": "stream",
     "text": [
      "/Users/paolo/opt/miniconda3/envs/tensorflow/lib/python3.9/site-packages/sklearn/base.py:443: UserWarning: X has feature names, but LocallyLinearEmbedding was fitted without feature names\n",
      "  warnings.warn(\n",
      "/Users/paolo/opt/miniconda3/envs/tensorflow/lib/python3.9/site-packages/sklearn/base.py:443: UserWarning: X has feature names, but LocallyLinearEmbedding was fitted without feature names\n",
      "  warnings.warn(\n"
     ]
    },
    {
     "name": "stdout",
     "output_type": "stream",
     "text": [
      "(442, 34)\n",
      "0.6708306096642292\n",
      "(442, 35)\n",
      "0.6715695701591271\n"
     ]
    },
    {
     "name": "stderr",
     "output_type": "stream",
     "text": [
      "/Users/paolo/opt/miniconda3/envs/tensorflow/lib/python3.9/site-packages/sklearn/base.py:443: UserWarning: X has feature names, but LocallyLinearEmbedding was fitted without feature names\n",
      "  warnings.warn(\n",
      "/Users/paolo/opt/miniconda3/envs/tensorflow/lib/python3.9/site-packages/sklearn/base.py:443: UserWarning: X has feature names, but LocallyLinearEmbedding was fitted without feature names\n",
      "  warnings.warn(\n"
     ]
    },
    {
     "name": "stdout",
     "output_type": "stream",
     "text": [
      "(442, 36)\n",
      "0.6796696490807275\n",
      "(442, 37)\n",
      "0.6777805959152697\n"
     ]
    },
    {
     "name": "stderr",
     "output_type": "stream",
     "text": [
      "/Users/paolo/opt/miniconda3/envs/tensorflow/lib/python3.9/site-packages/sklearn/base.py:443: UserWarning: X has feature names, but LocallyLinearEmbedding was fitted without feature names\n",
      "  warnings.warn(\n",
      "/Users/paolo/opt/miniconda3/envs/tensorflow/lib/python3.9/site-packages/sklearn/base.py:443: UserWarning: X has feature names, but LocallyLinearEmbedding was fitted without feature names\n",
      "  warnings.warn(\n"
     ]
    },
    {
     "name": "stdout",
     "output_type": "stream",
     "text": [
      "(442, 38)\n",
      "0.6799022542593756\n",
      "(442, 39)\n",
      "0.6810693419479923\n"
     ]
    },
    {
     "name": "stderr",
     "output_type": "stream",
     "text": [
      "/Users/paolo/opt/miniconda3/envs/tensorflow/lib/python3.9/site-packages/sklearn/base.py:443: UserWarning: X has feature names, but LocallyLinearEmbedding was fitted without feature names\n",
      "  warnings.warn(\n",
      "/Users/paolo/opt/miniconda3/envs/tensorflow/lib/python3.9/site-packages/sklearn/base.py:443: UserWarning: X has feature names, but LocallyLinearEmbedding was fitted without feature names\n",
      "  warnings.warn(\n"
     ]
    },
    {
     "name": "stdout",
     "output_type": "stream",
     "text": [
      "(442, 40)\n",
      "0.6827440823726504\n",
      "(442, 41)\n",
      "0.6816805111062297\n"
     ]
    },
    {
     "name": "stderr",
     "output_type": "stream",
     "text": [
      "/Users/paolo/opt/miniconda3/envs/tensorflow/lib/python3.9/site-packages/sklearn/base.py:443: UserWarning: X has feature names, but LocallyLinearEmbedding was fitted without feature names\n",
      "  warnings.warn(\n",
      "/Users/paolo/opt/miniconda3/envs/tensorflow/lib/python3.9/site-packages/sklearn/base.py:443: UserWarning: X has feature names, but LocallyLinearEmbedding was fitted without feature names\n",
      "  warnings.warn(\n"
     ]
    },
    {
     "name": "stdout",
     "output_type": "stream",
     "text": [
      "(442, 42)\n",
      "0.6816818572134267\n",
      "(442, 43)\n",
      "0.6876153031610753\n"
     ]
    },
    {
     "name": "stderr",
     "output_type": "stream",
     "text": [
      "/Users/paolo/opt/miniconda3/envs/tensorflow/lib/python3.9/site-packages/sklearn/base.py:443: UserWarning: X has feature names, but LocallyLinearEmbedding was fitted without feature names\n",
      "  warnings.warn(\n",
      "/Users/paolo/opt/miniconda3/envs/tensorflow/lib/python3.9/site-packages/sklearn/base.py:443: UserWarning: X has feature names, but LocallyLinearEmbedding was fitted without feature names\n",
      "  warnings.warn(\n"
     ]
    },
    {
     "name": "stdout",
     "output_type": "stream",
     "text": [
      "(442, 44)\n",
      "0.686566194993486\n",
      "(442, 45)\n",
      "0.6920772909659221\n"
     ]
    },
    {
     "name": "stderr",
     "output_type": "stream",
     "text": [
      "/Users/paolo/opt/miniconda3/envs/tensorflow/lib/python3.9/site-packages/sklearn/base.py:443: UserWarning: X has feature names, but LocallyLinearEmbedding was fitted without feature names\n",
      "  warnings.warn(\n",
      "/Users/paolo/opt/miniconda3/envs/tensorflow/lib/python3.9/site-packages/sklearn/base.py:443: UserWarning: X has feature names, but LocallyLinearEmbedding was fitted without feature names\n",
      "  warnings.warn(\n"
     ]
    },
    {
     "name": "stdout",
     "output_type": "stream",
     "text": [
      "(442, 46)\n",
      "0.6930429760064416\n",
      "(442, 47)\n",
      "0.6967905479086233\n"
     ]
    },
    {
     "name": "stderr",
     "output_type": "stream",
     "text": [
      "/Users/paolo/opt/miniconda3/envs/tensorflow/lib/python3.9/site-packages/sklearn/base.py:443: UserWarning: X has feature names, but LocallyLinearEmbedding was fitted without feature names\n",
      "  warnings.warn(\n",
      "/Users/paolo/opt/miniconda3/envs/tensorflow/lib/python3.9/site-packages/sklearn/base.py:443: UserWarning: X has feature names, but LocallyLinearEmbedding was fitted without feature names\n",
      "  warnings.warn(\n"
     ]
    },
    {
     "name": "stdout",
     "output_type": "stream",
     "text": [
      "(442, 48)\n",
      "0.6968845729396104\n",
      "(442, 49)\n",
      "0.6955017653511779\n",
      "(442, 50)\n",
      "0.6917718195718925\n",
      "0.6968845729396104\n",
      "48\n",
      "0.7280457662557442 +- 0.02668950852105602\n",
      "44.0 +- 7.270516900468631\n"
     ]
    },
    {
     "name": "stderr",
     "output_type": "stream",
     "text": [
      "/Users/paolo/opt/miniconda3/envs/tensorflow/lib/python3.9/site-packages/sklearn/base.py:443: UserWarning: X has feature names, but LocallyLinearEmbedding was fitted without feature names\n",
      "  warnings.warn(\n"
     ]
    }
   ],
   "source": [
    "from sklearn.manifold import LocallyLinearEmbedding as LLE\n",
    "\n",
    "best_scores = []\n",
    "best_nums = []\n",
    "for curr_seed in [0,1,2,3,4]: \n",
    "    best_score = 0\n",
    "    best_num = 0\n",
    "    for i in range(50):\n",
    "        curr_df_trainVal_withTar = resample(df_trainVal_withTar, random_state=curr_seed)\n",
    "        curr_df_trainVal = curr_df_trainVal_withTar.iloc[:,:-1]\n",
    "        dimRedMethod = LLE(n_components=i+1,n_neighbors=10)\n",
    "        trainVal_reduced = pd.DataFrame(dimRedMethod.fit_transform(curr_df_trainVal.values,curr_df_trainVal_withTar.mean_std.values.reshape(-1, 1)))\n",
    "        test_reduced = pd.DataFrame(dimRedMethod.transform(df_test))\n",
    "        print(test_reduced.shape)\n",
    "        mod = LinearRegression().fit(trainVal_reduced, curr_df_trainVal_withTar.mean_std)\n",
    "        actual_score = mod.score(test_reduced, df_test_withTar.mean_std)\n",
    "        print(actual_score)\n",
    "        if actual_score> best_score:\n",
    "            best_score=actual_score\n",
    "            best_num = test_reduced.shape[1]\n",
    "    print(best_score)\n",
    "    print(best_num)\n",
    "    best_scores.append(best_score)\n",
    "    best_nums.append(best_num)\n",
    "compute_CI(best_scores,5)\n",
    "compute_CI(best_nums,5)"
   ]
  },
  {
   "cell_type": "code",
   "execution_count": null,
   "id": "14b04e80",
   "metadata": {},
   "outputs": [],
   "source": [
    "0.7280457662557442 +- 0.02668950852105602\n",
    "44.0 +- 7.270516900468631"
   ]
  },
  {
   "cell_type": "markdown",
   "id": "76410970",
   "metadata": {},
   "source": [
    "## Sup PCA"
   ]
  },
  {
   "cell_type": "code",
   "execution_count": 75,
   "id": "1e422d05",
   "metadata": {},
   "outputs": [
    {
     "name": "stdout",
     "output_type": "stream",
     "text": [
      "#########################sigmoid, 0#############################\n",
      "(442, 1)\n",
      "0.694209268415197\n",
      "(442, 2)\n",
      "0.5954490761978187\n",
      "(442, 3)\n",
      "0.5638963926824548\n",
      "(442, 4)\n",
      "0.5130217415656153\n",
      "(442, 5)\n",
      "0.5130207860929714\n",
      "(442, 6)\n",
      "0.5497002112132319\n",
      "(442, 7)\n",
      "0.606245994116924\n",
      "(442, 8)\n",
      "0.5956382683118397\n",
      "(442, 9)\n",
      "0.51155709223451\n",
      "(442, 10)\n",
      "0.501054509768553\n",
      "(442, 11)\n",
      "0.5222448764327459\n",
      "(442, 12)\n",
      "0.5211831490424863\n",
      "(442, 13)\n",
      "0.5644962755944005\n",
      "(442, 14)\n",
      "0.543720460633436\n",
      "(442, 15)\n",
      "0.5667410624457011\n",
      "(442, 16)\n",
      "0.48867076418902855\n",
      "(442, 17)\n",
      "0.5247202609558146\n",
      "(442, 18)\n",
      "0.5333718944831355\n",
      "(442, 19)\n",
      "0.5111876649065379\n",
      "(442, 20)\n",
      "0.3520527060274632\n",
      "(442, 21)\n",
      "0.3708635697127567\n",
      "(442, 22)\n",
      "0.33269473424686835\n",
      "(442, 23)\n",
      "0.13720356057849104\n",
      "(442, 24)\n",
      "0.11192837806518308\n",
      "(442, 25)\n",
      "0.09387775592724734\n",
      "(442, 26)\n",
      "0.05498273807552112\n",
      "(442, 27)\n",
      "0.21185183380016925\n",
      "(442, 28)\n",
      "0.18317335908685917\n",
      "(442, 29)\n",
      "0.20944716924831142\n",
      "(442, 30)\n",
      "0.09429999865202587\n",
      "(442, 31)\n",
      "0.32741193642730304\n",
      "(442, 32)\n",
      "0.31963052114482926\n",
      "(442, 33)\n",
      "0.27086451595091243\n",
      "(442, 34)\n",
      "0.3016302402384704\n",
      "(442, 35)\n",
      "0.24314975717207943\n",
      "(442, 36)\n",
      "0.3126644937636527\n",
      "(442, 37)\n",
      "0.24319387458495034\n",
      "(442, 38)\n",
      "0.3164176399647224\n",
      "(442, 39)\n",
      "0.1511592818499924\n",
      "(442, 40)\n",
      "0.10830089021094214\n",
      "(442, 41)\n",
      "-0.059591001234227337\n",
      "(442, 42)\n",
      "0.22612526063787175\n",
      "(442, 43)\n",
      "-0.2880964851111756\n",
      "(442, 44)\n",
      "-0.2768934590605183\n",
      "(442, 45)\n",
      "-0.3607662154189133\n",
      "(442, 46)\n",
      "-0.5101178790609986\n",
      "(442, 47)\n",
      "-0.5854273211593901\n",
      "(442, 48)\n",
      "-0.5850204813251623\n",
      "(442, 49)\n",
      "-0.6885744889407799\n",
      "(442, 50)\n",
      "-1.0189141906393417\n",
      "0.694209268415197\n",
      "(442, 1)\n",
      "#########################sigmoid, 3#############################\n",
      "(442, 1)\n",
      "0.6042983148529502\n",
      "(442, 2)\n",
      "0.5078026582108608\n",
      "(442, 3)\n",
      "0.4939585324829222\n",
      "(442, 4)\n",
      "0.4897157116250396\n",
      "(442, 5)\n",
      "0.5055285472903785\n",
      "(442, 6)\n",
      "0.5395704568261788\n",
      "(442, 7)\n",
      "0.4639237971540271\n",
      "(442, 8)\n",
      "0.3970419131636458\n",
      "(442, 9)\n",
      "0.38958718906985457\n",
      "(442, 10)\n",
      "0.38581326300316576\n",
      "(442, 11)\n",
      "0.396794382253417\n",
      "(442, 12)\n",
      "0.3789712488827549\n",
      "(442, 13)\n",
      "0.377525215941915\n",
      "(442, 14)\n",
      "0.37903814267750935\n",
      "(442, 15)\n",
      "0.39947213066500475\n",
      "(442, 16)\n",
      "0.39919943182016226\n",
      "(442, 17)\n",
      "0.40075439145385605\n",
      "(442, 18)\n",
      "0.3246518024294278\n",
      "(442, 19)\n",
      "0.3302162298163882\n",
      "(442, 20)\n",
      "0.328372505979983\n",
      "(442, 21)\n",
      "0.37865193717813517\n",
      "(442, 22)\n",
      "0.3823414232962914\n",
      "(442, 23)\n",
      "0.10857311305983541\n",
      "(442, 24)\n",
      "0.11125529121450461\n",
      "(442, 25)\n",
      "0.10668931093191791\n",
      "(442, 26)\n",
      "0.03743421003619596\n",
      "(442, 27)\n",
      "0.004748229082106925\n",
      "(442, 28)\n",
      "0.012838907267589406\n",
      "(442, 29)\n",
      "0.02321550158584218\n",
      "(442, 30)\n",
      "0.0025389441118306433\n",
      "(442, 31)\n",
      "-0.06819259159808544\n",
      "(442, 32)\n",
      "0.06196645471354656\n",
      "(442, 33)\n",
      "0.05925870052192017\n",
      "(442, 34)\n",
      "0.06850199359380771\n",
      "(442, 35)\n",
      "0.0809897376119062\n",
      "(442, 36)\n",
      "0.08644079062926857\n",
      "(442, 37)\n",
      "0.2132256010391954\n",
      "(442, 38)\n",
      "0.16183888110210187\n",
      "(442, 39)\n",
      "0.2780758985153672\n",
      "(442, 40)\n",
      "0.23110284336231268\n",
      "(442, 41)\n",
      "0.0899092493478878\n",
      "(442, 42)\n",
      "0.08445870598886085\n",
      "(442, 43)\n",
      "0.08246403024252924\n",
      "(442, 44)\n",
      "0.14788308602677613\n",
      "(442, 45)\n",
      "0.1373295585993607\n",
      "(442, 46)\n",
      "0.16623762601555836\n",
      "(442, 47)\n",
      "0.09145689900246123\n",
      "(442, 48)\n",
      "0.05953555315542036\n",
      "(442, 49)\n",
      "0.16768789099689485\n",
      "(442, 50)\n",
      "0.17314362892329727\n",
      "0.6042983148529502\n",
      "(442, 1)\n",
      "#########################sigmoid, 8#############################\n",
      "(442, 1)\n",
      "0.568925389166262\n",
      "(442, 2)\n",
      "0.49591042394188756\n",
      "(442, 3)\n",
      "0.435507972418391\n",
      "(442, 4)\n",
      "0.40488406309862723\n",
      "(442, 5)\n",
      "0.42340225117768726\n",
      "(442, 6)\n",
      "0.35957071970641463\n",
      "(442, 7)\n",
      "0.4589369479744446\n",
      "(442, 8)\n",
      "0.4678578305870028\n",
      "(442, 9)\n",
      "0.5456189776224676\n",
      "(442, 10)\n",
      "0.5099266711469406\n",
      "(442, 11)\n",
      "0.49532129481547094\n",
      "(442, 12)\n",
      "0.45886798208359614\n",
      "(442, 13)\n",
      "0.45091609279964984\n",
      "(442, 14)\n",
      "0.42421719162650073\n",
      "(442, 15)\n",
      "0.4242818009461019\n",
      "(442, 16)\n",
      "0.40501057822028197\n",
      "(442, 17)\n",
      "0.41127687867761287\n",
      "(442, 18)\n",
      "0.4202476265782833\n",
      "(442, 19)\n",
      "0.49229881885816495\n",
      "(442, 20)\n",
      "0.44211368011715413\n",
      "(442, 21)\n",
      "0.5542181028619402\n",
      "(442, 22)\n",
      "0.47877717172883505\n",
      "(442, 23)\n",
      "0.44474801846021617\n",
      "(442, 24)\n",
      "0.4637171746219484\n",
      "(442, 25)\n",
      "0.3889026567812721\n",
      "(442, 26)\n",
      "0.46893540070405426\n",
      "(442, 27)\n",
      "0.5024864204475272\n",
      "(442, 28)\n",
      "0.48297897415238855\n",
      "(442, 29)\n",
      "0.48443911597515765\n",
      "(442, 30)\n",
      "0.555288979512826\n",
      "(442, 31)\n",
      "0.46874248292226295\n",
      "(442, 32)\n",
      "0.45305197378705353\n",
      "(442, 33)\n",
      "0.45202088997211054\n",
      "(442, 34)\n",
      "0.4284202880452612\n",
      "(442, 35)\n",
      "0.4616199539199102\n",
      "(442, 36)\n",
      "0.5216744376846385\n",
      "(442, 37)\n",
      "0.6038040159770748\n",
      "(442, 38)\n",
      "0.6199338249872406\n",
      "(442, 39)\n",
      "0.5782638676068298\n",
      "(442, 40)\n",
      "0.6314470240331085\n",
      "(442, 41)\n",
      "0.6133832608697205\n",
      "(442, 42)\n",
      "0.6064701782434008\n",
      "(442, 43)\n",
      "0.5744439675368276\n",
      "(442, 44)\n",
      "0.5323723783048417\n",
      "(442, 45)\n",
      "0.5449908711975282\n",
      "(442, 46)\n",
      "0.5394686168042241\n",
      "(442, 47)\n",
      "0.5351214147033571\n",
      "(442, 48)\n",
      "0.5638063457651572\n",
      "(442, 49)\n",
      "0.559261512885358\n",
      "(442, 50)\n",
      "0.5411479530728074\n",
      "0.6314470240331085\n",
      "(442, 40)\n",
      "#########################sigmoid, 12#############################\n",
      "(442, 1)\n",
      "0.5468060377945176\n",
      "(442, 2)\n",
      "0.5523995379556889\n",
      "(442, 3)\n",
      "0.5241855387316714\n",
      "(442, 4)\n",
      "0.5162264661064254\n",
      "(442, 5)\n",
      "0.5184853746017495\n",
      "(442, 6)\n",
      "0.48738199130673954\n",
      "(442, 7)\n",
      "0.41627474203447956\n",
      "(442, 8)\n",
      "0.41158167136433754\n",
      "(442, 9)\n",
      "0.3871243281227451\n",
      "(442, 10)\n",
      "0.4436375664958909\n",
      "(442, 11)\n",
      "0.5792938465517578\n",
      "(442, 12)\n",
      "0.5859452172562882\n",
      "(442, 13)\n",
      "0.5159927236483517\n",
      "(442, 14)\n",
      "0.5598415669295791\n",
      "(442, 15)\n",
      "0.555337706414947\n",
      "(442, 16)\n",
      "0.3875138883375787\n",
      "(442, 17)\n",
      "0.4215585439344597\n",
      "(442, 18)\n",
      "0.4053696441280924\n",
      "(442, 19)\n",
      "0.3992994816079468\n",
      "(442, 20)\n",
      "0.39416223844271947\n",
      "(442, 21)\n",
      "0.38066017198255253\n",
      "(442, 22)\n",
      "0.3428211777243845\n",
      "(442, 23)\n",
      "0.38503637010502223\n",
      "(442, 24)\n",
      "0.41285941239253954\n",
      "(442, 25)\n",
      "0.397249486029534\n",
      "(442, 26)\n",
      "0.3718050197231444\n",
      "(442, 27)\n",
      "0.4131536536200995\n",
      "(442, 28)\n",
      "0.3985568604924964\n",
      "(442, 29)\n",
      "0.42647902899195334\n",
      "(442, 30)\n",
      "0.22138933483851597\n",
      "(442, 31)\n",
      "0.13038873504232018\n",
      "(442, 32)\n",
      "0.11889212316398268\n",
      "(442, 33)\n",
      "0.1557417743447076\n",
      "(442, 34)\n",
      "0.19767934063557224\n",
      "(442, 35)\n",
      "0.019046957833548372\n",
      "(442, 36)\n",
      "0.009678321927779954\n",
      "(442, 37)\n",
      "0.026329914024781687\n",
      "(442, 38)\n",
      "0.024835507258005984\n",
      "(442, 39)\n",
      "-0.037585899685594226\n",
      "(442, 40)\n",
      "0.06326856057801356\n",
      "(442, 41)\n",
      "0.06352871762064793\n",
      "(442, 42)\n",
      "0.0786577109985046\n",
      "(442, 43)\n",
      "0.042099006728278154\n",
      "(442, 44)\n",
      "0.05072781706483087\n",
      "(442, 45)\n",
      "0.055606987073217984\n",
      "(442, 46)\n",
      "0.05306959062945171\n",
      "(442, 47)\n",
      "0.04326375549602757\n",
      "(442, 48)\n",
      "-0.01761172555079682\n",
      "(442, 49)\n",
      "-0.049813035342552325\n",
      "(442, 50)\n",
      "-0.06022122150139597\n",
      "0.5859452172562882\n",
      "(442, 12)\n",
      "#########################sigmoid, 5#############################\n",
      "(442, 1)\n",
      "0.3982626140772427\n",
      "(442, 2)\n",
      "0.37973485444819877\n",
      "(442, 3)\n",
      "0.4489304851572249\n",
      "(442, 4)\n",
      "0.5053777669895891\n",
      "(442, 5)\n",
      "0.4127443816017121\n",
      "(442, 6)\n",
      "0.3927893352985933\n",
      "(442, 7)\n",
      "0.3965994868911308\n",
      "(442, 8)\n",
      "0.37310235551374904\n",
      "(442, 9)\n",
      "0.3523139598501659\n",
      "(442, 10)\n",
      "0.3837179224000371\n",
      "(442, 11)\n",
      "0.4208194945764081\n",
      "(442, 12)\n",
      "0.5863514128701695\n",
      "(442, 13)\n",
      "0.5866113225073631\n",
      "(442, 14)\n",
      "0.625265882790627\n",
      "(442, 15)\n",
      "0.6404734237506449\n",
      "(442, 16)\n",
      "0.6399908177084417\n",
      "(442, 17)\n",
      "0.6400060048413407\n",
      "(442, 18)\n",
      "0.6471762706273837\n",
      "(442, 19)\n",
      "0.6444849664292537\n",
      "(442, 20)\n",
      "0.6407100503097889\n",
      "(442, 21)\n",
      "0.6425963723156222\n",
      "(442, 22)\n",
      "0.6703582431523988\n",
      "(442, 23)\n",
      "0.652614294145199\n",
      "(442, 24)\n",
      "0.6663387892280678\n",
      "(442, 25)\n",
      "0.6837596951694958\n",
      "(442, 26)\n",
      "0.6890482593849239\n",
      "(442, 27)\n",
      "0.5221996693795541\n",
      "(442, 28)\n",
      "0.6159430522775573\n",
      "(442, 29)\n",
      "0.6419886383512572\n",
      "(442, 30)\n",
      "0.6315005377791751\n",
      "(442, 31)\n",
      "0.6346941886069963\n",
      "(442, 32)\n",
      "0.6073894893733807\n",
      "(442, 33)\n",
      "0.5941550414973114\n",
      "(442, 34)\n",
      "0.6407553294963904\n",
      "(442, 35)\n",
      "0.6489630762316747\n",
      "(442, 36)\n",
      "0.6694750630855639\n",
      "(442, 37)\n",
      "0.6310888585726817\n",
      "(442, 38)\n",
      "0.6191591407700858\n",
      "(442, 39)\n",
      "0.6093072011117806\n",
      "(442, 40)\n",
      "0.49604594013704384\n",
      "(442, 41)\n",
      "0.5434550532674671\n",
      "(442, 42)\n",
      "0.4777015930946711\n",
      "(442, 43)\n",
      "0.5322898294868704\n",
      "(442, 44)\n",
      "0.514733772519655\n",
      "(442, 45)\n",
      "0.5436554413270729\n",
      "(442, 46)\n",
      "0.4954481400904278\n",
      "(442, 47)\n",
      "0.4792253656585529\n",
      "(442, 48)\n",
      "0.47423831533413474\n",
      "(442, 49)\n",
      "0.47264400250553795\n",
      "(442, 50)\n",
      "0.43191275410278096\n",
      "0.6890482593849239\n",
      "(442, 26)\n",
      "0.6409896167884936 +- 0.03842632477566533\n",
      "16.0 +- 13.247048274993189\n"
     ]
    }
   ],
   "source": [
    "for kernel in ['sigmoid']:#['poly']:#['linear']:\n",
    "    best_scores = []\n",
    "    best_nums = []\n",
    "    for curr_seed in [0,3,8,12,5]: \n",
    "        print(f'#########################{kernel}, {curr_seed}#############################')\n",
    "        best_score = 0\n",
    "        best_num = 0\n",
    "        for i in range(50):\n",
    "            curr_df_trainVal_withTar = resample(df_trainVal_withTar, random_state=curr_seed)\n",
    "            curr_df_trainVal = curr_df_trainVal_withTar.iloc[:,:-1]\n",
    "            dimRedMethod = spca(num_components=i+1, kernel=kernel, degree=3, gamma=None, coef0=1)\n",
    "            trainVal_reduced = pd.DataFrame(dimRedMethod.fit_and_transform(curr_df_trainVal.values,curr_df_trainVal_withTar.mean_std.values.reshape(-1, 1)))\n",
    "            test_reduced = pd.DataFrame(dimRedMethod.transform(df_test))\n",
    "            print(test_reduced.shape)\n",
    "            mod = LinearRegression().fit(trainVal_reduced, curr_df_trainVal_withTar.mean_std)\n",
    "            actual_score = mod.score(test_reduced, df_test_withTar.mean_std)\n",
    "            print(actual_score)\n",
    "            if actual_score> best_score:\n",
    "                best_score=actual_score\n",
    "                best_num = test_reduced.shape\n",
    "        print(best_score)\n",
    "        print(best_num)\n",
    "        best_scores.append(best_score)\n",
    "        best_nums.append(best_num[1])\n",
    "    compute_CI(best_scores,5)\n",
    "    compute_CI(best_nums,5)"
   ]
  },
  {
   "cell_type": "code",
   "execution_count": null,
   "id": "490a3af5",
   "metadata": {},
   "outputs": [],
   "source": [
    "0.773055927916064 +- 0.012552027829434004\n",
    "31.0 +- 13.77030776707623\n",
    "\n",
    "0.7626988470258912 +- 0.01156512478454842\n",
    "26.0 +- 12.246471491821634\n",
    "\n",
    "0.6409896167884936 +- 0.03842632477566533\n",
    "16.0 +- 13.247048274993189"
   ]
  },
  {
   "cell_type": "markdown",
   "id": "be93a3ad",
   "metadata": {},
   "source": [
    "## UMAP"
   ]
  },
  {
   "cell_type": "code",
   "execution_count": 12,
   "id": "33ac67d8",
   "metadata": {
    "scrolled": true
   },
   "outputs": [
    {
     "name": "stderr",
     "output_type": "stream",
     "text": [
      "OMP: Info #276: omp_set_nested routine deprecated, please use omp_set_max_active_levels instead.\n"
     ]
    },
    {
     "name": "stdout",
     "output_type": "stream",
     "text": [
      "(442, 1)\n",
      "0.08810835121279548\n",
      "(442, 2)\n",
      "0.330757000367491\n",
      "(442, 3)\n",
      "0.26659863625343816\n",
      "(442, 4)\n",
      "0.3180765813605223\n",
      "(442, 5)\n",
      "0.2816786939926871\n",
      "(442, 6)\n",
      "0.47255594405946355\n",
      "(442, 7)\n",
      "0.3591710544765149\n",
      "(442, 8)\n",
      "0.35350826937058133\n",
      "(442, 9)\n",
      "0.450469023343672\n",
      "(442, 10)\n",
      "0.321923343605095\n",
      "(442, 11)\n",
      "0.40699801515079437\n",
      "(442, 12)\n",
      "0.39455519397994054\n",
      "(442, 13)\n",
      "0.47543490678157996\n",
      "(442, 14)\n",
      "0.4484876742950098\n",
      "(442, 15)\n",
      "0.43696096077107105\n",
      "(442, 16)\n",
      "0.2730611326616482\n",
      "(442, 17)\n",
      "0.4819371337921463\n",
      "(442, 18)\n",
      "0.5251711860067776\n",
      "(442, 19)\n",
      "0.468022789732929\n",
      "(442, 20)\n",
      "0.4736760996373073\n",
      "(442, 21)\n",
      "0.5260779490427746\n",
      "(442, 22)\n",
      "0.49488076613877763\n",
      "(442, 23)\n",
      "0.5542597447269181\n",
      "(442, 24)\n",
      "0.5263901967791711\n",
      "(442, 25)\n",
      "0.5100943023749833\n",
      "(442, 26)\n",
      "0.5424001784675228\n",
      "(442, 27)\n",
      "0.5265398602615985\n",
      "(442, 28)\n",
      "0.5238314714369225\n",
      "(442, 29)\n",
      "0.44531783651313084\n",
      "(442, 30)\n",
      "0.5354238080030431\n",
      "(442, 31)\n",
      "0.49611702026765314\n",
      "(442, 32)\n",
      "0.508730434297642\n",
      "(442, 33)\n",
      "0.5357498187650893\n",
      "(442, 34)\n",
      "0.45819036684543646\n",
      "(442, 35)\n",
      "0.5300764785345695\n",
      "(442, 36)\n",
      "0.5320439193369811\n",
      "(442, 37)\n",
      "0.49288054527525926\n",
      "(442, 38)\n",
      "0.580412252908593\n",
      "(442, 39)\n",
      "0.5287915160183421\n",
      "(442, 40)\n",
      "0.5404868518158048\n",
      "(442, 41)\n",
      "0.5424173509454615\n",
      "(442, 42)\n",
      "0.5689408201132014\n",
      "(442, 43)\n",
      "0.5627083894334141\n",
      "(442, 44)\n",
      "0.5712945798453153\n",
      "(442, 45)\n",
      "0.5179239507617679\n",
      "(442, 46)\n",
      "0.5470302887356996\n",
      "(442, 47)\n",
      "0.5136224646929641\n",
      "(442, 48)\n",
      "0.5744593729683737\n",
      "(442, 49)\n",
      "0.515555837260975\n",
      "(442, 50)\n",
      "0.5397974383624449\n",
      "0.580412252908593\n",
      "38\n",
      "(442, 1)\n",
      "-0.005560340824797727\n",
      "(442, 2)\n",
      "0.21583651387785585\n",
      "(442, 3)\n",
      "0.2607156705590927\n",
      "(442, 4)\n",
      "0.2550668729921731\n",
      "(442, 5)\n",
      "0.3057717736651907\n",
      "(442, 6)\n",
      "0.32138050484461644\n",
      "(442, 7)\n",
      "0.3078632296968504\n",
      "(442, 8)\n",
      "0.3348154183999229\n",
      "(442, 9)\n",
      "0.40811330465799023\n",
      "(442, 10)\n",
      "0.34671700976816533\n",
      "(442, 11)\n",
      "0.33770526265525647\n",
      "(442, 12)\n",
      "0.4517850255623389\n",
      "(442, 13)\n",
      "0.4046915997256385\n",
      "(442, 14)\n",
      "0.43752924836253315\n",
      "(442, 15)\n",
      "0.4599179348216582\n",
      "(442, 16)\n",
      "0.49210429696801783\n",
      "(442, 17)\n",
      "0.5073068471880755\n",
      "(442, 18)\n",
      "0.406900405395235\n",
      "(442, 19)\n",
      "0.4668371062807788\n",
      "(442, 20)\n",
      "0.48720251986718033\n",
      "(442, 21)\n",
      "0.5303048729770181\n",
      "(442, 22)\n",
      "0.48462120711473644\n",
      "(442, 23)\n",
      "0.5512790584429286\n",
      "(442, 24)\n",
      "0.5737582282374878\n",
      "(442, 25)\n",
      "0.5819650306881768\n",
      "(442, 26)\n",
      "0.5635168928677838\n",
      "(442, 27)\n",
      "0.5737666642831156\n",
      "(442, 28)\n",
      "0.5728298415273338\n",
      "(442, 29)\n",
      "0.6047756103763133\n",
      "(442, 30)\n",
      "0.5555047142648857\n",
      "(442, 31)\n",
      "0.6015954643864663\n",
      "(442, 32)\n",
      "0.6137888138546275\n",
      "(442, 33)\n",
      "0.5809377778832165\n",
      "(442, 34)\n",
      "0.587424783434527\n",
      "(442, 35)\n",
      "0.5728613349529612\n",
      "(442, 36)\n",
      "0.5711423267905231\n",
      "(442, 37)\n",
      "0.6192738966169493\n",
      "(442, 38)\n",
      "0.628334603250396\n",
      "(442, 39)\n",
      "0.5543379311040335\n",
      "(442, 40)\n",
      "0.6130154713928336\n",
      "(442, 41)\n",
      "0.6133138400463616\n",
      "(442, 42)\n",
      "0.5961673077181624\n",
      "(442, 43)\n",
      "0.5725802142190652\n",
      "(442, 44)\n",
      "0.6015897534471902\n",
      "(442, 45)\n",
      "0.6222095139172699\n",
      "(442, 46)\n",
      "0.6101189106225741\n",
      "(442, 47)\n",
      "0.6042644885246189\n",
      "(442, 48)\n",
      "0.5927365661786617\n",
      "(442, 49)\n",
      "0.5803172081807144\n",
      "(442, 50)\n",
      "0.6424006706130285\n",
      "0.6424006706130285\n",
      "50\n",
      "(442, 1)\n",
      "0.12074643766477988\n",
      "(442, 2)\n",
      "0.2961977024997753\n",
      "(442, 3)\n",
      "0.31537958551957446\n",
      "(442, 4)\n",
      "0.39405082594427765\n",
      "(442, 5)\n",
      "0.3401204962148615\n",
      "(442, 6)\n",
      "0.4774946621829754\n",
      "(442, 7)\n",
      "0.4341129018356029\n",
      "(442, 8)\n",
      "0.420796562175659\n",
      "(442, 9)\n",
      "0.38687817642361\n",
      "(442, 10)\n",
      "0.43585144921089614\n",
      "(442, 11)\n",
      "0.44529739262072954\n",
      "(442, 12)\n",
      "0.45415371605693133\n",
      "(442, 13)\n",
      "0.4926551256259454\n",
      "(442, 14)\n",
      "0.5125316439153187\n",
      "(442, 15)\n",
      "0.4849322725353852\n",
      "(442, 16)\n",
      "0.468327513796452\n",
      "(442, 17)\n",
      "0.4819392753257935\n",
      "(442, 18)\n",
      "0.5147815426867006\n",
      "(442, 19)\n",
      "0.5294077727508613\n",
      "(442, 20)\n",
      "0.5151100193230496\n",
      "(442, 21)\n",
      "0.6219972609045044\n",
      "(442, 22)\n",
      "0.5889283671265255\n",
      "(442, 23)\n",
      "0.5413417195421322\n",
      "(442, 24)\n",
      "0.5424616965188374\n",
      "(442, 25)\n",
      "0.6305999577296513\n",
      "(442, 26)\n",
      "0.6249441139662677\n",
      "(442, 27)\n",
      "0.5002393907074636\n",
      "(442, 28)\n",
      "0.596469850388889\n",
      "(442, 29)\n",
      "0.6355379296048012\n",
      "(442, 30)\n",
      "0.6090211976652401\n",
      "(442, 31)\n",
      "0.6290567441226559\n",
      "(442, 32)\n",
      "0.5986396108074257\n",
      "(442, 33)\n",
      "0.6205517014219705\n",
      "(442, 34)\n",
      "0.6007171697606359\n",
      "(442, 35)\n",
      "0.6382598057921198\n",
      "(442, 36)\n",
      "0.6181190015255115\n",
      "(442, 37)\n",
      "0.5890340403638938\n",
      "(442, 38)\n",
      "0.5876169544642945\n",
      "(442, 39)\n",
      "0.6185740920762003\n",
      "(442, 40)\n",
      "0.5720875252418334\n",
      "(442, 41)\n",
      "0.5991820934849801\n",
      "(442, 42)\n",
      "0.6122599872367032\n",
      "(442, 43)\n",
      "0.5863741357318055\n",
      "(442, 44)\n",
      "0.5615994206249904\n",
      "(442, 45)\n",
      "0.6215859291089998\n",
      "(442, 46)\n",
      "0.6400601433970068\n",
      "(442, 47)\n",
      "0.632450828471212\n",
      "(442, 48)\n",
      "0.6592097296340261\n",
      "(442, 49)\n",
      "0.6508585884272728\n",
      "(442, 50)\n",
      "0.6246867162195335\n",
      "0.6592097296340261\n",
      "48\n",
      "(442, 1)\n",
      "0.024739859377071904\n",
      "(442, 2)\n",
      "0.20278084229006876\n",
      "(442, 3)\n",
      "0.30615557768611723\n",
      "(442, 4)\n",
      "0.43145449739573627\n",
      "(442, 5)\n",
      "0.19975218077262957\n",
      "(442, 6)\n",
      "0.35689913730291034\n",
      "(442, 7)\n",
      "0.5366430202854366\n",
      "(442, 8)\n",
      "0.40420755959551913\n",
      "(442, 9)\n",
      "0.5148484888139575\n",
      "(442, 10)\n",
      "0.6043787688910595\n",
      "(442, 11)\n",
      "0.5423393893446107\n",
      "(442, 12)\n",
      "0.5719410660630377\n",
      "(442, 13)\n",
      "0.5325805106942788\n",
      "(442, 14)\n",
      "0.5280732407708261\n",
      "(442, 15)\n",
      "0.5234595178332963\n",
      "(442, 16)\n",
      "0.5354577599122098\n",
      "(442, 17)\n",
      "0.6139067517883452\n",
      "(442, 18)\n",
      "0.5538262444150199\n",
      "(442, 19)\n",
      "0.5903245726139881\n",
      "(442, 20)\n",
      "0.5726174511768134\n",
      "(442, 21)\n",
      "0.5543471900645848\n",
      "(442, 22)\n",
      "0.5600855721030427\n",
      "(442, 23)\n",
      "0.5654454877392439\n",
      "(442, 24)\n",
      "0.605991745010015\n",
      "(442, 25)\n",
      "0.5573994061588701\n",
      "(442, 26)\n",
      "0.582583918747008\n",
      "(442, 27)\n",
      "0.5430753339339984\n",
      "(442, 28)\n",
      "0.6185049289764502\n",
      "(442, 29)\n",
      "0.5863459882524041\n",
      "(442, 30)\n",
      "0.5762235552556909\n",
      "(442, 31)\n",
      "0.6270246267245652\n",
      "(442, 32)\n",
      "0.6321567212015695\n",
      "(442, 33)\n",
      "0.6052328696339021\n",
      "(442, 34)\n",
      "0.6076045729944346\n",
      "(442, 35)\n",
      "0.6269261052472661\n",
      "(442, 36)\n",
      "0.5882420800278285\n",
      "(442, 37)\n",
      "0.5854249737752231\n",
      "(442, 38)\n",
      "0.6138078285040403\n",
      "(442, 39)\n",
      "0.6388904392397501\n",
      "(442, 40)\n",
      "0.5999930541084014\n",
      "(442, 41)\n",
      "0.6185108225339455\n",
      "(442, 42)\n",
      "0.6241199077541337\n",
      "(442, 43)\n",
      "0.6223624086830938\n",
      "(442, 44)\n",
      "0.6216324485530696\n",
      "(442, 45)\n",
      "0.5980366632750345\n",
      "(442, 46)\n",
      "0.6401537684994666\n",
      "(442, 47)\n",
      "0.6252188552251161\n",
      "(442, 48)\n",
      "0.6429009514723489\n",
      "(442, 49)\n",
      "0.609996204639512\n",
      "(442, 50)\n",
      "0.6426717100397472\n",
      "0.6429009514723489\n",
      "48\n",
      "(442, 1)\n",
      "0.0013393279490583332\n",
      "(442, 2)\n",
      "0.1699556128962979\n",
      "(442, 3)\n",
      "0.304760733028137\n",
      "(442, 4)\n",
      "0.30413043304802\n",
      "(442, 5)\n",
      "0.34118293845366865\n",
      "(442, 6)\n",
      "0.29458329421615315\n",
      "(442, 7)\n",
      "0.40444526234904576\n",
      "(442, 8)\n",
      "0.3351038534570935\n",
      "(442, 9)\n",
      "0.3374256151766275\n",
      "(442, 10)\n",
      "0.3707225763698003\n",
      "(442, 11)\n",
      "0.44277721331364095\n",
      "(442, 12)\n",
      "0.41719258498198564\n",
      "(442, 13)\n",
      "0.38165442207820954\n",
      "(442, 14)\n",
      "0.4019864044470466\n",
      "(442, 15)\n",
      "0.42502390092808173\n",
      "(442, 16)\n",
      "0.41221350933923917\n",
      "(442, 17)\n",
      "0.4779852116997585\n",
      "(442, 18)\n",
      "0.3170954939753481\n",
      "(442, 19)\n",
      "0.4820686806875336\n",
      "(442, 20)\n",
      "0.4881734851335576\n",
      "(442, 21)\n",
      "0.46783241563280265\n",
      "(442, 22)\n",
      "0.38830625355267223\n",
      "(442, 23)\n",
      "0.43192764662517324\n",
      "(442, 24)\n",
      "0.4581949814584292\n",
      "(442, 25)\n",
      "0.4917386551098021\n",
      "(442, 26)\n",
      "0.5021306881159573\n",
      "(442, 27)\n",
      "0.5300687804807184\n",
      "(442, 28)\n",
      "0.4907370517803584\n",
      "(442, 29)\n",
      "0.46834698321065893\n",
      "(442, 30)\n",
      "0.489623686639993\n",
      "(442, 31)\n",
      "0.5674255915677096\n",
      "(442, 32)\n",
      "0.5341247150476537\n",
      "(442, 33)\n",
      "0.525049926655665\n",
      "(442, 34)\n",
      "0.5324798884168864\n",
      "(442, 35)\n",
      "0.5119632067492037\n",
      "(442, 36)\n",
      "0.5645144115626346\n",
      "(442, 37)\n",
      "0.5490023658874419\n",
      "(442, 38)\n",
      "0.5659910769969794\n",
      "(442, 39)\n",
      "0.5476039491056611\n",
      "(442, 40)\n",
      "0.609318027015938\n",
      "(442, 41)\n",
      "0.525701571485631\n",
      "(442, 42)\n",
      "0.4738647043019101\n",
      "(442, 43)\n",
      "0.585344789304705\n",
      "(442, 44)\n",
      "0.49965713824972613\n",
      "(442, 45)\n",
      "0.5175306896390629\n",
      "(442, 46)\n",
      "0.5686783040692639\n",
      "(442, 47)\n",
      "0.45474455815963455\n",
      "(442, 48)\n",
      "0.5485248546054862\n",
      "(442, 49)\n",
      "0.4897068248838725\n",
      "(442, 50)\n",
      "0.5731729273876736\n",
      "0.609318027015938\n",
      "40\n",
      "0.626848326328787 +- 0.02482459870273499\n",
      "44.8 +- 4.236502708602934\n"
     ]
    }
   ],
   "source": [
    "import umap\n",
    "\n",
    "best_scores = []\n",
    "best_nums = []\n",
    "for curr_seed in [0,1,2,3,4]: \n",
    "    best_score = 0\n",
    "    best_num = 0\n",
    "    for i in range(50):\n",
    "        curr_df_trainVal_withTar = resample(df_trainVal_withTar, random_state=curr_seed)\n",
    "        curr_df_trainVal = curr_df_trainVal_withTar.iloc[:,:-1]\n",
    "        dimRedMethod = umap.UMAP(n_components=i+1)\n",
    "        trainVal_reduced = pd.DataFrame(dimRedMethod.fit_transform(curr_df_trainVal.values,curr_df_trainVal_withTar.mean_std.values.reshape(-1, 1)))\n",
    "        test_reduced = pd.DataFrame(dimRedMethod.transform(df_test))\n",
    "        print(test_reduced.shape)\n",
    "        mod = LinearRegression().fit(trainVal_reduced, curr_df_trainVal_withTar.mean_std)\n",
    "        actual_score = mod.score(test_reduced, df_test_withTar.mean_std)\n",
    "        print(actual_score)\n",
    "        if actual_score> best_score:\n",
    "            best_score=actual_score\n",
    "            best_num = test_reduced.shape[1]\n",
    "    print(best_score)\n",
    "    print(best_num)\n",
    "    best_scores.append(best_score)\n",
    "    best_nums.append(best_num)\n",
    "compute_CI(best_scores,5)\n",
    "compute_CI(best_nums,5)"
   ]
  },
  {
   "cell_type": "code",
   "execution_count": null,
   "id": "98d87c9e",
   "metadata": {},
   "outputs": [],
   "source": [
    "0.626848326328787 +- 0.02482459870273499\n",
    "44.8 +- 4.236502708602934"
   ]
  },
  {
   "cell_type": "markdown",
   "id": "dd194f72",
   "metadata": {},
   "source": [
    "## t-sne"
   ]
  },
  {
   "cell_type": "code",
   "execution_count": 18,
   "id": "63f758c0",
   "metadata": {
    "scrolled": true
   },
   "outputs": [
    {
     "name": "stderr",
     "output_type": "stream",
     "text": [
      "/Users/paolo/opt/miniconda3/envs/tensorflow/lib/python3.9/site-packages/sklearn/manifold/_t_sne.py:800: FutureWarning: The default initialization in TSNE will change from 'random' to 'pca' in 1.2.\n",
      "  warnings.warn(\n",
      "/Users/paolo/opt/miniconda3/envs/tensorflow/lib/python3.9/site-packages/sklearn/manifold/_t_sne.py:810: FutureWarning: The default learning rate in TSNE will change from 200.0 to 'auto' in 1.2.\n",
      "  warnings.warn(\n",
      "/Users/paolo/opt/miniconda3/envs/tensorflow/lib/python3.9/site-packages/sklearn/manifold/_t_sne.py:800: FutureWarning: The default initialization in TSNE will change from 'random' to 'pca' in 1.2.\n",
      "  warnings.warn(\n",
      "/Users/paolo/opt/miniconda3/envs/tensorflow/lib/python3.9/site-packages/sklearn/manifold/_t_sne.py:810: FutureWarning: The default learning rate in TSNE will change from 200.0 to 'auto' in 1.2.\n",
      "  warnings.warn(\n"
     ]
    },
    {
     "name": "stdout",
     "output_type": "stream",
     "text": [
      "(442, 1)\n",
      "-0.9849195121116525\n"
     ]
    },
    {
     "name": "stderr",
     "output_type": "stream",
     "text": [
      "/Users/paolo/opt/miniconda3/envs/tensorflow/lib/python3.9/site-packages/sklearn/manifold/_t_sne.py:800: FutureWarning: The default initialization in TSNE will change from 'random' to 'pca' in 1.2.\n",
      "  warnings.warn(\n",
      "/Users/paolo/opt/miniconda3/envs/tensorflow/lib/python3.9/site-packages/sklearn/manifold/_t_sne.py:810: FutureWarning: The default learning rate in TSNE will change from 200.0 to 'auto' in 1.2.\n",
      "  warnings.warn(\n",
      "/Users/paolo/opt/miniconda3/envs/tensorflow/lib/python3.9/site-packages/sklearn/manifold/_t_sne.py:800: FutureWarning: The default initialization in TSNE will change from 'random' to 'pca' in 1.2.\n",
      "  warnings.warn(\n",
      "/Users/paolo/opt/miniconda3/envs/tensorflow/lib/python3.9/site-packages/sklearn/manifold/_t_sne.py:810: FutureWarning: The default learning rate in TSNE will change from 200.0 to 'auto' in 1.2.\n",
      "  warnings.warn(\n"
     ]
    },
    {
     "name": "stdout",
     "output_type": "stream",
     "text": [
      "(442, 2)\n",
      "0.1850353876146149\n"
     ]
    },
    {
     "name": "stderr",
     "output_type": "stream",
     "text": [
      "/Users/paolo/opt/miniconda3/envs/tensorflow/lib/python3.9/site-packages/sklearn/manifold/_t_sne.py:800: FutureWarning: The default initialization in TSNE will change from 'random' to 'pca' in 1.2.\n",
      "  warnings.warn(\n",
      "/Users/paolo/opt/miniconda3/envs/tensorflow/lib/python3.9/site-packages/sklearn/manifold/_t_sne.py:810: FutureWarning: The default learning rate in TSNE will change from 200.0 to 'auto' in 1.2.\n",
      "  warnings.warn(\n",
      "/Users/paolo/opt/miniconda3/envs/tensorflow/lib/python3.9/site-packages/sklearn/manifold/_t_sne.py:800: FutureWarning: The default initialization in TSNE will change from 'random' to 'pca' in 1.2.\n",
      "  warnings.warn(\n",
      "/Users/paolo/opt/miniconda3/envs/tensorflow/lib/python3.9/site-packages/sklearn/manifold/_t_sne.py:810: FutureWarning: The default learning rate in TSNE will change from 200.0 to 'auto' in 1.2.\n",
      "  warnings.warn(\n"
     ]
    },
    {
     "name": "stdout",
     "output_type": "stream",
     "text": [
      "(442, 3)\n",
      "-0.5316912175724298\n"
     ]
    },
    {
     "name": "stderr",
     "output_type": "stream",
     "text": [
      "/Users/paolo/opt/miniconda3/envs/tensorflow/lib/python3.9/site-packages/sklearn/manifold/_t_sne.py:800: FutureWarning: The default initialization in TSNE will change from 'random' to 'pca' in 1.2.\n",
      "  warnings.warn(\n",
      "/Users/paolo/opt/miniconda3/envs/tensorflow/lib/python3.9/site-packages/sklearn/manifold/_t_sne.py:810: FutureWarning: The default learning rate in TSNE will change from 200.0 to 'auto' in 1.2.\n",
      "  warnings.warn(\n"
     ]
    },
    {
     "ename": "ValueError",
     "evalue": "'n_components' should be inferior to 4 for the barnes_hut algorithm as it relies on quad-tree or oct-tree.",
     "output_type": "error",
     "traceback": [
      "\u001b[0;31m---------------------------------------------------------------------------\u001b[0m",
      "\u001b[0;31mValueError\u001b[0m                                Traceback (most recent call last)",
      "Cell \u001b[0;32mIn [18], line 12\u001b[0m\n\u001b[1;32m     10\u001b[0m curr_df_trainVal \u001b[38;5;241m=\u001b[39m curr_df_trainVal_withTar\u001b[38;5;241m.\u001b[39miloc[:,:\u001b[38;5;241m-\u001b[39m\u001b[38;5;241m1\u001b[39m]\n\u001b[1;32m     11\u001b[0m dimRedMethod \u001b[38;5;241m=\u001b[39m TSNE(n_components\u001b[38;5;241m=\u001b[39mi\u001b[38;5;241m+\u001b[39m\u001b[38;5;241m1\u001b[39m)\n\u001b[0;32m---> 12\u001b[0m trainVal_reduced \u001b[38;5;241m=\u001b[39m pd\u001b[38;5;241m.\u001b[39mDataFrame(dimRedMethod\u001b[38;5;241m.\u001b[39mfit_transform(curr_df_trainVal\u001b[38;5;241m.\u001b[39mvalues,curr_df_trainVal_withTar\u001b[38;5;241m.\u001b[39mmean_std\u001b[38;5;241m.\u001b[39mvalues\u001b[38;5;241m.\u001b[39mreshape(\u001b[38;5;241m-\u001b[39m\u001b[38;5;241m1\u001b[39m, \u001b[38;5;241m1\u001b[39m)))\n\u001b[1;32m     14\u001b[0m mod \u001b[38;5;241m=\u001b[39m LinearRegression()\u001b[38;5;241m.\u001b[39mfit(trainVal_reduced, curr_df_trainVal_withTar\u001b[38;5;241m.\u001b[39mmean_std)\n\u001b[1;32m     16\u001b[0m trainValTest \u001b[38;5;241m=\u001b[39m pd\u001b[38;5;241m.\u001b[39mconcat((curr_df_trainVal,df_test),axis\u001b[38;5;241m=\u001b[39m\u001b[38;5;241m0\u001b[39m)\n",
      "File \u001b[0;32m~/opt/miniconda3/envs/tensorflow/lib/python3.9/site-packages/sklearn/manifold/_t_sne.py:1123\u001b[0m, in \u001b[0;36mTSNE.fit_transform\u001b[0;34m(self, X, y)\u001b[0m\n\u001b[1;32m   1103\u001b[0m \u001b[38;5;124;03m\"\"\"Fit X into an embedded space and return that transformed output.\u001b[39;00m\n\u001b[1;32m   1104\u001b[0m \n\u001b[1;32m   1105\u001b[0m \u001b[38;5;124;03mParameters\u001b[39;00m\n\u001b[0;32m   (...)\u001b[0m\n\u001b[1;32m   1120\u001b[0m \u001b[38;5;124;03m    Embedding of the training data in low-dimensional space.\u001b[39;00m\n\u001b[1;32m   1121\u001b[0m \u001b[38;5;124;03m\"\"\"\u001b[39;00m\n\u001b[1;32m   1122\u001b[0m \u001b[38;5;28mself\u001b[39m\u001b[38;5;241m.\u001b[39m_check_params_vs_input(X)\n\u001b[0;32m-> 1123\u001b[0m embedding \u001b[38;5;241m=\u001b[39m \u001b[38;5;28;43mself\u001b[39;49m\u001b[38;5;241;43m.\u001b[39;49m\u001b[43m_fit\u001b[49m\u001b[43m(\u001b[49m\u001b[43mX\u001b[49m\u001b[43m)\u001b[49m\n\u001b[1;32m   1124\u001b[0m \u001b[38;5;28mself\u001b[39m\u001b[38;5;241m.\u001b[39membedding_ \u001b[38;5;241m=\u001b[39m embedding\n\u001b[1;32m   1125\u001b[0m \u001b[38;5;28;01mreturn\u001b[39;00m \u001b[38;5;28mself\u001b[39m\u001b[38;5;241m.\u001b[39membedding_\n",
      "File \u001b[0;32m~/opt/miniconda3/envs/tensorflow/lib/python3.9/site-packages/sklearn/manifold/_t_sne.py:875\u001b[0m, in \u001b[0;36mTSNE._fit\u001b[0;34m(self, X, skip_num_points)\u001b[0m\n\u001b[1;32m    868\u001b[0m         \u001b[38;5;28;01mraise\u001b[39;00m \u001b[38;5;167;01mTypeError\u001b[39;00m(\n\u001b[1;32m    869\u001b[0m             \u001b[38;5;124m'\u001b[39m\u001b[38;5;124mTSNE with method=\u001b[39m\u001b[38;5;124m\"\u001b[39m\u001b[38;5;124mexact\u001b[39m\u001b[38;5;124m\"\u001b[39m\u001b[38;5;124m does not accept sparse \u001b[39m\u001b[38;5;124m'\u001b[39m\n\u001b[1;32m    870\u001b[0m             \u001b[38;5;124m'\u001b[39m\u001b[38;5;124mprecomputed distance matrix. Use method=\u001b[39m\u001b[38;5;124m\"\u001b[39m\u001b[38;5;124mbarnes_hut\u001b[39m\u001b[38;5;124m\"\u001b[39m\u001b[38;5;124m \u001b[39m\u001b[38;5;124m'\u001b[39m\n\u001b[1;32m    871\u001b[0m             \u001b[38;5;124m\"\u001b[39m\u001b[38;5;124mor provide the dense distance matrix.\u001b[39m\u001b[38;5;124m\"\u001b[39m\n\u001b[1;32m    872\u001b[0m         )\n\u001b[1;32m    874\u001b[0m \u001b[38;5;28;01mif\u001b[39;00m \u001b[38;5;28mself\u001b[39m\u001b[38;5;241m.\u001b[39mmethod \u001b[38;5;241m==\u001b[39m \u001b[38;5;124m\"\u001b[39m\u001b[38;5;124mbarnes_hut\u001b[39m\u001b[38;5;124m\"\u001b[39m \u001b[38;5;129;01mand\u001b[39;00m \u001b[38;5;28mself\u001b[39m\u001b[38;5;241m.\u001b[39mn_components \u001b[38;5;241m>\u001b[39m \u001b[38;5;241m3\u001b[39m:\n\u001b[0;32m--> 875\u001b[0m     \u001b[38;5;28;01mraise\u001b[39;00m \u001b[38;5;167;01mValueError\u001b[39;00m(\n\u001b[1;32m    876\u001b[0m         \u001b[38;5;124m\"\u001b[39m\u001b[38;5;124m'\u001b[39m\u001b[38;5;124mn_components\u001b[39m\u001b[38;5;124m'\u001b[39m\u001b[38;5;124m should be inferior to 4 for the \u001b[39m\u001b[38;5;124m\"\u001b[39m\n\u001b[1;32m    877\u001b[0m         \u001b[38;5;124m\"\u001b[39m\u001b[38;5;124mbarnes_hut algorithm as it relies on \u001b[39m\u001b[38;5;124m\"\u001b[39m\n\u001b[1;32m    878\u001b[0m         \u001b[38;5;124m\"\u001b[39m\u001b[38;5;124mquad-tree or oct-tree.\u001b[39m\u001b[38;5;124m\"\u001b[39m\n\u001b[1;32m    879\u001b[0m     )\n\u001b[1;32m    880\u001b[0m random_state \u001b[38;5;241m=\u001b[39m check_random_state(\u001b[38;5;28mself\u001b[39m\u001b[38;5;241m.\u001b[39mrandom_state)\n\u001b[1;32m    882\u001b[0m \u001b[38;5;28;01mif\u001b[39;00m \u001b[38;5;28mself\u001b[39m\u001b[38;5;241m.\u001b[39mearly_exaggeration \u001b[38;5;241m<\u001b[39m \u001b[38;5;241m1.0\u001b[39m:\n",
      "\u001b[0;31mValueError\u001b[0m: 'n_components' should be inferior to 4 for the barnes_hut algorithm as it relies on quad-tree or oct-tree."
     ]
    }
   ],
   "source": [
    "from sklearn.manifold import TSNE\n",
    "\n",
    "best_scores = []\n",
    "best_nums = []\n",
    "for curr_seed in [0,1,2,3,4]: \n",
    "    best_score = 0\n",
    "    best_num = 0\n",
    "    for i in range(50):\n",
    "        curr_df_trainVal_withTar = resample(df_trainVal_withTar, random_state=curr_seed)\n",
    "        curr_df_trainVal = curr_df_trainVal_withTar.iloc[:,:-1]\n",
    "        dimRedMethod = TSNE(n_components=i+1)\n",
    "        trainVal_reduced = pd.DataFrame(dimRedMethod.fit_transform(curr_df_trainVal.values,curr_df_trainVal_withTar.mean_std.values.reshape(-1, 1)))\n",
    "        \n",
    "        mod = LinearRegression().fit(trainVal_reduced, curr_df_trainVal_withTar.mean_std)\n",
    "        \n",
    "        trainValTest = pd.concat((curr_df_trainVal,df_test),axis=0)\n",
    "        test_reduced = pd.DataFrame(dimRedMethod.fit_transform(trainValTest.values)).iloc[-df_test.shape[0]:,:]\n",
    "        print(test_reduced.shape)\n",
    "        actual_score = mod.score(test_reduced, df_test_withTar.mean_std)\n",
    "        print(actual_score)\n",
    "        if actual_score> best_score:\n",
    "            best_score=actual_score\n",
    "            best_num = test_reduced.shape[1]\n",
    "    print(best_score)\n",
    "    print(best_num)\n",
    "    best_scores.append(best_score)\n",
    "    best_nums.append(best_num)\n",
    "compute_CI(best_scores,5)\n",
    "compute_CI(best_nums,5)\n"
   ]
  },
  {
   "cell_type": "code",
   "execution_count": null,
   "id": "aacd0120",
   "metadata": {},
   "outputs": [],
   "source": []
  },
  {
   "cell_type": "code",
   "execution_count": null,
   "id": "94f7189c",
   "metadata": {},
   "outputs": [],
   "source": []
  },
  {
   "cell_type": "code",
   "execution_count": null,
   "id": "8be3597d",
   "metadata": {},
   "outputs": [],
   "source": []
  },
  {
   "cell_type": "code",
   "execution_count": null,
   "id": "8a3c2d4c",
   "metadata": {},
   "outputs": [],
   "source": []
  },
  {
   "cell_type": "code",
   "execution_count": null,
   "id": "28c246dc",
   "metadata": {},
   "outputs": [],
   "source": []
  },
  {
   "cell_type": "code",
   "execution_count": null,
   "id": "5a6b524a",
   "metadata": {},
   "outputs": [],
   "source": []
  }
 ],
 "metadata": {
  "kernelspec": {
   "display_name": "Python 3.9 (tensorflow)",
   "language": "python",
   "name": "tensorflow"
  },
  "language_info": {
   "codemirror_mode": {
    "name": "ipython",
    "version": 3
   },
   "file_extension": ".py",
   "mimetype": "text/x-python",
   "name": "python",
   "nbconvert_exporter": "python",
   "pygments_lexer": "ipython3",
   "version": "3.9.13"
  }
 },
 "nbformat": 4,
 "nbformat_minor": 5
}

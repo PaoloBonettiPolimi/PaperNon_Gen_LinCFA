{
 "cells": [
  {
   "cell_type": "markdown",
   "id": "301e9163",
   "metadata": {},
   "source": [
    "# Preliminaries"
   ]
  },
  {
   "cell_type": "code",
   "execution_count": 1,
   "id": "288acbdf",
   "metadata": {},
   "outputs": [],
   "source": [
    "import pandas as pd\n",
    "import matplotlib.pyplot as plt\n",
    "import matplotlib.cm as cm\n",
    "import numpy as np\n",
    "import sys\n",
    "from sklearn.utils import resample\n",
    "import pickle\n",
    "\n",
    "from sklearn.linear_model import LinearRegression, LogisticRegression\n",
    "from sklearn.metrics import r2_score\n",
    "\n",
    "# sys.path.append(\"../LinCFA\")\n",
    "# from LinCFA import LinCFA\n",
    "# from LinCFA_fast import LinCFA_fast\n",
    "# \n",
    "# sys.path.append(\"../NonLinCFA\")\n",
    "# from NonLinCFA import NonLinCFA\n",
    "# \n",
    "# sys.path.append(\"../GenLinCFA\")\n",
    "# from GenLinCFA import GenLinCFA\n",
    "# from GenLinCFA_fast import GenLinCFA_fast\n"
   ]
  },
  {
   "cell_type": "code",
   "execution_count": 2,
   "id": "72d1e3cd",
   "metadata": {},
   "outputs": [],
   "source": [
    "def compute_CI(list,n):\n",
    "    print(f'{round(np.mean(list),5)} \\pm {round(1.96*np.std(list)/np.sqrt(n),5)}')"
   ]
  },
  {
   "cell_type": "markdown",
   "id": "c876dde1",
   "metadata": {
    "heading_collapsed": true
   },
   "source": [
    "# Classification"
   ]
  },
  {
   "cell_type": "code",
   "execution_count": 5,
   "id": "c16204e8-1ce4-40e8-9cfd-6cf192bed17c",
   "metadata": {},
   "outputs": [
    {
     "name": "stdout",
     "output_type": "stream",
     "text": [
      "[[0, 'linear', 0.821, 0.82, (3000, 35)], [0, 'poly', 0.8256666666666667, 0.833, (3000, 35)], [0, 'sigmoid', 0.6786666666666666, 0.666, (3000, 25)], [1, 'linear', 0.8266666666666667, 0.8293333333333334, (3000, 35)], [1, 'poly', 0.8246666666666667, 0.8276666666666667, (3000, 35)], [1, 'sigmoid', 0.6546666666666666, 0.6383333333333333, (3000, 12)], [2, 'linear', 0.821, 0.8263333333333334, (3000, 30)], [2, 'poly', 0.854, 0.85, (3000, 35)], [2, 'sigmoid', 0.6566666666666666, 0.6506666666666666, (3000, 2)], [3, 'linear', 0.8413333333333334, 0.8376666666666667, (3000, 35)], [3, 'poly', 0.8383333333333334, 0.841, (3000, 30)], [3, 'sigmoid', 0.683, 0.6693333333333333, (3000, 4)], [4, 'linear', 0.8276666666666667, 0.826, (3000, 20)], [4, 'poly', 0.809, 0.825, (3000, 35)], [4, 'sigmoid', 0.6613333333333333, 0.6483333333333333, (3000, 25)]]\n",
      "0.8275333333333335 +- 0.006519206059363734\n",
      "0.8278666666666666 +- 0.005049214293113131\n",
      "31.0 +- 5.1110546856788766\n",
      "0.8303333333333333 +- 0.013195392596576178\n",
      "0.8353333333333334 +- 0.008016589022493019\n",
      "34.0 +- 1.753077294359835\n",
      "0.6668666666666667 +- 0.010244799986117641\n",
      "0.6545333333333334 +- 0.0101190345433193\n",
      "13.6 +- 8.67020350395537\n"
     ]
    }
   ],
   "source": [
    "### LINEAR SPCA ###\n",
    "\n",
    "with open('fashionMnist_class_supPCA.pkl', 'rb') as f:\n",
    "    x = pickle.load(f)\n",
    "print(x)\n",
    "\n",
    "best_scores = []\n",
    "best_scores_svr = []\n",
    "best_nums = []\n",
    "for elem in x[0:15:3]:\n",
    "    best_scores.append(elem[2])\n",
    "    best_scores_svr.append(elem[3])\n",
    "    best_nums.append(elem[4][1])\n",
    "compute_CI(best_scores,5)\n",
    "compute_CI(best_scores_svr,5)\n",
    "compute_CI(best_nums,5)\n",
    "\n",
    "### poly SPCA ###\n",
    "best_scores = []\n",
    "best_scores_svr = []\n",
    "best_nums = []\n",
    "for elem in x[1:15:3]:\n",
    "    best_scores.append(elem[2])\n",
    "    best_scores_svr.append(elem[3])\n",
    "    best_nums.append(elem[4][1])\n",
    "compute_CI(best_scores,5)\n",
    "compute_CI(best_scores_svr,5)\n",
    "compute_CI(best_nums,5)\n",
    "\n",
    "### sigmoid SPCA ###\n",
    "best_scores = []\n",
    "best_scores_svr = []\n",
    "best_nums = []\n",
    "for elem in x[2:15:3]:\n",
    "    best_scores.append(elem[2])\n",
    "    best_scores_svr.append(elem[3])\n",
    "    best_nums.append(elem[4][1])\n",
    "compute_CI(best_scores,5)\n",
    "compute_CI(best_scores_svr,5)\n",
    "compute_CI(best_nums,5)\n"
   ]
  },
  {
   "cell_type": "code",
   "execution_count": 12,
   "id": "d838ca08-e954-406d-9994-8af7e0825464",
   "metadata": {},
   "outputs": [
    {
     "name": "stdout",
     "output_type": "stream",
     "text": [
      "[[0, 'linear', 0.875, 0.875, (3000, 100)], [0, 'poly', 0.873, 0.8743333333333333, (3000, 200)], [0, 'sigmoid', 0.3333333333333333, 0.3333333333333333, (3000, 1)], [1, 'linear', 0.8756666666666667, 0.8773333333333333, (3000, 150)], [1, 'poly', 0.8693333333333333, 0.8713333333333333, (3000, 200)], [1, 'sigmoid', 0.3333333333333333, 0.3333333333333333, (3000, 1)], [2, 'linear', 0.8773333333333333, 0.8766666666666667, (3000, 75)], [2, 'poly', 0.871, 0.8763333333333333, (3000, 100)], [2, 'sigmoid', 0.3333333333333333, 0.3333333333333333, (3000, 1)], [3, 'linear', 0.8776666666666667, 0.8763333333333333, (3000, 100)], [3, 'poly', 0.875, 0.877, (3000, 150)], [3, 'sigmoid', 0.3333333333333333, 0.3333333333333333, (3000, 1)], [4, 'linear', 0.8816666666666667, 0.8786666666666667, (3000, 150)], [4, 'poly', 0.8736666666666667, 0.8743333333333333, (3000, 200)], [4, 'sigmoid', 0.3333333333333333, 0.3333333333333333, (3000, 1)]]\n",
      "0.8774666666666666 +- 0.0020377298043547367\n",
      "0.8768 +- 0.001055087821515883\n",
      "115.0 +- 26.296159415397526\n",
      "0.8724000000000001 +- 0.001756968702687181\n",
      "0.8746666666666666 +- 0.0017334892237590982\n",
      "170.0 +- 35.0615458871967\n",
      "0.3333333333333333 +- 0.0\n",
      "0.3333333333333333 +- 0.0\n",
      "1.0 +- 0.0\n"
     ]
    }
   ],
   "source": [
    "### kernel PCA ###\n",
    "with open('fashionMnist_class_kernelPCA.pkl', 'rb') as f:\n",
    "    x = pickle.load(f)\n",
    "print(x)\n",
    "\n",
    "best_scores = []\n",
    "best_scores_svr = []\n",
    "best_nums = []\n",
    "for elem in x[0:15:3]:\n",
    "    best_scores.append(elem[2])\n",
    "    best_scores_svr.append(elem[3])\n",
    "    best_nums.append(elem[4][1])\n",
    "compute_CI(best_scores,5)\n",
    "compute_CI(best_scores_svr,5)\n",
    "compute_CI(best_nums,5)\n",
    "\n",
    "### poly SPCA ###\n",
    "best_scores = []\n",
    "best_scores_svr = []\n",
    "best_nums = []\n",
    "for elem in x[1:15:3]:\n",
    "    best_scores.append(elem[2])\n",
    "    best_scores_svr.append(elem[3])\n",
    "    best_nums.append(elem[4][1])\n",
    "compute_CI(best_scores,5)\n",
    "compute_CI(best_scores_svr,5)\n",
    "compute_CI(best_nums,5)\n",
    "\n",
    "### sigmoid SPCA ###\n",
    "best_scores = []\n",
    "best_scores_svr = []\n",
    "best_nums = []\n",
    "for elem in x[2:15:3]:\n",
    "    best_scores.append(elem[2])\n",
    "    best_scores_svr.append(elem[3])\n",
    "    best_nums.append(elem[4][1])\n",
    "compute_CI(best_scores,5)\n",
    "compute_CI(best_scores_svr,5)\n",
    "compute_CI(best_nums,5)\n"
   ]
  },
  {
   "cell_type": "code",
   "execution_count": 10,
   "id": "8b79f4d7-440d-4dd4-b446-dbae5279d296",
   "metadata": {},
   "outputs": [
    {
     "name": "stdout",
     "output_type": "stream",
     "text": [
      "0.8754 +- 0.001550479897035496\n",
      "0.8763333333333334 +- 0.0006128809926169348\n",
      "130.4 +- 58.7780439007628\n"
     ]
    }
   ],
   "source": [
    "### LLE ###\n",
    "with open('fashionMnist_class_NCA.pkl', 'rb') as f:\n",
    "    x = pickle.load(f)\n",
    "x\n",
    "\n",
    "best_scores = []\n",
    "best_scores_svr = []\n",
    "best_nums = []\n",
    "for elem in x:\n",
    "    best_scores.append(elem[2])\n",
    "    best_scores_svr.append(elem[3])\n",
    "    best_nums.append(elem[4][1])\n",
    "compute_CI(best_scores,5)\n",
    "compute_CI(best_scores_svr,5)\n",
    "compute_CI(best_nums,5)"
   ]
  },
  {
   "cell_type": "code",
   "execution_count": 11,
   "id": "3c331cac-1d76-49b9-bc86-286b62de7e73",
   "metadata": {},
   "outputs": [
    {
     "name": "stdout",
     "output_type": "stream",
     "text": [
      "0.6943999999999999 +- 0.2238041740763232\n",
      "0.6949333333333334 +- 0.22412636454973672\n",
      "95.33333333333333 +- 66.67970059254247\n"
     ]
    }
   ],
   "source": [
    "### LLE ###\n",
    "with open('fashionMnist_class_kernelPCA.pkl', 'rb') as f:\n",
    "    x = pickle.load(f)\n",
    "x\n",
    "\n",
    "best_scores = []\n",
    "best_scores_svr = []\n",
    "best_nums = []\n",
    "for elem in x:\n",
    "    best_scores.append(elem[2])\n",
    "    best_scores_svr.append(elem[3])\n",
    "    best_nums.append(elem[4][1])\n",
    "compute_CI(best_scores,5)\n",
    "compute_CI(best_scores_svr,5)\n",
    "compute_CI(best_nums,5)"
   ]
  },
  {
   "cell_type": "code",
   "execution_count": 12,
   "id": "1ef46546-6774-4067-9f98-e0166190b67c",
   "metadata": {},
   "outputs": [
    {
     "name": "stdout",
     "output_type": "stream",
     "text": [
      "0.85333 \\pm 0.00402\n",
      "0.85453 \\pm 0.00197\n",
      "190.0 \\pm 17.53077\n"
     ]
    }
   ],
   "source": [
    "### LLE ###\n",
    "with open('fashionMnist_class_LLE.pkl', 'rb') as f:\n",
    "    x = pickle.load(f)\n",
    "x\n",
    "\n",
    "best_scores = []\n",
    "best_scores_svr = []\n",
    "best_nums = []\n",
    "for elem in x:\n",
    "    best_scores.append(elem[2])\n",
    "    best_scores_svr.append(elem[3])\n",
    "    best_nums.append(elem[4][1])\n",
    "compute_CI(best_scores,5)\n",
    "compute_CI(best_scores_svr,5)\n",
    "compute_CI(best_nums,5)\n"
   ]
  },
  {
   "cell_type": "code",
   "execution_count": 13,
   "id": "f2881922-96ca-440e-b639-d5269d66a7a6",
   "metadata": {},
   "outputs": [
    {
     "name": "stdout",
     "output_type": "stream",
     "text": [
      "0.87633 \\pm 0.00078\n",
      "0.87633 \\pm 0.00085\n",
      "40.0 \\pm 27.01674\n"
     ]
    }
   ],
   "source": [
    "### UMAP ###\n",
    "with open('fashionMnist_class_UMAP.pkl', 'rb') as f:\n",
    "    x = pickle.load(f)\n",
    "x\n",
    "\n",
    "best_scores = []\n",
    "best_scores_svr = []\n",
    "best_nums = []\n",
    "for elem in x:\n",
    "    best_scores.append(elem[2])\n",
    "    best_scores_svr.append(elem[3])\n",
    "    best_nums.append(elem[4][1])\n",
    "compute_CI(best_scores,5)\n",
    "compute_CI(best_scores_svr,5)\n",
    "compute_CI(best_nums,5)\n"
   ]
  },
  {
   "cell_type": "code",
   "execution_count": 15,
   "id": "1f07586b-ad8f-48b8-8ffa-e093ea119068",
   "metadata": {},
   "outputs": [
    {
     "name": "stdout",
     "output_type": "stream",
     "text": [
      "0.863 \\pm 0.00271\n",
      "0.8602 \\pm 0.00181\n",
      "180.0 \\pm 21.47072\n"
     ]
    }
   ],
   "source": [
    "### isomap ###\n",
    "with open('fashionMnist_class_Isomap.pkl', 'rb') as f:\n",
    "    x = pickle.load(f)\n",
    "x\n",
    "\n",
    "best_scores = []\n",
    "best_scores_svr = []\n",
    "best_nums = []\n",
    "for elem in x:\n",
    "    best_scores.append(elem[2])\n",
    "    best_scores_svr.append(elem[3])\n",
    "    best_nums.append(elem[4][1])\n",
    "compute_CI(best_scores,5)\n",
    "compute_CI(best_scores_svr,5)\n",
    "compute_CI(best_nums,5)\n"
   ]
  },
  {
   "cell_type": "code",
   "execution_count": null,
   "id": "c9c02ed8-891a-46a1-beed-76c0b13a7a06",
   "metadata": {},
   "outputs": [],
   "source": []
  },
  {
   "cell_type": "markdown",
   "id": "4d0dc0c8",
   "metadata": {},
   "source": [
    "# Regression"
   ]
  },
  {
   "cell_type": "code",
   "execution_count": 34,
   "id": "386792c7-6557-4dda-b27b-3eb877918d65",
   "metadata": {},
   "outputs": [
    {
     "name": "stdout",
     "output_type": "stream",
     "text": [
      "0.7901138867376303 +- 0.008384649630823852\n",
      "0.7075701304336475 +- 0.03658022230910346\n",
      "34.0 +- 1.753077294359835\n",
      "0.7812190087060534 +- 0.023651440056663534\n",
      "0.6943514352838644 +- 0.020487099713344965\n",
      "34.0 +- 1.753077294359835\n",
      "0.7306864886799864 +- 0.014076782847690294\n",
      "0.7256075147160527 +- 0.014618673453012808\n",
      "104.0 +- 49.382665784665775\n"
     ]
    }
   ],
   "source": [
    "### LINEAR SPCA ###\n",
    "best_scores = []\n",
    "best_scores_svr = []\n",
    "best_nums = []\n",
    "for elem in x[0:15:3]:\n",
    "    best_scores.append(elem[2])\n",
    "    best_scores_svr.append(elem[3])\n",
    "    best_nums.append(elem[4][1])\n",
    "compute_CI(best_scores,5)\n",
    "compute_CI(best_scores_svr,5)\n",
    "compute_CI(best_nums,5)\n",
    "\n",
    "### poly SPCA ###\n",
    "best_scores = []\n",
    "best_scores_svr = []\n",
    "best_nums = []\n",
    "for elem in x[1:15:3]:\n",
    "    best_scores.append(elem[2])\n",
    "    best_scores_svr.append(elem[3])\n",
    "    best_nums.append(elem[4][1])\n",
    "compute_CI(best_scores,5)\n",
    "compute_CI(best_scores_svr,5)\n",
    "compute_CI(best_nums,5)\n",
    "\n",
    "### sigmoid SPCA ###\n",
    "best_scores = []\n",
    "best_scores_svr = []\n",
    "best_nums = []\n",
    "for elem in x[2:15:3]:\n",
    "    best_scores.append(elem[2])\n",
    "    best_scores_svr.append(elem[3])\n",
    "    best_nums.append(elem[4][1])\n",
    "compute_CI(best_scores,5)\n",
    "compute_CI(best_scores_svr,5)\n",
    "compute_CI(best_nums,5)\n"
   ]
  },
  {
   "cell_type": "code",
   "execution_count": 41,
   "id": "acf15890-3dff-4b29-a982-ce9350f73be8",
   "metadata": {},
   "outputs": [
    {
     "name": "stdout",
     "output_type": "stream",
     "text": [
      "0.8907594164446783 +- 0.0009035239487573092\n",
      "0.6882000927992775 +- 0.0027065499954437417\n",
      "190.0 +- 17.53077294359835\n"
     ]
    }
   ],
   "source": [
    "### kernel PCA\n",
    "[0, 'linear', 0.8904786801105362, 0.6884135214176206, (2163, 200)]\n",
    "[1, 'linear', 0.8910671720372463, 0.6941205171311187, (2163, 200)]\n",
    "[2, 'linear', 0.8890243094419056, 0.6860954046405752, (2163, 200)]\n",
    "[3, 'linear', 0.8921921210387593, 0.6860674973445605, (2163, 200)]\n",
    "[4, 'linear', 0.8910347995949441, 0.686303523462513, (2163, 200)]\n",
    "\n",
    "compute_CI([0.8904786801105362,0.8910671720372463,0.8890243094419056,0.8921921210387593,0.8910347995949441],5)\n",
    "compute_CI([0.6884135214176206,0.6941205171311187,0.6860954046405752,0.6860674973445605,0.686303523462513],5)\n",
    "compute_CI([200,200,200,200,150],5)"
   ]
  },
  {
   "cell_type": "code",
   "execution_count": 19,
   "id": "36167786-1dc0-4b84-9ca0-4fd84e344fdc",
   "metadata": {},
   "outputs": [
    {
     "name": "stdout",
     "output_type": "stream",
     "text": [
      "0.1698 \\pm 0.00992\n",
      "0.1791 \\pm 0.0007\n",
      "71.2 \\pm 75.57654\n"
     ]
    }
   ],
   "source": [
    "### LLE ###\n",
    "with open('fashionMnist_LLE.pkl', 'rb') as f:\n",
    "    x = pickle.load(f)\n",
    "x\n",
    "\n",
    "best_scores = []\n",
    "best_scores_svr = []\n",
    "best_nums = []\n",
    "for elem in x:\n",
    "    best_scores.append(elem[2])\n",
    "    best_scores_svr.append(elem[3])\n",
    "    best_nums.append(elem[4][1])\n",
    "compute_CI(best_scores,5)\n",
    "compute_CI(best_scores_svr,5)\n",
    "compute_CI(best_nums,5)"
   ]
  },
  {
   "cell_type": "code",
   "execution_count": null,
   "id": "c5759c56-89e9-465b-9d58-1c182d66b499",
   "metadata": {},
   "outputs": [],
   "source": []
  },
  {
   "cell_type": "code",
   "execution_count": 39,
   "id": "83af897f-2731-4207-a360-ee90e1281756",
   "metadata": {},
   "outputs": [
    {
     "name": "stdout",
     "output_type": "stream",
     "text": [
      "0.4240874618527585 +- 0.018643105595670385\n",
      "0.4266296864729952 +- 0.011488339861755048\n",
      "190.0 +- 17.53077294359835\n"
     ]
    }
   ],
   "source": [
    "### isomap ###\n",
    "with open('results_isomap.pkl', 'rb') as f:\n",
    "    x = pickle.load(f)\n",
    "x\n",
    "\n",
    "best_scores = []\n",
    "best_scores_svr = []\n",
    "best_nums = []\n",
    "for elem in x:\n",
    "    best_scores.append(elem[2])\n",
    "    best_scores_svr.append(elem[3])\n",
    "    best_nums.append(elem[4][1])\n",
    "compute_CI(best_scores,5)\n",
    "compute_CI(best_scores_svr,5)\n",
    "compute_CI(best_nums,5)\n"
   ]
  },
  {
   "cell_type": "code",
   "execution_count": 45,
   "id": "2df18123-d993-40f1-a507-20b5c65096ce",
   "metadata": {},
   "outputs": [
    {
     "name": "stdout",
     "output_type": "stream",
     "text": [
      "0.4688071608543396 +- 0.010873620492664061\n",
      "0.2715232221462759 +- 0.01026398727813031\n",
      "195.0 +- 8.765386471799175\n"
     ]
    }
   ],
   "source": [
    "### UMAP ###\n",
    "with open('results_umap.pkl', 'rb') as f:\n",
    "    x = pickle.load(f)\n",
    "x\n",
    "\n",
    "best_scores = []\n",
    "best_scores_svr = []\n",
    "best_nums = []\n",
    "for elem in x:\n",
    "    best_scores.append(elem[2])\n",
    "    best_scores_svr.append(elem[3])\n",
    "    best_nums.append(elem[4][1])\n",
    "compute_CI(best_scores,5)\n",
    "compute_CI(best_scores_svr,5)\n",
    "compute_CI([200,200,200,200,175],5)\n"
   ]
  },
  {
   "cell_type": "code",
   "execution_count": null,
   "id": "0adc619f-2de7-464a-9aca-5b059a471823",
   "metadata": {},
   "outputs": [],
   "source": []
  },
  {
   "cell_type": "code",
   "execution_count": 9,
   "id": "4703a7dc-07c9-442f-afc1-d95b9c8cd2c3",
   "metadata": {},
   "outputs": [
    {
     "name": "stdout",
     "output_type": "stream",
     "text": [
      "[[0, None, 0.9842810910772076, 0.9842810910772076, (2163, 3)], [1, None, 0.986130374479889, 0.986130374479889, (2163, 30)], [2, None, 0.986130374479889, 0.986130374479889, (2163, 7)], [3, None, 0.9865926953305594, 0.9865926953305594, (2163, 5)], [4, None, 0.9865926953305594, 0.9865926953305594, (2163, 50)]]\n",
      "0.985945446139621 +- 0.0007516121137775516\n",
      "0.985945446139621 +- 0.0007516121137775516\n",
      "19.0 +- 16.05765213223901\n"
     ]
    }
   ],
   "source": [
    "### UMAP ###\n",
    "import pickle\n",
    "with open('results_class_umap.pkl', 'rb') as f:\n",
    "    x = pickle.load(f)\n",
    "print(x)\n",
    "\n",
    "best_scores = []\n",
    "best_scores_svr = []\n",
    "best_nums = []\n",
    "for elem in x:\n",
    "    best_scores.append(elem[2])\n",
    "    best_scores_svr.append(elem[3])\n",
    "    best_nums.append(elem[4][1])\n",
    "compute_CI(best_scores,5)\n",
    "compute_CI(best_scores_svr,5)\n",
    "compute_CI(best_nums,5)\n"
   ]
  },
  {
   "cell_type": "code",
   "execution_count": 10,
   "id": "7b29d443-34b7-44af-822e-c7ba711cf9f6",
   "metadata": {},
   "outputs": [
    {
     "name": "stdout",
     "output_type": "stream",
     "text": [
      "[[0, None, 0.9935275080906149, 0.996301433194637, (2163, 30)], [1, None, 0.9921405455386038, 0.9958391123439667, (2163, 30)], [2, None, 0.9944521497919556, 0.9953767914932964, (2163, 25)], [3, None, 0.9939898289412853, 0.996301433194637, (2163, 25)], [4, None, 0.9930651872399445, 0.9976883957466481, (2163, 30)]]\n",
      "0.993435043920481 +- 0.0006972048591932797\n",
      "0.996301433194637 +- 0.0006780997205803709\n",
      "28.0 +- 2.1470724254202507\n"
     ]
    }
   ],
   "source": [
    "### NCA ###\n",
    "import pickle\n",
    "with open('results_class_NCA.pkl', 'rb') as f:\n",
    "    x = pickle.load(f)\n",
    "print(x)\n",
    "\n",
    "best_scores = []\n",
    "best_scores_svr = []\n",
    "best_nums = []\n",
    "for elem in x:\n",
    "    best_scores.append(elem[2])\n",
    "    best_scores_svr.append(elem[3])\n",
    "    best_nums.append(elem[4][1])\n",
    "compute_CI(best_scores,5)\n",
    "compute_CI(best_scores_svr,5)\n",
    "compute_CI(best_nums,5)\n"
   ]
  },
  {
   "cell_type": "code",
   "execution_count": 11,
   "id": "6928bd77-e1a9-4cc3-ae37-550620eb97c1",
   "metadata": {},
   "outputs": [
    {
     "name": "stdout",
     "output_type": "stream",
     "text": [
      "[[0, None, 0.9833564493758669, 0.9902912621359223, (2163, 100)], [1, None, 0.984743411927878, 0.9902912621359223, (2163, 200)], [2, None, 0.9865926953305594, 0.9902912621359223, (2163, 150)], [3, None, 0.986130374479889, 0.9889042995839112, (2163, 150)], [4, None, 0.9879796578825705, 0.9907535829865927, (2163, 150)]]\n",
      "0.9857605177993527 +- 0.0013896908902396316\n",
      "0.9901063337956542 +- 0.0005496971195687785\n",
      "150.0 +- 27.718585822512658\n"
     ]
    }
   ],
   "source": [
    "### LLE ###\n",
    "import pickle\n",
    "with open('results_class_LLE.pkl', 'rb') as f:\n",
    "    x = pickle.load(f)\n",
    "print(x)\n",
    "\n",
    "best_scores = []\n",
    "best_scores_svr = []\n",
    "best_nums = []\n",
    "for elem in x:\n",
    "    best_scores.append(elem[2])\n",
    "    best_scores_svr.append(elem[3])\n",
    "    best_nums.append(elem[4][1])\n",
    "compute_CI(best_scores,5)\n",
    "compute_CI(best_scores_svr,5)\n",
    "compute_CI(best_nums,5)\n"
   ]
  },
  {
   "cell_type": "code",
   "execution_count": 17,
   "id": "d1d3b46e-aa67-4874-9ed5-dacef00ea9ff",
   "metadata": {},
   "outputs": [
    {
     "name": "stdout",
     "output_type": "stream",
     "text": [
      "[[0, None, 0.9912159038372631, 0.9912159038372631, (2163, 7)], [1, None, 0.9893666204345816, 0.9912159038372631, (2163, 4)], [2, None, 0.9893666204345816, 0.9907535829865927, (2163, 10)], [3, None, 0.9907535829865927, 0.9902912621359223, (2163, 10)], [4, None, 0.9912159038372631, 0.9916782246879334, (2163, 5)]]\n",
      "0.9903837263060563 +- 0.0007428210263996852\n",
      "0.9910309754969949 +- 0.00041326746799710725\n",
      "7.2 +- 2.17551170992022\n"
     ]
    }
   ],
   "source": [
    "### isomap ###\n",
    "import pickle\n",
    "with open('results_class_isomap.pkl', 'rb') as f:\n",
    "    x = pickle.load(f)\n",
    "print(x)\n",
    "\n",
    "best_scores = []\n",
    "best_scores_svr = []\n",
    "best_nums = []\n",
    "for elem in x:\n",
    "    best_scores.append(elem[2])\n",
    "    best_scores_svr.append(elem[3])\n",
    "    best_nums.append(elem[4][1])\n",
    "compute_CI(best_scores,5)\n",
    "compute_CI(best_scores_svr,5)\n",
    "compute_CI(best_nums,5)\n"
   ]
  },
  {
   "cell_type": "code",
   "execution_count": 15,
   "id": "2fa9c110-3afb-4a0e-942a-a9cbe3bac306",
   "metadata": {},
   "outputs": [
    {
     "name": "stdout",
     "output_type": "stream",
     "text": [
      "[[0, 'linear', 0.9889042995839112, 0.9884419787332409, (2163, 30)], [0, 'poly', 0.9879796578825705, 0.9884419787332409, (2163, 25)], [0, 'sigmoid', 0.5247341655108645, 0.5247341655108645, (2163, 1)], [1, 'linear', 0.9884419787332409, 0.9875173370319001, (2163, 35)], [1, 'poly', 0.989828941285252, 0.9893666204345816, (2163, 30)], [1, 'sigmoid', 0.5247341655108645, 0.5247341655108645, (2163, 1)], [2, 'linear', 0.9893666204345816, 0.9907535829865927, (2163, 35)], [2, 'poly', 0.9889042995839112, 0.9893666204345816, (2163, 30)], [2, 'sigmoid', 0.5247341655108645, 0.5247341655108645, (2163, 1)], [3, 'linear', 0.9884419787332409, 0.9884419787332409, (2163, 35)], [3, 'poly', 0.9893666204345816, 0.9889042995839112, (2163, 30)], [3, 'sigmoid', 0.5247341655108645, 0.5247341655108645, (2163, 1)], [4, 'linear', 0.9902912621359223, 0.9893666204345816, (2163, 35)], [4, 'poly', 0.989828941285252, 0.9902912621359223, (2163, 35)], [4, 'sigmoid', 0.5247341655108645, 0.5247341655108645, (2163, 1)]]\n",
      "0.9890892279241793 +- 0.0006065108282965316\n",
      "0.9889042995839112 +- 0.0009589778214861751\n",
      "34.0 +- 1.753077294359835\n",
      "0.9891816920943134 +- 0.0006065108282965679\n",
      "0.9892741562644474 +- 0.0005376143887085418\n",
      "30.0 +- 2.7718585822512662\n",
      "0.5247341655108645 +- 0.0\n",
      "0.5247341655108645 +- 0.0\n",
      "1.0 +- 0.0\n"
     ]
    }
   ],
   "source": [
    "### LINEAR SPCA ###\n",
    "\n",
    "with open('results_class_supPCA.pkl', 'rb') as f:\n",
    "    x = pickle.load(f)\n",
    "print(x)\n",
    "\n",
    "best_scores = []\n",
    "best_scores_svr = []\n",
    "best_nums = []\n",
    "for elem in x[0:15:3]:\n",
    "    best_scores.append(elem[2])\n",
    "    best_scores_svr.append(elem[3])\n",
    "    best_nums.append(elem[4][1])\n",
    "compute_CI(best_scores,5)\n",
    "compute_CI(best_scores_svr,5)\n",
    "compute_CI(best_nums,5)\n",
    "\n",
    "### poly SPCA ###\n",
    "best_scores = []\n",
    "best_scores_svr = []\n",
    "best_nums = []\n",
    "for elem in x[1:15:3]:\n",
    "    best_scores.append(elem[2])\n",
    "    best_scores_svr.append(elem[3])\n",
    "    best_nums.append(elem[4][1])\n",
    "compute_CI(best_scores,5)\n",
    "compute_CI(best_scores_svr,5)\n",
    "compute_CI(best_nums,5)\n",
    "\n",
    "### sigmoid SPCA ###\n",
    "best_scores = []\n",
    "best_scores_svr = []\n",
    "best_nums = []\n",
    "for elem in x[2:15:3]:\n",
    "    best_scores.append(elem[2])\n",
    "    best_scores_svr.append(elem[3])\n",
    "    best_nums.append(elem[4][1])\n",
    "compute_CI(best_scores,5)\n",
    "compute_CI(best_scores_svr,5)\n",
    "compute_CI(best_nums,5)\n"
   ]
  },
  {
   "cell_type": "code",
   "execution_count": 23,
   "id": "54339f68-3429-480e-846f-713e014bd1f6",
   "metadata": {},
   "outputs": [
    {
     "name": "stdout",
     "output_type": "stream",
     "text": [
      "[[0, None, 0.1785, 0.179, (2000, 2)], [1, None, 0.1795, 0.179, (2000, 15)], [2, None, 0.179, 0.1795, (2000, 7)], [3, None, 0.179, 0.1795, (2000, 10)], [4, None, 0.179, 0.1785, (2000, 7)]]\n",
      "0.179 \\pm 0.00028\n",
      "0.1791 \\pm 0.00033\n",
      "8.2 \\pm 3.73533\n"
     ]
    }
   ],
   "source": [
    "### UMAP ###\n",
    "\n",
    "import pickle\n",
    "with open('fashionMnist_UMAP.pkl', 'rb') as f:\n",
    "    x = pickle.load(f)\n",
    "print(x)\n",
    "\n",
    "best_scores = []\n",
    "best_scores_svr = []\n",
    "best_nums = []\n",
    "for elem in x:\n",
    "    best_scores.append(elem[2])\n",
    "    best_scores_svr.append(elem[3])\n",
    "    best_nums.append(elem[4][1])\n",
    "compute_CI(best_scores,5)\n",
    "compute_CI(best_scores_svr,5)\n",
    "compute_CI(best_nums,5)\n"
   ]
  },
  {
   "cell_type": "code",
   "execution_count": 24,
   "id": "3f2579cb-8d3d-4d03-90d8-64c0a89184fc",
   "metadata": {},
   "outputs": [
    {
     "name": "stdout",
     "output_type": "stream",
     "text": [
      "[[0, 'linear', 0.179, 0.179, (2000, 1)], [0, 'poly', 0.179, 0.179, (2000, 1)], [0, 'sigmoid', 0.179, 0.1785, (2000, 1)], [1, 'linear', 0.179, 0.179, (2000, 1)], [1, 'poly', 0.179, 0.179, (2000, 1)], [1, 'sigmoid', 0.179, 0.1785, (2000, 1)], [2, 'linear', 0.179, 0.1785, (2000, 1)], [2, 'poly', 0.1795, 0.179, (2000, 2)], [2, 'sigmoid', 0.179, 0.179, (2000, 1)], [3, 'linear', 0.179, 0.1795, (2000, 1)], [3, 'poly', 0.1795, 0.1805, (2000, 2)], [3, 'sigmoid', 0.179, 0.179, (2000, 1)], [4, 'linear', 0.179, 0.179, (2000, 1)], [4, 'poly', 0.179, 0.18, (2000, 1)], [4, 'sigmoid', 0.179, 0.179, (2000, 1)]]\n",
      "0.179 \\pm 0.0\n",
      "0.179 \\pm 0.00028\n",
      "1.0 \\pm 0.0\n",
      "0.1792 \\pm 0.00021\n",
      "0.1795 \\pm 0.00055\n",
      "1.4 \\pm 0.42941\n",
      "0.179 \\pm 0.0\n",
      "0.1788 \\pm 0.00021\n",
      "1.0 \\pm 0.0\n"
     ]
    }
   ],
   "source": [
    "### LINEAR SPCA ###\n",
    "\n",
    "with open('fashionMnist_supPCA.pkl', 'rb') as f:\n",
    "    x = pickle.load(f)\n",
    "print(x)\n",
    "\n",
    "best_scores = []\n",
    "best_scores_svr = []\n",
    "best_nums = []\n",
    "for elem in x[0:15:3]:\n",
    "    best_scores.append(elem[2])\n",
    "    best_scores_svr.append(elem[3])\n",
    "    best_nums.append(elem[4][1])\n",
    "compute_CI(best_scores,5)\n",
    "compute_CI(best_scores_svr,5)\n",
    "compute_CI(best_nums,5)\n",
    "\n",
    "### poly SPCA ###\n",
    "best_scores = []\n",
    "best_scores_svr = []\n",
    "best_nums = []\n",
    "for elem in x[1:15:3]:\n",
    "    best_scores.append(elem[2])\n",
    "    best_scores_svr.append(elem[3])\n",
    "    best_nums.append(elem[4][1])\n",
    "compute_CI(best_scores,5)\n",
    "compute_CI(best_scores_svr,5)\n",
    "compute_CI(best_nums,5)\n",
    "\n",
    "### sigmoid SPCA ###\n",
    "best_scores = []\n",
    "best_scores_svr = []\n",
    "best_nums = []\n",
    "for elem in x[2:15:3]:\n",
    "    best_scores.append(elem[2])\n",
    "    best_scores_svr.append(elem[3])\n",
    "    best_nums.append(elem[4][1])\n",
    "compute_CI(best_scores,5)\n",
    "compute_CI(best_scores_svr,5)\n",
    "compute_CI(best_nums,5)\n"
   ]
  },
  {
   "cell_type": "code",
   "execution_count": 3,
   "id": "2739fb95-f6ab-4fd6-8b5e-7fea6fb00556",
   "metadata": {},
   "outputs": [
    {
     "name": "stdout",
     "output_type": "stream",
     "text": [
      "[[0, None, 0.1785, 0.179, (2000, 1)], [1, None, 0.1785, 0.1785, (2000, 1)], [2, None, 0.1785, 0.1785, (2000, 1)], [3, None, 0.1785, 0.1785, (2000, 1)], [4, None, 0.1785, 0.179, (2000, 3)]]\n",
      "0.1785 \\pm 0.0\n",
      "0.1787 \\pm 0.00021\n",
      "1.4 \\pm 0.70123\n"
     ]
    }
   ],
   "source": [
    "### Isomap ###\n",
    "\n",
    "import pickle\n",
    "with open('fashionMnist_Isomap.pkl', 'rb') as f:\n",
    "    x = pickle.load(f)\n",
    "print(x)\n",
    "\n",
    "best_scores = []\n",
    "best_scores_svr = []\n",
    "best_nums = []\n",
    "for elem in x:\n",
    "    best_scores.append(elem[2])\n",
    "    best_scores_svr.append(elem[3])\n",
    "    best_nums.append(elem[4][1])\n",
    "compute_CI(best_scores,5)\n",
    "compute_CI(best_scores_svr,5)\n",
    "compute_CI(best_nums,5)\n"
   ]
  },
  {
   "cell_type": "code",
   "execution_count": 3,
   "id": "7d0faeff-df6d-420c-aac1-48dd60633532",
   "metadata": {},
   "outputs": [
    {
     "ename": "FileNotFoundError",
     "evalue": "[Errno 2] No such file or directory: 'fashionMnist_kernelPCA.pkl'",
     "output_type": "error",
     "traceback": [
      "\u001b[0;31m---------------------------------------------------------------------------\u001b[0m",
      "\u001b[0;31mFileNotFoundError\u001b[0m                         Traceback (most recent call last)",
      "Cell \u001b[0;32mIn[3], line 3\u001b[0m\n\u001b[1;32m      1\u001b[0m \u001b[38;5;66;03m### LINEAR SPCA ###\u001b[39;00m\n\u001b[0;32m----> 3\u001b[0m \u001b[38;5;28;01mwith\u001b[39;00m \u001b[38;5;28;43mopen\u001b[39;49m\u001b[43m(\u001b[49m\u001b[38;5;124;43m'\u001b[39;49m\u001b[38;5;124;43mfashionMnist_kernelPCA.pkl\u001b[39;49m\u001b[38;5;124;43m'\u001b[39;49m\u001b[43m,\u001b[49m\u001b[43m \u001b[49m\u001b[38;5;124;43m'\u001b[39;49m\u001b[38;5;124;43mrb\u001b[39;49m\u001b[38;5;124;43m'\u001b[39;49m\u001b[43m)\u001b[49m \u001b[38;5;28;01mas\u001b[39;00m f:\n\u001b[1;32m      4\u001b[0m     x \u001b[38;5;241m=\u001b[39m pickle\u001b[38;5;241m.\u001b[39mload(f)\n\u001b[1;32m      5\u001b[0m \u001b[38;5;28mprint\u001b[39m(x)\n",
      "File \u001b[0;32m/work/bk1318/b382633/conda/envs/tensorflow_env/lib/python3.10/site-packages/IPython/core/interactiveshell.py:324\u001b[0m, in \u001b[0;36m_modified_open\u001b[0;34m(file, *args, **kwargs)\u001b[0m\n\u001b[1;32m    317\u001b[0m \u001b[38;5;28;01mif\u001b[39;00m file \u001b[38;5;129;01min\u001b[39;00m {\u001b[38;5;241m0\u001b[39m, \u001b[38;5;241m1\u001b[39m, \u001b[38;5;241m2\u001b[39m}:\n\u001b[1;32m    318\u001b[0m     \u001b[38;5;28;01mraise\u001b[39;00m \u001b[38;5;167;01mValueError\u001b[39;00m(\n\u001b[1;32m    319\u001b[0m         \u001b[38;5;124mf\u001b[39m\u001b[38;5;124m\"\u001b[39m\u001b[38;5;124mIPython won\u001b[39m\u001b[38;5;124m'\u001b[39m\u001b[38;5;124mt let you open fd=\u001b[39m\u001b[38;5;132;01m{\u001b[39;00mfile\u001b[38;5;132;01m}\u001b[39;00m\u001b[38;5;124m by default \u001b[39m\u001b[38;5;124m\"\u001b[39m\n\u001b[1;32m    320\u001b[0m         \u001b[38;5;124m\"\u001b[39m\u001b[38;5;124mas it is likely to crash IPython. If you know what you are doing, \u001b[39m\u001b[38;5;124m\"\u001b[39m\n\u001b[1;32m    321\u001b[0m         \u001b[38;5;124m\"\u001b[39m\u001b[38;5;124myou can use builtins\u001b[39m\u001b[38;5;124m'\u001b[39m\u001b[38;5;124m open.\u001b[39m\u001b[38;5;124m\"\u001b[39m\n\u001b[1;32m    322\u001b[0m     )\n\u001b[0;32m--> 324\u001b[0m \u001b[38;5;28;01mreturn\u001b[39;00m \u001b[43mio_open\u001b[49m\u001b[43m(\u001b[49m\u001b[43mfile\u001b[49m\u001b[43m,\u001b[49m\u001b[43m \u001b[49m\u001b[38;5;241;43m*\u001b[39;49m\u001b[43margs\u001b[49m\u001b[43m,\u001b[49m\u001b[43m \u001b[49m\u001b[38;5;241;43m*\u001b[39;49m\u001b[38;5;241;43m*\u001b[39;49m\u001b[43mkwargs\u001b[49m\u001b[43m)\u001b[49m\n",
      "\u001b[0;31mFileNotFoundError\u001b[0m: [Errno 2] No such file or directory: 'fashionMnist_kernelPCA.pkl'"
     ]
    }
   ],
   "source": [
    "### LINEAR SPCA ###\n",
    "\n",
    "with open('fashionMnist_kernelPCA.pkl', 'rb') as f:\n",
    "    x = pickle.load(f)\n",
    "print(x)\n",
    "\n",
    "best_scores = []\n",
    "best_scores_svr = []\n",
    "best_nums = []\n",
    "for elem in x[0:15:3]:\n",
    "    best_scores.append(elem[2])\n",
    "    best_scores_svr.append(elem[3])\n",
    "    best_nums.append(elem[4][1])\n",
    "compute_CI(best_scores,5)\n",
    "compute_CI(best_scores_svr,5)\n",
    "compute_CI(best_nums,5)\n",
    "\n",
    "### poly SPCA ###\n",
    "best_scores = []\n",
    "best_scores_svr = []\n",
    "best_nums = []\n",
    "for elem in x[1:15:3]:\n",
    "    best_scores.append(elem[2])\n",
    "    best_scores_svr.append(elem[3])\n",
    "    best_nums.append(elem[4][1])\n",
    "compute_CI(best_scores,5)\n",
    "compute_CI(best_scores_svr,5)\n",
    "compute_CI(best_nums,5)\n",
    "\n",
    "### sigmoid SPCA ###\n",
    "best_scores = []\n",
    "best_scores_svr = []\n",
    "best_nums = []\n",
    "for elem in x[2:15:3]:\n",
    "    best_scores.append(elem[2])\n",
    "    best_scores_svr.append(elem[3])\n",
    "    best_nums.append(elem[4][1])\n",
    "compute_CI(best_scores,5)\n",
    "compute_CI(best_scores_svr,5)\n",
    "compute_CI(best_nums,5)\n"
   ]
  }
 ],
 "metadata": {
  "kernelspec": {
   "display_name": "Python (tensorflow_env)",
   "language": "python",
   "name": "tensorflow_env"
  },
  "language_info": {
   "codemirror_mode": {
    "name": "ipython",
    "version": 3
   },
   "file_extension": ".py",
   "mimetype": "text/x-python",
   "name": "python",
   "nbconvert_exporter": "python",
   "pygments_lexer": "ipython3",
   "version": "3.10.14"
  }
 },
 "nbformat": 4,
 "nbformat_minor": 5
}
